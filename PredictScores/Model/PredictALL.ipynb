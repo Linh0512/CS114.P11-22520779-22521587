{
 "cells": [
  {
   "cell_type": "code",
   "execution_count": 40,
   "metadata": {},
   "outputs": [],
   "source": [
    "import pandas as pd\n",
    "import numpy as np\n",
    "import matplotlib.pyplot as plt\n",
    "import seaborn as sns\n",
    "import os\n",
    "from sklearn.preprocessing import MinMaxScaler\n",
    "from sklearn.model_selection import train_test_split\n",
    "from sklearn.linear_model import LinearRegression\n",
    "import xgboost as xgb\n",
    "from sklearn.ensemble import GradientBoostingRegressor\n",
    "from sklearn.preprocessing import LabelEncoder\n",
    "from sklearn.preprocessing import StandardScaler\n",
    "from sklearn.metrics import r2_score, mean_squared_error"
   ]
  },
  {
   "cell_type": "code",
   "execution_count": 41,
   "metadata": {},
   "outputs": [],
   "source": [
    "os.chdir('C:/Storage/StudyJourney/Nam3/Cs114/Project2/PredictScores')"
   ]
  },
  {
   "cell_type": "code",
   "execution_count": 42,
   "metadata": {},
   "outputs": [],
   "source": [
    "# Đọc dữ liệu\n",
    "annonimized = pd.read_csv(\"Dataset/annonimized.csv\")\n",
    "tbtl = pd.read_excel(\"Dataset/public_it001/tbtl-public.ods\", engine='odf')\n",
    "th = pd.read_csv(\"Dataset/public_it001/th-public.csv\")\n",
    "qt = pd.read_csv(\"Dataset/public_it001/qt-public.csv\")\n",
    "CK = pd.read_csv(\"Dataset/public_it001/ck-public.csv\")"
   ]
  },
  {
   "cell_type": "markdown",
   "metadata": {},
   "source": [
    "## Xử lý dữ liệu annonimized"
   ]
  },
  {
   "cell_type": "code",
   "execution_count": 43,
   "metadata": {},
   "outputs": [
    {
     "data": {
      "text/html": [
       "<div>\n",
       "<style scoped>\n",
       "    .dataframe tbody tr th:only-of-type {\n",
       "        vertical-align: middle;\n",
       "    }\n",
       "\n",
       "    .dataframe tbody tr th {\n",
       "        vertical-align: top;\n",
       "    }\n",
       "\n",
       "    .dataframe thead th {\n",
       "        text-align: right;\n",
       "    }\n",
       "</style>\n",
       "<table border=\"1\" class=\"dataframe\">\n",
       "  <thead>\n",
       "    <tr style=\"text-align: right;\">\n",
       "      <th></th>\n",
       "      <th>assignment_id</th>\n",
       "      <th>problem_id</th>\n",
       "      <th>username</th>\n",
       "      <th>is_final</th>\n",
       "      <th>status</th>\n",
       "      <th>pre_score</th>\n",
       "      <th>coefficient</th>\n",
       "      <th>language_id</th>\n",
       "      <th>created_at</th>\n",
       "      <th>updated_at</th>\n",
       "      <th>judgement</th>\n",
       "    </tr>\n",
       "  </thead>\n",
       "  <tbody>\n",
       "    <tr>\n",
       "      <th>0</th>\n",
       "      <td>90ce27571176d87961b565d5ef4b3de33ede04ac</td>\n",
       "      <td>789454427dd4097a14749e3dde63346b7a8d3811</td>\n",
       "      <td>ed9eaeb6a707f50154024b24d7efcb874a9795dd</td>\n",
       "      <td>0</td>\n",
       "      <td>SCORE</td>\n",
       "      <td>0</td>\n",
       "      <td>100</td>\n",
       "      <td>it0012</td>\n",
       "      <td>10/9/2025 8:02</td>\n",
       "      <td>10/9/2025 8:06</td>\n",
       "      <td>{\"times\":[0,0,0,0,0,0,0,0,0,0],\"mems\":[0,0,0,0...</td>\n",
       "    </tr>\n",
       "    <tr>\n",
       "      <th>1</th>\n",
       "      <td>90ce27571176d87961b565d5ef4b3de33ede04ac</td>\n",
       "      <td>789454427dd4097a14749e3dde63346b7a8d3811</td>\n",
       "      <td>ed9eaeb6a707f50154024b24d7efcb874a9795dd</td>\n",
       "      <td>0</td>\n",
       "      <td>SCORE</td>\n",
       "      <td>0</td>\n",
       "      <td>100</td>\n",
       "      <td>it0012</td>\n",
       "      <td>10/9/2025 8:04</td>\n",
       "      <td>10/9/2025 8:04</td>\n",
       "      <td>{\"times\":[0,0,0,0,0,0,0,0,0,0],\"mems\":[0,0,0,0...</td>\n",
       "    </tr>\n",
       "    <tr>\n",
       "      <th>2</th>\n",
       "      <td>90ce27571176d87961b565d5ef4b3de33ede04ac</td>\n",
       "      <td>789454427dd4097a14749e3dde63346b7a8d3811</td>\n",
       "      <td>ed9eaeb6a707f50154024b24d7efcb874a9795dd</td>\n",
       "      <td>1</td>\n",
       "      <td>SCORE</td>\n",
       "      <td>10000</td>\n",
       "      <td>100</td>\n",
       "      <td>it0012</td>\n",
       "      <td>10/9/2025 8:06</td>\n",
       "      <td>10/9/2025 8:06</td>\n",
       "      <td>{\"times\":[0,0,0,0,0,0,0,0,0,0],\"mems\":[0,0,0,0...</td>\n",
       "    </tr>\n",
       "    <tr>\n",
       "      <th>3</th>\n",
       "      <td>90ce27571176d87961b565d5ef4b3de33ede04ac</td>\n",
       "      <td>bf96fbdc5f499538c3e2bfbec5779c8a14b0a9ff</td>\n",
       "      <td>ed9eaeb6a707f50154024b24d7efcb874a9795dd</td>\n",
       "      <td>1</td>\n",
       "      <td>SCORE</td>\n",
       "      <td>10000</td>\n",
       "      <td>100</td>\n",
       "      <td>it0012</td>\n",
       "      <td>10/9/2025 8:47</td>\n",
       "      <td>10/9/2025 8:48</td>\n",
       "      <td>{\"times\":[0,0,0,0,0,0,0,0,0,0],\"mems\":[0,0,0,0...</td>\n",
       "    </tr>\n",
       "    <tr>\n",
       "      <th>4</th>\n",
       "      <td>90ce27571176d87961b565d5ef4b3de33ede04ac</td>\n",
       "      <td>7a6e5ca470ff47c3b5048f240c4738de71010c78</td>\n",
       "      <td>ed9eaeb6a707f50154024b24d7efcb874a9795dd</td>\n",
       "      <td>1</td>\n",
       "      <td>SCORE</td>\n",
       "      <td>10000</td>\n",
       "      <td>100</td>\n",
       "      <td>it0012</td>\n",
       "      <td>10/9/2025 9:19</td>\n",
       "      <td>10/9/2025 9:19</td>\n",
       "      <td>{\"times\":[0,0,0,0,0,0,0,0,0,0],\"mems\":[0,0,0,0...</td>\n",
       "    </tr>\n",
       "    <tr>\n",
       "      <th>...</th>\n",
       "      <td>...</td>\n",
       "      <td>...</td>\n",
       "      <td>...</td>\n",
       "      <td>...</td>\n",
       "      <td>...</td>\n",
       "      <td>...</td>\n",
       "      <td>...</td>\n",
       "      <td>...</td>\n",
       "      <td>...</td>\n",
       "      <td>...</td>\n",
       "      <td>...</td>\n",
       "    </tr>\n",
       "    <tr>\n",
       "      <th>295193</th>\n",
       "      <td>613aea04c978f5e72fffc8bcff1f7b695a63f7b1</td>\n",
       "      <td>388516cbf597351226be1bdbe5ef30b9dcef570f</td>\n",
       "      <td>232cce96362898f08e9150ba244adaf2d6583ab2</td>\n",
       "      <td>1</td>\n",
       "      <td>SCORE</td>\n",
       "      <td>10000</td>\n",
       "      <td>100</td>\n",
       "      <td>it0012</td>\n",
       "      <td>1/15/2025 16:03</td>\n",
       "      <td>1/15/2025 16:03</td>\n",
       "      <td>{\"times\":[0,0,0,0,0,0,0,0,0,0,0,0,0,0],\"mems\":...</td>\n",
       "    </tr>\n",
       "    <tr>\n",
       "      <th>295194</th>\n",
       "      <td>613aea04c978f5e72fffc8bcff1f7b695a63f7b1</td>\n",
       "      <td>d2b96124ccb8e27b4b8dacdb935e729cb1ba546b</td>\n",
       "      <td>232cce96362898f08e9150ba244adaf2d6583ab2</td>\n",
       "      <td>0</td>\n",
       "      <td>Compilation Error</td>\n",
       "      <td>0</td>\n",
       "      <td>100</td>\n",
       "      <td>it0012</td>\n",
       "      <td>1/15/2025 16:04</td>\n",
       "      <td>1/15/2025 16:05</td>\n",
       "      <td>{\"times\":[],\"mems\":[],\"verdicts\":{\"\\n\\nIn func...</td>\n",
       "    </tr>\n",
       "    <tr>\n",
       "      <th>295195</th>\n",
       "      <td>613aea04c978f5e72fffc8bcff1f7b695a63f7b1</td>\n",
       "      <td>d2b96124ccb8e27b4b8dacdb935e729cb1ba546b</td>\n",
       "      <td>232cce96362898f08e9150ba244adaf2d6583ab2</td>\n",
       "      <td>1</td>\n",
       "      <td>SCORE</td>\n",
       "      <td>10000</td>\n",
       "      <td>100</td>\n",
       "      <td>it0012</td>\n",
       "      <td>1/15/2025 16:04</td>\n",
       "      <td>1/15/2025 16:05</td>\n",
       "      <td>{\"times\":[0,0,0,0,0,0,0,0,0,0,0,0,0,0],\"mems\":...</td>\n",
       "    </tr>\n",
       "    <tr>\n",
       "      <th>295196</th>\n",
       "      <td>613aea04c978f5e72fffc8bcff1f7b695a63f7b1</td>\n",
       "      <td>8c0f8dd4ff55e1609f733e043ac5e88b1dde6e7c</td>\n",
       "      <td>232cce96362898f08e9150ba244adaf2d6583ab2</td>\n",
       "      <td>1</td>\n",
       "      <td>SCORE</td>\n",
       "      <td>10000</td>\n",
       "      <td>100</td>\n",
       "      <td>it0012</td>\n",
       "      <td>1/15/2025 16:05</td>\n",
       "      <td>1/15/2025 16:05</td>\n",
       "      <td>{\"times\":[0,0,0,0,0,0,0,0,0,0,0,0,0],\"mems\":[0...</td>\n",
       "    </tr>\n",
       "    <tr>\n",
       "      <th>295197</th>\n",
       "      <td>613aea04c978f5e72fffc8bcff1f7b695a63f7b1</td>\n",
       "      <td>e1baec9d1d9af44372188067b55edfec747f1342</td>\n",
       "      <td>232cce96362898f08e9150ba244adaf2d6583ab2</td>\n",
       "      <td>1</td>\n",
       "      <td>SCORE</td>\n",
       "      <td>10000</td>\n",
       "      <td>100</td>\n",
       "      <td>it0012</td>\n",
       "      <td>1/15/2025 16:05</td>\n",
       "      <td>1/15/2025 16:05</td>\n",
       "      <td>{\"times\":[0,0,0,0,0,0,0,0,0,0,0,0,0,0],\"mems\":...</td>\n",
       "    </tr>\n",
       "  </tbody>\n",
       "</table>\n",
       "<p>295198 rows × 11 columns</p>\n",
       "</div>"
      ],
      "text/plain": [
       "                                   assignment_id  \\\n",
       "0       90ce27571176d87961b565d5ef4b3de33ede04ac   \n",
       "1       90ce27571176d87961b565d5ef4b3de33ede04ac   \n",
       "2       90ce27571176d87961b565d5ef4b3de33ede04ac   \n",
       "3       90ce27571176d87961b565d5ef4b3de33ede04ac   \n",
       "4       90ce27571176d87961b565d5ef4b3de33ede04ac   \n",
       "...                                          ...   \n",
       "295193  613aea04c978f5e72fffc8bcff1f7b695a63f7b1   \n",
       "295194  613aea04c978f5e72fffc8bcff1f7b695a63f7b1   \n",
       "295195  613aea04c978f5e72fffc8bcff1f7b695a63f7b1   \n",
       "295196  613aea04c978f5e72fffc8bcff1f7b695a63f7b1   \n",
       "295197  613aea04c978f5e72fffc8bcff1f7b695a63f7b1   \n",
       "\n",
       "                                      problem_id  \\\n",
       "0       789454427dd4097a14749e3dde63346b7a8d3811   \n",
       "1       789454427dd4097a14749e3dde63346b7a8d3811   \n",
       "2       789454427dd4097a14749e3dde63346b7a8d3811   \n",
       "3       bf96fbdc5f499538c3e2bfbec5779c8a14b0a9ff   \n",
       "4       7a6e5ca470ff47c3b5048f240c4738de71010c78   \n",
       "...                                          ...   \n",
       "295193  388516cbf597351226be1bdbe5ef30b9dcef570f   \n",
       "295194  d2b96124ccb8e27b4b8dacdb935e729cb1ba546b   \n",
       "295195  d2b96124ccb8e27b4b8dacdb935e729cb1ba546b   \n",
       "295196  8c0f8dd4ff55e1609f733e043ac5e88b1dde6e7c   \n",
       "295197  e1baec9d1d9af44372188067b55edfec747f1342   \n",
       "\n",
       "                                        username  is_final             status  \\\n",
       "0       ed9eaeb6a707f50154024b24d7efcb874a9795dd         0              SCORE   \n",
       "1       ed9eaeb6a707f50154024b24d7efcb874a9795dd         0              SCORE   \n",
       "2       ed9eaeb6a707f50154024b24d7efcb874a9795dd         1              SCORE   \n",
       "3       ed9eaeb6a707f50154024b24d7efcb874a9795dd         1              SCORE   \n",
       "4       ed9eaeb6a707f50154024b24d7efcb874a9795dd         1              SCORE   \n",
       "...                                          ...       ...                ...   \n",
       "295193  232cce96362898f08e9150ba244adaf2d6583ab2         1              SCORE   \n",
       "295194  232cce96362898f08e9150ba244adaf2d6583ab2         0  Compilation Error   \n",
       "295195  232cce96362898f08e9150ba244adaf2d6583ab2         1              SCORE   \n",
       "295196  232cce96362898f08e9150ba244adaf2d6583ab2         1              SCORE   \n",
       "295197  232cce96362898f08e9150ba244adaf2d6583ab2         1              SCORE   \n",
       "\n",
       "        pre_score  coefficient language_id       created_at       updated_at  \\\n",
       "0               0          100      it0012   10/9/2025 8:02   10/9/2025 8:06   \n",
       "1               0          100      it0012   10/9/2025 8:04   10/9/2025 8:04   \n",
       "2           10000          100      it0012   10/9/2025 8:06   10/9/2025 8:06   \n",
       "3           10000          100      it0012   10/9/2025 8:47   10/9/2025 8:48   \n",
       "4           10000          100      it0012   10/9/2025 9:19   10/9/2025 9:19   \n",
       "...           ...          ...         ...              ...              ...   \n",
       "295193      10000          100      it0012  1/15/2025 16:03  1/15/2025 16:03   \n",
       "295194          0          100      it0012  1/15/2025 16:04  1/15/2025 16:05   \n",
       "295195      10000          100      it0012  1/15/2025 16:04  1/15/2025 16:05   \n",
       "295196      10000          100      it0012  1/15/2025 16:05  1/15/2025 16:05   \n",
       "295197      10000          100      it0012  1/15/2025 16:05  1/15/2025 16:05   \n",
       "\n",
       "                                                judgement  \n",
       "0       {\"times\":[0,0,0,0,0,0,0,0,0,0],\"mems\":[0,0,0,0...  \n",
       "1       {\"times\":[0,0,0,0,0,0,0,0,0,0],\"mems\":[0,0,0,0...  \n",
       "2       {\"times\":[0,0,0,0,0,0,0,0,0,0],\"mems\":[0,0,0,0...  \n",
       "3       {\"times\":[0,0,0,0,0,0,0,0,0,0],\"mems\":[0,0,0,0...  \n",
       "4       {\"times\":[0,0,0,0,0,0,0,0,0,0],\"mems\":[0,0,0,0...  \n",
       "...                                                   ...  \n",
       "295193  {\"times\":[0,0,0,0,0,0,0,0,0,0,0,0,0,0],\"mems\":...  \n",
       "295194  {\"times\":[],\"mems\":[],\"verdicts\":{\"\\n\\nIn func...  \n",
       "295195  {\"times\":[0,0,0,0,0,0,0,0,0,0,0,0,0,0],\"mems\":...  \n",
       "295196  {\"times\":[0,0,0,0,0,0,0,0,0,0,0,0,0],\"mems\":[0...  \n",
       "295197  {\"times\":[0,0,0,0,0,0,0,0,0,0,0,0,0,0],\"mems\":...  \n",
       "\n",
       "[295198 rows x 11 columns]"
      ]
     },
     "execution_count": 43,
     "metadata": {},
     "output_type": "execute_result"
    }
   ],
   "source": [
    "annonimized"
   ]
  },
  {
   "cell_type": "code",
   "execution_count": 44,
   "metadata": {},
   "outputs": [
    {
     "name": "stdout",
     "output_type": "stream",
     "text": [
      "['SCORE' 'Compilation Error' 'pending' 'Syntax Error']\n"
     ]
    }
   ],
   "source": [
    "print(annonimized['status'].unique())"
   ]
  },
  {
   "cell_type": "code",
   "execution_count": 45,
   "metadata": {},
   "outputs": [],
   "source": [
    "# Hàm xử lý cột `judgement` để rút trích các đặc trưng\n",
    "import json\n",
    "\n",
    "def extract_judgement_features(df):\n",
    "    # Parse cột judgement thành dict với kiểm tra ngoại lệ\n",
    "    def safe_json_loads(j):\n",
    "        try:\n",
    "            return json.loads(j) if isinstance(j, str) else {}\n",
    "        except json.JSONDecodeError:\n",
    "            return {}\n",
    "\n",
    "    # Chuyển cột judgement sang dạng dict\n",
    "    df['judgement_parsed'] = df['judgement'].apply(safe_json_loads)\n",
    "    \n",
    "    # Rút trích các giá trị từ judgement\n",
    "    df['times'] = df['judgement_parsed'].apply(lambda x: x.get('times', []) if isinstance(x, dict) else [])\n",
    "    df['mems'] = df['judgement_parsed'].apply(lambda x: x.get('mems', []) if isinstance(x, dict) else [])\n",
    "    \n",
    "    # Kiểm tra kiểu của verdicts và xử lý\n",
    "    def extract_verdicts(verdicts):\n",
    "        if isinstance(verdicts, dict):\n",
    "            return verdicts.get('WRONG', 0)\n",
    "        return 0  # Mặc định nếu verdicts không phải là dict\n",
    "\n",
    "    df['verdicts'] = df['judgement_parsed'].apply(lambda x: x.get('verdicts', {}) if isinstance(x, dict) else {})\n",
    "    df['wrong_testcases'] = df['verdicts'].apply(extract_verdicts)\n",
    "    df['accepted'] = df['verdicts'].apply(lambda x: 1 if isinstance(x, list) else -1)\n",
    "\n",
    "    return df\n",
    "\n",
    "def process_times_and_mems(df):\n",
    "    df['times_mean'] = df['times'].apply(lambda x: sum(x) / len(x) if x else -1)\n",
    "    df['mems_mean'] = df['mems'].apply(lambda x: sum(x) / len(x) if x else -1)\n",
    "    return df"
   ]
  },
  {
   "cell_type": "code",
   "execution_count": 46,
   "metadata": {},
   "outputs": [],
   "source": [
    "from datetime import datetime\n",
    "from scipy import stats\n",
    "\n",
    "\n",
    "\n",
    "\n",
    "# Hàm chuyển đổi thời gian với ngày tham chiếu\n",
    "reference_date = datetime(2024, 1, 1)\n",
    "\n",
    "# Chuyển đổi 'created_at' và 'updated_at' thành ordinal và thêm đặc trưng chênh lệch ngày\n",
    "annonimized['created_at'] = pd.to_datetime(annonimized['created_at'], errors='coerce')\n",
    "annonimized['updated_at'] = pd.to_datetime(annonimized['updated_at'], errors='coerce')\n",
    "annonimized['created_at_ordinal'] = (annonimized['created_at'] - reference_date).dt.days\n",
    "annonimized['updated_at_ordinal'] = (annonimized['updated_at'] - reference_date).dt.days\n",
    "annonimized['duration'] = (annonimized['updated_at'] - annonimized['created_at']).dt.total_seconds()\n",
    "\n",
    "# Z-score và kiểm tra ngoại lệ\n",
    "# annonimized['z_score'] = stats.zscore(annonimized['pre_score'])\n",
    "# annonimized['is_outlier'] = annonimized['z_score'].apply(lambda x: 1 if abs(x) > 3 else 0)\n",
    "\n",
    "# Đặc trưng hoạt động theo giờ\n",
    "annonimized['hour'] = annonimized['created_at'].dt.hour\n",
    "# annonimized = annonimized.groupby(['username', 'assignment_id', 'problem_id'])['hour'].value_counts().unstack(fill_value=0).reset_index()\n",
    "\n",
    "# Label encoding cho cột 'status'\n",
    "label_encoder = LabelEncoder()\n",
    "\n",
    "# Thêm các đặc trưng tổng hợp\n",
    "annonimized['submission_time_diff'] = annonimized.groupby(['username', 'assignment_id', 'problem_id'])['created_at'].diff().dt.total_seconds()\n",
    "\n",
    "annonimized['status_encoded'] = label_encoder.fit_transform(annonimized['status'])\n",
    "\n",
    "annonimized['submission_count'] = annonimized.groupby(['username', 'assignment_id', 'problem_id'])['is_final'].transform('count')\n",
    "\n",
    "annonimized['avg_pre_score'] = annonimized.groupby('username')['pre_score'].transform('mean')\n",
    "\n",
    "annonimized['score_per_submission'] = annonimized['avg_pre_score'] / (annonimized['submission_count'] + 1e-5)  # Tránh chia cho 0\n",
    "\n",
    "# Tính số lần nộp có status == \"SCORE\"\n",
    "annonimized['is_final'] = (annonimized['status'] == 'SCORE').astype(int)\n",
    "\n",
    "# Số lần có 'SCORE' của mỗi user trên mỗi bài tập\n",
    "annonimized['score_count'] = annonimized.groupby(['username', 'assignment_id', 'problem_id'])['is_final'].transform('sum')\n",
    "\n",
    "# Tính tỉ lệ hoàn thành (số lần 'SCORE' / tổng số lần nộp)\n",
    "annonimized['is_final_ratio'] = annonimized['score_count'] / (annonimized['submission_count'] + 1e-5)  # Tránh chia 0\n",
    "\n",
    "annonimized = extract_judgement_features(annonimized)\n",
    "annonimized = process_times_and_mems(annonimized)\n",
    "\n",
    "annonimized = annonimized.groupby('username').agg({\n",
    "    'status_encoded': 'mean',\n",
    "    'is_final_ratio': 'mean',\n",
    "    'submission_time_diff': 'mean',\n",
    "    'wrong_testcases': 'mean',\n",
    "    'accepted': 'mean',\n",
    "    # 'created_at_ordinal': 'mean',\n",
    "    # 'updated_at_ordinal': 'mean',\n",
    "    'duration': 'mean',\n",
    "    'hour': 'mean',\n",
    "    # 'z_score': 'mean',\n",
    "    # 'is_outlier': 'mean',\n",
    "    'submission_count': 'mean',\n",
    "    'avg_pre_score': 'mean',\n",
    "    'score_per_submission': 'mean',\n",
    "    'is_final_ratio': 'mean',\n",
    "    # 'error_rate': 'mean',\n",
    "    # 'times_mean': 'mean',\n",
    "    # 'mems_mean': 'mean',\n",
    "    # 'ratio_in_assignment': 'mean'\n",
    "}).reset_index()\n",
    "\n",
    "# Nhóm và tổng hợp các đặc trưng\n",
    "# features = ['username', 'status_encoded', 'is_final', 'submission_count', 'avg_pre_score', \n",
    "#             'score_per_submission', 'is_final_ratio',\n",
    "#             'submission_time_diff', 'problem_final_ratio', 'wrong_testcases', \n",
    "#             'accepted', 'created_at_ordinal', 'updated_at_ordinal', \n",
    "#             'hour', 'problem_submission_count']\n",
    "\n",
    "# features_nouser = ['status_encoded', 'is_final', 'submission_count', 'avg_pre_score', \n",
    "#             'score_per_submission', 'is_final_ratio',\n",
    "#             'submission_time_diff', 'problem_final_ratio', 'wrong_testcases', \n",
    "#             'accepted', 'created_at_ordinal', 'updated_at_ordinal', \n",
    "#             'hour', 'problem_submission_count']\n",
    "\n",
    "features = ['username', 'status_encoded', 'is_final_ratio', \n",
    "            'wrong_testcases', 'accepted', 'duration', 'hour', 'submission_count', \n",
    "            'avg_pre_score', 'score_per_submission', 'is_final_ratio']\n",
    "\n",
    "features_nouser = ['status_encoded', 'is_final_ratio', \n",
    "            'wrong_testcases', 'accepted', 'duration', 'hour', 'submission_count', \n",
    "            'avg_pre_score', 'score_per_submission', 'is_final_ratio']\n",
    "\n",
    "annonimized = annonimized[features]\n"
   ]
  },
  {
   "cell_type": "code",
   "execution_count": 47,
   "metadata": {},
   "outputs": [],
   "source": [
    "# Loại bỏ các cột không cần thiết\n",
    "# annonimized = annonimized.drop(columns = ['created_at', 'updated_at', 'language_id'])"
   ]
  },
  {
   "cell_type": "code",
   "execution_count": 48,
   "metadata": {},
   "outputs": [
    {
     "name": "stdout",
     "output_type": "stream",
     "text": [
      "username                 object\n",
      "status_encoded          float64\n",
      "is_final_ratio          float64\n",
      "wrong_testcases         float64\n",
      "accepted                float64\n",
      "duration                float64\n",
      "hour                    float64\n",
      "submission_count        float64\n",
      "avg_pre_score           float64\n",
      "score_per_submission    float64\n",
      "is_final_ratio          float64\n",
      "dtype: object\n"
     ]
    }
   ],
   "source": [
    "print(annonimized.dtypes)"
   ]
  },
  {
   "cell_type": "code",
   "execution_count": 49,
   "metadata": {},
   "outputs": [
    {
     "data": {
      "text/html": [
       "<div>\n",
       "<style scoped>\n",
       "    .dataframe tbody tr th:only-of-type {\n",
       "        vertical-align: middle;\n",
       "    }\n",
       "\n",
       "    .dataframe tbody tr th {\n",
       "        vertical-align: top;\n",
       "    }\n",
       "\n",
       "    .dataframe thead th {\n",
       "        text-align: right;\n",
       "    }\n",
       "</style>\n",
       "<table border=\"1\" class=\"dataframe\">\n",
       "  <thead>\n",
       "    <tr style=\"text-align: right;\">\n",
       "      <th></th>\n",
       "      <th>username</th>\n",
       "      <th>status_encoded</th>\n",
       "      <th>is_final_ratio</th>\n",
       "      <th>wrong_testcases</th>\n",
       "      <th>accepted</th>\n",
       "      <th>duration</th>\n",
       "      <th>hour</th>\n",
       "      <th>submission_count</th>\n",
       "      <th>avg_pre_score</th>\n",
       "      <th>score_per_submission</th>\n",
       "      <th>is_final_ratio</th>\n",
       "    </tr>\n",
       "  </thead>\n",
       "  <tbody>\n",
       "    <tr>\n",
       "      <th>0</th>\n",
       "      <td>00b6dd4fc7eb817e03708c532016ef30ce564a61</td>\n",
       "      <td>0.809524</td>\n",
       "      <td>0.809521</td>\n",
       "      <td>3.006803</td>\n",
       "      <td>-0.265306</td>\n",
       "      <td>8197.142857</td>\n",
       "      <td>4.401361</td>\n",
       "      <td>5.136054</td>\n",
       "      <td>5504.149660</td>\n",
       "      <td>1759.820393</td>\n",
       "      <td>0.809521</td>\n",
       "    </tr>\n",
       "    <tr>\n",
       "      <th>1</th>\n",
       "      <td>00bef8afee8f3c595d535c9c03c490cac1a4f021</td>\n",
       "      <td>0.806950</td>\n",
       "      <td>0.806947</td>\n",
       "      <td>1.918919</td>\n",
       "      <td>-0.343629</td>\n",
       "      <td>-232304.942085</td>\n",
       "      <td>10.525097</td>\n",
       "      <td>6.158301</td>\n",
       "      <td>5488.552124</td>\n",
       "      <td>1652.913990</td>\n",
       "      <td>0.806947</td>\n",
       "    </tr>\n",
       "    <tr>\n",
       "      <th>2</th>\n",
       "      <td>01122b3ef7e59b84189e65985305f575d6bdf83c</td>\n",
       "      <td>0.897436</td>\n",
       "      <td>0.897433</td>\n",
       "      <td>4.615385</td>\n",
       "      <td>-0.394872</td>\n",
       "      <td>-103018.461538</td>\n",
       "      <td>10.964103</td>\n",
       "      <td>9.328205</td>\n",
       "      <td>5973.753846</td>\n",
       "      <td>2083.139650</td>\n",
       "      <td>0.897433</td>\n",
       "    </tr>\n",
       "    <tr>\n",
       "      <th>3</th>\n",
       "      <td>0134f9f410c65ad0e8c2254a7e9288670e02a183</td>\n",
       "      <td>0.760000</td>\n",
       "      <td>0.759996</td>\n",
       "      <td>1.640000</td>\n",
       "      <td>0.040000</td>\n",
       "      <td>1512.000000</td>\n",
       "      <td>8.610000</td>\n",
       "      <td>4.160000</td>\n",
       "      <td>5952.760000</td>\n",
       "      <td>2797.776791</td>\n",
       "      <td>0.759996</td>\n",
       "    </tr>\n",
       "    <tr>\n",
       "      <th>4</th>\n",
       "      <td>013de369c439ab0ead8aa7da64423aa395a8be39</td>\n",
       "      <td>0.878505</td>\n",
       "      <td>0.878499</td>\n",
       "      <td>1.691589</td>\n",
       "      <td>0.102804</td>\n",
       "      <td>181.682243</td>\n",
       "      <td>8.598131</td>\n",
       "      <td>2.794393</td>\n",
       "      <td>6474.448598</td>\n",
       "      <td>3993.551830</td>\n",
       "      <td>0.878499</td>\n",
       "    </tr>\n",
       "    <tr>\n",
       "      <th>...</th>\n",
       "      <td>...</td>\n",
       "      <td>...</td>\n",
       "      <td>...</td>\n",
       "      <td>...</td>\n",
       "      <td>...</td>\n",
       "      <td>...</td>\n",
       "      <td>...</td>\n",
       "      <td>...</td>\n",
       "      <td>...</td>\n",
       "      <td>...</td>\n",
       "      <td>...</td>\n",
       "    </tr>\n",
       "    <tr>\n",
       "      <th>1484</th>\n",
       "      <td>feb8a2859a011c59efd22ed419cb69288fe03627</td>\n",
       "      <td>0.959459</td>\n",
       "      <td>0.959455</td>\n",
       "      <td>0.432432</td>\n",
       "      <td>0.081081</td>\n",
       "      <td>193.783784</td>\n",
       "      <td>9.351351</td>\n",
       "      <td>3.783784</td>\n",
       "      <td>5581.081081</td>\n",
       "      <td>2564.262048</td>\n",
       "      <td>0.959455</td>\n",
       "    </tr>\n",
       "    <tr>\n",
       "      <th>1485</th>\n",
       "      <td>fef4a3263ed9a8ab14d457694bb8fd86ccd98312</td>\n",
       "      <td>0.830769</td>\n",
       "      <td>0.830766</td>\n",
       "      <td>2.430769</td>\n",
       "      <td>-0.384615</td>\n",
       "      <td>9762.461538</td>\n",
       "      <td>7.046154</td>\n",
       "      <td>7.384615</td>\n",
       "      <td>6204.557692</td>\n",
       "      <td>1861.355694</td>\n",
       "      <td>0.830766</td>\n",
       "    </tr>\n",
       "    <tr>\n",
       "      <th>1486</th>\n",
       "      <td>ff12d6e2ab80696ed8e22fbe5497e96c68d29076</td>\n",
       "      <td>0.823799</td>\n",
       "      <td>0.823797</td>\n",
       "      <td>3.073227</td>\n",
       "      <td>-0.519451</td>\n",
       "      <td>-112286.086957</td>\n",
       "      <td>11.080092</td>\n",
       "      <td>12.643021</td>\n",
       "      <td>4998.466819</td>\n",
       "      <td>1178.121378</td>\n",
       "      <td>0.823797</td>\n",
       "    </tr>\n",
       "    <tr>\n",
       "      <th>1487</th>\n",
       "      <td>ff3fa2ec64294f37ae968159f810ebeda7966c51</td>\n",
       "      <td>0.787234</td>\n",
       "      <td>0.787231</td>\n",
       "      <td>4.212766</td>\n",
       "      <td>-0.361702</td>\n",
       "      <td>9669.574468</td>\n",
       "      <td>10.691489</td>\n",
       "      <td>4.808511</td>\n",
       "      <td>4343.329787</td>\n",
       "      <td>1570.982082</td>\n",
       "      <td>0.787231</td>\n",
       "    </tr>\n",
       "    <tr>\n",
       "      <th>1488</th>\n",
       "      <td>ffe872165621d735a48bb5db0c71dd5195cba359</td>\n",
       "      <td>0.879699</td>\n",
       "      <td>0.879697</td>\n",
       "      <td>2.157895</td>\n",
       "      <td>-0.308271</td>\n",
       "      <td>-77200.751880</td>\n",
       "      <td>11.676692</td>\n",
       "      <td>11.731830</td>\n",
       "      <td>6353.769424</td>\n",
       "      <td>1528.717984</td>\n",
       "      <td>0.879697</td>\n",
       "    </tr>\n",
       "  </tbody>\n",
       "</table>\n",
       "<p>1489 rows × 11 columns</p>\n",
       "</div>"
      ],
      "text/plain": [
       "                                      username  status_encoded  \\\n",
       "0     00b6dd4fc7eb817e03708c532016ef30ce564a61        0.809524   \n",
       "1     00bef8afee8f3c595d535c9c03c490cac1a4f021        0.806950   \n",
       "2     01122b3ef7e59b84189e65985305f575d6bdf83c        0.897436   \n",
       "3     0134f9f410c65ad0e8c2254a7e9288670e02a183        0.760000   \n",
       "4     013de369c439ab0ead8aa7da64423aa395a8be39        0.878505   \n",
       "...                                        ...             ...   \n",
       "1484  feb8a2859a011c59efd22ed419cb69288fe03627        0.959459   \n",
       "1485  fef4a3263ed9a8ab14d457694bb8fd86ccd98312        0.830769   \n",
       "1486  ff12d6e2ab80696ed8e22fbe5497e96c68d29076        0.823799   \n",
       "1487  ff3fa2ec64294f37ae968159f810ebeda7966c51        0.787234   \n",
       "1488  ffe872165621d735a48bb5db0c71dd5195cba359        0.879699   \n",
       "\n",
       "      is_final_ratio  wrong_testcases  accepted       duration       hour  \\\n",
       "0           0.809521         3.006803 -0.265306    8197.142857   4.401361   \n",
       "1           0.806947         1.918919 -0.343629 -232304.942085  10.525097   \n",
       "2           0.897433         4.615385 -0.394872 -103018.461538  10.964103   \n",
       "3           0.759996         1.640000  0.040000    1512.000000   8.610000   \n",
       "4           0.878499         1.691589  0.102804     181.682243   8.598131   \n",
       "...              ...              ...       ...            ...        ...   \n",
       "1484        0.959455         0.432432  0.081081     193.783784   9.351351   \n",
       "1485        0.830766         2.430769 -0.384615    9762.461538   7.046154   \n",
       "1486        0.823797         3.073227 -0.519451 -112286.086957  11.080092   \n",
       "1487        0.787231         4.212766 -0.361702    9669.574468  10.691489   \n",
       "1488        0.879697         2.157895 -0.308271  -77200.751880  11.676692   \n",
       "\n",
       "      submission_count  avg_pre_score  score_per_submission  is_final_ratio  \n",
       "0             5.136054    5504.149660           1759.820393        0.809521  \n",
       "1             6.158301    5488.552124           1652.913990        0.806947  \n",
       "2             9.328205    5973.753846           2083.139650        0.897433  \n",
       "3             4.160000    5952.760000           2797.776791        0.759996  \n",
       "4             2.794393    6474.448598           3993.551830        0.878499  \n",
       "...                ...            ...                   ...             ...  \n",
       "1484          3.783784    5581.081081           2564.262048        0.959455  \n",
       "1485          7.384615    6204.557692           1861.355694        0.830766  \n",
       "1486         12.643021    4998.466819           1178.121378        0.823797  \n",
       "1487          4.808511    4343.329787           1570.982082        0.787231  \n",
       "1488         11.731830    6353.769424           1528.717984        0.879697  \n",
       "\n",
       "[1489 rows x 11 columns]"
      ]
     },
     "execution_count": 49,
     "metadata": {},
     "output_type": "execute_result"
    }
   ],
   "source": [
    "annonimized"
   ]
  },
  {
   "cell_type": "code",
   "execution_count": 50,
   "metadata": {},
   "outputs": [],
   "source": [
    "# Huấn luyện và đánh giá mô hình\n",
    "models = {\n",
    "    'LinearRegression': LinearRegression(),\n",
    "    # 'xgb_model' : xgb.XGBRegressor(n_estimators=130, learning_rate=0.1, max_depQT=10, random_state=42),\n",
    "    # 'gbr_model' : GradientBoostingRegressor(n_estimators=100, learning_rate=0.1, random_state=42),\n",
    "    # 'RandomForest': RandomForestRegressor(random_state=42),\n",
    "    # 'lgbm': LGBMRegressor(random_state=42),\n",
    "    # # 'cb': CatBoostRegressor(verbose=0, random_state=42),\n",
    "    # 'hist_gbr': HistGradientBoostingRegressor(random_state=42)\n",
    "}"
   ]
  },
  {
   "cell_type": "markdown",
   "metadata": {},
   "source": [
    "## data TBTL"
   ]
  },
  {
   "cell_type": "code",
   "execution_count": 51,
   "metadata": {},
   "outputs": [],
   "source": [
    "# Merge dữ liệu bằng username từ annonimized và tbtl\n",
    "data_tbtl = annonimized.merge(tbtl, on=\"username\", how=\"left\")"
   ]
  },
  {
   "cell_type": "code",
   "execution_count": 52,
   "metadata": {},
   "outputs": [],
   "source": [
    "data_tbtl['TBTL'] = data_tbtl.groupby('username')['TBTL'].mean().values"
   ]
  },
  {
   "cell_type": "code",
   "execution_count": 53,
   "metadata": {},
   "outputs": [
    {
     "name": "stdout",
     "output_type": "stream",
     "text": [
      "Số lượng sinh viên có điểm (train): 799\n",
      "Số lượng sinh viên cần dự đoán: 690\n"
     ]
    }
   ],
   "source": [
    "# Phân tách dữ liệu\n",
    "train_test_data_tbtl = data_tbtl[data_tbtl['TBTL'].notna()]  # Sinh viên có điểm dùng để train\n",
    "predict_data_tbtl = data_tbtl[data_tbtl['TBTL'].isna()]  # Sinh viên không có điểm dùng để dự đoán\n",
    "\n",
    "# In số lượng\n",
    "print(f\"Số lượng sinh viên có điểm (train): {train_test_data_tbtl.shape[0]}\")\n",
    "print(f\"Số lượng sinh viên cần dự đoán: {predict_data_tbtl.shape[0]}\")"
   ]
  },
  {
   "cell_type": "markdown",
   "metadata": {},
   "source": [
    "### Train test data tbtl"
   ]
  },
  {
   "cell_type": "code",
   "execution_count": 54,
   "metadata": {},
   "outputs": [],
   "source": [
    "X_train_test_data_tbtl = train_test_data_tbtl[features_nouser]\n",
    "y_train_test_data_tbtl = train_test_data_tbtl['TBTL']"
   ]
  },
  {
   "cell_type": "code",
   "execution_count": 55,
   "metadata": {},
   "outputs": [
    {
     "name": "stdout",
     "output_type": "stream",
     "text": [
      "Các cột chứa NaN: []\n",
      "Số lượng NaN trong mỗi cột:\n",
      "Series([], dtype: int64)\n"
     ]
    }
   ],
   "source": [
    "nan_columns = X_train_test_data_tbtl.columns[X_train_test_data_tbtl.isna().any()]\n",
    "print(f\"Các cột chứa NaN: {nan_columns.tolist()}\")\n",
    "nan_counts = X_train_test_data_tbtl.isna().sum()\n",
    "print(\"Số lượng NaN trong mỗi cột:\")\n",
    "print(nan_counts[nan_counts > 0])\n",
    "X_train_test_data_tbtl[nan_columns] = X_train_test_data_tbtl[nan_columns].fillna(X_train_test_data_tbtl[nan_columns].mean())"
   ]
  },
  {
   "cell_type": "code",
   "execution_count": 56,
   "metadata": {},
   "outputs": [
    {
     "data": {
      "text/html": [
       "<div>\n",
       "<style scoped>\n",
       "    .dataframe tbody tr th:only-of-type {\n",
       "        vertical-align: middle;\n",
       "    }\n",
       "\n",
       "    .dataframe tbody tr th {\n",
       "        vertical-align: top;\n",
       "    }\n",
       "\n",
       "    .dataframe thead th {\n",
       "        text-align: right;\n",
       "    }\n",
       "</style>\n",
       "<table border=\"1\" class=\"dataframe\">\n",
       "  <thead>\n",
       "    <tr style=\"text-align: right;\">\n",
       "      <th></th>\n",
       "      <th>status_encoded</th>\n",
       "      <th>is_final_ratio</th>\n",
       "      <th>is_final_ratio</th>\n",
       "      <th>wrong_testcases</th>\n",
       "      <th>accepted</th>\n",
       "      <th>duration</th>\n",
       "      <th>hour</th>\n",
       "      <th>submission_count</th>\n",
       "      <th>avg_pre_score</th>\n",
       "      <th>score_per_submission</th>\n",
       "      <th>is_final_ratio</th>\n",
       "      <th>is_final_ratio</th>\n",
       "    </tr>\n",
       "  </thead>\n",
       "  <tbody>\n",
       "    <tr>\n",
       "      <th>0</th>\n",
       "      <td>0.809524</td>\n",
       "      <td>0.809521</td>\n",
       "      <td>0.809521</td>\n",
       "      <td>3.006803</td>\n",
       "      <td>-0.265306</td>\n",
       "      <td>8197.142857</td>\n",
       "      <td>4.401361</td>\n",
       "      <td>5.136054</td>\n",
       "      <td>5504.149660</td>\n",
       "      <td>1759.820393</td>\n",
       "      <td>0.809521</td>\n",
       "      <td>0.809521</td>\n",
       "    </tr>\n",
       "    <tr>\n",
       "      <th>1</th>\n",
       "      <td>0.806950</td>\n",
       "      <td>0.806947</td>\n",
       "      <td>0.806947</td>\n",
       "      <td>1.918919</td>\n",
       "      <td>-0.343629</td>\n",
       "      <td>-232304.942085</td>\n",
       "      <td>10.525097</td>\n",
       "      <td>6.158301</td>\n",
       "      <td>5488.552124</td>\n",
       "      <td>1652.913990</td>\n",
       "      <td>0.806947</td>\n",
       "      <td>0.806947</td>\n",
       "    </tr>\n",
       "    <tr>\n",
       "      <th>2</th>\n",
       "      <td>0.897436</td>\n",
       "      <td>0.897433</td>\n",
       "      <td>0.897433</td>\n",
       "      <td>4.615385</td>\n",
       "      <td>-0.394872</td>\n",
       "      <td>-103018.461538</td>\n",
       "      <td>10.964103</td>\n",
       "      <td>9.328205</td>\n",
       "      <td>5973.753846</td>\n",
       "      <td>2083.139650</td>\n",
       "      <td>0.897433</td>\n",
       "      <td>0.897433</td>\n",
       "    </tr>\n",
       "    <tr>\n",
       "      <th>3</th>\n",
       "      <td>0.760000</td>\n",
       "      <td>0.759996</td>\n",
       "      <td>0.759996</td>\n",
       "      <td>1.640000</td>\n",
       "      <td>0.040000</td>\n",
       "      <td>1512.000000</td>\n",
       "      <td>8.610000</td>\n",
       "      <td>4.160000</td>\n",
       "      <td>5952.760000</td>\n",
       "      <td>2797.776791</td>\n",
       "      <td>0.759996</td>\n",
       "      <td>0.759996</td>\n",
       "    </tr>\n",
       "    <tr>\n",
       "      <th>4</th>\n",
       "      <td>0.878505</td>\n",
       "      <td>0.878499</td>\n",
       "      <td>0.878499</td>\n",
       "      <td>1.691589</td>\n",
       "      <td>0.102804</td>\n",
       "      <td>181.682243</td>\n",
       "      <td>8.598131</td>\n",
       "      <td>2.794393</td>\n",
       "      <td>6474.448598</td>\n",
       "      <td>3993.551830</td>\n",
       "      <td>0.878499</td>\n",
       "      <td>0.878499</td>\n",
       "    </tr>\n",
       "    <tr>\n",
       "      <th>...</th>\n",
       "      <td>...</td>\n",
       "      <td>...</td>\n",
       "      <td>...</td>\n",
       "      <td>...</td>\n",
       "      <td>...</td>\n",
       "      <td>...</td>\n",
       "      <td>...</td>\n",
       "      <td>...</td>\n",
       "      <td>...</td>\n",
       "      <td>...</td>\n",
       "      <td>...</td>\n",
       "      <td>...</td>\n",
       "    </tr>\n",
       "    <tr>\n",
       "      <th>796</th>\n",
       "      <td>0.729730</td>\n",
       "      <td>0.729726</td>\n",
       "      <td>0.729726</td>\n",
       "      <td>2.225225</td>\n",
       "      <td>-0.261261</td>\n",
       "      <td>26850.270270</td>\n",
       "      <td>10.063063</td>\n",
       "      <td>4.135135</td>\n",
       "      <td>5171.639640</td>\n",
       "      <td>2096.596730</td>\n",
       "      <td>0.729726</td>\n",
       "      <td>0.729726</td>\n",
       "    </tr>\n",
       "    <tr>\n",
       "      <th>797</th>\n",
       "      <td>0.711485</td>\n",
       "      <td>0.711482</td>\n",
       "      <td>0.711482</td>\n",
       "      <td>2.316527</td>\n",
       "      <td>-0.394958</td>\n",
       "      <td>-116640.168067</td>\n",
       "      <td>10.151261</td>\n",
       "      <td>6.394958</td>\n",
       "      <td>4785.224090</td>\n",
       "      <td>1394.007023</td>\n",
       "      <td>0.711482</td>\n",
       "      <td>0.711482</td>\n",
       "    </tr>\n",
       "    <tr>\n",
       "      <th>798</th>\n",
       "      <td>0.754839</td>\n",
       "      <td>0.754836</td>\n",
       "      <td>0.754836</td>\n",
       "      <td>3.206452</td>\n",
       "      <td>-0.393548</td>\n",
       "      <td>45864.000000</td>\n",
       "      <td>8.225806</td>\n",
       "      <td>8.819355</td>\n",
       "      <td>4247.296774</td>\n",
       "      <td>1452.290790</td>\n",
       "      <td>0.754836</td>\n",
       "      <td>0.754836</td>\n",
       "    </tr>\n",
       "    <tr>\n",
       "      <th>799</th>\n",
       "      <td>0.746858</td>\n",
       "      <td>0.746856</td>\n",
       "      <td>0.746856</td>\n",
       "      <td>3.427289</td>\n",
       "      <td>-0.594255</td>\n",
       "      <td>-47822.585278</td>\n",
       "      <td>7.561939</td>\n",
       "      <td>10.188510</td>\n",
       "      <td>4278.605027</td>\n",
       "      <td>883.370429</td>\n",
       "      <td>0.746856</td>\n",
       "      <td>0.746856</td>\n",
       "    </tr>\n",
       "    <tr>\n",
       "      <th>800</th>\n",
       "      <td>0.648148</td>\n",
       "      <td>0.648145</td>\n",
       "      <td>0.648145</td>\n",
       "      <td>2.000000</td>\n",
       "      <td>-0.148148</td>\n",
       "      <td>314.444444</td>\n",
       "      <td>14.685185</td>\n",
       "      <td>3.222222</td>\n",
       "      <td>4444.444444</td>\n",
       "      <td>1975.295899</td>\n",
       "      <td>0.648145</td>\n",
       "      <td>0.648145</td>\n",
       "    </tr>\n",
       "  </tbody>\n",
       "</table>\n",
       "<p>799 rows × 12 columns</p>\n",
       "</div>"
      ],
      "text/plain": [
       "     status_encoded  is_final_ratio  is_final_ratio  wrong_testcases  \\\n",
       "0          0.809524        0.809521        0.809521         3.006803   \n",
       "1          0.806950        0.806947        0.806947         1.918919   \n",
       "2          0.897436        0.897433        0.897433         4.615385   \n",
       "3          0.760000        0.759996        0.759996         1.640000   \n",
       "4          0.878505        0.878499        0.878499         1.691589   \n",
       "..              ...             ...             ...              ...   \n",
       "796        0.729730        0.729726        0.729726         2.225225   \n",
       "797        0.711485        0.711482        0.711482         2.316527   \n",
       "798        0.754839        0.754836        0.754836         3.206452   \n",
       "799        0.746858        0.746856        0.746856         3.427289   \n",
       "800        0.648148        0.648145        0.648145         2.000000   \n",
       "\n",
       "     accepted       duration       hour  submission_count  avg_pre_score  \\\n",
       "0   -0.265306    8197.142857   4.401361          5.136054    5504.149660   \n",
       "1   -0.343629 -232304.942085  10.525097          6.158301    5488.552124   \n",
       "2   -0.394872 -103018.461538  10.964103          9.328205    5973.753846   \n",
       "3    0.040000    1512.000000   8.610000          4.160000    5952.760000   \n",
       "4    0.102804     181.682243   8.598131          2.794393    6474.448598   \n",
       "..        ...            ...        ...               ...            ...   \n",
       "796 -0.261261   26850.270270  10.063063          4.135135    5171.639640   \n",
       "797 -0.394958 -116640.168067  10.151261          6.394958    4785.224090   \n",
       "798 -0.393548   45864.000000   8.225806          8.819355    4247.296774   \n",
       "799 -0.594255  -47822.585278   7.561939         10.188510    4278.605027   \n",
       "800 -0.148148     314.444444  14.685185          3.222222    4444.444444   \n",
       "\n",
       "     score_per_submission  is_final_ratio  is_final_ratio  \n",
       "0             1759.820393        0.809521        0.809521  \n",
       "1             1652.913990        0.806947        0.806947  \n",
       "2             2083.139650        0.897433        0.897433  \n",
       "3             2797.776791        0.759996        0.759996  \n",
       "4             3993.551830        0.878499        0.878499  \n",
       "..                    ...             ...             ...  \n",
       "796           2096.596730        0.729726        0.729726  \n",
       "797           1394.007023        0.711482        0.711482  \n",
       "798           1452.290790        0.754836        0.754836  \n",
       "799            883.370429        0.746856        0.746856  \n",
       "800           1975.295899        0.648145        0.648145  \n",
       "\n",
       "[799 rows x 12 columns]"
      ]
     },
     "execution_count": 56,
     "metadata": {},
     "output_type": "execute_result"
    }
   ],
   "source": [
    "X_train_test_data_tbtl"
   ]
  },
  {
   "cell_type": "code",
   "execution_count": 57,
   "metadata": {},
   "outputs": [],
   "source": [
    "#Chuẩn hóa dữ liệu\n",
    "scaler = StandardScaler()\n",
    "# X_train_test_data_tbtl = scaler.fit_transform(X_train_test_data_tbtl)\n",
    "\n",
    "#train test split\n",
    "X_train, X_test, y_train, y_test = train_test_split(X_train_test_data_tbtl, y_train_test_data_tbtl, test_size=0.3, random_state=42)"
   ]
  },
  {
   "cell_type": "code",
   "execution_count": 58,
   "metadata": {},
   "outputs": [
    {
     "data": {
      "text/html": [
       "<div>\n",
       "<style scoped>\n",
       "    .dataframe tbody tr th:only-of-type {\n",
       "        vertical-align: middle;\n",
       "    }\n",
       "\n",
       "    .dataframe tbody tr th {\n",
       "        vertical-align: top;\n",
       "    }\n",
       "\n",
       "    .dataframe thead th {\n",
       "        text-align: right;\n",
       "    }\n",
       "</style>\n",
       "<table border=\"1\" class=\"dataframe\">\n",
       "  <thead>\n",
       "    <tr style=\"text-align: right;\">\n",
       "      <th></th>\n",
       "      <th>status_encoded</th>\n",
       "      <th>is_final_ratio</th>\n",
       "      <th>is_final_ratio</th>\n",
       "      <th>wrong_testcases</th>\n",
       "      <th>accepted</th>\n",
       "      <th>duration</th>\n",
       "      <th>hour</th>\n",
       "      <th>submission_count</th>\n",
       "      <th>avg_pre_score</th>\n",
       "      <th>score_per_submission</th>\n",
       "      <th>is_final_ratio</th>\n",
       "      <th>is_final_ratio</th>\n",
       "    </tr>\n",
       "  </thead>\n",
       "  <tbody>\n",
       "    <tr>\n",
       "      <th>405</th>\n",
       "      <td>0.770115</td>\n",
       "      <td>0.770111</td>\n",
       "      <td>0.770111</td>\n",
       "      <td>2.022989</td>\n",
       "      <td>-0.164751</td>\n",
       "      <td>29932.413793</td>\n",
       "      <td>8.475096</td>\n",
       "      <td>4.463602</td>\n",
       "      <td>5779.333333</td>\n",
       "      <td>2480.003369</td>\n",
       "      <td>0.770111</td>\n",
       "      <td>0.770111</td>\n",
       "    </tr>\n",
       "    <tr>\n",
       "      <th>523</th>\n",
       "      <td>0.797980</td>\n",
       "      <td>0.797977</td>\n",
       "      <td>0.797977</td>\n",
       "      <td>2.383838</td>\n",
       "      <td>-0.212121</td>\n",
       "      <td>2310.000000</td>\n",
       "      <td>11.313131</td>\n",
       "      <td>6.131313</td>\n",
       "      <td>5448.974747</td>\n",
       "      <td>1898.873215</td>\n",
       "      <td>0.797977</td>\n",
       "      <td>0.797977</td>\n",
       "    </tr>\n",
       "    <tr>\n",
       "      <th>750</th>\n",
       "      <td>0.699115</td>\n",
       "      <td>0.699111</td>\n",
       "      <td>0.699111</td>\n",
       "      <td>4.070796</td>\n",
       "      <td>-0.610619</td>\n",
       "      <td>7323.185841</td>\n",
       "      <td>10.831858</td>\n",
       "      <td>3.230088</td>\n",
       "      <td>2888.132743</td>\n",
       "      <td>1456.835607</td>\n",
       "      <td>0.699111</td>\n",
       "      <td>0.699111</td>\n",
       "    </tr>\n",
       "    <tr>\n",
       "      <th>427</th>\n",
       "      <td>0.920354</td>\n",
       "      <td>0.920350</td>\n",
       "      <td>0.920350</td>\n",
       "      <td>2.778761</td>\n",
       "      <td>-0.123894</td>\n",
       "      <td>33366.106195</td>\n",
       "      <td>9.207965</td>\n",
       "      <td>5.389381</td>\n",
       "      <td>6430.331858</td>\n",
       "      <td>2788.353070</td>\n",
       "      <td>0.920350</td>\n",
       "      <td>0.920350</td>\n",
       "    </tr>\n",
       "    <tr>\n",
       "      <th>41</th>\n",
       "      <td>0.743902</td>\n",
       "      <td>0.743900</td>\n",
       "      <td>0.743900</td>\n",
       "      <td>3.048780</td>\n",
       "      <td>-0.439024</td>\n",
       "      <td>8880.243902</td>\n",
       "      <td>9.093496</td>\n",
       "      <td>8.934959</td>\n",
       "      <td>4425.292683</td>\n",
       "      <td>1151.289223</td>\n",
       "      <td>0.743900</td>\n",
       "      <td>0.743900</td>\n",
       "    </tr>\n",
       "    <tr>\n",
       "      <th>...</th>\n",
       "      <td>...</td>\n",
       "      <td>...</td>\n",
       "      <td>...</td>\n",
       "      <td>...</td>\n",
       "      <td>...</td>\n",
       "      <td>...</td>\n",
       "      <td>...</td>\n",
       "      <td>...</td>\n",
       "      <td>...</td>\n",
       "      <td>...</td>\n",
       "      <td>...</td>\n",
       "      <td>...</td>\n",
       "    </tr>\n",
       "    <tr>\n",
       "      <th>71</th>\n",
       "      <td>0.740000</td>\n",
       "      <td>0.739996</td>\n",
       "      <td>0.739996</td>\n",
       "      <td>1.970000</td>\n",
       "      <td>-0.050000</td>\n",
       "      <td>-409158.000000</td>\n",
       "      <td>12.470000</td>\n",
       "      <td>3.130000</td>\n",
       "      <td>5469.190000</td>\n",
       "      <td>2761.921235</td>\n",
       "      <td>0.739996</td>\n",
       "      <td>0.739996</td>\n",
       "    </tr>\n",
       "    <tr>\n",
       "      <th>106</th>\n",
       "      <td>0.803681</td>\n",
       "      <td>0.803678</td>\n",
       "      <td>0.803678</td>\n",
       "      <td>2.883436</td>\n",
       "      <td>-0.325153</td>\n",
       "      <td>4149.938650</td>\n",
       "      <td>8.355828</td>\n",
       "      <td>6.656442</td>\n",
       "      <td>5293.950920</td>\n",
       "      <td>1623.901401</td>\n",
       "      <td>0.803678</td>\n",
       "      <td>0.803678</td>\n",
       "    </tr>\n",
       "    <tr>\n",
       "      <th>270</th>\n",
       "      <td>0.807771</td>\n",
       "      <td>0.807769</td>\n",
       "      <td>0.807769</td>\n",
       "      <td>3.347648</td>\n",
       "      <td>-0.415133</td>\n",
       "      <td>-53192.269939</td>\n",
       "      <td>9.867076</td>\n",
       "      <td>9.678937</td>\n",
       "      <td>4677.613497</td>\n",
       "      <td>1272.226388</td>\n",
       "      <td>0.807769</td>\n",
       "      <td>0.807769</td>\n",
       "    </tr>\n",
       "    <tr>\n",
       "      <th>436</th>\n",
       "      <td>0.677019</td>\n",
       "      <td>0.677017</td>\n",
       "      <td>0.677017</td>\n",
       "      <td>4.826087</td>\n",
       "      <td>-0.751553</td>\n",
       "      <td>8502.111801</td>\n",
       "      <td>9.987578</td>\n",
       "      <td>9.322981</td>\n",
       "      <td>2112.559006</td>\n",
       "      <td>446.128601</td>\n",
       "      <td>0.677017</td>\n",
       "      <td>0.677017</td>\n",
       "    </tr>\n",
       "    <tr>\n",
       "      <th>102</th>\n",
       "      <td>0.778689</td>\n",
       "      <td>0.778685</td>\n",
       "      <td>0.778685</td>\n",
       "      <td>3.196721</td>\n",
       "      <td>-0.311475</td>\n",
       "      <td>6944.754098</td>\n",
       "      <td>8.467213</td>\n",
       "      <td>4.836066</td>\n",
       "      <td>4113.836066</td>\n",
       "      <td>1449.949997</td>\n",
       "      <td>0.778685</td>\n",
       "      <td>0.778685</td>\n",
       "    </tr>\n",
       "  </tbody>\n",
       "</table>\n",
       "<p>559 rows × 12 columns</p>\n",
       "</div>"
      ],
      "text/plain": [
       "     status_encoded  is_final_ratio  is_final_ratio  wrong_testcases  \\\n",
       "405        0.770115        0.770111        0.770111         2.022989   \n",
       "523        0.797980        0.797977        0.797977         2.383838   \n",
       "750        0.699115        0.699111        0.699111         4.070796   \n",
       "427        0.920354        0.920350        0.920350         2.778761   \n",
       "41         0.743902        0.743900        0.743900         3.048780   \n",
       "..              ...             ...             ...              ...   \n",
       "71         0.740000        0.739996        0.739996         1.970000   \n",
       "106        0.803681        0.803678        0.803678         2.883436   \n",
       "270        0.807771        0.807769        0.807769         3.347648   \n",
       "436        0.677019        0.677017        0.677017         4.826087   \n",
       "102        0.778689        0.778685        0.778685         3.196721   \n",
       "\n",
       "     accepted       duration       hour  submission_count  avg_pre_score  \\\n",
       "405 -0.164751   29932.413793   8.475096          4.463602    5779.333333   \n",
       "523 -0.212121    2310.000000  11.313131          6.131313    5448.974747   \n",
       "750 -0.610619    7323.185841  10.831858          3.230088    2888.132743   \n",
       "427 -0.123894   33366.106195   9.207965          5.389381    6430.331858   \n",
       "41  -0.439024    8880.243902   9.093496          8.934959    4425.292683   \n",
       "..        ...            ...        ...               ...            ...   \n",
       "71  -0.050000 -409158.000000  12.470000          3.130000    5469.190000   \n",
       "106 -0.325153    4149.938650   8.355828          6.656442    5293.950920   \n",
       "270 -0.415133  -53192.269939   9.867076          9.678937    4677.613497   \n",
       "436 -0.751553    8502.111801   9.987578          9.322981    2112.559006   \n",
       "102 -0.311475    6944.754098   8.467213          4.836066    4113.836066   \n",
       "\n",
       "     score_per_submission  is_final_ratio  is_final_ratio  \n",
       "405           2480.003369        0.770111        0.770111  \n",
       "523           1898.873215        0.797977        0.797977  \n",
       "750           1456.835607        0.699111        0.699111  \n",
       "427           2788.353070        0.920350        0.920350  \n",
       "41            1151.289223        0.743900        0.743900  \n",
       "..                    ...             ...             ...  \n",
       "71            2761.921235        0.739996        0.739996  \n",
       "106           1623.901401        0.803678        0.803678  \n",
       "270           1272.226388        0.807769        0.807769  \n",
       "436            446.128601        0.677017        0.677017  \n",
       "102           1449.949997        0.778685        0.778685  \n",
       "\n",
       "[559 rows x 12 columns]"
      ]
     },
     "execution_count": 58,
     "metadata": {},
     "output_type": "execute_result"
    }
   ],
   "source": [
    "X_train"
   ]
  },
  {
   "cell_type": "code",
   "execution_count": 59,
   "metadata": {},
   "outputs": [
    {
     "data": {
      "text/plain": [
       "405    7.71\n",
       "523    7.50\n",
       "750    7.74\n",
       "427    8.04\n",
       "41     8.63\n",
       "       ... \n",
       "71     7.11\n",
       "106    7.93\n",
       "270    9.15\n",
       "436    7.32\n",
       "102    8.10\n",
       "Name: TBTL, Length: 559, dtype: float64"
      ]
     },
     "execution_count": 59,
     "metadata": {},
     "output_type": "execute_result"
    }
   ],
   "source": [
    "y_train "
   ]
  },
  {
   "cell_type": "code",
   "execution_count": 60,
   "metadata": {},
   "outputs": [],
   "source": [
    "\n",
    "metrics = {}\n",
    "\n",
    "for name, model in models.items():\n",
    "    # Huấn luyện\n",
    "    model.fit(X_train, y_train)\n",
    "    y_pred = model.predict(X_test)\n",
    "\n",
    "    # Đánh giá\n",
    "    mse = mean_squared_error(y_test, y_pred)\n",
    "    r2 = r2_score(y_test, y_pred)\n",
    "\n",
    "    metrics[name] = {\n",
    "        'MSE': mse,\n",
    "        'R2': r2\n",
    "    }"
   ]
  },
  {
   "cell_type": "code",
   "execution_count": 61,
   "metadata": {},
   "outputs": [
    {
     "data": {
      "image/png": "[encoded data removed]",
      "text/plain": [
       "<Figure size 1000x600 with 1 Axes>"
      ]
     },
     "metadata": {},
     "output_type": "display_data"
    }
   ],
   "source": [
    "# Mức độ quan trọng của các đặc trưng\n",
    "importances = model.coef_\n",
    "features = X_train_test_data_tbtl.columns\n",
    "\n",
    "# Vẽ biểu đồ mức độ quan trọng\n",
    "plt.figure(figsize=(10, 6))\n",
    "plt.barh(features, importances, color='skyblue')\n",
    "plt.xlabel('Importance')\n",
    "plt.title('Feature Importance')\n",
    "plt.show()"
   ]
  },
  {
   "cell_type": "code",
   "execution_count": 62,
   "metadata": {},
   "outputs": [
    {
     "name": "stdout",
     "output_type": "stream",
     "text": [
      "Model Evaluation Results of TBTL:\n",
      "LinearRegression: MSE=0.7650, R2=0.0269\n"
     ]
    }
   ],
   "source": [
    "# In kết quả\n",
    "print(\"Model Evaluation Results of TBTL:\")\n",
    "for name, metrics in metrics.items():\n",
    "    print(f\"{name}: MSE={metrics['MSE']:.4f}, R2={metrics['R2']:.4f}\")"
   ]
  },
  {
   "cell_type": "markdown",
   "metadata": {},
   "source": [
    "### Predict data tbtl"
   ]
  },
  {
   "cell_type": "code",
   "execution_count": 63,
   "metadata": {},
   "outputs": [],
   "source": [
    "X_predict_data_tbtl = predict_data_tbtl[features_nouser]"
   ]
  },
  {
   "cell_type": "code",
   "execution_count": 64,
   "metadata": {},
   "outputs": [
    {
     "name": "stdout",
     "output_type": "stream",
     "text": [
      "Các cột chứa NaN: []\n",
      "Số lượng NaN trong mỗi cột:\n",
      "Series([], dtype: int64)\n"
     ]
    }
   ],
   "source": [
    "nan_columns = X_predict_data_tbtl.columns[X_predict_data_tbtl.isna().any()]\n",
    "print(f\"Các cột chứa NaN: {nan_columns.tolist()}\")\n",
    "nan_counts = X_predict_data_tbtl.isna().sum()\n",
    "print(\"Số lượng NaN trong mỗi cột:\")\n",
    "print(nan_counts[nan_counts > 0])\n",
    "X_predict_data_tbtl[nan_columns] = X_predict_data_tbtl[nan_columns].fillna(X_predict_data_tbtl[nan_columns].mean())"
   ]
  },
  {
   "cell_type": "code",
   "execution_count": 65,
   "metadata": {},
   "outputs": [],
   "source": [
    "X_predict_data_tbtl = scaler.fit_transform(X_predict_data_tbtl)"
   ]
  },
  {
   "cell_type": "code",
   "execution_count": 66,
   "metadata": {},
   "outputs": [
    {
     "name": "stderr",
     "output_type": "stream",
     "text": [
      "C:\\Users\\Admin\\AppData\\Local\\Packages\\PythonSoftwareFoundation.Python.3.11_qbz5n2kfra8p0\\LocalCache\\local-packages\\Python311\\site-packages\\sklearn\\base.py:493: UserWarning: X does not have valid feature names, but LinearRegression was fitted with feature names\n",
      "  warnings.warn(\n",
      "C:\\Users\\Admin\\AppData\\Local\\Temp\\ipykernel_47176\\3950690568.py:2: SettingWithCopyWarning: \n",
      "A value is trying to be set on a copy of a slice from a DataFrame.\n",
      "Try using .loc[row_indexer,col_indexer] = value instead\n",
      "\n",
      "See the caveats in the documentation: https://pandas.pydata.org/pandas-docs/stable/user_guide/indexing.html#returning-a-view-versus-a-copy\n",
      "  predict_data_tbtl['TBTL'] = model.predict(X_predict_data_tbtl)\n"
     ]
    }
   ],
   "source": [
    "# Dự đoán\n",
    "predict_data_tbtl['TBTL'] = model.predict(X_predict_data_tbtl)\n"
   ]
  },
  {
   "cell_type": "code",
   "execution_count": 67,
   "metadata": {},
   "outputs": [],
   "source": [
    "\n",
    "output = predict_data_tbtl[['username', 'TBTL']]\n",
    "\n",
    "# Xuất file kết quả\n",
    "output = output.to_csv(\"Predict/predicted_tbtl.csv\", index=False, header=False)"
   ]
  },
  {
   "cell_type": "markdown",
   "metadata": {},
   "source": [
    "## data TH\n"
   ]
  },
  {
   "cell_type": "code",
   "execution_count": 68,
   "metadata": {},
   "outputs": [],
   "source": [
    "# Merge dữ liệu bằng username từ annonimized và th\n",
    "data_th = annonimized.merge(th, on=\"username\", how=\"left\")"
   ]
  },
  {
   "cell_type": "code",
   "execution_count": 69,
   "metadata": {},
   "outputs": [],
   "source": [
    "data_th['TH'] = pd.to_numeric(data_th['TH'], errors='coerce')\n",
    "data_th['TH'] = data_th.groupby('username')['TH'].mean().values"
   ]
  },
  {
   "cell_type": "code",
   "execution_count": 70,
   "metadata": {},
   "outputs": [
    {
     "name": "stdout",
     "output_type": "stream",
     "text": [
      "Số lượng sinh viên có điểm (train): 753\n",
      "Số lượng sinh viên cần dự đoán: 736\n"
     ]
    }
   ],
   "source": [
    "# Phân tách dữ liệu\n",
    "train_test_data_th = data_th[data_th['TH'].notna()]  # Sinh viên có điểm dùng để train\n",
    "predict_data_th = data_th[data_th['TH'].isna()]  # Sinh viên không có điểm dùng để dự đoán\n",
    "\n",
    "# In số lượng\n",
    "print(f\"Số lượng sinh viên có điểm (train): {train_test_data_th.shape[0]}\")\n",
    "print(f\"Số lượng sinh viên cần dự đoán: {predict_data_th.shape[0]}\")"
   ]
  },
  {
   "cell_type": "markdown",
   "metadata": {},
   "source": [
    "### Train test data th"
   ]
  },
  {
   "cell_type": "code",
   "execution_count": 71,
   "metadata": {},
   "outputs": [],
   "source": [
    "X_train_test_data_th = train_test_data_th[features_nouser]\n",
    "y_train_test_data_th = train_test_data_th['TH']"
   ]
  },
  {
   "cell_type": "code",
   "execution_count": 72,
   "metadata": {},
   "outputs": [
    {
     "name": "stdout",
     "output_type": "stream",
     "text": [
      "Các cột chứa NaN: []\n",
      "Số lượng NaN trong mỗi cột:\n",
      "Series([], dtype: int64)\n"
     ]
    }
   ],
   "source": [
    "nan_columns = X_train_test_data_th.columns[X_train_test_data_th.isna().any()]\n",
    "print(f\"Các cột chứa NaN: {nan_columns.tolist()}\")\n",
    "nan_counts = X_train_test_data_th.isna().sum()\n",
    "print(\"Số lượng NaN trong mỗi cột:\")\n",
    "print(nan_counts[nan_counts > 0])\n",
    "X_train_test_data_th[nan_columns] = X_train_test_data_th[nan_columns].fillna(X_train_test_data_th[nan_columns].mean())"
   ]
  },
  {
   "cell_type": "code",
   "execution_count": 73,
   "metadata": {},
   "outputs": [],
   "source": [
    "#Chuẩn hóa dữ liệu\n",
    "# X_train_test_data_th = scaler.fit_transform(X_train_test_data_th)\n",
    "\n",
    "#train test split\n",
    "X_train, X_test, y_train, y_test = train_test_split(X_train_test_data_th, y_train_test_data_th, test_size=0.3, random_state=42)"
   ]
  },
  {
   "cell_type": "code",
   "execution_count": 74,
   "metadata": {},
   "outputs": [],
   "source": [
    "# Huấn luyện và đánh giá mô hình\n",
    "metrics = {}\n",
    "\n",
    "for name, model in models.items():\n",
    "    # Huấn luyện\n",
    "    model.fit(X_train, y_train)\n",
    "    y_pred = model.predict(X_test)\n",
    "\n",
    "    # Đánh giá\n",
    "    mse = mean_squared_error(y_test, y_pred)\n",
    "    r2 = r2_score(y_test, y_pred)\n",
    "\n",
    "    metrics[name] = {\n",
    "        'MSE': mse,\n",
    "        'R2': r2\n",
    "    }"
   ]
  },
  {
   "cell_type": "code",
   "execution_count": 75,
   "metadata": {},
   "outputs": [
    {
     "data": {
      "image/png": "[encoded data removed]",
      "text/plain": [
       "<Figure size 1000x600 with 1 Axes>"
      ]
     },
     "metadata": {},
     "output_type": "display_data"
    }
   ],
   "source": [
    "# Mức độ quan trọng của các đặc trưng\n",
    "importances = model.coef_\n",
    "features = X_train_test_data_th.columns\n",
    "\n",
    "# Vẽ biểu đồ mức độ quan trọng\n",
    "plt.figure(figsize=(10, 6))\n",
    "plt.barh(features, importances, color='skyblue')\n",
    "plt.xlabel('Importance')\n",
    "plt.title('Feature Importance')\n",
    "plt.show()"
   ]
  },
  {
   "cell_type": "code",
   "execution_count": 76,
   "metadata": {},
   "outputs": [
    {
     "name": "stdout",
     "output_type": "stream",
     "text": [
      "Model Evaluation Results of TH:\n",
      "LinearRegression: MSE=3.7233, R2=0.2539\n"
     ]
    }
   ],
   "source": [
    "# In kết quả\n",
    "print(\"Model Evaluation Results of TH:\")\n",
    "for name, metrics in metrics.items():\n",
    "    print(f\"{name}: MSE={metrics['MSE']:.4f}, R2={metrics['R2']:.4f}\")"
   ]
  },
  {
   "cell_type": "markdown",
   "metadata": {},
   "source": [
    "### Predict data th"
   ]
  },
  {
   "cell_type": "code",
   "execution_count": 77,
   "metadata": {},
   "outputs": [],
   "source": [
    "X_predict_data_th = predict_data_th[features_nouser]"
   ]
  },
  {
   "cell_type": "code",
   "execution_count": 78,
   "metadata": {},
   "outputs": [
    {
     "name": "stdout",
     "output_type": "stream",
     "text": [
      "Các cột chứa NaN: []\n",
      "Số lượng NaN trong mỗi cột:\n",
      "Series([], dtype: int64)\n"
     ]
    }
   ],
   "source": [
    "nan_columns = X_predict_data_th.columns[X_predict_data_th.isna().any()]\n",
    "print(f\"Các cột chứa NaN: {nan_columns.tolist()}\")\n",
    "nan_counts = X_predict_data_th.isna().sum()\n",
    "print(\"Số lượng NaN trong mỗi cột:\")\n",
    "print(nan_counts[nan_counts > 0])\n",
    "X_predict_data_th[nan_columns] = X_predict_data_th[nan_columns].fillna(X_predict_data_th[nan_columns].mean())"
   ]
  },
  {
   "cell_type": "code",
   "execution_count": 79,
   "metadata": {},
   "outputs": [],
   "source": [
    "X_predict_data_th = scaler.transform(X_predict_data_th)"
   ]
  },
  {
   "cell_type": "code",
   "execution_count": 80,
   "metadata": {},
   "outputs": [
    {
     "name": "stderr",
     "output_type": "stream",
     "text": [
      "C:\\Users\\Admin\\AppData\\Local\\Packages\\PythonSoftwareFoundation.Python.3.11_qbz5n2kfra8p0\\LocalCache\\local-packages\\Python311\\site-packages\\sklearn\\base.py:493: UserWarning: X does not have valid feature names, but LinearRegression was fitted with feature names\n",
      "  warnings.warn(\n",
      "C:\\Users\\Admin\\AppData\\Local\\Temp\\ipykernel_47176\\1421566909.py:2: SettingWithCopyWarning: \n",
      "A value is trying to be set on a copy of a slice from a DataFrame.\n",
      "Try using .loc[row_indexer,col_indexer] = value instead\n",
      "\n",
      "See the caveats in the documentation: https://pandas.pydata.org/pandas-docs/stable/user_guide/indexing.html#returning-a-view-versus-a-copy\n",
      "  predict_data_th['TH'] = model.predict(X_predict_data_th)\n"
     ]
    }
   ],
   "source": [
    "# Dự đoán\n",
    "predict_data_th['TH'] = model.predict(X_predict_data_th)"
   ]
  },
  {
   "cell_type": "code",
   "execution_count": 81,
   "metadata": {},
   "outputs": [],
   "source": [
    "\n",
    "output = predict_data_th[['username', 'TH']]\n",
    "\n",
    "# Xuất file kết quả\n",
    "output = output.to_csv(\"Predict/predicted_th.csv\", index=False, header=False)"
   ]
  },
  {
   "cell_type": "markdown",
   "metadata": {},
   "source": [
    "## data QT"
   ]
  },
  {
   "cell_type": "code",
   "execution_count": 82,
   "metadata": {},
   "outputs": [],
   "source": [
    "# Merge dữ liệu bằng username từ annonimized và qt\n",
    "data_qt = annonimized.merge(qt, on=\"username\", how=\"left\")"
   ]
  },
  {
   "cell_type": "code",
   "execution_count": 83,
   "metadata": {},
   "outputs": [],
   "source": [
    "data_qt['QT'] = pd.to_numeric(data_qt['QT'], errors='coerce')\n",
    "data_qt['QT'] = data_qt.groupby('username')['QT'].mean().values"
   ]
  },
  {
   "cell_type": "code",
   "execution_count": 84,
   "metadata": {},
   "outputs": [
    {
     "name": "stdout",
     "output_type": "stream",
     "text": [
      "Số lượng sinh viên có điểm (train): 754\n",
      "Số lượng sinh viên cần dự đoán: 735\n"
     ]
    }
   ],
   "source": [
    "# Phân tách dữ liệu\n",
    "train_test_data_qt = data_qt[data_qt['QT'].notna()]  # Sinh viên có điểm dùng để train\n",
    "predict_data_qt = data_qt[data_qt['QT'].isna()]  # Sinh viên không có điểm dùng để dự đoán\n",
    "\n",
    "# In số lượng\n",
    "print(f\"Số lượng sinh viên có điểm (train): {train_test_data_qt.shape[0]}\")\n",
    "print(f\"Số lượng sinh viên cần dự đoán: {predict_data_qt.shape[0]}\")"
   ]
  },
  {
   "cell_type": "markdown",
   "metadata": {},
   "source": [
    "### Train test data qt"
   ]
  },
  {
   "cell_type": "code",
   "execution_count": 85,
   "metadata": {},
   "outputs": [],
   "source": [
    "X_train_test_data_qt = train_test_data_qt[features_nouser]\n",
    "y_train_test_data_qt = train_test_data_qt['QT']"
   ]
  },
  {
   "cell_type": "code",
   "execution_count": 86,
   "metadata": {},
   "outputs": [
    {
     "name": "stdout",
     "output_type": "stream",
     "text": [
      "Các cột chứa NaN: []\n",
      "Số lượng NaN trong mỗi cột:\n",
      "Series([], dtype: int64)\n"
     ]
    }
   ],
   "source": [
    "# fill NaN\n",
    "nan_columns = X_train_test_data_qt.columns[X_train_test_data_qt.isna().any()]\n",
    "print(f\"Các cột chứa NaN: {nan_columns.tolist()}\")\n",
    "nan_counts = X_train_test_data_qt.isna().sum()\n",
    "print(\"Số lượng NaN trong mỗi cột:\")\n",
    "print(nan_counts[nan_counts > 0])\n",
    "X_train_test_data_qt[nan_columns] = X_train_test_data_qt[nan_columns].fillna(X_train_test_data_qt[nan_columns].mean())"
   ]
  },
  {
   "cell_type": "code",
   "execution_count": 87,
   "metadata": {},
   "outputs": [],
   "source": [
    "#Chuẩn hóa dữ liệu\n",
    "# X_train_test_data_qt = scaler.fit_transform(X_train_test_data_qt)\n",
    "\n",
    "#train test split\n",
    "X_train, X_test, y_train, y_test = train_test_split(X_train_test_data_qt, y_train_test_data_qt, test_size=0.3, random_state=42)"
   ]
  },
  {
   "cell_type": "code",
   "execution_count": 88,
   "metadata": {},
   "outputs": [],
   "source": [
    "# Huấn luyện và đánh giá mô hình\n",
    "\n",
    "metrics = {}\n",
    "\n",
    "for name, model in models.items():\n",
    "    # Huấn luyện\n",
    "    model.fit(X_train, y_train)\n",
    "    y_pred = model.predict(X_test)\n",
    "\n",
    "    # Đánh giá\n",
    "    mse = mean_squared_error(y_test, y_pred)\n",
    "    r2 = r2_score(y_test, y_pred)\n",
    "\n",
    "    metrics[name] = {\n",
    "        'MSE': mse,\n",
    "        'R2': r2\n",
    "    }"
   ]
  },
  {
   "cell_type": "code",
   "execution_count": 89,
   "metadata": {},
   "outputs": [
    {
     "data": {
      "image/png": "[encoded data removed]",
      "text/plain": [
       "<Figure size 1000x600 with 1 Axes>"
      ]
     },
     "metadata": {},
     "output_type": "display_data"
    }
   ],
   "source": [
    "# Mức độ quan trọng của các đặc trưng\n",
    "importances = model.coef_\n",
    "features = X_train_test_data_qt.columns\n",
    "\n",
    "# Vẽ biểu đồ mức độ quan trọng\n",
    "plt.figure(figsize=(10, 6))\n",
    "plt.barh(features, importances, color='skyblue')\n",
    "plt.xlabel('Importance')\n",
    "plt.title('Feature Importance')\n",
    "plt.show()"
   ]
  },
  {
   "cell_type": "code",
   "execution_count": 90,
   "metadata": {},
   "outputs": [
    {
     "name": "stdout",
     "output_type": "stream",
     "text": [
      "Model Evaluation Results of QT:\n",
      "LinearRegression: MSE=2.3519, R2=0.0053\n"
     ]
    }
   ],
   "source": [
    "# In kết quả\n",
    "print(\"Model Evaluation Results of QT:\")\n",
    "for name, metrics in metrics.items():\n",
    "    print(f\"{name}: MSE={metrics['MSE']:.4f}, R2={metrics['R2']:.4f}\")"
   ]
  },
  {
   "cell_type": "markdown",
   "metadata": {},
   "source": [
    "### Predict data qt"
   ]
  },
  {
   "cell_type": "code",
   "execution_count": 91,
   "metadata": {},
   "outputs": [],
   "source": [
    "X_predict_data_qt = predict_data_qt[features_nouser]"
   ]
  },
  {
   "cell_type": "code",
   "execution_count": 92,
   "metadata": {},
   "outputs": [
    {
     "name": "stdout",
     "output_type": "stream",
     "text": [
      "Các cột chứa NaN: []\n",
      "Số lượng NaN trong mỗi cột:\n",
      "Series([], dtype: int64)\n"
     ]
    }
   ],
   "source": [
    "nan_columns = X_predict_data_qt.columns[X_predict_data_qt.isna().any()]\n",
    "print(f\"Các cột chứa NaN: {nan_columns.tolist()}\")\n",
    "nan_counts = X_predict_data_qt.isna().sum()\n",
    "print(\"Số lượng NaN trong mỗi cột:\")\n",
    "print(nan_counts[nan_counts > 0])\n",
    "X_predict_data_qt[nan_columns] = X_predict_data_qt[nan_columns].fillna(X_predict_data_qt[nan_columns].mean())"
   ]
  },
  {
   "cell_type": "code",
   "execution_count": 93,
   "metadata": {},
   "outputs": [],
   "source": [
    "X_predict_data_qt = scaler.transform(X_predict_data_qt)"
   ]
  },
  {
   "cell_type": "code",
   "execution_count": 94,
   "metadata": {},
   "outputs": [
    {
     "name": "stderr",
     "output_type": "stream",
     "text": [
      "C:\\Users\\Admin\\AppData\\Local\\Packages\\PythonSoftwareFoundation.Python.3.11_qbz5n2kfra8p0\\LocalCache\\local-packages\\Python311\\site-packages\\sklearn\\base.py:493: UserWarning: X does not have valid feature names, but LinearRegression was fitted with feature names\n",
      "  warnings.warn(\n",
      "C:\\Users\\Admin\\AppData\\Local\\Temp\\ipykernel_47176\\3031361918.py:2: SettingWithCopyWarning: \n",
      "A value is trying to be set on a copy of a slice from a DataFrame.\n",
      "Try using .loc[row_indexer,col_indexer] = value instead\n",
      "\n",
      "See the caveats in the documentation: https://pandas.pydata.org/pandas-docs/stable/user_guide/indexing.html#returning-a-view-versus-a-copy\n",
      "  predict_data_qt['QT'] = model.predict(X_predict_data_qt)\n"
     ]
    }
   ],
   "source": [
    "# Dự đoán\n",
    "predict_data_qt['QT'] = model.predict(X_predict_data_qt)\n"
   ]
  },
  {
   "cell_type": "code",
   "execution_count": 95,
   "metadata": {},
   "outputs": [],
   "source": [
    "\n",
    "output = predict_data_qt[['username', 'QT']]\n",
    "\n",
    "# Xuất file kết quả\n",
    "output = output.to_csv(\"Predict/predicted_qt.csv\", index=False, header=False)"
   ]
  },
  {
   "cell_type": "markdown",
   "metadata": {},
   "source": [
    "## data CK"
   ]
  },
  {
   "cell_type": "code",
   "execution_count": 96,
   "metadata": {},
   "outputs": [],
   "source": [
    "# Merge dữ liệu bằng username từ annonimized và ck\n",
    "data_CK = annonimized.merge(CK, on=\"username\", how=\"left\")"
   ]
  },
  {
   "cell_type": "code",
   "execution_count": 97,
   "metadata": {},
   "outputs": [],
   "source": [
    "data_CK['CK'] = data_CK.groupby('username')['CK'].mean().values"
   ]
  },
  {
   "cell_type": "code",
   "execution_count": 98,
   "metadata": {},
   "outputs": [
    {
     "name": "stdout",
     "output_type": "stream",
     "text": [
      "Số lượng sinh viên có điểm (train): 755\n",
      "Số lượng sinh viên cần dự đoán: 734\n"
     ]
    }
   ],
   "source": [
    "# Phân tách dữ liệu\n",
    "train_test_data_ck = data_CK[data_CK['CK'].notna()]  # Sinh viên có điểm dùng để train\n",
    "predict_data_ck = data_CK[data_CK['CK'].isna()]  # Sinh viên không có điểm dùng để dự đoán\n",
    "\n",
    "# In số lượng\n",
    "print(f\"Số lượng sinh viên có điểm (train): {train_test_data_ck.shape[0]}\")\n",
    "print(f\"Số lượng sinh viên cần dự đoán: {predict_data_ck.shape[0]}\")"
   ]
  },
  {
   "cell_type": "markdown",
   "metadata": {},
   "source": [
    "### Train test data ck"
   ]
  },
  {
   "cell_type": "code",
   "execution_count": 99,
   "metadata": {},
   "outputs": [],
   "source": [
    "X_train_test_data_ck = train_test_data_ck[features_nouser]\n",
    "y_train_test_data_ck = train_test_data_ck['CK']"
   ]
  },
  {
   "cell_type": "code",
   "execution_count": 100,
   "metadata": {},
   "outputs": [
    {
     "name": "stdout",
     "output_type": "stream",
     "text": [
      "Các cột chứa NaN: []\n",
      "Số lượng NaN trong mỗi cột:\n",
      "Series([], dtype: int64)\n"
     ]
    }
   ],
   "source": [
    "nan_columns = X_train_test_data_ck.columns[X_train_test_data_ck.isna().any()]\n",
    "print(f\"Các cột chứa NaN: {nan_columns.tolist()}\")\n",
    "nan_counts = X_train_test_data_ck.isna().sum()\n",
    "print(\"Số lượng NaN trong mỗi cột:\")\n",
    "print(nan_counts[nan_counts > 0])\n",
    "X_train_test_data_ck[nan_columns] = X_train_test_data_ck[nan_columns].fillna(X_train_test_data_ck[nan_columns].mean())"
   ]
  },
  {
   "cell_type": "code",
   "execution_count": 101,
   "metadata": {},
   "outputs": [],
   "source": [
    "#Chuẩn hóa dữ liệu\n",
    "# X_train_test_data_ck = scaler.fit_transform(X_train_test_data_ck)\n",
    "\n",
    "#train test split\n",
    "X_train, X_test, y_train, y_test = train_test_split(X_train_test_data_ck, y_train_test_data_ck, test_size=0.3, random_state=42)"
   ]
  },
  {
   "cell_type": "code",
   "execution_count": 102,
   "metadata": {},
   "outputs": [],
   "source": [
    "# Huấn luyện và đánh giá mô hình\n",
    "metrics = {}\n",
    "\n",
    "for name, model in models.items():\n",
    "    # Huấn luyện\n",
    "    model.fit(X_train, y_train)\n",
    "    y_pred = model.predict(X_test)\n",
    "\n",
    "    # Đánh giá\n",
    "    mse = mean_squared_error(y_test, y_pred)\n",
    "    r2 = r2_score(y_test, y_pred)\n",
    "\n",
    "    metrics[name] = {\n",
    "        'MSE': mse,\n",
    "        'R2': r2\n",
    "    }"
   ]
  },
  {
   "cell_type": "code",
   "execution_count": 103,
   "metadata": {},
   "outputs": [
    {
     "data": {
      "image/png": "[encoded data removed]",
      "text/plain": [
       "<Figure size 1000x600 with 1 Axes>"
      ]
     },
     "metadata": {},
     "output_type": "display_data"
    }
   ],
   "source": [
    "# Mức độ quan trọng của các đặc trưng\n",
    "importances = model.coef_\n",
    "features = X_train_test_data_ck.columns\n",
    "\n",
    "# Vẽ biểu đồ mức độ quan trọng\n",
    "plt.figure(figsize=(10, 6))\n",
    "plt.barh(features, importances, color='skyblue')\n",
    "plt.xlabel('Importance')\n",
    "plt.title('Feature Importance')\n",
    "plt.show()"
   ]
  },
  {
   "cell_type": "code",
   "execution_count": 104,
   "metadata": {},
   "outputs": [
    {
     "name": "stdout",
     "output_type": "stream",
     "text": [
      "Model Evaluation Results of CK:\n",
      "LinearRegression: MSE=3.7915, R2=0.1775\n"
     ]
    }
   ],
   "source": [
    "# In kết quả\n",
    "print(\"Model Evaluation Results of CK:\")\n",
    "for name, metrics in metrics.items():\n",
    "    print(f\"{name}: MSE={metrics['MSE']:.4f}, R2={metrics['R2']:.4f}\")"
   ]
  },
  {
   "cell_type": "markdown",
   "metadata": {},
   "source": [
    "### Predict data ck"
   ]
  },
  {
   "cell_type": "code",
   "execution_count": 105,
   "metadata": {},
   "outputs": [],
   "source": [
    "X_predict_data_ck = predict_data_ck[features_nouser]"
   ]
  },
  {
   "cell_type": "code",
   "execution_count": 106,
   "metadata": {},
   "outputs": [
    {
     "name": "stdout",
     "output_type": "stream",
     "text": [
      "Các cột chứa NaN: []\n",
      "Số lượng NaN trong mỗi cột:\n",
      "Series([], dtype: int64)\n"
     ]
    }
   ],
   "source": [
    "nan_columns = X_predict_data_ck.columns[X_predict_data_ck.isna().any()]\n",
    "print(f\"Các cột chứa NaN: {nan_columns.tolist()}\")\n",
    "nan_counts = X_predict_data_ck.isna().sum()\n",
    "print(\"Số lượng NaN trong mỗi cột:\")\n",
    "print(nan_counts[nan_counts > 0])\n",
    "X_predict_data_ck[nan_columns] = X_predict_data_ck[nan_columns].fillna(X_predict_data_ck[nan_columns].mean())"
   ]
  },
  {
   "cell_type": "code",
   "execution_count": 107,
   "metadata": {},
   "outputs": [],
   "source": [
    "X_predict_data_ck = scaler.transform(X_predict_data_ck)"
   ]
  },
  {
   "cell_type": "code",
   "execution_count": 108,
   "metadata": {},
   "outputs": [
    {
     "name": "stderr",
     "output_type": "stream",
     "text": [
      "C:\\Users\\Admin\\AppData\\Local\\Packages\\PythonSoftwareFoundation.Python.3.11_qbz5n2kfra8p0\\LocalCache\\local-packages\\Python311\\site-packages\\sklearn\\base.py:493: UserWarning: X does not have valid feature names, but LinearRegression was fitted with feature names\n",
      "  warnings.warn(\n",
      "C:\\Users\\Admin\\AppData\\Local\\Temp\\ipykernel_47176\\3428818030.py:2: SettingWithCopyWarning: \n",
      "A value is trying to be set on a copy of a slice from a DataFrame.\n",
      "Try using .loc[row_indexer,col_indexer] = value instead\n",
      "\n",
      "See the caveats in the documentation: https://pandas.pydata.org/pandas-docs/stable/user_guide/indexing.html#returning-a-view-versus-a-copy\n",
      "  predict_data_ck['CK'] = model.predict(X_predict_data_ck)\n"
     ]
    }
   ],
   "source": [
    "# Dự đoán\n",
    "predict_data_ck['CK'] = model.predict(X_predict_data_ck)"
   ]
  },
  {
   "cell_type": "code",
   "execution_count": 109,
   "metadata": {},
   "outputs": [],
   "source": [
    "\n",
    "output = predict_data_ck[['username', 'CK']]\n",
    "\n",
    "# Xuất file kết quả\n",
    "output = output.to_csv(\"Predict/predicted_ck.csv\", index=False, header=False)"
   ]
  }
 ],
 "metadata": {
  "kernelspec": {
   "display_name": "Python 3",
   "language": "python",
   "name": "python3"
  },
  "language_info": {
   "codemirror_mode": {
    "name": "ipython",
    "version": 3
   },
   "file_extension": ".py",
   "mimetype": "text/x-python",
   "name": "python",
   "nbconvert_exporter": "python",
   "pygments_lexer": "ipython3",
   "version": "3.11.9"
  }
 },
 "nbformat": 4,
 "nbformat_minor": 2
}
