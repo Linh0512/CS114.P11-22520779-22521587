{
 "cells": [
  {
   "cell_type": "code",
   "execution_count": 316,
   "metadata": {},
   "outputs": [],
   "source": [
    "import pandas as pd\n",
    "import matplotlib.pyplot as plt\n",
    "import os\n",
    "from sklearn.model_selection import train_test_split\n",
    "from sklearn.linear_model import LinearRegression\n",
    "from sklearn.ensemble import RandomForestRegressor\n",
    "from lightgbm import LGBMRegressor\n",
    "from sklearn.ensemble import HistGradientBoostingRegressor\n",
    "from sklearn.preprocessing import LabelEncoder\n",
    "from sklearn.preprocessing import StandardScaler\n",
    "from sklearn.metrics import r2_score, mean_squared_error"
   ]
  },
  {
   "cell_type": "code",
   "execution_count": 317,
   "metadata": {},
   "outputs": [],
   "source": [
    "os.chdir('C:/Storage/StudyJourney/Nam3/Cs114/Project2/PredictScores')"
   ]
  },
  {
   "cell_type": "code",
   "execution_count": 318,
   "metadata": {},
   "outputs": [],
   "source": [
    "# Đọc dữ liệu\n",
    "annonimized = pd.read_csv(\"Dataset/annonimized.csv\")\n",
    "tbtl = pd.read_excel(\"Dataset/public_it001/tbtl-public.ods\", engine='odf')\n",
    "th = pd.read_csv(\"Dataset/public_it001/th-public.csv\")\n",
    "qt = pd.read_csv(\"Dataset/public_it001/qt-public.csv\")\n",
    "CK = pd.read_csv(\"Dataset/public_it001/ck-public.csv\")"
   ]
  },
  {
   "cell_type": "markdown",
   "metadata": {},
   "source": [
    "## Xử lý dữ liệu annonimized"
   ]
  },
  {
   "cell_type": "code",
   "execution_count": 319,
   "metadata": {},
   "outputs": [
    {
     "data": {
      "text/html": [
       "<div>\n",
       "<style scoped>\n",
       "    .dataframe tbody tr th:only-of-type {\n",
       "        vertical-align: middle;\n",
       "    }\n",
       "\n",
       "    .dataframe tbody tr th {\n",
       "        vertical-align: top;\n",
       "    }\n",
       "\n",
       "    .dataframe thead th {\n",
       "        text-align: right;\n",
       "    }\n",
       "</style>\n",
       "<table border=\"1\" class=\"dataframe\">\n",
       "  <thead>\n",
       "    <tr style=\"text-align: right;\">\n",
       "      <th></th>\n",
       "      <th>assignment_id</th>\n",
       "      <th>problem_id</th>\n",
       "      <th>username</th>\n",
       "      <th>is_final</th>\n",
       "      <th>status</th>\n",
       "      <th>pre_score</th>\n",
       "      <th>coefficient</th>\n",
       "      <th>language_id</th>\n",
       "      <th>created_at</th>\n",
       "      <th>updated_at</th>\n",
       "      <th>judgement</th>\n",
       "    </tr>\n",
       "  </thead>\n",
       "  <tbody>\n",
       "    <tr>\n",
       "      <th>0</th>\n",
       "      <td>90ce27571176d87961b565d5ef4b3de33ede04ac</td>\n",
       "      <td>789454427dd4097a14749e3dde63346b7a8d3811</td>\n",
       "      <td>ed9eaeb6a707f50154024b24d7efcb874a9795dd</td>\n",
       "      <td>0</td>\n",
       "      <td>SCORE</td>\n",
       "      <td>0</td>\n",
       "      <td>100</td>\n",
       "      <td>it0012</td>\n",
       "      <td>10/9/2025 8:02</td>\n",
       "      <td>10/9/2025 8:06</td>\n",
       "      <td>{\"times\":[0,0,0,0,0,0,0,0,0,0],\"mems\":[0,0,0,0...</td>\n",
       "    </tr>\n",
       "    <tr>\n",
       "      <th>1</th>\n",
       "      <td>90ce27571176d87961b565d5ef4b3de33ede04ac</td>\n",
       "      <td>789454427dd4097a14749e3dde63346b7a8d3811</td>\n",
       "      <td>ed9eaeb6a707f50154024b24d7efcb874a9795dd</td>\n",
       "      <td>0</td>\n",
       "      <td>SCORE</td>\n",
       "      <td>0</td>\n",
       "      <td>100</td>\n",
       "      <td>it0012</td>\n",
       "      <td>10/9/2025 8:04</td>\n",
       "      <td>10/9/2025 8:04</td>\n",
       "      <td>{\"times\":[0,0,0,0,0,0,0,0,0,0],\"mems\":[0,0,0,0...</td>\n",
       "    </tr>\n",
       "    <tr>\n",
       "      <th>2</th>\n",
       "      <td>90ce27571176d87961b565d5ef4b3de33ede04ac</td>\n",
       "      <td>789454427dd4097a14749e3dde63346b7a8d3811</td>\n",
       "      <td>ed9eaeb6a707f50154024b24d7efcb874a9795dd</td>\n",
       "      <td>1</td>\n",
       "      <td>SCORE</td>\n",
       "      <td>10000</td>\n",
       "      <td>100</td>\n",
       "      <td>it0012</td>\n",
       "      <td>10/9/2025 8:06</td>\n",
       "      <td>10/9/2025 8:06</td>\n",
       "      <td>{\"times\":[0,0,0,0,0,0,0,0,0,0],\"mems\":[0,0,0,0...</td>\n",
       "    </tr>\n",
       "    <tr>\n",
       "      <th>3</th>\n",
       "      <td>90ce27571176d87961b565d5ef4b3de33ede04ac</td>\n",
       "      <td>bf96fbdc5f499538c3e2bfbec5779c8a14b0a9ff</td>\n",
       "      <td>ed9eaeb6a707f50154024b24d7efcb874a9795dd</td>\n",
       "      <td>1</td>\n",
       "      <td>SCORE</td>\n",
       "      <td>10000</td>\n",
       "      <td>100</td>\n",
       "      <td>it0012</td>\n",
       "      <td>10/9/2025 8:47</td>\n",
       "      <td>10/9/2025 8:48</td>\n",
       "      <td>{\"times\":[0,0,0,0,0,0,0,0,0,0],\"mems\":[0,0,0,0...</td>\n",
       "    </tr>\n",
       "    <tr>\n",
       "      <th>4</th>\n",
       "      <td>90ce27571176d87961b565d5ef4b3de33ede04ac</td>\n",
       "      <td>7a6e5ca470ff47c3b5048f240c4738de71010c78</td>\n",
       "      <td>ed9eaeb6a707f50154024b24d7efcb874a9795dd</td>\n",
       "      <td>1</td>\n",
       "      <td>SCORE</td>\n",
       "      <td>10000</td>\n",
       "      <td>100</td>\n",
       "      <td>it0012</td>\n",
       "      <td>10/9/2025 9:19</td>\n",
       "      <td>10/9/2025 9:19</td>\n",
       "      <td>{\"times\":[0,0,0,0,0,0,0,0,0,0],\"mems\":[0,0,0,0...</td>\n",
       "    </tr>\n",
       "    <tr>\n",
       "      <th>...</th>\n",
       "      <td>...</td>\n",
       "      <td>...</td>\n",
       "      <td>...</td>\n",
       "      <td>...</td>\n",
       "      <td>...</td>\n",
       "      <td>...</td>\n",
       "      <td>...</td>\n",
       "      <td>...</td>\n",
       "      <td>...</td>\n",
       "      <td>...</td>\n",
       "      <td>...</td>\n",
       "    </tr>\n",
       "    <tr>\n",
       "      <th>295193</th>\n",
       "      <td>613aea04c978f5e72fffc8bcff1f7b695a63f7b1</td>\n",
       "      <td>388516cbf597351226be1bdbe5ef30b9dcef570f</td>\n",
       "      <td>232cce96362898f08e9150ba244adaf2d6583ab2</td>\n",
       "      <td>1</td>\n",
       "      <td>SCORE</td>\n",
       "      <td>10000</td>\n",
       "      <td>100</td>\n",
       "      <td>it0012</td>\n",
       "      <td>1/15/2025 16:03</td>\n",
       "      <td>1/15/2025 16:03</td>\n",
       "      <td>{\"times\":[0,0,0,0,0,0,0,0,0,0,0,0,0,0],\"mems\":...</td>\n",
       "    </tr>\n",
       "    <tr>\n",
       "      <th>295194</th>\n",
       "      <td>613aea04c978f5e72fffc8bcff1f7b695a63f7b1</td>\n",
       "      <td>d2b96124ccb8e27b4b8dacdb935e729cb1ba546b</td>\n",
       "      <td>232cce96362898f08e9150ba244adaf2d6583ab2</td>\n",
       "      <td>0</td>\n",
       "      <td>Compilation Error</td>\n",
       "      <td>0</td>\n",
       "      <td>100</td>\n",
       "      <td>it0012</td>\n",
       "      <td>1/15/2025 16:04</td>\n",
       "      <td>1/15/2025 16:05</td>\n",
       "      <td>{\"times\":[],\"mems\":[],\"verdicts\":{\"\\n\\nIn func...</td>\n",
       "    </tr>\n",
       "    <tr>\n",
       "      <th>295195</th>\n",
       "      <td>613aea04c978f5e72fffc8bcff1f7b695a63f7b1</td>\n",
       "      <td>d2b96124ccb8e27b4b8dacdb935e729cb1ba546b</td>\n",
       "      <td>232cce96362898f08e9150ba244adaf2d6583ab2</td>\n",
       "      <td>1</td>\n",
       "      <td>SCORE</td>\n",
       "      <td>10000</td>\n",
       "      <td>100</td>\n",
       "      <td>it0012</td>\n",
       "      <td>1/15/2025 16:04</td>\n",
       "      <td>1/15/2025 16:05</td>\n",
       "      <td>{\"times\":[0,0,0,0,0,0,0,0,0,0,0,0,0,0],\"mems\":...</td>\n",
       "    </tr>\n",
       "    <tr>\n",
       "      <th>295196</th>\n",
       "      <td>613aea04c978f5e72fffc8bcff1f7b695a63f7b1</td>\n",
       "      <td>8c0f8dd4ff55e1609f733e043ac5e88b1dde6e7c</td>\n",
       "      <td>232cce96362898f08e9150ba244adaf2d6583ab2</td>\n",
       "      <td>1</td>\n",
       "      <td>SCORE</td>\n",
       "      <td>10000</td>\n",
       "      <td>100</td>\n",
       "      <td>it0012</td>\n",
       "      <td>1/15/2025 16:05</td>\n",
       "      <td>1/15/2025 16:05</td>\n",
       "      <td>{\"times\":[0,0,0,0,0,0,0,0,0,0,0,0,0],\"mems\":[0...</td>\n",
       "    </tr>\n",
       "    <tr>\n",
       "      <th>295197</th>\n",
       "      <td>613aea04c978f5e72fffc8bcff1f7b695a63f7b1</td>\n",
       "      <td>e1baec9d1d9af44372188067b55edfec747f1342</td>\n",
       "      <td>232cce96362898f08e9150ba244adaf2d6583ab2</td>\n",
       "      <td>1</td>\n",
       "      <td>SCORE</td>\n",
       "      <td>10000</td>\n",
       "      <td>100</td>\n",
       "      <td>it0012</td>\n",
       "      <td>1/15/2025 16:05</td>\n",
       "      <td>1/15/2025 16:05</td>\n",
       "      <td>{\"times\":[0,0,0,0,0,0,0,0,0,0,0,0,0,0],\"mems\":...</td>\n",
       "    </tr>\n",
       "  </tbody>\n",
       "</table>\n",
       "<p>295198 rows × 11 columns</p>\n",
       "</div>"
      ],
      "text/plain": [
       "                                   assignment_id  \\\n",
       "0       90ce27571176d87961b565d5ef4b3de33ede04ac   \n",
       "1       90ce27571176d87961b565d5ef4b3de33ede04ac   \n",
       "2       90ce27571176d87961b565d5ef4b3de33ede04ac   \n",
       "3       90ce27571176d87961b565d5ef4b3de33ede04ac   \n",
       "4       90ce27571176d87961b565d5ef4b3de33ede04ac   \n",
       "...                                          ...   \n",
       "295193  613aea04c978f5e72fffc8bcff1f7b695a63f7b1   \n",
       "295194  613aea04c978f5e72fffc8bcff1f7b695a63f7b1   \n",
       "295195  613aea04c978f5e72fffc8bcff1f7b695a63f7b1   \n",
       "295196  613aea04c978f5e72fffc8bcff1f7b695a63f7b1   \n",
       "295197  613aea04c978f5e72fffc8bcff1f7b695a63f7b1   \n",
       "\n",
       "                                      problem_id  \\\n",
       "0       789454427dd4097a14749e3dde63346b7a8d3811   \n",
       "1       789454427dd4097a14749e3dde63346b7a8d3811   \n",
       "2       789454427dd4097a14749e3dde63346b7a8d3811   \n",
       "3       bf96fbdc5f499538c3e2bfbec5779c8a14b0a9ff   \n",
       "4       7a6e5ca470ff47c3b5048f240c4738de71010c78   \n",
       "...                                          ...   \n",
       "295193  388516cbf597351226be1bdbe5ef30b9dcef570f   \n",
       "295194  d2b96124ccb8e27b4b8dacdb935e729cb1ba546b   \n",
       "295195  d2b96124ccb8e27b4b8dacdb935e729cb1ba546b   \n",
       "295196  8c0f8dd4ff55e1609f733e043ac5e88b1dde6e7c   \n",
       "295197  e1baec9d1d9af44372188067b55edfec747f1342   \n",
       "\n",
       "                                        username  is_final             status  \\\n",
       "0       ed9eaeb6a707f50154024b24d7efcb874a9795dd         0              SCORE   \n",
       "1       ed9eaeb6a707f50154024b24d7efcb874a9795dd         0              SCORE   \n",
       "2       ed9eaeb6a707f50154024b24d7efcb874a9795dd         1              SCORE   \n",
       "3       ed9eaeb6a707f50154024b24d7efcb874a9795dd         1              SCORE   \n",
       "4       ed9eaeb6a707f50154024b24d7efcb874a9795dd         1              SCORE   \n",
       "...                                          ...       ...                ...   \n",
       "295193  232cce96362898f08e9150ba244adaf2d6583ab2         1              SCORE   \n",
       "295194  232cce96362898f08e9150ba244adaf2d6583ab2         0  Compilation Error   \n",
       "295195  232cce96362898f08e9150ba244adaf2d6583ab2         1              SCORE   \n",
       "295196  232cce96362898f08e9150ba244adaf2d6583ab2         1              SCORE   \n",
       "295197  232cce96362898f08e9150ba244adaf2d6583ab2         1              SCORE   \n",
       "\n",
       "        pre_score  coefficient language_id       created_at       updated_at  \\\n",
       "0               0          100      it0012   10/9/2025 8:02   10/9/2025 8:06   \n",
       "1               0          100      it0012   10/9/2025 8:04   10/9/2025 8:04   \n",
       "2           10000          100      it0012   10/9/2025 8:06   10/9/2025 8:06   \n",
       "3           10000          100      it0012   10/9/2025 8:47   10/9/2025 8:48   \n",
       "4           10000          100      it0012   10/9/2025 9:19   10/9/2025 9:19   \n",
       "...           ...          ...         ...              ...              ...   \n",
       "295193      10000          100      it0012  1/15/2025 16:03  1/15/2025 16:03   \n",
       "295194          0          100      it0012  1/15/2025 16:04  1/15/2025 16:05   \n",
       "295195      10000          100      it0012  1/15/2025 16:04  1/15/2025 16:05   \n",
       "295196      10000          100      it0012  1/15/2025 16:05  1/15/2025 16:05   \n",
       "295197      10000          100      it0012  1/15/2025 16:05  1/15/2025 16:05   \n",
       "\n",
       "                                                judgement  \n",
       "0       {\"times\":[0,0,0,0,0,0,0,0,0,0],\"mems\":[0,0,0,0...  \n",
       "1       {\"times\":[0,0,0,0,0,0,0,0,0,0],\"mems\":[0,0,0,0...  \n",
       "2       {\"times\":[0,0,0,0,0,0,0,0,0,0],\"mems\":[0,0,0,0...  \n",
       "3       {\"times\":[0,0,0,0,0,0,0,0,0,0],\"mems\":[0,0,0,0...  \n",
       "4       {\"times\":[0,0,0,0,0,0,0,0,0,0],\"mems\":[0,0,0,0...  \n",
       "...                                                   ...  \n",
       "295193  {\"times\":[0,0,0,0,0,0,0,0,0,0,0,0,0,0],\"mems\":...  \n",
       "295194  {\"times\":[],\"mems\":[],\"verdicts\":{\"\\n\\nIn func...  \n",
       "295195  {\"times\":[0,0,0,0,0,0,0,0,0,0,0,0,0,0],\"mems\":...  \n",
       "295196  {\"times\":[0,0,0,0,0,0,0,0,0,0,0,0,0],\"mems\":[0...  \n",
       "295197  {\"times\":[0,0,0,0,0,0,0,0,0,0,0,0,0,0],\"mems\":...  \n",
       "\n",
       "[295198 rows x 11 columns]"
      ]
     },
     "execution_count": 319,
     "metadata": {},
     "output_type": "execute_result"
    }
   ],
   "source": [
    "annonimized"
   ]
  },
  {
   "cell_type": "code",
   "execution_count": 320,
   "metadata": {},
   "outputs": [
    {
     "name": "stdout",
     "output_type": "stream",
     "text": [
      "['SCORE' 'Compilation Error' 'pending' 'Syntax Error']\n"
     ]
    }
   ],
   "source": [
    "print(annonimized['status'].unique())"
   ]
  },
  {
   "cell_type": "code",
   "execution_count": 321,
   "metadata": {},
   "outputs": [],
   "source": [
    "import json\n",
    "\n",
    "def extract_judgement_features(df):\n",
    "    # Parse cột judgement thành dict với kiểm tra ngoại lệ\n",
    "    def safe_json_loads(j):\n",
    "        try:\n",
    "            return json.loads(j) if isinstance(j, str) else {}\n",
    "        except json.JSONDecodeError:\n",
    "            return {}\n",
    "\n",
    "    # Chuyển cột judgement sang dạng dict\n",
    "    df['judgement_parsed'] = df['judgement'].apply(safe_json_loads)\n",
    "\n",
    "    # Kiểm tra kiểu của verdicts và xử lý\n",
    "    def extract_verdicts(verdicts):\n",
    "        if isinstance(verdicts, dict):\n",
    "            return verdicts.get('WRONG', 0)  # Trả về số test case sai\n",
    "        return 0  # Nếu không phải dict, mặc định là không có lỗi\n",
    "\n",
    "    df['verdicts'] = df['judgement_parsed'].apply(lambda x: x.get('verdicts', {}) if isinstance(x, dict) else {})\n",
    "    # Số test case sai (nếu có)\n",
    "    df['wrong_testcases'] = df['verdicts'].apply(extract_verdicts)\n",
    "\n",
    "    return df\n"
   ]
  },
  {
   "cell_type": "code",
   "execution_count": 322,
   "metadata": {},
   "outputs": [],
   "source": [
    "from datetime import datetime\n",
    "\n",
    "# Hàm chuyển đổi thời gian với ngày tham chiếu\n",
    "reference_date = datetime(2024, 1, 1)\n",
    "\n",
    "# Chuyển đổi 'created_at' và 'updated_at' thành ordinal\n",
    "annonimized['created_at'] = pd.to_datetime(annonimized['created_at'], errors='coerce')\n",
    "annonimized['updated_at'] = pd.to_datetime(annonimized['updated_at'], errors='coerce')\n",
    "annonimized['created_at_ordinal'] = (annonimized['created_at'] - reference_date).dt.days\n",
    "annonimized['updated_at_ordinal'] = (annonimized['updated_at'] - reference_date).dt.days\n",
    "\n",
    "# Đặc trưng hoạt động theo giờ\n",
    "annonimized['hour'] = annonimized['created_at'].dt.hour\n",
    "hourly_activity = annonimized.groupby(['username', 'assignment_id', 'problem_id'])['hour'].value_counts().unstack(fill_value=0).reset_index()\n",
    "annonimized['submission_time_diff'] = annonimized.groupby(['username', 'assignment_id', 'problem_id'])['created_at'].diff().dt.total_seconds()\n",
    "\n",
    "# Label encoding cho cột 'status'\n",
    "label_encoder = LabelEncoder()\n",
    "\n",
    "# Thêm các đặc trưng tổng hợp\n",
    "annonimized['status_encoded'] = label_encoder.fit_transform(annonimized['status'])\n",
    "## Đếm status 'SCORE'\n",
    "annonimized['score_status'] = annonimized['status'].apply(lambda x: 1 if x == 'SCORE' else 0)\n",
    "\n",
    "annonimized['duplicate_count'] = annonimized.groupby(['username', 'assignment_id', 'problem_id'])['is_final'].transform('count')\n",
    "\n",
    "## Tính điểm trung bình và điểm trung bình trên mỗi lần nộp\n",
    "annonimized['avg_pre_score'] = annonimized.groupby(['username', 'assignment_id', 'problem_id'])['pre_score'].transform('mean')\n",
    "annonimized['score_per_submission'] = annonimized['avg_pre_score'] / (annonimized['duplicate_count'] + 1e-5)  # Tránh chia cho 0\n",
    "## Tính tỉ lệ hoàn\n",
    "annonimized['is_final'] = annonimized.groupby(\n",
    "    ['username', 'assignment_id', 'problem_id'])['is_final'].transform(lambda x: (x == 1))\n",
    "annonimized['is_final_ratio'] = annonimized['is_final'] / annonimized['duplicate_count']\n",
    "\n",
    "annonimized = extract_judgement_features(annonimized)\n",
    "\n",
    "annonimized = annonimized.groupby(['username']).agg({\n",
    "    'created_at_ordinal': 'mean',\n",
    "    'updated_at_ordinal': 'mean',\n",
    "    'hour': 'mean',\n",
    "    'submission_time_diff': 'mean',\n",
    "    'status_encoded': 'mean',\n",
    "    'score_status': 'count',\n",
    "    'avg_pre_score': 'mean',\n",
    "    'score_per_submission': 'mean',\n",
    "    'duplicate_count': 'mean',\n",
    "    'is_final': 'mean',\n",
    "    'is_final_ratio': 'mean',\n",
    "    'wrong_testcases': 'mean',\n",
    "}).reset_index()\n",
    "\n",
    "# Nhóm và tổng hợp các đặc trưng\n",
    "features = ['username','created_at_ordinal', 'updated_at_ordinal', 'hour', 'submission_time_diff',\n",
    "            'status_encoded', 'score_status', 'avg_pre_score', 'score_per_submission',\n",
    "            'duplicate_count', 'is_final', 'is_final_ratio', 'wrong_testcases']\n",
    "\n",
    "features_nouser = ['created_at_ordinal', 'updated_at_ordinal', 'hour', 'submission_time_diff',\n",
    "                   'status_encoded', 'score_status', 'avg_pre_score', 'score_per_submission',\n",
    "                   'duplicate_count', 'is_final', 'is_final_ratio', 'wrong_testcases']\n",
    "\n",
    "\n",
    "annonimized = annonimized[features]\n"
   ]
  },
  {
   "cell_type": "code",
   "execution_count": 323,
   "metadata": {},
   "outputs": [
    {
     "name": "stdout",
     "output_type": "stream",
     "text": [
      "username                 object\n",
      "created_at_ordinal      float64\n",
      "updated_at_ordinal      float64\n",
      "hour                    float64\n",
      "submission_time_diff    float64\n",
      "status_encoded          float64\n",
      "score_status              int64\n",
      "avg_pre_score           float64\n",
      "score_per_submission    float64\n",
      "duplicate_count         float64\n",
      "is_final                float64\n",
      "is_final_ratio          float64\n",
      "wrong_testcases         float64\n",
      "dtype: object\n"
     ]
    }
   ],
   "source": [
    "print(annonimized.dtypes)"
   ]
  },
  {
   "cell_type": "code",
   "execution_count": 324,
   "metadata": {},
   "outputs": [
    {
     "data": {
      "text/html": [
       "<div>\n",
       "<style scoped>\n",
       "    .dataframe tbody tr th:only-of-type {\n",
       "        vertical-align: middle;\n",
       "    }\n",
       "\n",
       "    .dataframe tbody tr th {\n",
       "        vertical-align: top;\n",
       "    }\n",
       "\n",
       "    .dataframe thead th {\n",
       "        text-align: right;\n",
       "    }\n",
       "</style>\n",
       "<table border=\"1\" class=\"dataframe\">\n",
       "  <thead>\n",
       "    <tr style=\"text-align: right;\">\n",
       "      <th></th>\n",
       "      <th>username</th>\n",
       "      <th>created_at_ordinal</th>\n",
       "      <th>updated_at_ordinal</th>\n",
       "      <th>hour</th>\n",
       "      <th>submission_time_diff</th>\n",
       "      <th>status_encoded</th>\n",
       "      <th>score_status</th>\n",
       "      <th>avg_pre_score</th>\n",
       "      <th>score_per_submission</th>\n",
       "      <th>duplicate_count</th>\n",
       "      <th>is_final</th>\n",
       "      <th>is_final_ratio</th>\n",
       "      <th>wrong_testcases</th>\n",
       "    </tr>\n",
       "  </thead>\n",
       "  <tbody>\n",
       "    <tr>\n",
       "      <th>0</th>\n",
       "      <td>00b6dd4fc7eb817e03708c532016ef30ce564a61</td>\n",
       "      <td>578.557823</td>\n",
       "      <td>578.646259</td>\n",
       "      <td>4.401361</td>\n",
       "      <td>11078.400000</td>\n",
       "      <td>0.809524</td>\n",
       "      <td>147</td>\n",
       "      <td>5504.149660</td>\n",
       "      <td>2259.713951</td>\n",
       "      <td>5.136054</td>\n",
       "      <td>0.312925</td>\n",
       "      <td>0.176385</td>\n",
       "      <td>3.006803</td>\n",
       "    </tr>\n",
       "    <tr>\n",
       "      <th>1</th>\n",
       "      <td>00bef8afee8f3c595d535c9c03c490cac1a4f021</td>\n",
       "      <td>610.610039</td>\n",
       "      <td>607.899614</td>\n",
       "      <td>10.525097</td>\n",
       "      <td>-318927.182320</td>\n",
       "      <td>0.806950</td>\n",
       "      <td>259</td>\n",
       "      <td>5488.552124</td>\n",
       "      <td>2123.820551</td>\n",
       "      <td>6.158301</td>\n",
       "      <td>0.301158</td>\n",
       "      <td>0.164760</td>\n",
       "      <td>1.918919</td>\n",
       "    </tr>\n",
       "    <tr>\n",
       "      <th>2</th>\n",
       "      <td>01122b3ef7e59b84189e65985305f575d6bdf83c</td>\n",
       "      <td>647.066667</td>\n",
       "      <td>645.871795</td>\n",
       "      <td>10.964103</td>\n",
       "      <td>-158156.692913</td>\n",
       "      <td>0.897436</td>\n",
       "      <td>195</td>\n",
       "      <td>5973.753846</td>\n",
       "      <td>2763.648500</td>\n",
       "      <td>9.328205</td>\n",
       "      <td>0.343590</td>\n",
       "      <td>0.254971</td>\n",
       "      <td>4.615385</td>\n",
       "    </tr>\n",
       "    <tr>\n",
       "      <th>3</th>\n",
       "      <td>0134f9f410c65ad0e8c2254a7e9288670e02a183</td>\n",
       "      <td>485.800000</td>\n",
       "      <td>485.820000</td>\n",
       "      <td>8.610000</td>\n",
       "      <td>2893.584906</td>\n",
       "      <td>0.760000</td>\n",
       "      <td>100</td>\n",
       "      <td>5952.760000</td>\n",
       "      <td>3822.479276</td>\n",
       "      <td>4.160000</td>\n",
       "      <td>0.470000</td>\n",
       "      <td>0.342854</td>\n",
       "      <td>1.640000</td>\n",
       "    </tr>\n",
       "    <tr>\n",
       "      <th>4</th>\n",
       "      <td>013de369c439ab0ead8aa7da64423aa395a8be39</td>\n",
       "      <td>616.336449</td>\n",
       "      <td>616.336449</td>\n",
       "      <td>8.598131</td>\n",
       "      <td>1628.780488</td>\n",
       "      <td>0.878505</td>\n",
       "      <td>107</td>\n",
       "      <td>6474.448598</td>\n",
       "      <td>5097.940025</td>\n",
       "      <td>2.794393</td>\n",
       "      <td>0.616822</td>\n",
       "      <td>0.514123</td>\n",
       "      <td>1.691589</td>\n",
       "    </tr>\n",
       "    <tr>\n",
       "      <th>...</th>\n",
       "      <td>...</td>\n",
       "      <td>...</td>\n",
       "      <td>...</td>\n",
       "      <td>...</td>\n",
       "      <td>...</td>\n",
       "      <td>...</td>\n",
       "      <td>...</td>\n",
       "      <td>...</td>\n",
       "      <td>...</td>\n",
       "      <td>...</td>\n",
       "      <td>...</td>\n",
       "      <td>...</td>\n",
       "      <td>...</td>\n",
       "    </tr>\n",
       "    <tr>\n",
       "      <th>1484</th>\n",
       "      <td>feb8a2859a011c59efd22ed419cb69288fe03627</td>\n",
       "      <td>527.918919</td>\n",
       "      <td>527.918919</td>\n",
       "      <td>9.351351</td>\n",
       "      <td>2779.500000</td>\n",
       "      <td>0.959459</td>\n",
       "      <td>74</td>\n",
       "      <td>5581.081081</td>\n",
       "      <td>3623.092731</td>\n",
       "      <td>3.783784</td>\n",
       "      <td>0.459459</td>\n",
       "      <td>0.330556</td>\n",
       "      <td>0.432432</td>\n",
       "    </tr>\n",
       "    <tr>\n",
       "      <th>1485</th>\n",
       "      <td>fef4a3263ed9a8ab14d457694bb8fd86ccd98312</td>\n",
       "      <td>559.823077</td>\n",
       "      <td>559.923077</td>\n",
       "      <td>7.046154</td>\n",
       "      <td>20111.868132</td>\n",
       "      <td>0.830769</td>\n",
       "      <td>260</td>\n",
       "      <td>6204.557692</td>\n",
       "      <td>2311.415284</td>\n",
       "      <td>7.384615</td>\n",
       "      <td>0.300000</td>\n",
       "      <td>0.187174</td>\n",
       "      <td>2.430769</td>\n",
       "    </tr>\n",
       "    <tr>\n",
       "      <th>1486</th>\n",
       "      <td>ff12d6e2ab80696ed8e22fbe5497e96c68d29076</td>\n",
       "      <td>613.553776</td>\n",
       "      <td>612.260870</td>\n",
       "      <td>11.080092</td>\n",
       "      <td>-161812.095808</td>\n",
       "      <td>0.823799</td>\n",
       "      <td>437</td>\n",
       "      <td>4998.466819</td>\n",
       "      <td>1645.928413</td>\n",
       "      <td>12.643021</td>\n",
       "      <td>0.235698</td>\n",
       "      <td>0.139189</td>\n",
       "      <td>3.073227</td>\n",
       "    </tr>\n",
       "    <tr>\n",
       "      <th>1487</th>\n",
       "      <td>ff3fa2ec64294f37ae968159f810ebeda7966c51</td>\n",
       "      <td>615.521277</td>\n",
       "      <td>615.627660</td>\n",
       "      <td>10.691489</td>\n",
       "      <td>15149.000000</td>\n",
       "      <td>0.787234</td>\n",
       "      <td>94</td>\n",
       "      <td>4343.329787</td>\n",
       "      <td>2249.761646</td>\n",
       "      <td>4.808511</td>\n",
       "      <td>0.361702</td>\n",
       "      <td>0.219710</td>\n",
       "      <td>4.212766</td>\n",
       "    </tr>\n",
       "    <tr>\n",
       "      <th>1488</th>\n",
       "      <td>ffe872165621d735a48bb5db0c71dd5195cba359</td>\n",
       "      <td>635.644110</td>\n",
       "      <td>634.751880</td>\n",
       "      <td>11.676692</td>\n",
       "      <td>-190780.594059</td>\n",
       "      <td>0.879699</td>\n",
       "      <td>399</td>\n",
       "      <td>6353.769424</td>\n",
       "      <td>1800.672035</td>\n",
       "      <td>11.731830</td>\n",
       "      <td>0.240602</td>\n",
       "      <td>0.133682</td>\n",
       "      <td>2.157895</td>\n",
       "    </tr>\n",
       "  </tbody>\n",
       "</table>\n",
       "<p>1489 rows × 13 columns</p>\n",
       "</div>"
      ],
      "text/plain": [
       "                                      username  created_at_ordinal  \\\n",
       "0     00b6dd4fc7eb817e03708c532016ef30ce564a61          578.557823   \n",
       "1     00bef8afee8f3c595d535c9c03c490cac1a4f021          610.610039   \n",
       "2     01122b3ef7e59b84189e65985305f575d6bdf83c          647.066667   \n",
       "3     0134f9f410c65ad0e8c2254a7e9288670e02a183          485.800000   \n",
       "4     013de369c439ab0ead8aa7da64423aa395a8be39          616.336449   \n",
       "...                                        ...                 ...   \n",
       "1484  feb8a2859a011c59efd22ed419cb69288fe03627          527.918919   \n",
       "1485  fef4a3263ed9a8ab14d457694bb8fd86ccd98312          559.823077   \n",
       "1486  ff12d6e2ab80696ed8e22fbe5497e96c68d29076          613.553776   \n",
       "1487  ff3fa2ec64294f37ae968159f810ebeda7966c51          615.521277   \n",
       "1488  ffe872165621d735a48bb5db0c71dd5195cba359          635.644110   \n",
       "\n",
       "      updated_at_ordinal       hour  submission_time_diff  status_encoded  \\\n",
       "0             578.646259   4.401361          11078.400000        0.809524   \n",
       "1             607.899614  10.525097        -318927.182320        0.806950   \n",
       "2             645.871795  10.964103        -158156.692913        0.897436   \n",
       "3             485.820000   8.610000           2893.584906        0.760000   \n",
       "4             616.336449   8.598131           1628.780488        0.878505   \n",
       "...                  ...        ...                   ...             ...   \n",
       "1484          527.918919   9.351351           2779.500000        0.959459   \n",
       "1485          559.923077   7.046154          20111.868132        0.830769   \n",
       "1486          612.260870  11.080092        -161812.095808        0.823799   \n",
       "1487          615.627660  10.691489          15149.000000        0.787234   \n",
       "1488          634.751880  11.676692        -190780.594059        0.879699   \n",
       "\n",
       "      score_status  avg_pre_score  score_per_submission  duplicate_count  \\\n",
       "0              147    5504.149660           2259.713951         5.136054   \n",
       "1              259    5488.552124           2123.820551         6.158301   \n",
       "2              195    5973.753846           2763.648500         9.328205   \n",
       "3              100    5952.760000           3822.479276         4.160000   \n",
       "4              107    6474.448598           5097.940025         2.794393   \n",
       "...            ...            ...                   ...              ...   \n",
       "1484            74    5581.081081           3623.092731         3.783784   \n",
       "1485           260    6204.557692           2311.415284         7.384615   \n",
       "1486           437    4998.466819           1645.928413        12.643021   \n",
       "1487            94    4343.329787           2249.761646         4.808511   \n",
       "1488           399    6353.769424           1800.672035        11.731830   \n",
       "\n",
       "      is_final  is_final_ratio  wrong_testcases  \n",
       "0     0.312925        0.176385         3.006803  \n",
       "1     0.301158        0.164760         1.918919  \n",
       "2     0.343590        0.254971         4.615385  \n",
       "3     0.470000        0.342854         1.640000  \n",
       "4     0.616822        0.514123         1.691589  \n",
       "...        ...             ...              ...  \n",
       "1484  0.459459        0.330556         0.432432  \n",
       "1485  0.300000        0.187174         2.430769  \n",
       "1486  0.235698        0.139189         3.073227  \n",
       "1487  0.361702        0.219710         4.212766  \n",
       "1488  0.240602        0.133682         2.157895  \n",
       "\n",
       "[1489 rows x 13 columns]"
      ]
     },
     "execution_count": 324,
     "metadata": {},
     "output_type": "execute_result"
    }
   ],
   "source": [
    "annonimized"
   ]
  },
  {
   "cell_type": "code",
   "execution_count": 325,
   "metadata": {},
   "outputs": [],
   "source": [
    "# Huấn luyện và đánh giá mô hình\n",
    "models = {\n",
    "    'LinearRegression': LinearRegression(),\n",
    "    # 'RandomForest': RandomForestRegressor(random_state=42),\n",
    "    # 'lgbm': LGBMRegressor(random_state=42),\n",
    "    # 'hist_gbr': HistGradientBoostingRegressor(random_state=42),\n",
    "}"
   ]
  },
  {
   "cell_type": "markdown",
   "metadata": {},
   "source": [
    "## data TBTL"
   ]
  },
  {
   "cell_type": "code",
   "execution_count": 326,
   "metadata": {},
   "outputs": [],
   "source": [
    "# Merge dữ liệu bằng username từ annonimized và tbtl\n",
    "data_tbtl = annonimized.merge(tbtl, on=\"username\", how=\"left\")"
   ]
  },
  {
   "cell_type": "code",
   "execution_count": 327,
   "metadata": {},
   "outputs": [
    {
     "data": {
      "text/html": [
       "<div>\n",
       "<style scoped>\n",
       "    .dataframe tbody tr th:only-of-type {\n",
       "        vertical-align: middle;\n",
       "    }\n",
       "\n",
       "    .dataframe tbody tr th {\n",
       "        vertical-align: top;\n",
       "    }\n",
       "\n",
       "    .dataframe thead th {\n",
       "        text-align: right;\n",
       "    }\n",
       "</style>\n",
       "<table border=\"1\" class=\"dataframe\">\n",
       "  <thead>\n",
       "    <tr style=\"text-align: right;\">\n",
       "      <th></th>\n",
       "      <th>username</th>\n",
       "      <th>created_at_ordinal</th>\n",
       "      <th>updated_at_ordinal</th>\n",
       "      <th>hour</th>\n",
       "      <th>submission_time_diff</th>\n",
       "      <th>status_encoded</th>\n",
       "      <th>score_status</th>\n",
       "      <th>avg_pre_score</th>\n",
       "      <th>score_per_submission</th>\n",
       "      <th>duplicate_count</th>\n",
       "      <th>is_final</th>\n",
       "      <th>is_final_ratio</th>\n",
       "      <th>wrong_testcases</th>\n",
       "      <th>TBTL</th>\n",
       "    </tr>\n",
       "  </thead>\n",
       "  <tbody>\n",
       "    <tr>\n",
       "      <th>0</th>\n",
       "      <td>00b6dd4fc7eb817e03708c532016ef30ce564a61</td>\n",
       "      <td>578.557823</td>\n",
       "      <td>578.646259</td>\n",
       "      <td>4.401361</td>\n",
       "      <td>11078.400000</td>\n",
       "      <td>0.809524</td>\n",
       "      <td>147</td>\n",
       "      <td>5504.149660</td>\n",
       "      <td>2259.713951</td>\n",
       "      <td>5.136054</td>\n",
       "      <td>0.312925</td>\n",
       "      <td>0.176385</td>\n",
       "      <td>3.006803</td>\n",
       "      <td>7.24</td>\n",
       "    </tr>\n",
       "    <tr>\n",
       "      <th>1</th>\n",
       "      <td>00bef8afee8f3c595d535c9c03c490cac1a4f021</td>\n",
       "      <td>610.610039</td>\n",
       "      <td>607.899614</td>\n",
       "      <td>10.525097</td>\n",
       "      <td>-318927.182320</td>\n",
       "      <td>0.806950</td>\n",
       "      <td>259</td>\n",
       "      <td>5488.552124</td>\n",
       "      <td>2123.820551</td>\n",
       "      <td>6.158301</td>\n",
       "      <td>0.301158</td>\n",
       "      <td>0.164760</td>\n",
       "      <td>1.918919</td>\n",
       "      <td>8.11</td>\n",
       "    </tr>\n",
       "    <tr>\n",
       "      <th>2</th>\n",
       "      <td>01122b3ef7e59b84189e65985305f575d6bdf83c</td>\n",
       "      <td>647.066667</td>\n",
       "      <td>645.871795</td>\n",
       "      <td>10.964103</td>\n",
       "      <td>-158156.692913</td>\n",
       "      <td>0.897436</td>\n",
       "      <td>195</td>\n",
       "      <td>5973.753846</td>\n",
       "      <td>2763.648500</td>\n",
       "      <td>9.328205</td>\n",
       "      <td>0.343590</td>\n",
       "      <td>0.254971</td>\n",
       "      <td>4.615385</td>\n",
       "      <td>7.30</td>\n",
       "    </tr>\n",
       "    <tr>\n",
       "      <th>3</th>\n",
       "      <td>0134f9f410c65ad0e8c2254a7e9288670e02a183</td>\n",
       "      <td>485.800000</td>\n",
       "      <td>485.820000</td>\n",
       "      <td>8.610000</td>\n",
       "      <td>2893.584906</td>\n",
       "      <td>0.760000</td>\n",
       "      <td>100</td>\n",
       "      <td>5952.760000</td>\n",
       "      <td>3822.479276</td>\n",
       "      <td>4.160000</td>\n",
       "      <td>0.470000</td>\n",
       "      <td>0.342854</td>\n",
       "      <td>1.640000</td>\n",
       "      <td>8.63</td>\n",
       "    </tr>\n",
       "    <tr>\n",
       "      <th>4</th>\n",
       "      <td>013de369c439ab0ead8aa7da64423aa395a8be39</td>\n",
       "      <td>616.336449</td>\n",
       "      <td>616.336449</td>\n",
       "      <td>8.598131</td>\n",
       "      <td>1628.780488</td>\n",
       "      <td>0.878505</td>\n",
       "      <td>107</td>\n",
       "      <td>6474.448598</td>\n",
       "      <td>5097.940025</td>\n",
       "      <td>2.794393</td>\n",
       "      <td>0.616822</td>\n",
       "      <td>0.514123</td>\n",
       "      <td>1.691589</td>\n",
       "      <td>8.20</td>\n",
       "    </tr>\n",
       "    <tr>\n",
       "      <th>...</th>\n",
       "      <td>...</td>\n",
       "      <td>...</td>\n",
       "      <td>...</td>\n",
       "      <td>...</td>\n",
       "      <td>...</td>\n",
       "      <td>...</td>\n",
       "      <td>...</td>\n",
       "      <td>...</td>\n",
       "      <td>...</td>\n",
       "      <td>...</td>\n",
       "      <td>...</td>\n",
       "      <td>...</td>\n",
       "      <td>...</td>\n",
       "      <td>...</td>\n",
       "    </tr>\n",
       "    <tr>\n",
       "      <th>1484</th>\n",
       "      <td>feb8a2859a011c59efd22ed419cb69288fe03627</td>\n",
       "      <td>527.918919</td>\n",
       "      <td>527.918919</td>\n",
       "      <td>9.351351</td>\n",
       "      <td>2779.500000</td>\n",
       "      <td>0.959459</td>\n",
       "      <td>74</td>\n",
       "      <td>5581.081081</td>\n",
       "      <td>3623.092731</td>\n",
       "      <td>3.783784</td>\n",
       "      <td>0.459459</td>\n",
       "      <td>0.330556</td>\n",
       "      <td>0.432432</td>\n",
       "      <td>NaN</td>\n",
       "    </tr>\n",
       "    <tr>\n",
       "      <th>1485</th>\n",
       "      <td>fef4a3263ed9a8ab14d457694bb8fd86ccd98312</td>\n",
       "      <td>559.823077</td>\n",
       "      <td>559.923077</td>\n",
       "      <td>7.046154</td>\n",
       "      <td>20111.868132</td>\n",
       "      <td>0.830769</td>\n",
       "      <td>260</td>\n",
       "      <td>6204.557692</td>\n",
       "      <td>2311.415284</td>\n",
       "      <td>7.384615</td>\n",
       "      <td>0.300000</td>\n",
       "      <td>0.187174</td>\n",
       "      <td>2.430769</td>\n",
       "      <td>NaN</td>\n",
       "    </tr>\n",
       "    <tr>\n",
       "      <th>1486</th>\n",
       "      <td>ff12d6e2ab80696ed8e22fbe5497e96c68d29076</td>\n",
       "      <td>613.553776</td>\n",
       "      <td>612.260870</td>\n",
       "      <td>11.080092</td>\n",
       "      <td>-161812.095808</td>\n",
       "      <td>0.823799</td>\n",
       "      <td>437</td>\n",
       "      <td>4998.466819</td>\n",
       "      <td>1645.928413</td>\n",
       "      <td>12.643021</td>\n",
       "      <td>0.235698</td>\n",
       "      <td>0.139189</td>\n",
       "      <td>3.073227</td>\n",
       "      <td>NaN</td>\n",
       "    </tr>\n",
       "    <tr>\n",
       "      <th>1487</th>\n",
       "      <td>ff3fa2ec64294f37ae968159f810ebeda7966c51</td>\n",
       "      <td>615.521277</td>\n",
       "      <td>615.627660</td>\n",
       "      <td>10.691489</td>\n",
       "      <td>15149.000000</td>\n",
       "      <td>0.787234</td>\n",
       "      <td>94</td>\n",
       "      <td>4343.329787</td>\n",
       "      <td>2249.761646</td>\n",
       "      <td>4.808511</td>\n",
       "      <td>0.361702</td>\n",
       "      <td>0.219710</td>\n",
       "      <td>4.212766</td>\n",
       "      <td>NaN</td>\n",
       "    </tr>\n",
       "    <tr>\n",
       "      <th>1488</th>\n",
       "      <td>ffe872165621d735a48bb5db0c71dd5195cba359</td>\n",
       "      <td>635.644110</td>\n",
       "      <td>634.751880</td>\n",
       "      <td>11.676692</td>\n",
       "      <td>-190780.594059</td>\n",
       "      <td>0.879699</td>\n",
       "      <td>399</td>\n",
       "      <td>6353.769424</td>\n",
       "      <td>1800.672035</td>\n",
       "      <td>11.731830</td>\n",
       "      <td>0.240602</td>\n",
       "      <td>0.133682</td>\n",
       "      <td>2.157895</td>\n",
       "      <td>NaN</td>\n",
       "    </tr>\n",
       "  </tbody>\n",
       "</table>\n",
       "<p>1489 rows × 14 columns</p>\n",
       "</div>"
      ],
      "text/plain": [
       "                                      username  created_at_ordinal  \\\n",
       "0     00b6dd4fc7eb817e03708c532016ef30ce564a61          578.557823   \n",
       "1     00bef8afee8f3c595d535c9c03c490cac1a4f021          610.610039   \n",
       "2     01122b3ef7e59b84189e65985305f575d6bdf83c          647.066667   \n",
       "3     0134f9f410c65ad0e8c2254a7e9288670e02a183          485.800000   \n",
       "4     013de369c439ab0ead8aa7da64423aa395a8be39          616.336449   \n",
       "...                                        ...                 ...   \n",
       "1484  feb8a2859a011c59efd22ed419cb69288fe03627          527.918919   \n",
       "1485  fef4a3263ed9a8ab14d457694bb8fd86ccd98312          559.823077   \n",
       "1486  ff12d6e2ab80696ed8e22fbe5497e96c68d29076          613.553776   \n",
       "1487  ff3fa2ec64294f37ae968159f810ebeda7966c51          615.521277   \n",
       "1488  ffe872165621d735a48bb5db0c71dd5195cba359          635.644110   \n",
       "\n",
       "      updated_at_ordinal       hour  submission_time_diff  status_encoded  \\\n",
       "0             578.646259   4.401361          11078.400000        0.809524   \n",
       "1             607.899614  10.525097        -318927.182320        0.806950   \n",
       "2             645.871795  10.964103        -158156.692913        0.897436   \n",
       "3             485.820000   8.610000           2893.584906        0.760000   \n",
       "4             616.336449   8.598131           1628.780488        0.878505   \n",
       "...                  ...        ...                   ...             ...   \n",
       "1484          527.918919   9.351351           2779.500000        0.959459   \n",
       "1485          559.923077   7.046154          20111.868132        0.830769   \n",
       "1486          612.260870  11.080092        -161812.095808        0.823799   \n",
       "1487          615.627660  10.691489          15149.000000        0.787234   \n",
       "1488          634.751880  11.676692        -190780.594059        0.879699   \n",
       "\n",
       "      score_status  avg_pre_score  score_per_submission  duplicate_count  \\\n",
       "0              147    5504.149660           2259.713951         5.136054   \n",
       "1              259    5488.552124           2123.820551         6.158301   \n",
       "2              195    5973.753846           2763.648500         9.328205   \n",
       "3              100    5952.760000           3822.479276         4.160000   \n",
       "4              107    6474.448598           5097.940025         2.794393   \n",
       "...            ...            ...                   ...              ...   \n",
       "1484            74    5581.081081           3623.092731         3.783784   \n",
       "1485           260    6204.557692           2311.415284         7.384615   \n",
       "1486           437    4998.466819           1645.928413        12.643021   \n",
       "1487            94    4343.329787           2249.761646         4.808511   \n",
       "1488           399    6353.769424           1800.672035        11.731830   \n",
       "\n",
       "      is_final  is_final_ratio  wrong_testcases  TBTL  \n",
       "0     0.312925        0.176385         3.006803  7.24  \n",
       "1     0.301158        0.164760         1.918919  8.11  \n",
       "2     0.343590        0.254971         4.615385  7.30  \n",
       "3     0.470000        0.342854         1.640000  8.63  \n",
       "4     0.616822        0.514123         1.691589  8.20  \n",
       "...        ...             ...              ...   ...  \n",
       "1484  0.459459        0.330556         0.432432   NaN  \n",
       "1485  0.300000        0.187174         2.430769   NaN  \n",
       "1486  0.235698        0.139189         3.073227   NaN  \n",
       "1487  0.361702        0.219710         4.212766   NaN  \n",
       "1488  0.240602        0.133682         2.157895   NaN  \n",
       "\n",
       "[1489 rows x 14 columns]"
      ]
     },
     "execution_count": 327,
     "metadata": {},
     "output_type": "execute_result"
    }
   ],
   "source": [
    "data_tbtl"
   ]
  },
  {
   "cell_type": "code",
   "execution_count": 328,
   "metadata": {},
   "outputs": [
    {
     "name": "stdout",
     "output_type": "stream",
     "text": [
      "Số lượng sinh viên có điểm (train): 799\n",
      "Số lượng sinh viên cần dự đoán: 690\n"
     ]
    }
   ],
   "source": [
    "# Phân tách dữ liệu\n",
    "train_test_data_tbtl = data_tbtl[data_tbtl['TBTL'].notna()]  # Sinh viên có điểm dùng để train\n",
    "predict_data_tbtl = data_tbtl[data_tbtl['TBTL'].isna()]  # Sinh viên không có điểm dùng để dự đoán\n",
    "\n",
    "# In số lượng\n",
    "print(f\"Số lượng sinh viên có điểm (train): {train_test_data_tbtl.shape[0]}\")\n",
    "print(f\"Số lượng sinh viên cần dự đoán: {predict_data_tbtl.shape[0]}\")"
   ]
  },
  {
   "cell_type": "markdown",
   "metadata": {},
   "source": [
    "### Train test data tbtl"
   ]
  },
  {
   "cell_type": "code",
   "execution_count": 329,
   "metadata": {},
   "outputs": [],
   "source": [
    "X_train_test_data_tbtl = train_test_data_tbtl[features_nouser]\n",
    "y_train_test_data_tbtl = train_test_data_tbtl['TBTL']"
   ]
  },
  {
   "cell_type": "code",
   "execution_count": 330,
   "metadata": {},
   "outputs": [
    {
     "name": "stdout",
     "output_type": "stream",
     "text": [
      "Các cột chứa NaN: ['submission_time_diff']\n",
      "Số lượng NaN trong mỗi cột:\n",
      "submission_time_diff    13\n",
      "dtype: int64\n"
     ]
    },
    {
     "name": "stderr",
     "output_type": "stream",
     "text": [
      "C:\\Users\\Admin\\AppData\\Local\\Temp\\ipykernel_10232\\807125407.py:6: SettingWithCopyWarning: \n",
      "A value is trying to be set on a copy of a slice from a DataFrame.\n",
      "Try using .loc[row_indexer,col_indexer] = value instead\n",
      "\n",
      "See the caveats in the documentation: https://pandas.pydata.org/pandas-docs/stable/user_guide/indexing.html#returning-a-view-versus-a-copy\n",
      "  X_train_test_data_tbtl[nan_columns] = X_train_test_data_tbtl[nan_columns].fillna(X_train_test_data_tbtl[nan_columns].mean())\n"
     ]
    }
   ],
   "source": [
    "nan_columns = X_train_test_data_tbtl.columns[X_train_test_data_tbtl.isna().any()]\n",
    "print(f\"Các cột chứa NaN: {nan_columns.tolist()}\")\n",
    "nan_counts = X_train_test_data_tbtl.isna().sum()\n",
    "print(\"Số lượng NaN trong mỗi cột:\")\n",
    "print(nan_counts[nan_counts > 0])\n",
    "X_train_test_data_tbtl[nan_columns] = X_train_test_data_tbtl[nan_columns].fillna(X_train_test_data_tbtl[nan_columns].mean())"
   ]
  },
  {
   "cell_type": "code",
   "execution_count": 331,
   "metadata": {},
   "outputs": [
    {
     "data": {
      "text/html": [
       "<div>\n",
       "<style scoped>\n",
       "    .dataframe tbody tr th:only-of-type {\n",
       "        vertical-align: middle;\n",
       "    }\n",
       "\n",
       "    .dataframe tbody tr th {\n",
       "        vertical-align: top;\n",
       "    }\n",
       "\n",
       "    .dataframe thead th {\n",
       "        text-align: right;\n",
       "    }\n",
       "</style>\n",
       "<table border=\"1\" class=\"dataframe\">\n",
       "  <thead>\n",
       "    <tr style=\"text-align: right;\">\n",
       "      <th></th>\n",
       "      <th>created_at_ordinal</th>\n",
       "      <th>updated_at_ordinal</th>\n",
       "      <th>hour</th>\n",
       "      <th>submission_time_diff</th>\n",
       "      <th>status_encoded</th>\n",
       "      <th>score_status</th>\n",
       "      <th>avg_pre_score</th>\n",
       "      <th>score_per_submission</th>\n",
       "      <th>duplicate_count</th>\n",
       "      <th>is_final</th>\n",
       "      <th>is_final_ratio</th>\n",
       "      <th>wrong_testcases</th>\n",
       "    </tr>\n",
       "  </thead>\n",
       "  <tbody>\n",
       "    <tr>\n",
       "      <th>0</th>\n",
       "      <td>578.557823</td>\n",
       "      <td>578.646259</td>\n",
       "      <td>4.401361</td>\n",
       "      <td>11078.400000</td>\n",
       "      <td>0.809524</td>\n",
       "      <td>147</td>\n",
       "      <td>5504.149660</td>\n",
       "      <td>2259.713951</td>\n",
       "      <td>5.136054</td>\n",
       "      <td>0.312925</td>\n",
       "      <td>0.176385</td>\n",
       "      <td>3.006803</td>\n",
       "    </tr>\n",
       "    <tr>\n",
       "      <th>1</th>\n",
       "      <td>610.610039</td>\n",
       "      <td>607.899614</td>\n",
       "      <td>10.525097</td>\n",
       "      <td>-318927.182320</td>\n",
       "      <td>0.806950</td>\n",
       "      <td>259</td>\n",
       "      <td>5488.552124</td>\n",
       "      <td>2123.820551</td>\n",
       "      <td>6.158301</td>\n",
       "      <td>0.301158</td>\n",
       "      <td>0.164760</td>\n",
       "      <td>1.918919</td>\n",
       "    </tr>\n",
       "    <tr>\n",
       "      <th>2</th>\n",
       "      <td>647.066667</td>\n",
       "      <td>645.871795</td>\n",
       "      <td>10.964103</td>\n",
       "      <td>-158156.692913</td>\n",
       "      <td>0.897436</td>\n",
       "      <td>195</td>\n",
       "      <td>5973.753846</td>\n",
       "      <td>2763.648500</td>\n",
       "      <td>9.328205</td>\n",
       "      <td>0.343590</td>\n",
       "      <td>0.254971</td>\n",
       "      <td>4.615385</td>\n",
       "    </tr>\n",
       "    <tr>\n",
       "      <th>3</th>\n",
       "      <td>485.800000</td>\n",
       "      <td>485.820000</td>\n",
       "      <td>8.610000</td>\n",
       "      <td>2893.584906</td>\n",
       "      <td>0.760000</td>\n",
       "      <td>100</td>\n",
       "      <td>5952.760000</td>\n",
       "      <td>3822.479276</td>\n",
       "      <td>4.160000</td>\n",
       "      <td>0.470000</td>\n",
       "      <td>0.342854</td>\n",
       "      <td>1.640000</td>\n",
       "    </tr>\n",
       "    <tr>\n",
       "      <th>4</th>\n",
       "      <td>616.336449</td>\n",
       "      <td>616.336449</td>\n",
       "      <td>8.598131</td>\n",
       "      <td>1628.780488</td>\n",
       "      <td>0.878505</td>\n",
       "      <td>107</td>\n",
       "      <td>6474.448598</td>\n",
       "      <td>5097.940025</td>\n",
       "      <td>2.794393</td>\n",
       "      <td>0.616822</td>\n",
       "      <td>0.514123</td>\n",
       "      <td>1.691589</td>\n",
       "    </tr>\n",
       "    <tr>\n",
       "      <th>...</th>\n",
       "      <td>...</td>\n",
       "      <td>...</td>\n",
       "      <td>...</td>\n",
       "      <td>...</td>\n",
       "      <td>...</td>\n",
       "      <td>...</td>\n",
       "      <td>...</td>\n",
       "      <td>...</td>\n",
       "      <td>...</td>\n",
       "      <td>...</td>\n",
       "      <td>...</td>\n",
       "      <td>...</td>\n",
       "    </tr>\n",
       "    <tr>\n",
       "      <th>796</th>\n",
       "      <td>669.531532</td>\n",
       "      <td>669.819820</td>\n",
       "      <td>10.063063</td>\n",
       "      <td>45215.454545</td>\n",
       "      <td>0.729730</td>\n",
       "      <td>111</td>\n",
       "      <td>5171.639640</td>\n",
       "      <td>2932.435515</td>\n",
       "      <td>4.135135</td>\n",
       "      <td>0.396396</td>\n",
       "      <td>0.260446</td>\n",
       "      <td>2.225225</td>\n",
       "    </tr>\n",
       "    <tr>\n",
       "      <th>797</th>\n",
       "      <td>659.291317</td>\n",
       "      <td>657.952381</td>\n",
       "      <td>10.151261</td>\n",
       "      <td>-143934.782609</td>\n",
       "      <td>0.711485</td>\n",
       "      <td>357</td>\n",
       "      <td>4785.224090</td>\n",
       "      <td>1948.548533</td>\n",
       "      <td>6.394958</td>\n",
       "      <td>0.291317</td>\n",
       "      <td>0.163801</td>\n",
       "      <td>2.316527</td>\n",
       "    </tr>\n",
       "    <tr>\n",
       "      <th>798</th>\n",
       "      <td>647.670968</td>\n",
       "      <td>648.206452</td>\n",
       "      <td>8.225806</td>\n",
       "      <td>69698.235294</td>\n",
       "      <td>0.754839</td>\n",
       "      <td>155</td>\n",
       "      <td>4247.296774</td>\n",
       "      <td>2404.215664</td>\n",
       "      <td>8.819355</td>\n",
       "      <td>0.341935</td>\n",
       "      <td>0.251647</td>\n",
       "      <td>3.206452</td>\n",
       "    </tr>\n",
       "    <tr>\n",
       "      <th>799</th>\n",
       "      <td>653.673250</td>\n",
       "      <td>653.116697</td>\n",
       "      <td>7.561939</td>\n",
       "      <td>-59003.484163</td>\n",
       "      <td>0.746858</td>\n",
       "      <td>557</td>\n",
       "      <td>4278.605027</td>\n",
       "      <td>1188.863063</td>\n",
       "      <td>10.188510</td>\n",
       "      <td>0.206463</td>\n",
       "      <td>0.094369</td>\n",
       "      <td>3.427289</td>\n",
       "    </tr>\n",
       "    <tr>\n",
       "      <th>800</th>\n",
       "      <td>652.407407</td>\n",
       "      <td>652.407407</td>\n",
       "      <td>14.685185</td>\n",
       "      <td>586.000000</td>\n",
       "      <td>0.648148</td>\n",
       "      <td>54</td>\n",
       "      <td>4444.444444</td>\n",
       "      <td>2898.124428</td>\n",
       "      <td>3.222222</td>\n",
       "      <td>0.444444</td>\n",
       "      <td>0.286728</td>\n",
       "      <td>2.000000</td>\n",
       "    </tr>\n",
       "  </tbody>\n",
       "</table>\n",
       "<p>799 rows × 12 columns</p>\n",
       "</div>"
      ],
      "text/plain": [
       "     created_at_ordinal  updated_at_ordinal       hour  submission_time_diff  \\\n",
       "0            578.557823          578.646259   4.401361          11078.400000   \n",
       "1            610.610039          607.899614  10.525097        -318927.182320   \n",
       "2            647.066667          645.871795  10.964103        -158156.692913   \n",
       "3            485.800000          485.820000   8.610000           2893.584906   \n",
       "4            616.336449          616.336449   8.598131           1628.780488   \n",
       "..                  ...                 ...        ...                   ...   \n",
       "796          669.531532          669.819820  10.063063          45215.454545   \n",
       "797          659.291317          657.952381  10.151261        -143934.782609   \n",
       "798          647.670968          648.206452   8.225806          69698.235294   \n",
       "799          653.673250          653.116697   7.561939         -59003.484163   \n",
       "800          652.407407          652.407407  14.685185            586.000000   \n",
       "\n",
       "     status_encoded  score_status  avg_pre_score  score_per_submission  \\\n",
       "0          0.809524           147    5504.149660           2259.713951   \n",
       "1          0.806950           259    5488.552124           2123.820551   \n",
       "2          0.897436           195    5973.753846           2763.648500   \n",
       "3          0.760000           100    5952.760000           3822.479276   \n",
       "4          0.878505           107    6474.448598           5097.940025   \n",
       "..              ...           ...            ...                   ...   \n",
       "796        0.729730           111    5171.639640           2932.435515   \n",
       "797        0.711485           357    4785.224090           1948.548533   \n",
       "798        0.754839           155    4247.296774           2404.215664   \n",
       "799        0.746858           557    4278.605027           1188.863063   \n",
       "800        0.648148            54    4444.444444           2898.124428   \n",
       "\n",
       "     duplicate_count  is_final  is_final_ratio  wrong_testcases  \n",
       "0           5.136054  0.312925        0.176385         3.006803  \n",
       "1           6.158301  0.301158        0.164760         1.918919  \n",
       "2           9.328205  0.343590        0.254971         4.615385  \n",
       "3           4.160000  0.470000        0.342854         1.640000  \n",
       "4           2.794393  0.616822        0.514123         1.691589  \n",
       "..               ...       ...             ...              ...  \n",
       "796         4.135135  0.396396        0.260446         2.225225  \n",
       "797         6.394958  0.291317        0.163801         2.316527  \n",
       "798         8.819355  0.341935        0.251647         3.206452  \n",
       "799        10.188510  0.206463        0.094369         3.427289  \n",
       "800         3.222222  0.444444        0.286728         2.000000  \n",
       "\n",
       "[799 rows x 12 columns]"
      ]
     },
     "execution_count": 331,
     "metadata": {},
     "output_type": "execute_result"
    }
   ],
   "source": [
    "X_train_test_data_tbtl"
   ]
  },
  {
   "cell_type": "code",
   "execution_count": 332,
   "metadata": {},
   "outputs": [],
   "source": [
    "# Lấy tên các đặc trưng\n",
    "features = X_train_test_data_tbtl.columns\n",
    "\n",
    "#Chuẩn hóa dữ liệu\n",
    "scaler = StandardScaler()\n",
    "X_train_test_data_tbtl = scaler.fit_transform(X_train_test_data_tbtl)\n",
    "\n",
    "#train test split\n",
    "X_train, X_test, y_train, y_test = train_test_split(X_train_test_data_tbtl, y_train_test_data_tbtl, test_size=0.3, random_state=42)"
   ]
  },
  {
   "cell_type": "code",
   "execution_count": 333,
   "metadata": {},
   "outputs": [
    {
     "data": {
      "text/plain": [
       "array([[ 1.00375426,  1.01770879, -0.30407458, ...,  0.29366252,\n",
       "         0.20418894, -0.44121512],\n",
       "       [ 0.39880424,  0.40809595,  0.89000499, ..., -0.20421676,\n",
       "        -0.24460075, -0.28628951],\n",
       "       [-0.16072248, -0.15069626,  0.68751347, ...,  0.74931003,\n",
       "         0.53975014,  0.43798122],\n",
       "       ...,\n",
       "       [ 0.08187844,  0.08107589,  0.28158924, ..., -0.70014283,\n",
       "        -0.54566837,  0.12750814],\n",
       "       [ 0.88958086,  0.89989004,  0.33228944, ..., -1.09430718,\n",
       "        -1.04928553,  0.76225413],\n",
       "       [ 1.11248636,  1.12230697, -0.30739115, ..., -0.17845385,\n",
       "        -0.30274264,  0.06270986]])"
      ]
     },
     "execution_count": 333,
     "metadata": {},
     "output_type": "execute_result"
    }
   ],
   "source": [
    "X_train"
   ]
  },
  {
   "cell_type": "code",
   "execution_count": 334,
   "metadata": {},
   "outputs": [
    {
     "data": {
      "text/plain": [
       "405    7.71\n",
       "523    7.50\n",
       "750    7.74\n",
       "427    8.04\n",
       "41     8.63\n",
       "       ... \n",
       "71     7.11\n",
       "106    7.93\n",
       "270    9.15\n",
       "436    7.32\n",
       "102    8.10\n",
       "Name: TBTL, Length: 559, dtype: float64"
      ]
     },
     "execution_count": 334,
     "metadata": {},
     "output_type": "execute_result"
    }
   ],
   "source": [
    "y_train "
   ]
  },
  {
   "cell_type": "code",
   "execution_count": 335,
   "metadata": {},
   "outputs": [],
   "source": [
    "\n",
    "metrics = {}\n",
    "\n",
    "for name, model in models.items():\n",
    "    # Huấn luyện\n",
    "    model.fit(X_train, y_train)\n",
    "    y_pred = model.predict(X_test)\n",
    "\n",
    "    # Đánh giá\n",
    "    mse = mean_squared_error(y_test, y_pred)\n",
    "    r2 = r2_score(y_test, y_pred)\n",
    "\n",
    "    metrics[name] = {\n",
    "        'MSE': mse,\n",
    "        'R2': r2\n",
    "    }"
   ]
  },
  {
   "cell_type": "code",
   "execution_count": 336,
   "metadata": {},
   "outputs": [
    {
     "data": {
      "image/png": "[encoded data removed]",
      "text/plain": [
       "<Figure size 1000x600 with 1 Axes>"
      ]
     },
     "metadata": {},
     "output_type": "display_data"
    }
   ],
   "source": [
    "# Mức độ quan trọng của các đặc trưng\n",
    "importances = model.coef_\n",
    "\n",
    "# Vẽ biểu đồ mức độ quan trọng\n",
    "plt.figure(figsize=(10, 6))\n",
    "plt.barh(features, importances, color='skyblue')\n",
    "plt.xlabel('Importance')\n",
    "plt.title('Feature Importance')\n",
    "plt.show()"
   ]
  },
  {
   "cell_type": "code",
   "execution_count": 337,
   "metadata": {},
   "outputs": [
    {
     "name": "stdout",
     "output_type": "stream",
     "text": [
      "Model Evaluation Results of TBTL:\n",
      "LinearRegression: MSE=0.6761, R2=0.1401\n"
     ]
    }
   ],
   "source": [
    "# In kết quả\n",
    "print(\"Model Evaluation Results of TBTL:\")\n",
    "for name, metrics in metrics.items():\n",
    "    print(f\"{name}: MSE={metrics['MSE']:.4f}, R2={metrics['R2']:.4f}\")"
   ]
  },
  {
   "cell_type": "markdown",
   "metadata": {},
   "source": [
    "### Predict data tbtl"
   ]
  },
  {
   "cell_type": "code",
   "execution_count": 338,
   "metadata": {},
   "outputs": [],
   "source": [
    "X_predict_data_tbtl = predict_data_tbtl[features_nouser]"
   ]
  },
  {
   "cell_type": "code",
   "execution_count": 339,
   "metadata": {},
   "outputs": [
    {
     "name": "stdout",
     "output_type": "stream",
     "text": [
      "Các cột chứa NaN: ['submission_time_diff']\n",
      "Số lượng NaN trong mỗi cột:\n",
      "submission_time_diff    7\n",
      "dtype: int64\n"
     ]
    },
    {
     "name": "stderr",
     "output_type": "stream",
     "text": [
      "C:\\Users\\Admin\\AppData\\Local\\Temp\\ipykernel_10232\\928285070.py:6: SettingWithCopyWarning: \n",
      "A value is trying to be set on a copy of a slice from a DataFrame.\n",
      "Try using .loc[row_indexer,col_indexer] = value instead\n",
      "\n",
      "See the caveats in the documentation: https://pandas.pydata.org/pandas-docs/stable/user_guide/indexing.html#returning-a-view-versus-a-copy\n",
      "  X_predict_data_tbtl[nan_columns] = X_predict_data_tbtl[nan_columns].fillna(X_predict_data_tbtl[nan_columns].mean())\n"
     ]
    }
   ],
   "source": [
    "nan_columns = X_predict_data_tbtl.columns[X_predict_data_tbtl.isna().any()]\n",
    "print(f\"Các cột chứa NaN: {nan_columns.tolist()}\")\n",
    "nan_counts = X_predict_data_tbtl.isna().sum()\n",
    "print(\"Số lượng NaN trong mỗi cột:\")\n",
    "print(nan_counts[nan_counts > 0])\n",
    "X_predict_data_tbtl[nan_columns] = X_predict_data_tbtl[nan_columns].fillna(X_predict_data_tbtl[nan_columns].mean())"
   ]
  },
  {
   "cell_type": "code",
   "execution_count": 340,
   "metadata": {},
   "outputs": [],
   "source": [
    "X_predict_data_tbtl = scaler.fit_transform(X_predict_data_tbtl)"
   ]
  },
  {
   "cell_type": "code",
   "execution_count": 341,
   "metadata": {},
   "outputs": [
    {
     "name": "stderr",
     "output_type": "stream",
     "text": [
      "C:\\Users\\Admin\\AppData\\Local\\Temp\\ipykernel_10232\\3950690568.py:2: SettingWithCopyWarning: \n",
      "A value is trying to be set on a copy of a slice from a DataFrame.\n",
      "Try using .loc[row_indexer,col_indexer] = value instead\n",
      "\n",
      "See the caveats in the documentation: https://pandas.pydata.org/pandas-docs/stable/user_guide/indexing.html#returning-a-view-versus-a-copy\n",
      "  predict_data_tbtl['TBTL'] = model.predict(X_predict_data_tbtl)\n"
     ]
    }
   ],
   "source": [
    "# Dự đoán\n",
    "predict_data_tbtl['TBTL'] = model.predict(X_predict_data_tbtl)\n"
   ]
  },
  {
   "cell_type": "code",
   "execution_count": 342,
   "metadata": {},
   "outputs": [],
   "source": [
    "\n",
    "output = predict_data_tbtl[['username', 'TBTL']]\n",
    "\n",
    "# Xuất file kết quả\n",
    "output = output.to_csv(\"Predict/predicted_tbtl.csv\", index=False, header=False)"
   ]
  },
  {
   "cell_type": "markdown",
   "metadata": {},
   "source": [
    "## data TH\n"
   ]
  },
  {
   "cell_type": "code",
   "execution_count": 343,
   "metadata": {},
   "outputs": [],
   "source": [
    "# Merge dữ liệu bằng username từ annonimized và th\n",
    "data_th = annonimized.merge(th, on=\"username\", how=\"left\")"
   ]
  },
  {
   "cell_type": "code",
   "execution_count": 344,
   "metadata": {},
   "outputs": [],
   "source": [
    "data_th['TH'] = pd.to_numeric(data_th['TH'], errors='coerce')"
   ]
  },
  {
   "cell_type": "code",
   "execution_count": 345,
   "metadata": {},
   "outputs": [
    {
     "name": "stdout",
     "output_type": "stream",
     "text": [
      "Số lượng sinh viên có điểm (train): 753\n",
      "Số lượng sinh viên cần dự đoán: 736\n"
     ]
    }
   ],
   "source": [
    "# Phân tách dữ liệu\n",
    "train_test_data_th = data_th[data_th['TH'].notna()]  # Sinh viên có điểm dùng để train\n",
    "predict_data_th = data_th[data_th['TH'].isna()]  # Sinh viên không có điểm dùng để dự đoán\n",
    "\n",
    "# In số lượng\n",
    "print(f\"Số lượng sinh viên có điểm (train): {train_test_data_th.shape[0]}\")\n",
    "print(f\"Số lượng sinh viên cần dự đoán: {predict_data_th.shape[0]}\")"
   ]
  },
  {
   "cell_type": "markdown",
   "metadata": {},
   "source": [
    "### Train test data th"
   ]
  },
  {
   "cell_type": "code",
   "execution_count": 346,
   "metadata": {},
   "outputs": [],
   "source": [
    "X_train_test_data_th = train_test_data_th[features_nouser]\n",
    "y_train_test_data_th = train_test_data_th['TH']"
   ]
  },
  {
   "cell_type": "code",
   "execution_count": 347,
   "metadata": {},
   "outputs": [
    {
     "name": "stdout",
     "output_type": "stream",
     "text": [
      "Các cột chứa NaN: ['submission_time_diff']\n",
      "Số lượng NaN trong mỗi cột:\n",
      "submission_time_diff    13\n",
      "dtype: int64\n"
     ]
    },
    {
     "name": "stderr",
     "output_type": "stream",
     "text": [
      "C:\\Users\\Admin\\AppData\\Local\\Temp\\ipykernel_10232\\2751891394.py:6: SettingWithCopyWarning: \n",
      "A value is trying to be set on a copy of a slice from a DataFrame.\n",
      "Try using .loc[row_indexer,col_indexer] = value instead\n",
      "\n",
      "See the caveats in the documentation: https://pandas.pydata.org/pandas-docs/stable/user_guide/indexing.html#returning-a-view-versus-a-copy\n",
      "  X_train_test_data_th[nan_columns] = X_train_test_data_th[nan_columns].fillna(X_train_test_data_th[nan_columns].mean())\n"
     ]
    }
   ],
   "source": [
    "nan_columns = X_train_test_data_th.columns[X_train_test_data_th.isna().any()]\n",
    "print(f\"Các cột chứa NaN: {nan_columns.tolist()}\")\n",
    "nan_counts = X_train_test_data_th.isna().sum()\n",
    "print(\"Số lượng NaN trong mỗi cột:\")\n",
    "print(nan_counts[nan_counts > 0])\n",
    "X_train_test_data_th[nan_columns] = X_train_test_data_th[nan_columns].fillna(X_train_test_data_th[nan_columns].mean())"
   ]
  },
  {
   "cell_type": "code",
   "execution_count": 348,
   "metadata": {},
   "outputs": [],
   "source": [
    "# Lấy tên các đặc trưng\n",
    "features = X_train_test_data_th.columns\n",
    "\n",
    "#Chuẩn hóa dữ liệu\n",
    "X_train_test_data_th = scaler.fit_transform(X_train_test_data_th)\n",
    "\n",
    "#train test split\n",
    "X_train, X_test, y_train, y_test = train_test_split(X_train_test_data_th, y_train_test_data_th, test_size=0.3, random_state=42)"
   ]
  },
  {
   "cell_type": "code",
   "execution_count": 349,
   "metadata": {},
   "outputs": [],
   "source": [
    "# Huấn luyện và đánh giá mô hình\n",
    "metrics = {}\n",
    "\n",
    "for name, model in models.items():\n",
    "    # Huấn luyện\n",
    "    model.fit(X_train, y_train)\n",
    "    y_pred = model.predict(X_test)\n",
    "\n",
    "    # Đánh giá\n",
    "    mse = mean_squared_error(y_test, y_pred)\n",
    "    r2 = r2_score(y_test, y_pred)\n",
    "\n",
    "    metrics[name] = {\n",
    "        'MSE': mse,\n",
    "        'R2': r2\n",
    "    }"
   ]
  },
  {
   "cell_type": "code",
   "execution_count": 350,
   "metadata": {},
   "outputs": [
    {
     "data": {
      "image/png": "[encoded data removed]",
      "text/plain": [
       "<Figure size 1000x600 with 1 Axes>"
      ]
     },
     "metadata": {},
     "output_type": "display_data"
    }
   ],
   "source": [
    "# Mức độ quan trọng của các đặc trưng\n",
    "importances = model.coef_\n",
    "\n",
    "# Vẽ biểu đồ mức độ quan trọng\n",
    "plt.figure(figsize=(10, 6))\n",
    "plt.barh(features, importances, color='skyblue')\n",
    "plt.xlabel('Importance')\n",
    "plt.title('Feature Importance')\n",
    "plt.show()"
   ]
  },
  {
   "cell_type": "code",
   "execution_count": 351,
   "metadata": {},
   "outputs": [
    {
     "name": "stdout",
     "output_type": "stream",
     "text": [
      "Model Evaluation Results of TH:\n",
      "LinearRegression: MSE=3.1266, R2=0.3735\n"
     ]
    }
   ],
   "source": [
    "# In kết quả\n",
    "print(\"Model Evaluation Results of TH:\")\n",
    "for name, metrics in metrics.items():\n",
    "    print(f\"{name}: MSE={metrics['MSE']:.4f}, R2={metrics['R2']:.4f}\")"
   ]
  },
  {
   "cell_type": "markdown",
   "metadata": {},
   "source": [
    "### Predict data th"
   ]
  },
  {
   "cell_type": "code",
   "execution_count": 352,
   "metadata": {},
   "outputs": [],
   "source": [
    "X_predict_data_th = predict_data_th[features_nouser]"
   ]
  },
  {
   "cell_type": "code",
   "execution_count": 353,
   "metadata": {},
   "outputs": [
    {
     "name": "stdout",
     "output_type": "stream",
     "text": [
      "Các cột chứa NaN: ['submission_time_diff']\n",
      "Số lượng NaN trong mỗi cột:\n",
      "submission_time_diff    7\n",
      "dtype: int64\n"
     ]
    },
    {
     "name": "stderr",
     "output_type": "stream",
     "text": [
      "C:\\Users\\Admin\\AppData\\Local\\Temp\\ipykernel_10232\\1144068623.py:6: SettingWithCopyWarning: \n",
      "A value is trying to be set on a copy of a slice from a DataFrame.\n",
      "Try using .loc[row_indexer,col_indexer] = value instead\n",
      "\n",
      "See the caveats in the documentation: https://pandas.pydata.org/pandas-docs/stable/user_guide/indexing.html#returning-a-view-versus-a-copy\n",
      "  X_predict_data_th[nan_columns] = X_predict_data_th[nan_columns].fillna(X_predict_data_th[nan_columns].mean())\n"
     ]
    }
   ],
   "source": [
    "nan_columns = X_predict_data_th.columns[X_predict_data_th.isna().any()]\n",
    "print(f\"Các cột chứa NaN: {nan_columns.tolist()}\")\n",
    "nan_counts = X_predict_data_th.isna().sum()\n",
    "print(\"Số lượng NaN trong mỗi cột:\")\n",
    "print(nan_counts[nan_counts > 0])\n",
    "X_predict_data_th[nan_columns] = X_predict_data_th[nan_columns].fillna(X_predict_data_th[nan_columns].mean())"
   ]
  },
  {
   "cell_type": "code",
   "execution_count": 354,
   "metadata": {},
   "outputs": [],
   "source": [
    "X_predict_data_th = scaler.transform(X_predict_data_th)"
   ]
  },
  {
   "cell_type": "code",
   "execution_count": 355,
   "metadata": {},
   "outputs": [
    {
     "name": "stderr",
     "output_type": "stream",
     "text": [
      "C:\\Users\\Admin\\AppData\\Local\\Temp\\ipykernel_10232\\1421566909.py:2: SettingWithCopyWarning: \n",
      "A value is trying to be set on a copy of a slice from a DataFrame.\n",
      "Try using .loc[row_indexer,col_indexer] = value instead\n",
      "\n",
      "See the caveats in the documentation: https://pandas.pydata.org/pandas-docs/stable/user_guide/indexing.html#returning-a-view-versus-a-copy\n",
      "  predict_data_th['TH'] = model.predict(X_predict_data_th)\n"
     ]
    }
   ],
   "source": [
    "# Dự đoán\n",
    "predict_data_th['TH'] = model.predict(X_predict_data_th)"
   ]
  },
  {
   "cell_type": "code",
   "execution_count": 356,
   "metadata": {},
   "outputs": [],
   "source": [
    "\n",
    "output = predict_data_th[['username', 'TH']]\n",
    "\n",
    "# Xuất file kết quả\n",
    "output = output.to_csv(\"Predict/predicted_th.csv\", index=False, header=False)"
   ]
  },
  {
   "cell_type": "markdown",
   "metadata": {},
   "source": [
    "## data QT"
   ]
  },
  {
   "cell_type": "code",
   "execution_count": 357,
   "metadata": {},
   "outputs": [],
   "source": [
    "# Merge dữ liệu bằng username từ annonimized và qt\n",
    "data_qt = annonimized.merge(qt, on=\"username\", how=\"left\")"
   ]
  },
  {
   "cell_type": "code",
   "execution_count": 358,
   "metadata": {},
   "outputs": [],
   "source": [
    "data_qt['QT'] = pd.to_numeric(data_qt['QT'], errors='coerce')"
   ]
  },
  {
   "cell_type": "code",
   "execution_count": 359,
   "metadata": {},
   "outputs": [
    {
     "name": "stdout",
     "output_type": "stream",
     "text": [
      "Số lượng sinh viên có điểm (train): 754\n",
      "Số lượng sinh viên cần dự đoán: 735\n"
     ]
    }
   ],
   "source": [
    "# Phân tách dữ liệu\n",
    "train_test_data_qt = data_qt[data_qt['QT'].notna()]  # Sinh viên có điểm dùng để train\n",
    "predict_data_qt = data_qt[data_qt['QT'].isna()]  # Sinh viên không có điểm dùng để dự đoán\n",
    "\n",
    "# In số lượng\n",
    "print(f\"Số lượng sinh viên có điểm (train): {train_test_data_qt.shape[0]}\")\n",
    "print(f\"Số lượng sinh viên cần dự đoán: {predict_data_qt.shape[0]}\")"
   ]
  },
  {
   "cell_type": "markdown",
   "metadata": {},
   "source": [
    "### Train test data qt"
   ]
  },
  {
   "cell_type": "code",
   "execution_count": 360,
   "metadata": {},
   "outputs": [],
   "source": [
    "X_train_test_data_qt = train_test_data_qt[features_nouser]\n",
    "y_train_test_data_qt = train_test_data_qt['QT']"
   ]
  },
  {
   "cell_type": "code",
   "execution_count": 361,
   "metadata": {},
   "outputs": [
    {
     "name": "stdout",
     "output_type": "stream",
     "text": [
      "Các cột chứa NaN: ['submission_time_diff']\n",
      "Số lượng NaN trong mỗi cột:\n",
      "submission_time_diff    13\n",
      "dtype: int64\n"
     ]
    },
    {
     "name": "stderr",
     "output_type": "stream",
     "text": [
      "C:\\Users\\Admin\\AppData\\Local\\Temp\\ipykernel_10232\\2698798050.py:7: SettingWithCopyWarning: \n",
      "A value is trying to be set on a copy of a slice from a DataFrame.\n",
      "Try using .loc[row_indexer,col_indexer] = value instead\n",
      "\n",
      "See the caveats in the documentation: https://pandas.pydata.org/pandas-docs/stable/user_guide/indexing.html#returning-a-view-versus-a-copy\n",
      "  X_train_test_data_qt[nan_columns] = X_train_test_data_qt[nan_columns].fillna(X_train_test_data_qt[nan_columns].mean())\n"
     ]
    }
   ],
   "source": [
    "# fill NaN\n",
    "nan_columns = X_train_test_data_qt.columns[X_train_test_data_qt.isna().any()]\n",
    "print(f\"Các cột chứa NaN: {nan_columns.tolist()}\")\n",
    "nan_counts = X_train_test_data_qt.isna().sum()\n",
    "print(\"Số lượng NaN trong mỗi cột:\")\n",
    "print(nan_counts[nan_counts > 0])\n",
    "X_train_test_data_qt[nan_columns] = X_train_test_data_qt[nan_columns].fillna(X_train_test_data_qt[nan_columns].mean())"
   ]
  },
  {
   "cell_type": "code",
   "execution_count": 362,
   "metadata": {},
   "outputs": [],
   "source": [
    "# Lấy tên các đặc trưng\n",
    "features = X_train_test_data_qt.columns\n",
    "\n",
    "#Chuẩn hóa dữ liệu\n",
    "X_train_test_data_qt = scaler.fit_transform(X_train_test_data_qt)\n",
    "\n",
    "#train test split\n",
    "X_train, X_test, y_train, y_test = train_test_split(X_train_test_data_qt, y_train_test_data_qt, test_size=0.3, random_state=42)"
   ]
  },
  {
   "cell_type": "code",
   "execution_count": 363,
   "metadata": {},
   "outputs": [],
   "source": [
    "# Huấn luyện và đánh giá mô hình\n",
    "\n",
    "metrics = {}\n",
    "\n",
    "for name, model in models.items():\n",
    "    # Huấn luyện\n",
    "    model.fit(X_train, y_train)\n",
    "    y_pred = model.predict(X_test)\n",
    "\n",
    "    # Đánh giá\n",
    "    mse = mean_squared_error(y_test, y_pred)\n",
    "    r2 = r2_score(y_test, y_pred)\n",
    "\n",
    "    metrics[name] = {\n",
    "        'MSE': mse,\n",
    "        'R2': r2\n",
    "    }"
   ]
  },
  {
   "cell_type": "code",
   "execution_count": 364,
   "metadata": {},
   "outputs": [
    {
     "data": {
      "image/png": "[encoded data removed]",
      "text/plain": [
       "<Figure size 1000x600 with 1 Axes>"
      ]
     },
     "metadata": {},
     "output_type": "display_data"
    }
   ],
   "source": [
    "# Mức độ quan trọng của các đặc trưng\n",
    "importances = model.coef_\n",
    "\n",
    "# Vẽ biểu đồ mức độ quan trọng\n",
    "plt.figure(figsize=(10, 6))\n",
    "plt.barh(features, importances, color='skyblue')\n",
    "plt.xlabel('Importance')\n",
    "plt.title('Feature Importance')\n",
    "plt.show()"
   ]
  },
  {
   "cell_type": "code",
   "execution_count": 365,
   "metadata": {},
   "outputs": [
    {
     "name": "stdout",
     "output_type": "stream",
     "text": [
      "Model Evaluation Results of QT:\n",
      "LinearRegression: MSE=2.2901, R2=0.0315\n"
     ]
    }
   ],
   "source": [
    "# In kết quả\n",
    "print(\"Model Evaluation Results of QT:\")\n",
    "for name, metrics in metrics.items():\n",
    "    print(f\"{name}: MSE={metrics['MSE']:.4f}, R2={metrics['R2']:.4f}\")"
   ]
  },
  {
   "cell_type": "markdown",
   "metadata": {},
   "source": [
    "### Predict data qt"
   ]
  },
  {
   "cell_type": "code",
   "execution_count": 366,
   "metadata": {},
   "outputs": [],
   "source": [
    "X_predict_data_qt = predict_data_qt[features_nouser]"
   ]
  },
  {
   "cell_type": "code",
   "execution_count": 367,
   "metadata": {},
   "outputs": [
    {
     "name": "stdout",
     "output_type": "stream",
     "text": [
      "Các cột chứa NaN: ['submission_time_diff']\n",
      "Số lượng NaN trong mỗi cột:\n",
      "submission_time_diff    7\n",
      "dtype: int64\n"
     ]
    },
    {
     "name": "stderr",
     "output_type": "stream",
     "text": [
      "C:\\Users\\Admin\\AppData\\Local\\Temp\\ipykernel_10232\\2015593243.py:6: SettingWithCopyWarning: \n",
      "A value is trying to be set on a copy of a slice from a DataFrame.\n",
      "Try using .loc[row_indexer,col_indexer] = value instead\n",
      "\n",
      "See the caveats in the documentation: https://pandas.pydata.org/pandas-docs/stable/user_guide/indexing.html#returning-a-view-versus-a-copy\n",
      "  X_predict_data_qt[nan_columns] = X_predict_data_qt[nan_columns].fillna(X_predict_data_qt[nan_columns].mean())\n"
     ]
    }
   ],
   "source": [
    "nan_columns = X_predict_data_qt.columns[X_predict_data_qt.isna().any()]\n",
    "print(f\"Các cột chứa NaN: {nan_columns.tolist()}\")\n",
    "nan_counts = X_predict_data_qt.isna().sum()\n",
    "print(\"Số lượng NaN trong mỗi cột:\")\n",
    "print(nan_counts[nan_counts > 0])\n",
    "X_predict_data_qt[nan_columns] = X_predict_data_qt[nan_columns].fillna(X_predict_data_qt[nan_columns].mean())"
   ]
  },
  {
   "cell_type": "code",
   "execution_count": 368,
   "metadata": {},
   "outputs": [],
   "source": [
    "X_predict_data_qt = scaler.transform(X_predict_data_qt)"
   ]
  },
  {
   "cell_type": "code",
   "execution_count": 369,
   "metadata": {},
   "outputs": [
    {
     "name": "stderr",
     "output_type": "stream",
     "text": [
      "C:\\Users\\Admin\\AppData\\Local\\Temp\\ipykernel_10232\\3031361918.py:2: SettingWithCopyWarning: \n",
      "A value is trying to be set on a copy of a slice from a DataFrame.\n",
      "Try using .loc[row_indexer,col_indexer] = value instead\n",
      "\n",
      "See the caveats in the documentation: https://pandas.pydata.org/pandas-docs/stable/user_guide/indexing.html#returning-a-view-versus-a-copy\n",
      "  predict_data_qt['QT'] = model.predict(X_predict_data_qt)\n"
     ]
    }
   ],
   "source": [
    "# Dự đoán\n",
    "predict_data_qt['QT'] = model.predict(X_predict_data_qt)\n"
   ]
  },
  {
   "cell_type": "code",
   "execution_count": 370,
   "metadata": {},
   "outputs": [],
   "source": [
    "\n",
    "output = predict_data_qt[['username', 'QT']]\n",
    "\n",
    "# Xuất file kết quả\n",
    "output = output.to_csv(\"Predict/predicted_qt.csv\", index=False, header=False)"
   ]
  },
  {
   "cell_type": "markdown",
   "metadata": {},
   "source": [
    "## data CK"
   ]
  },
  {
   "cell_type": "code",
   "execution_count": 371,
   "metadata": {},
   "outputs": [],
   "source": [
    "# Merge dữ liệu bằng username từ annonimized và ck\n",
    "data_CK = annonimized.merge(CK, on=\"username\", how=\"left\")"
   ]
  },
  {
   "cell_type": "code",
   "execution_count": 372,
   "metadata": {},
   "outputs": [
    {
     "name": "stdout",
     "output_type": "stream",
     "text": [
      "Số lượng sinh viên có điểm (train): 755\n",
      "Số lượng sinh viên cần dự đoán: 734\n"
     ]
    }
   ],
   "source": [
    "# Phân tách dữ liệu\n",
    "train_test_data_ck = data_CK[data_CK['CK'].notna()]  # Sinh viên có điểm dùng để train\n",
    "predict_data_ck = data_CK[data_CK['CK'].isna()]  # Sinh viên không có điểm dùng để dự đoán\n",
    "\n",
    "# In số lượng\n",
    "print(f\"Số lượng sinh viên có điểm (train): {train_test_data_ck.shape[0]}\")\n",
    "print(f\"Số lượng sinh viên cần dự đoán: {predict_data_ck.shape[0]}\")"
   ]
  },
  {
   "cell_type": "markdown",
   "metadata": {},
   "source": [
    "### Train test data ck"
   ]
  },
  {
   "cell_type": "code",
   "execution_count": 373,
   "metadata": {},
   "outputs": [],
   "source": [
    "X_train_test_data_ck = train_test_data_ck[features_nouser]\n",
    "y_train_test_data_ck = train_test_data_ck['CK']"
   ]
  },
  {
   "cell_type": "code",
   "execution_count": 374,
   "metadata": {},
   "outputs": [
    {
     "name": "stdout",
     "output_type": "stream",
     "text": [
      "Các cột chứa NaN: ['submission_time_diff']\n",
      "Số lượng NaN trong mỗi cột:\n",
      "submission_time_diff    13\n",
      "dtype: int64\n"
     ]
    },
    {
     "name": "stderr",
     "output_type": "stream",
     "text": [
      "C:\\Users\\Admin\\AppData\\Local\\Temp\\ipykernel_10232\\3306873973.py:6: SettingWithCopyWarning: \n",
      "A value is trying to be set on a copy of a slice from a DataFrame.\n",
      "Try using .loc[row_indexer,col_indexer] = value instead\n",
      "\n",
      "See the caveats in the documentation: https://pandas.pydata.org/pandas-docs/stable/user_guide/indexing.html#returning-a-view-versus-a-copy\n",
      "  X_train_test_data_ck[nan_columns] = X_train_test_data_ck[nan_columns].fillna(X_train_test_data_ck[nan_columns].mean())\n"
     ]
    }
   ],
   "source": [
    "nan_columns = X_train_test_data_ck.columns[X_train_test_data_ck.isna().any()]\n",
    "print(f\"Các cột chứa NaN: {nan_columns.tolist()}\")\n",
    "nan_counts = X_train_test_data_ck.isna().sum()\n",
    "print(\"Số lượng NaN trong mỗi cột:\")\n",
    "print(nan_counts[nan_counts > 0])\n",
    "X_train_test_data_ck[nan_columns] = X_train_test_data_ck[nan_columns].fillna(X_train_test_data_ck[nan_columns].mean())"
   ]
  },
  {
   "cell_type": "code",
   "execution_count": 375,
   "metadata": {},
   "outputs": [],
   "source": [
    "# Lấy tên các đặc trưng\n",
    "features = X_train_test_data_ck.columns\n",
    "\n",
    "#Chuẩn hóa dữ liệu\n",
    "X_train_test_data_ck = scaler.fit_transform(X_train_test_data_ck)\n",
    "\n",
    "#train test split\n",
    "X_train, X_test, y_train, y_test = train_test_split(X_train_test_data_ck, y_train_test_data_ck, test_size=0.3, random_state=42)"
   ]
  },
  {
   "cell_type": "code",
   "execution_count": 376,
   "metadata": {},
   "outputs": [],
   "source": [
    "# Huấn luyện và đánh giá mô hình\n",
    "metrics = {}\n",
    "\n",
    "for name, model in models.items():\n",
    "    # Huấn luyện\n",
    "    model.fit(X_train, y_train)\n",
    "    y_pred = model.predict(X_test)\n",
    "\n",
    "    # Đánh giá\n",
    "    mse = mean_squared_error(y_test, y_pred)\n",
    "    r2 = r2_score(y_test, y_pred)\n",
    "\n",
    "    metrics[name] = {\n",
    "        'MSE': mse,\n",
    "        'R2': r2\n",
    "    }"
   ]
  },
  {
   "cell_type": "code",
   "execution_count": 377,
   "metadata": {},
   "outputs": [
    {
     "data": {
      "image/png": "[encoded data removed]",
      "text/plain": [
       "<Figure size 1000x600 with 1 Axes>"
      ]
     },
     "metadata": {},
     "output_type": "display_data"
    }
   ],
   "source": [
    "# Mức độ quan trọng của các đặc trưng\n",
    "importances = model.coef_\n",
    "\n",
    "# Vẽ biểu đồ mức độ quan trọng\n",
    "plt.figure(figsize=(10, 6))\n",
    "plt.barh(features, importances, color='skyblue')\n",
    "plt.xlabel('Importance')\n",
    "plt.title('Feature Importance')\n",
    "plt.show()"
   ]
  },
  {
   "cell_type": "code",
   "execution_count": 378,
   "metadata": {},
   "outputs": [
    {
     "name": "stdout",
     "output_type": "stream",
     "text": [
      "Model Evaluation Results of CK:\n",
      "LinearRegression: MSE=3.6248, R2=0.2137\n"
     ]
    }
   ],
   "source": [
    "# In kết quả\n",
    "print(\"Model Evaluation Results of CK:\")\n",
    "for name, metrics in metrics.items():\n",
    "    print(f\"{name}: MSE={metrics['MSE']:.4f}, R2={metrics['R2']:.4f}\")"
   ]
  },
  {
   "cell_type": "markdown",
   "metadata": {},
   "source": [
    "### Predict data ck"
   ]
  },
  {
   "cell_type": "code",
   "execution_count": 379,
   "metadata": {},
   "outputs": [],
   "source": [
    "X_predict_data_ck = predict_data_ck[features_nouser]"
   ]
  },
  {
   "cell_type": "code",
   "execution_count": 380,
   "metadata": {},
   "outputs": [
    {
     "name": "stdout",
     "output_type": "stream",
     "text": [
      "Các cột chứa NaN: ['submission_time_diff']\n",
      "Số lượng NaN trong mỗi cột:\n",
      "submission_time_diff    7\n",
      "dtype: int64\n"
     ]
    },
    {
     "name": "stderr",
     "output_type": "stream",
     "text": [
      "C:\\Users\\Admin\\AppData\\Local\\Temp\\ipykernel_10232\\2984709394.py:6: SettingWithCopyWarning: \n",
      "A value is trying to be set on a copy of a slice from a DataFrame.\n",
      "Try using .loc[row_indexer,col_indexer] = value instead\n",
      "\n",
      "See the caveats in the documentation: https://pandas.pydata.org/pandas-docs/stable/user_guide/indexing.html#returning-a-view-versus-a-copy\n",
      "  X_predict_data_ck[nan_columns] = X_predict_data_ck[nan_columns].fillna(X_predict_data_ck[nan_columns].mean())\n"
     ]
    }
   ],
   "source": [
    "nan_columns = X_predict_data_ck.columns[X_predict_data_ck.isna().any()]\n",
    "print(f\"Các cột chứa NaN: {nan_columns.tolist()}\")\n",
    "nan_counts = X_predict_data_ck.isna().sum()\n",
    "print(\"Số lượng NaN trong mỗi cột:\")\n",
    "print(nan_counts[nan_counts > 0])\n",
    "X_predict_data_ck[nan_columns] = X_predict_data_ck[nan_columns].fillna(X_predict_data_ck[nan_columns].mean())"
   ]
  },
  {
   "cell_type": "code",
   "execution_count": 381,
   "metadata": {},
   "outputs": [],
   "source": [
    "X_predict_data_ck = scaler.transform(X_predict_data_ck)"
   ]
  },
  {
   "cell_type": "code",
   "execution_count": 382,
   "metadata": {},
   "outputs": [
    {
     "name": "stderr",
     "output_type": "stream",
     "text": [
      "C:\\Users\\Admin\\AppData\\Local\\Temp\\ipykernel_10232\\3428818030.py:2: SettingWithCopyWarning: \n",
      "A value is trying to be set on a copy of a slice from a DataFrame.\n",
      "Try using .loc[row_indexer,col_indexer] = value instead\n",
      "\n",
      "See the caveats in the documentation: https://pandas.pydata.org/pandas-docs/stable/user_guide/indexing.html#returning-a-view-versus-a-copy\n",
      "  predict_data_ck['CK'] = model.predict(X_predict_data_ck)\n"
     ]
    }
   ],
   "source": [
    "# Dự đoán\n",
    "predict_data_ck['CK'] = model.predict(X_predict_data_ck)"
   ]
  },
  {
   "cell_type": "code",
   "execution_count": 383,
   "metadata": {},
   "outputs": [],
   "source": [
    "\n",
    "output = predict_data_ck[['username', 'CK']]\n",
    "\n",
    "# Xuất file kết quả\n",
    "output = output.to_csv(\"Predict/predicted_ck.csv\", index=False, header=False)"
   ]
  }
 ],
 "metadata": {
  "kernelspec": {
   "display_name": "Python 3",
   "language": "python",
   "name": "python3"
  },
  "language_info": {
   "codemirror_mode": {
    "name": "ipython",
    "version": 3
   },
   "file_extension": ".py",
   "mimetype": "text/x-python",
   "name": "python",
   "nbconvert_exporter": "python",
   "pygments_lexer": "ipython3",
   "version": "3.11.9"
  }
 },
 "nbformat": 4,
 "nbformat_minor": 2
}
