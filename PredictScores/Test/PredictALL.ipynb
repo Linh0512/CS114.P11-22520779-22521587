{
 "cells": [
  {
   "cell_type": "markdown",
   "metadata": {},
   "source": [
    "## Import lib"
   ]
  },
  {
   "cell_type": "code",
   "execution_count": 295,
   "metadata": {},
   "outputs": [],
   "source": [
    "import pandas as pd\n",
    "import numpy as np\n",
    "import matplotlib.pyplot as plt\n",
    "import seaborn as sns\n",
    "import os\n",
    "from sklearn.preprocessing import MinMaxScaler\n",
    "from sklearn.model_selection import train_test_split\n",
    "from sklearn.linear_model import LinearRegression\n",
    "from sklearn.ensemble import RandomForestRegressor\n",
    "from xgboost import XGBRegressor\n",
    "from sklearn.preprocessing import LabelEncoder\n",
    "from sklearn.preprocessing import StandardScaler\n",
    "from sklearn.metrics import r2_score, mean_squared_error"
   ]
  },
  {
   "cell_type": "code",
   "execution_count": 296,
   "metadata": {},
   "outputs": [],
   "source": [
    "os.chdir('C:/Storage/StudyJourney/Nam3/Cs114/Project2')"
   ]
  },
  {
   "cell_type": "markdown",
   "metadata": {},
   "source": [
    "## Read data"
   ]
  },
  {
   "cell_type": "code",
   "execution_count": 297,
   "metadata": {},
   "outputs": [],
   "source": [
    "# Đọc dữ liệu\n",
    "annonimized = pd.read_csv(\"Dataset/annonimized.csv\")\n",
    "tbtl = pd.read_excel(\"Dataset/public_it001/tbtl-public.ods\", engine='odf')\n",
    "th = pd.read_csv(\"Dataset/public_it001/th-public.csv\")\n",
    "qt = pd.read_csv(\"Dataset/public_it001/qt-public.csv\")\n",
    "CK = pd.read_csv(\"Dataset/public_it001/ck-public.csv\")"
   ]
  },
  {
   "cell_type": "markdown",
   "metadata": {},
   "source": [
    "## Xử lý dữ liệu annonimized"
   ]
  },
  {
   "cell_type": "code",
   "execution_count": 298,
   "metadata": {},
   "outputs": [
    {
     "data": {
      "text/html": [
       "<div>\n",
       "<style scoped>\n",
       "    .dataframe tbody tr th:only-of-type {\n",
       "        vertical-align: middle;\n",
       "    }\n",
       "\n",
       "    .dataframe tbody tr th {\n",
       "        vertical-align: top;\n",
       "    }\n",
       "\n",
       "    .dataframe thead th {\n",
       "        text-align: right;\n",
       "    }\n",
       "</style>\n",
       "<table border=\"1\" class=\"dataframe\">\n",
       "  <thead>\n",
       "    <tr style=\"text-align: right;\">\n",
       "      <th></th>\n",
       "      <th>assignment_id</th>\n",
       "      <th>problem_id</th>\n",
       "      <th>username</th>\n",
       "      <th>is_final</th>\n",
       "      <th>status</th>\n",
       "      <th>pre_score</th>\n",
       "      <th>coefficient</th>\n",
       "      <th>language_id</th>\n",
       "      <th>created_at</th>\n",
       "      <th>updated_at</th>\n",
       "      <th>judgement</th>\n",
       "    </tr>\n",
       "  </thead>\n",
       "  <tbody>\n",
       "    <tr>\n",
       "      <th>0</th>\n",
       "      <td>90ce27571176d87961b565d5ef4b3de33ede04ac</td>\n",
       "      <td>789454427dd4097a14749e3dde63346b7a8d3811</td>\n",
       "      <td>ed9eaeb6a707f50154024b24d7efcb874a9795dd</td>\n",
       "      <td>0</td>\n",
       "      <td>SCORE</td>\n",
       "      <td>0</td>\n",
       "      <td>100</td>\n",
       "      <td>it0012</td>\n",
       "      <td>10/9/2025 8:02</td>\n",
       "      <td>10/9/2025 8:06</td>\n",
       "      <td>{\"times\":[0,0,0,0,0,0,0,0,0,0],\"mems\":[0,0,0,0...</td>\n",
       "    </tr>\n",
       "    <tr>\n",
       "      <th>1</th>\n",
       "      <td>90ce27571176d87961b565d5ef4b3de33ede04ac</td>\n",
       "      <td>789454427dd4097a14749e3dde63346b7a8d3811</td>\n",
       "      <td>ed9eaeb6a707f50154024b24d7efcb874a9795dd</td>\n",
       "      <td>0</td>\n",
       "      <td>SCORE</td>\n",
       "      <td>0</td>\n",
       "      <td>100</td>\n",
       "      <td>it0012</td>\n",
       "      <td>10/9/2025 8:04</td>\n",
       "      <td>10/9/2025 8:04</td>\n",
       "      <td>{\"times\":[0,0,0,0,0,0,0,0,0,0],\"mems\":[0,0,0,0...</td>\n",
       "    </tr>\n",
       "    <tr>\n",
       "      <th>2</th>\n",
       "      <td>90ce27571176d87961b565d5ef4b3de33ede04ac</td>\n",
       "      <td>789454427dd4097a14749e3dde63346b7a8d3811</td>\n",
       "      <td>ed9eaeb6a707f50154024b24d7efcb874a9795dd</td>\n",
       "      <td>1</td>\n",
       "      <td>SCORE</td>\n",
       "      <td>10000</td>\n",
       "      <td>100</td>\n",
       "      <td>it0012</td>\n",
       "      <td>10/9/2025 8:06</td>\n",
       "      <td>10/9/2025 8:06</td>\n",
       "      <td>{\"times\":[0,0,0,0,0,0,0,0,0,0],\"mems\":[0,0,0,0...</td>\n",
       "    </tr>\n",
       "    <tr>\n",
       "      <th>3</th>\n",
       "      <td>90ce27571176d87961b565d5ef4b3de33ede04ac</td>\n",
       "      <td>bf96fbdc5f499538c3e2bfbec5779c8a14b0a9ff</td>\n",
       "      <td>ed9eaeb6a707f50154024b24d7efcb874a9795dd</td>\n",
       "      <td>1</td>\n",
       "      <td>SCORE</td>\n",
       "      <td>10000</td>\n",
       "      <td>100</td>\n",
       "      <td>it0012</td>\n",
       "      <td>10/9/2025 8:47</td>\n",
       "      <td>10/9/2025 8:48</td>\n",
       "      <td>{\"times\":[0,0,0,0,0,0,0,0,0,0],\"mems\":[0,0,0,0...</td>\n",
       "    </tr>\n",
       "    <tr>\n",
       "      <th>4</th>\n",
       "      <td>90ce27571176d87961b565d5ef4b3de33ede04ac</td>\n",
       "      <td>7a6e5ca470ff47c3b5048f240c4738de71010c78</td>\n",
       "      <td>ed9eaeb6a707f50154024b24d7efcb874a9795dd</td>\n",
       "      <td>1</td>\n",
       "      <td>SCORE</td>\n",
       "      <td>10000</td>\n",
       "      <td>100</td>\n",
       "      <td>it0012</td>\n",
       "      <td>10/9/2025 9:19</td>\n",
       "      <td>10/9/2025 9:19</td>\n",
       "      <td>{\"times\":[0,0,0,0,0,0,0,0,0,0],\"mems\":[0,0,0,0...</td>\n",
       "    </tr>\n",
       "    <tr>\n",
       "      <th>...</th>\n",
       "      <td>...</td>\n",
       "      <td>...</td>\n",
       "      <td>...</td>\n",
       "      <td>...</td>\n",
       "      <td>...</td>\n",
       "      <td>...</td>\n",
       "      <td>...</td>\n",
       "      <td>...</td>\n",
       "      <td>...</td>\n",
       "      <td>...</td>\n",
       "      <td>...</td>\n",
       "    </tr>\n",
       "    <tr>\n",
       "      <th>295193</th>\n",
       "      <td>613aea04c978f5e72fffc8bcff1f7b695a63f7b1</td>\n",
       "      <td>388516cbf597351226be1bdbe5ef30b9dcef570f</td>\n",
       "      <td>232cce96362898f08e9150ba244adaf2d6583ab2</td>\n",
       "      <td>1</td>\n",
       "      <td>SCORE</td>\n",
       "      <td>10000</td>\n",
       "      <td>100</td>\n",
       "      <td>it0012</td>\n",
       "      <td>1/15/2025 16:03</td>\n",
       "      <td>1/15/2025 16:03</td>\n",
       "      <td>{\"times\":[0,0,0,0,0,0,0,0,0,0,0,0,0,0],\"mems\":...</td>\n",
       "    </tr>\n",
       "    <tr>\n",
       "      <th>295194</th>\n",
       "      <td>613aea04c978f5e72fffc8bcff1f7b695a63f7b1</td>\n",
       "      <td>d2b96124ccb8e27b4b8dacdb935e729cb1ba546b</td>\n",
       "      <td>232cce96362898f08e9150ba244adaf2d6583ab2</td>\n",
       "      <td>0</td>\n",
       "      <td>Compilation Error</td>\n",
       "      <td>0</td>\n",
       "      <td>100</td>\n",
       "      <td>it0012</td>\n",
       "      <td>1/15/2025 16:04</td>\n",
       "      <td>1/15/2025 16:05</td>\n",
       "      <td>{\"times\":[],\"mems\":[],\"verdicts\":{\"\\n\\nIn func...</td>\n",
       "    </tr>\n",
       "    <tr>\n",
       "      <th>295195</th>\n",
       "      <td>613aea04c978f5e72fffc8bcff1f7b695a63f7b1</td>\n",
       "      <td>d2b96124ccb8e27b4b8dacdb935e729cb1ba546b</td>\n",
       "      <td>232cce96362898f08e9150ba244adaf2d6583ab2</td>\n",
       "      <td>1</td>\n",
       "      <td>SCORE</td>\n",
       "      <td>10000</td>\n",
       "      <td>100</td>\n",
       "      <td>it0012</td>\n",
       "      <td>1/15/2025 16:04</td>\n",
       "      <td>1/15/2025 16:05</td>\n",
       "      <td>{\"times\":[0,0,0,0,0,0,0,0,0,0,0,0,0,0],\"mems\":...</td>\n",
       "    </tr>\n",
       "    <tr>\n",
       "      <th>295196</th>\n",
       "      <td>613aea04c978f5e72fffc8bcff1f7b695a63f7b1</td>\n",
       "      <td>8c0f8dd4ff55e1609f733e043ac5e88b1dde6e7c</td>\n",
       "      <td>232cce96362898f08e9150ba244adaf2d6583ab2</td>\n",
       "      <td>1</td>\n",
       "      <td>SCORE</td>\n",
       "      <td>10000</td>\n",
       "      <td>100</td>\n",
       "      <td>it0012</td>\n",
       "      <td>1/15/2025 16:05</td>\n",
       "      <td>1/15/2025 16:05</td>\n",
       "      <td>{\"times\":[0,0,0,0,0,0,0,0,0,0,0,0,0],\"mems\":[0...</td>\n",
       "    </tr>\n",
       "    <tr>\n",
       "      <th>295197</th>\n",
       "      <td>613aea04c978f5e72fffc8bcff1f7b695a63f7b1</td>\n",
       "      <td>e1baec9d1d9af44372188067b55edfec747f1342</td>\n",
       "      <td>232cce96362898f08e9150ba244adaf2d6583ab2</td>\n",
       "      <td>1</td>\n",
       "      <td>SCORE</td>\n",
       "      <td>10000</td>\n",
       "      <td>100</td>\n",
       "      <td>it0012</td>\n",
       "      <td>1/15/2025 16:05</td>\n",
       "      <td>1/15/2025 16:05</td>\n",
       "      <td>{\"times\":[0,0,0,0,0,0,0,0,0,0,0,0,0,0],\"mems\":...</td>\n",
       "    </tr>\n",
       "  </tbody>\n",
       "</table>\n",
       "<p>295198 rows × 11 columns</p>\n",
       "</div>"
      ],
      "text/plain": [
       "                                   assignment_id  \\\n",
       "0       90ce27571176d87961b565d5ef4b3de33ede04ac   \n",
       "1       90ce27571176d87961b565d5ef4b3de33ede04ac   \n",
       "2       90ce27571176d87961b565d5ef4b3de33ede04ac   \n",
       "3       90ce27571176d87961b565d5ef4b3de33ede04ac   \n",
       "4       90ce27571176d87961b565d5ef4b3de33ede04ac   \n",
       "...                                          ...   \n",
       "295193  613aea04c978f5e72fffc8bcff1f7b695a63f7b1   \n",
       "295194  613aea04c978f5e72fffc8bcff1f7b695a63f7b1   \n",
       "295195  613aea04c978f5e72fffc8bcff1f7b695a63f7b1   \n",
       "295196  613aea04c978f5e72fffc8bcff1f7b695a63f7b1   \n",
       "295197  613aea04c978f5e72fffc8bcff1f7b695a63f7b1   \n",
       "\n",
       "                                      problem_id  \\\n",
       "0       789454427dd4097a14749e3dde63346b7a8d3811   \n",
       "1       789454427dd4097a14749e3dde63346b7a8d3811   \n",
       "2       789454427dd4097a14749e3dde63346b7a8d3811   \n",
       "3       bf96fbdc5f499538c3e2bfbec5779c8a14b0a9ff   \n",
       "4       7a6e5ca470ff47c3b5048f240c4738de71010c78   \n",
       "...                                          ...   \n",
       "295193  388516cbf597351226be1bdbe5ef30b9dcef570f   \n",
       "295194  d2b96124ccb8e27b4b8dacdb935e729cb1ba546b   \n",
       "295195  d2b96124ccb8e27b4b8dacdb935e729cb1ba546b   \n",
       "295196  8c0f8dd4ff55e1609f733e043ac5e88b1dde6e7c   \n",
       "295197  e1baec9d1d9af44372188067b55edfec747f1342   \n",
       "\n",
       "                                        username  is_final             status  \\\n",
       "0       ed9eaeb6a707f50154024b24d7efcb874a9795dd         0              SCORE   \n",
       "1       ed9eaeb6a707f50154024b24d7efcb874a9795dd         0              SCORE   \n",
       "2       ed9eaeb6a707f50154024b24d7efcb874a9795dd         1              SCORE   \n",
       "3       ed9eaeb6a707f50154024b24d7efcb874a9795dd         1              SCORE   \n",
       "4       ed9eaeb6a707f50154024b24d7efcb874a9795dd         1              SCORE   \n",
       "...                                          ...       ...                ...   \n",
       "295193  232cce96362898f08e9150ba244adaf2d6583ab2         1              SCORE   \n",
       "295194  232cce96362898f08e9150ba244adaf2d6583ab2         0  Compilation Error   \n",
       "295195  232cce96362898f08e9150ba244adaf2d6583ab2         1              SCORE   \n",
       "295196  232cce96362898f08e9150ba244adaf2d6583ab2         1              SCORE   \n",
       "295197  232cce96362898f08e9150ba244adaf2d6583ab2         1              SCORE   \n",
       "\n",
       "        pre_score  coefficient language_id       created_at       updated_at  \\\n",
       "0               0          100      it0012   10/9/2025 8:02   10/9/2025 8:06   \n",
       "1               0          100      it0012   10/9/2025 8:04   10/9/2025 8:04   \n",
       "2           10000          100      it0012   10/9/2025 8:06   10/9/2025 8:06   \n",
       "3           10000          100      it0012   10/9/2025 8:47   10/9/2025 8:48   \n",
       "4           10000          100      it0012   10/9/2025 9:19   10/9/2025 9:19   \n",
       "...           ...          ...         ...              ...              ...   \n",
       "295193      10000          100      it0012  1/15/2025 16:03  1/15/2025 16:03   \n",
       "295194          0          100      it0012  1/15/2025 16:04  1/15/2025 16:05   \n",
       "295195      10000          100      it0012  1/15/2025 16:04  1/15/2025 16:05   \n",
       "295196      10000          100      it0012  1/15/2025 16:05  1/15/2025 16:05   \n",
       "295197      10000          100      it0012  1/15/2025 16:05  1/15/2025 16:05   \n",
       "\n",
       "                                                judgement  \n",
       "0       {\"times\":[0,0,0,0,0,0,0,0,0,0],\"mems\":[0,0,0,0...  \n",
       "1       {\"times\":[0,0,0,0,0,0,0,0,0,0],\"mems\":[0,0,0,0...  \n",
       "2       {\"times\":[0,0,0,0,0,0,0,0,0,0],\"mems\":[0,0,0,0...  \n",
       "3       {\"times\":[0,0,0,0,0,0,0,0,0,0],\"mems\":[0,0,0,0...  \n",
       "4       {\"times\":[0,0,0,0,0,0,0,0,0,0],\"mems\":[0,0,0,0...  \n",
       "...                                                   ...  \n",
       "295193  {\"times\":[0,0,0,0,0,0,0,0,0,0,0,0,0,0],\"mems\":...  \n",
       "295194  {\"times\":[],\"mems\":[],\"verdicts\":{\"\\n\\nIn func...  \n",
       "295195  {\"times\":[0,0,0,0,0,0,0,0,0,0,0,0,0,0],\"mems\":...  \n",
       "295196  {\"times\":[0,0,0,0,0,0,0,0,0,0,0,0,0],\"mems\":[0...  \n",
       "295197  {\"times\":[0,0,0,0,0,0,0,0,0,0,0,0,0,0],\"mems\":...  \n",
       "\n",
       "[295198 rows x 11 columns]"
      ]
     },
     "execution_count": 298,
     "metadata": {},
     "output_type": "execute_result"
    }
   ],
   "source": [
    "annonimized"
   ]
  },
  {
   "cell_type": "code",
   "execution_count": 299,
   "metadata": {},
   "outputs": [
    {
     "name": "stdout",
     "output_type": "stream",
     "text": [
      "['SCORE' 'Compilation Error' 'pending' 'Syntax Error']\n"
     ]
    }
   ],
   "source": [
    "print(annonimized['status'].unique())"
   ]
  },
  {
   "cell_type": "code",
   "execution_count": 300,
   "metadata": {},
   "outputs": [
    {
     "name": "stdout",
     "output_type": "stream",
     "text": [
      "assignment_id    object\n",
      "problem_id       object\n",
      "username         object\n",
      "is_final          int64\n",
      "status           object\n",
      "pre_score         int64\n",
      "coefficient       int64\n",
      "language_id      object\n",
      "created_at       object\n",
      "updated_at       object\n",
      "judgement        object\n",
      "dtype: object\n"
     ]
    }
   ],
   "source": [
    "print(annonimized.dtypes)"
   ]
  },
  {
   "cell_type": "markdown",
   "metadata": {},
   "source": [
    "### Feature Engineering"
   ]
  },
  {
   "cell_type": "code",
   "execution_count": 301,
   "metadata": {},
   "outputs": [],
   "source": [
    "# Hàm xử lý cột `judgement` để rút trích các đặc trưng\n",
    "import json\n",
    "\n",
    "def extract_judgement_features(df):\n",
    "    # Parse cột judgement thành dict với kiểm tra ngoại lệ\n",
    "    def safe_json_loads(j):\n",
    "        try:\n",
    "            return json.loads(j) if isinstance(j, str) else {}\n",
    "        except json.JSONDecodeError:\n",
    "            return {}\n",
    "\n",
    "    # Chuyển cột judgement sang dạng dict\n",
    "    df['judgement_parsed'] = df['judgement'].apply(safe_json_loads)\n",
    "    \n",
    "    # Rút trích các giá trị từ judgement\n",
    "    df['times'] = df['judgement_parsed'].apply(lambda x: x.get('times', []) if isinstance(x, dict) else [])\n",
    "    df['mems'] = df['judgement_parsed'].apply(lambda x: x.get('mems', []) if isinstance(x, dict) else [])\n",
    "    \n",
    "    # Kiểm tra kiểu của verdicts và xử lý\n",
    "    def extract_verdicts(verdicts):\n",
    "        if isinstance(verdicts, dict):\n",
    "            return verdicts.get('WRONG', 0)\n",
    "        return 0  # Mặc định nếu verdicts không phải là dict\n",
    "\n",
    "    df['verdicts'] = df['judgement_parsed'].apply(lambda x: x.get('verdicts', {}) if isinstance(x, dict) else {})\n",
    "    df['wrong_testcases'] = df['verdicts'].apply(extract_verdicts)\n",
    "\n",
    "    return df\n",
    "\n",
    "# Hàm tạo các cột mới từ times và mems\n",
    "def process_times_and_mems(df):\n",
    "    df['times_mean'] = df['times'].apply(lambda x: sum(x) / len(x) if x else -1)\n",
    "    df['mems_mean'] = df['mems'].apply(lambda x: sum(x) / len(x) if x else -1)\n",
    "    df['times_max'] = df['times'].apply(lambda x: max(x) if x else -1)\n",
    "    df['times_min'] = df['times'].apply(lambda x: min(x) if x else -1)\n",
    "    df['mems_max'] = df['mems'].apply(lambda x: max(x) if x else -1)\n",
    "    df['mems_min'] = df['mems'].apply(lambda x: min(x) if x else -1)\n",
    "    df['times_sum'] = df['times'].apply(lambda x: sum(x) if x else 0)\n",
    "    df['mems_sum'] = df['mems'].apply(lambda x: sum(x) if x else 0)\n",
    "\n",
    "    return df\n",
    "\n",
    "# Tính tổng các đặc trưng theo username\n",
    "def aggregate_features_by_username(df):\n",
    "    agg_features = [\n",
    "        'times_mean', 'times_max', 'times_sum', \n",
    "        'mems_mean', 'mems_max', 'mems_sum', \n",
    "        'wrong_testcases'\n",
    "    ]\n",
    "    for col in agg_features:\n",
    "        df[col] = df.groupby('username')[col].transform('sum')\n",
    "\n",
    "    return df"
   ]
  },
  {
   "cell_type": "code",
   "execution_count": 302,
   "metadata": {},
   "outputs": [
    {
     "ename": "TypeError",
     "evalue": "agg function failed [how->mean,dtype->object]",
     "output_type": "error",
     "traceback": [
      "\u001b[1;31m---------------------------------------------------------------------------\u001b[0m",
      "\u001b[1;31mTypeError\u001b[0m                                 Traceback (most recent call last)",
      "File \u001b[1;32m~\\AppData\\Local\\Packages\\PythonSoftwareFoundation.Python.3.11_qbz5n2kfra8p0\\LocalCache\\local-packages\\Python311\\site-packages\\pandas\\core\\groupby\\groupby.py:1942\u001b[0m, in \u001b[0;36mGroupBy._agg_py_fallback\u001b[1;34m(self, how, values, ndim, alt)\u001b[0m\n\u001b[0;32m   1941\u001b[0m \u001b[38;5;28;01mtry\u001b[39;00m:\n\u001b[1;32m-> 1942\u001b[0m     res_values \u001b[38;5;241m=\u001b[39m \u001b[38;5;28;43mself\u001b[39;49m\u001b[38;5;241;43m.\u001b[39;49m\u001b[43m_grouper\u001b[49m\u001b[38;5;241;43m.\u001b[39;49m\u001b[43magg_series\u001b[49m\u001b[43m(\u001b[49m\u001b[43mser\u001b[49m\u001b[43m,\u001b[49m\u001b[43m \u001b[49m\u001b[43malt\u001b[49m\u001b[43m,\u001b[49m\u001b[43m \u001b[49m\u001b[43mpreserve_dtype\u001b[49m\u001b[38;5;241;43m=\u001b[39;49m\u001b[38;5;28;43;01mTrue\u001b[39;49;00m\u001b[43m)\u001b[49m\n\u001b[0;32m   1943\u001b[0m \u001b[38;5;28;01mexcept\u001b[39;00m \u001b[38;5;167;01mException\u001b[39;00m \u001b[38;5;28;01mas\u001b[39;00m err:\n",
      "File \u001b[1;32m~\\AppData\\Local\\Packages\\PythonSoftwareFoundation.Python.3.11_qbz5n2kfra8p0\\LocalCache\\local-packages\\Python311\\site-packages\\pandas\\core\\groupby\\ops.py:864\u001b[0m, in \u001b[0;36mBaseGrouper.agg_series\u001b[1;34m(self, obj, func, preserve_dtype)\u001b[0m\n\u001b[0;32m    862\u001b[0m     preserve_dtype \u001b[38;5;241m=\u001b[39m \u001b[38;5;28;01mTrue\u001b[39;00m\n\u001b[1;32m--> 864\u001b[0m result \u001b[38;5;241m=\u001b[39m \u001b[38;5;28;43mself\u001b[39;49m\u001b[38;5;241;43m.\u001b[39;49m\u001b[43m_aggregate_series_pure_python\u001b[49m\u001b[43m(\u001b[49m\u001b[43mobj\u001b[49m\u001b[43m,\u001b[49m\u001b[43m \u001b[49m\u001b[43mfunc\u001b[49m\u001b[43m)\u001b[49m\n\u001b[0;32m    866\u001b[0m npvalues \u001b[38;5;241m=\u001b[39m lib\u001b[38;5;241m.\u001b[39mmaybe_convert_objects(result, try_float\u001b[38;5;241m=\u001b[39m\u001b[38;5;28;01mFalse\u001b[39;00m)\n",
      "File \u001b[1;32m~\\AppData\\Local\\Packages\\PythonSoftwareFoundation.Python.3.11_qbz5n2kfra8p0\\LocalCache\\local-packages\\Python311\\site-packages\\pandas\\core\\groupby\\ops.py:885\u001b[0m, in \u001b[0;36mBaseGrouper._aggregate_series_pure_python\u001b[1;34m(self, obj, func)\u001b[0m\n\u001b[0;32m    884\u001b[0m \u001b[38;5;28;01mfor\u001b[39;00m i, group \u001b[38;5;129;01min\u001b[39;00m \u001b[38;5;28menumerate\u001b[39m(splitter):\n\u001b[1;32m--> 885\u001b[0m     res \u001b[38;5;241m=\u001b[39m \u001b[43mfunc\u001b[49m\u001b[43m(\u001b[49m\u001b[43mgroup\u001b[49m\u001b[43m)\u001b[49m\n\u001b[0;32m    886\u001b[0m     res \u001b[38;5;241m=\u001b[39m extract_result(res)\n",
      "File \u001b[1;32m~\\AppData\\Local\\Packages\\PythonSoftwareFoundation.Python.3.11_qbz5n2kfra8p0\\LocalCache\\local-packages\\Python311\\site-packages\\pandas\\core\\groupby\\groupby.py:2454\u001b[0m, in \u001b[0;36mGroupBy.mean.<locals>.<lambda>\u001b[1;34m(x)\u001b[0m\n\u001b[0;32m   2451\u001b[0m \u001b[38;5;28;01melse\u001b[39;00m:\n\u001b[0;32m   2452\u001b[0m     result \u001b[38;5;241m=\u001b[39m \u001b[38;5;28mself\u001b[39m\u001b[38;5;241m.\u001b[39m_cython_agg_general(\n\u001b[0;32m   2453\u001b[0m         \u001b[38;5;124m\"\u001b[39m\u001b[38;5;124mmean\u001b[39m\u001b[38;5;124m\"\u001b[39m,\n\u001b[1;32m-> 2454\u001b[0m         alt\u001b[38;5;241m=\u001b[39m\u001b[38;5;28;01mlambda\u001b[39;00m x: \u001b[43mSeries\u001b[49m\u001b[43m(\u001b[49m\u001b[43mx\u001b[49m\u001b[43m,\u001b[49m\u001b[43m \u001b[49m\u001b[43mcopy\u001b[49m\u001b[38;5;241;43m=\u001b[39;49m\u001b[38;5;28;43;01mFalse\u001b[39;49;00m\u001b[43m)\u001b[49m\u001b[38;5;241;43m.\u001b[39;49m\u001b[43mmean\u001b[49m\u001b[43m(\u001b[49m\u001b[43mnumeric_only\u001b[49m\u001b[38;5;241;43m=\u001b[39;49m\u001b[43mnumeric_only\u001b[49m\u001b[43m)\u001b[49m,\n\u001b[0;32m   2455\u001b[0m         numeric_only\u001b[38;5;241m=\u001b[39mnumeric_only,\n\u001b[0;32m   2456\u001b[0m     )\n\u001b[0;32m   2457\u001b[0m     \u001b[38;5;28;01mreturn\u001b[39;00m result\u001b[38;5;241m.\u001b[39m__finalize__(\u001b[38;5;28mself\u001b[39m\u001b[38;5;241m.\u001b[39mobj, method\u001b[38;5;241m=\u001b[39m\u001b[38;5;124m\"\u001b[39m\u001b[38;5;124mgroupby\u001b[39m\u001b[38;5;124m\"\u001b[39m)\n",
      "File \u001b[1;32m~\\AppData\\Local\\Packages\\PythonSoftwareFoundation.Python.3.11_qbz5n2kfra8p0\\LocalCache\\local-packages\\Python311\\site-packages\\pandas\\core\\series.py:6549\u001b[0m, in \u001b[0;36mSeries.mean\u001b[1;34m(self, axis, skipna, numeric_only, **kwargs)\u001b[0m\n\u001b[0;32m   6541\u001b[0m \u001b[38;5;129m@doc\u001b[39m(make_doc(\u001b[38;5;124m\"\u001b[39m\u001b[38;5;124mmean\u001b[39m\u001b[38;5;124m\"\u001b[39m, ndim\u001b[38;5;241m=\u001b[39m\u001b[38;5;241m1\u001b[39m))\n\u001b[0;32m   6542\u001b[0m \u001b[38;5;28;01mdef\u001b[39;00m \u001b[38;5;21mmean\u001b[39m(\n\u001b[0;32m   6543\u001b[0m     \u001b[38;5;28mself\u001b[39m,\n\u001b[1;32m   (...)\u001b[0m\n\u001b[0;32m   6547\u001b[0m     \u001b[38;5;241m*\u001b[39m\u001b[38;5;241m*\u001b[39mkwargs,\n\u001b[0;32m   6548\u001b[0m ):\n\u001b[1;32m-> 6549\u001b[0m     \u001b[38;5;28;01mreturn\u001b[39;00m \u001b[43mNDFrame\u001b[49m\u001b[38;5;241;43m.\u001b[39;49m\u001b[43mmean\u001b[49m\u001b[43m(\u001b[49m\u001b[38;5;28;43mself\u001b[39;49m\u001b[43m,\u001b[49m\u001b[43m \u001b[49m\u001b[43maxis\u001b[49m\u001b[43m,\u001b[49m\u001b[43m \u001b[49m\u001b[43mskipna\u001b[49m\u001b[43m,\u001b[49m\u001b[43m \u001b[49m\u001b[43mnumeric_only\u001b[49m\u001b[43m,\u001b[49m\u001b[43m \u001b[49m\u001b[38;5;241;43m*\u001b[39;49m\u001b[38;5;241;43m*\u001b[39;49m\u001b[43mkwargs\u001b[49m\u001b[43m)\u001b[49m\n",
      "File \u001b[1;32m~\\AppData\\Local\\Packages\\PythonSoftwareFoundation.Python.3.11_qbz5n2kfra8p0\\LocalCache\\local-packages\\Python311\\site-packages\\pandas\\core\\generic.py:12420\u001b[0m, in \u001b[0;36mNDFrame.mean\u001b[1;34m(self, axis, skipna, numeric_only, **kwargs)\u001b[0m\n\u001b[0;32m  12413\u001b[0m \u001b[38;5;28;01mdef\u001b[39;00m \u001b[38;5;21mmean\u001b[39m(\n\u001b[0;32m  12414\u001b[0m     \u001b[38;5;28mself\u001b[39m,\n\u001b[0;32m  12415\u001b[0m     axis: Axis \u001b[38;5;241m|\u001b[39m \u001b[38;5;28;01mNone\u001b[39;00m \u001b[38;5;241m=\u001b[39m \u001b[38;5;241m0\u001b[39m,\n\u001b[1;32m   (...)\u001b[0m\n\u001b[0;32m  12418\u001b[0m     \u001b[38;5;241m*\u001b[39m\u001b[38;5;241m*\u001b[39mkwargs,\n\u001b[0;32m  12419\u001b[0m ) \u001b[38;5;241m-\u001b[39m\u001b[38;5;241m>\u001b[39m Series \u001b[38;5;241m|\u001b[39m \u001b[38;5;28mfloat\u001b[39m:\n\u001b[1;32m> 12420\u001b[0m     \u001b[38;5;28;01mreturn\u001b[39;00m \u001b[38;5;28;43mself\u001b[39;49m\u001b[38;5;241;43m.\u001b[39;49m\u001b[43m_stat_function\u001b[49m\u001b[43m(\u001b[49m\n\u001b[0;32m  12421\u001b[0m \u001b[43m        \u001b[49m\u001b[38;5;124;43m\"\u001b[39;49m\u001b[38;5;124;43mmean\u001b[39;49m\u001b[38;5;124;43m\"\u001b[39;49m\u001b[43m,\u001b[49m\u001b[43m \u001b[49m\u001b[43mnanops\u001b[49m\u001b[38;5;241;43m.\u001b[39;49m\u001b[43mnanmean\u001b[49m\u001b[43m,\u001b[49m\u001b[43m \u001b[49m\u001b[43maxis\u001b[49m\u001b[43m,\u001b[49m\u001b[43m \u001b[49m\u001b[43mskipna\u001b[49m\u001b[43m,\u001b[49m\u001b[43m \u001b[49m\u001b[43mnumeric_only\u001b[49m\u001b[43m,\u001b[49m\u001b[43m \u001b[49m\u001b[38;5;241;43m*\u001b[39;49m\u001b[38;5;241;43m*\u001b[39;49m\u001b[43mkwargs\u001b[49m\n\u001b[0;32m  12422\u001b[0m \u001b[43m    \u001b[49m\u001b[43m)\u001b[49m\n",
      "File \u001b[1;32m~\\AppData\\Local\\Packages\\PythonSoftwareFoundation.Python.3.11_qbz5n2kfra8p0\\LocalCache\\local-packages\\Python311\\site-packages\\pandas\\core\\generic.py:12377\u001b[0m, in \u001b[0;36mNDFrame._stat_function\u001b[1;34m(self, name, func, axis, skipna, numeric_only, **kwargs)\u001b[0m\n\u001b[0;32m  12375\u001b[0m validate_bool_kwarg(skipna, \u001b[38;5;124m\"\u001b[39m\u001b[38;5;124mskipna\u001b[39m\u001b[38;5;124m\"\u001b[39m, none_allowed\u001b[38;5;241m=\u001b[39m\u001b[38;5;28;01mFalse\u001b[39;00m)\n\u001b[1;32m> 12377\u001b[0m \u001b[38;5;28;01mreturn\u001b[39;00m \u001b[38;5;28;43mself\u001b[39;49m\u001b[38;5;241;43m.\u001b[39;49m\u001b[43m_reduce\u001b[49m\u001b[43m(\u001b[49m\n\u001b[0;32m  12378\u001b[0m \u001b[43m    \u001b[49m\u001b[43mfunc\u001b[49m\u001b[43m,\u001b[49m\u001b[43m \u001b[49m\u001b[43mname\u001b[49m\u001b[38;5;241;43m=\u001b[39;49m\u001b[43mname\u001b[49m\u001b[43m,\u001b[49m\u001b[43m \u001b[49m\u001b[43maxis\u001b[49m\u001b[38;5;241;43m=\u001b[39;49m\u001b[43maxis\u001b[49m\u001b[43m,\u001b[49m\u001b[43m \u001b[49m\u001b[43mskipna\u001b[49m\u001b[38;5;241;43m=\u001b[39;49m\u001b[43mskipna\u001b[49m\u001b[43m,\u001b[49m\u001b[43m \u001b[49m\u001b[43mnumeric_only\u001b[49m\u001b[38;5;241;43m=\u001b[39;49m\u001b[43mnumeric_only\u001b[49m\n\u001b[0;32m  12379\u001b[0m \u001b[43m\u001b[49m\u001b[43m)\u001b[49m\n",
      "File \u001b[1;32m~\\AppData\\Local\\Packages\\PythonSoftwareFoundation.Python.3.11_qbz5n2kfra8p0\\LocalCache\\local-packages\\Python311\\site-packages\\pandas\\core\\series.py:6457\u001b[0m, in \u001b[0;36mSeries._reduce\u001b[1;34m(self, op, name, axis, skipna, numeric_only, filter_type, **kwds)\u001b[0m\n\u001b[0;32m   6453\u001b[0m     \u001b[38;5;28;01mraise\u001b[39;00m \u001b[38;5;167;01mTypeError\u001b[39;00m(\n\u001b[0;32m   6454\u001b[0m         \u001b[38;5;124mf\u001b[39m\u001b[38;5;124m\"\u001b[39m\u001b[38;5;124mSeries.\u001b[39m\u001b[38;5;132;01m{\u001b[39;00mname\u001b[38;5;132;01m}\u001b[39;00m\u001b[38;5;124m does not allow \u001b[39m\u001b[38;5;132;01m{\u001b[39;00mkwd_name\u001b[38;5;132;01m}\u001b[39;00m\u001b[38;5;124m=\u001b[39m\u001b[38;5;132;01m{\u001b[39;00mnumeric_only\u001b[38;5;132;01m}\u001b[39;00m\u001b[38;5;124m \u001b[39m\u001b[38;5;124m\"\u001b[39m\n\u001b[0;32m   6455\u001b[0m         \u001b[38;5;124m\"\u001b[39m\u001b[38;5;124mwith non-numeric dtypes.\u001b[39m\u001b[38;5;124m\"\u001b[39m\n\u001b[0;32m   6456\u001b[0m     )\n\u001b[1;32m-> 6457\u001b[0m \u001b[38;5;28;01mreturn\u001b[39;00m \u001b[43mop\u001b[49m\u001b[43m(\u001b[49m\u001b[43mdelegate\u001b[49m\u001b[43m,\u001b[49m\u001b[43m \u001b[49m\u001b[43mskipna\u001b[49m\u001b[38;5;241;43m=\u001b[39;49m\u001b[43mskipna\u001b[49m\u001b[43m,\u001b[49m\u001b[43m \u001b[49m\u001b[38;5;241;43m*\u001b[39;49m\u001b[38;5;241;43m*\u001b[39;49m\u001b[43mkwds\u001b[49m\u001b[43m)\u001b[49m\n",
      "File \u001b[1;32m~\\AppData\\Local\\Packages\\PythonSoftwareFoundation.Python.3.11_qbz5n2kfra8p0\\LocalCache\\local-packages\\Python311\\site-packages\\pandas\\core\\nanops.py:147\u001b[0m, in \u001b[0;36mbottleneck_switch.__call__.<locals>.f\u001b[1;34m(values, axis, skipna, **kwds)\u001b[0m\n\u001b[0;32m    146\u001b[0m \u001b[38;5;28;01melse\u001b[39;00m:\n\u001b[1;32m--> 147\u001b[0m     result \u001b[38;5;241m=\u001b[39m \u001b[43malt\u001b[49m\u001b[43m(\u001b[49m\u001b[43mvalues\u001b[49m\u001b[43m,\u001b[49m\u001b[43m \u001b[49m\u001b[43maxis\u001b[49m\u001b[38;5;241;43m=\u001b[39;49m\u001b[43maxis\u001b[49m\u001b[43m,\u001b[49m\u001b[43m \u001b[49m\u001b[43mskipna\u001b[49m\u001b[38;5;241;43m=\u001b[39;49m\u001b[43mskipna\u001b[49m\u001b[43m,\u001b[49m\u001b[43m \u001b[49m\u001b[38;5;241;43m*\u001b[39;49m\u001b[38;5;241;43m*\u001b[39;49m\u001b[43mkwds\u001b[49m\u001b[43m)\u001b[49m\n\u001b[0;32m    149\u001b[0m \u001b[38;5;28;01mreturn\u001b[39;00m result\n",
      "File \u001b[1;32m~\\AppData\\Local\\Packages\\PythonSoftwareFoundation.Python.3.11_qbz5n2kfra8p0\\LocalCache\\local-packages\\Python311\\site-packages\\pandas\\core\\nanops.py:404\u001b[0m, in \u001b[0;36m_datetimelike_compat.<locals>.new_func\u001b[1;34m(values, axis, skipna, mask, **kwargs)\u001b[0m\n\u001b[0;32m    402\u001b[0m     mask \u001b[38;5;241m=\u001b[39m isna(values)\n\u001b[1;32m--> 404\u001b[0m result \u001b[38;5;241m=\u001b[39m \u001b[43mfunc\u001b[49m\u001b[43m(\u001b[49m\u001b[43mvalues\u001b[49m\u001b[43m,\u001b[49m\u001b[43m \u001b[49m\u001b[43maxis\u001b[49m\u001b[38;5;241;43m=\u001b[39;49m\u001b[43maxis\u001b[49m\u001b[43m,\u001b[49m\u001b[43m \u001b[49m\u001b[43mskipna\u001b[49m\u001b[38;5;241;43m=\u001b[39;49m\u001b[43mskipna\u001b[49m\u001b[43m,\u001b[49m\u001b[43m \u001b[49m\u001b[43mmask\u001b[49m\u001b[38;5;241;43m=\u001b[39;49m\u001b[43mmask\u001b[49m\u001b[43m,\u001b[49m\u001b[43m \u001b[49m\u001b[38;5;241;43m*\u001b[39;49m\u001b[38;5;241;43m*\u001b[39;49m\u001b[43mkwargs\u001b[49m\u001b[43m)\u001b[49m\n\u001b[0;32m    406\u001b[0m \u001b[38;5;28;01mif\u001b[39;00m datetimelike:\n",
      "File \u001b[1;32m~\\AppData\\Local\\Packages\\PythonSoftwareFoundation.Python.3.11_qbz5n2kfra8p0\\LocalCache\\local-packages\\Python311\\site-packages\\pandas\\core\\nanops.py:720\u001b[0m, in \u001b[0;36mnanmean\u001b[1;34m(values, axis, skipna, mask)\u001b[0m\n\u001b[0;32m    719\u001b[0m the_sum \u001b[38;5;241m=\u001b[39m values\u001b[38;5;241m.\u001b[39msum(axis, dtype\u001b[38;5;241m=\u001b[39mdtype_sum)\n\u001b[1;32m--> 720\u001b[0m the_sum \u001b[38;5;241m=\u001b[39m \u001b[43m_ensure_numeric\u001b[49m\u001b[43m(\u001b[49m\u001b[43mthe_sum\u001b[49m\u001b[43m)\u001b[49m\n\u001b[0;32m    722\u001b[0m \u001b[38;5;28;01mif\u001b[39;00m axis \u001b[38;5;129;01mis\u001b[39;00m \u001b[38;5;129;01mnot\u001b[39;00m \u001b[38;5;28;01mNone\u001b[39;00m \u001b[38;5;129;01mand\u001b[39;00m \u001b[38;5;28mgetattr\u001b[39m(the_sum, \u001b[38;5;124m\"\u001b[39m\u001b[38;5;124mndim\u001b[39m\u001b[38;5;124m\"\u001b[39m, \u001b[38;5;28;01mFalse\u001b[39;00m):\n",
      "File \u001b[1;32m~\\AppData\\Local\\Packages\\PythonSoftwareFoundation.Python.3.11_qbz5n2kfra8p0\\LocalCache\\local-packages\\Python311\\site-packages\\pandas\\core\\nanops.py:1701\u001b[0m, in \u001b[0;36m_ensure_numeric\u001b[1;34m(x)\u001b[0m\n\u001b[0;32m   1699\u001b[0m \u001b[38;5;28;01mif\u001b[39;00m \u001b[38;5;28misinstance\u001b[39m(x, \u001b[38;5;28mstr\u001b[39m):\n\u001b[0;32m   1700\u001b[0m     \u001b[38;5;66;03m# GH#44008, GH#36703 avoid casting e.g. strings to numeric\u001b[39;00m\n\u001b[1;32m-> 1701\u001b[0m     \u001b[38;5;28;01mraise\u001b[39;00m \u001b[38;5;167;01mTypeError\u001b[39;00m(\u001b[38;5;124mf\u001b[39m\u001b[38;5;124m\"\u001b[39m\u001b[38;5;124mCould not convert string \u001b[39m\u001b[38;5;124m'\u001b[39m\u001b[38;5;132;01m{\u001b[39;00mx\u001b[38;5;132;01m}\u001b[39;00m\u001b[38;5;124m'\u001b[39m\u001b[38;5;124m to numeric\u001b[39m\u001b[38;5;124m\"\u001b[39m)\n\u001b[0;32m   1702\u001b[0m \u001b[38;5;28;01mtry\u001b[39;00m:\n",
      "\u001b[1;31mTypeError\u001b[0m: Could not convert string 'SCORESCORESCORESCORESCORESCORESCORESCORESCORESCORESCORESCORESCORESCORECompilation ErrorCompilation ErrorSCORESCORESCORECompilation ErrorSCORESCORESCORECompilation ErrorCompilation ErrorCompilation ErrorSCORECompilation ErrorSCORESCORESCORESCORESCORESCORESCORESCORESCORESCORESCORECompilation ErrorSCORESCORESCORESCORESCORESCORESCORESCORESCORESCORESCORECompilation ErrorSCORESCORESCORESCORESCORESCORESCORESCORESCORESCORESCORESCORESCORESCORESCORESCORESCORESCORECompilation ErrorCompilation ErrorCompilation ErrorSCORECompilation ErrorSCORECompilation ErrorCompilation ErrorSCORECompilation ErrorSCORESCORECompilation ErrorSCORESCORECompilation ErrorCompilation ErrorSCORESCORECompilation ErrorCompilation ErrorCompilation ErrorSCORESCORESCORESCORESCORESCORESCORESCORESCORESCORESCORESCORESCORESCORESCORESCORECompilation ErrorSCORESCORECompilation ErrorCompilation ErrorCompilation ErrorCompilation ErrorSCORESCORESCORESCORESCORESCORESCORESCORESCORESCORESCORESCORESCORESCORESCORESCORESCORESCORESCORESCORESCORESCORESCORESCORESCORESCORECompilation ErrorSCORESCORESCORESCORESCORESCORESCORESCORESCORESCORESCORESCORESCORESCORESCORESCORESCORESCORESCORECompilation ErrorCompilation ErrorSCORESCORESCORECompilation ErrorSCORESCORESCORECompilation ErrorCompilation ErrorCompilation ErrorSCORECompilation ErrorSCORESCORESCORESCORESCORESCORESCORESCORESCORESCORESCORECompilation ErrorSCORESCORESCORESCORESCORESCORESCORESCORESCORESCORESCORECompilation ErrorSCORESCORESCORESCORESCORESCORESCORESCORESCORESCORESCORESCORESCORESCORESCORESCORESCORESCORECompilation ErrorCompilation ErrorCompilation ErrorSCORECompilation ErrorSCORECompilation ErrorCompilation ErrorSCORECompilation ErrorSCORESCORECompilation ErrorSCORESCORECompilation ErrorCompilation ErrorSCORESCORECompilation ErrorCompilation ErrorCompilation ErrorSCORESCORESCORESCORESCORESCORESCORESCORESCORESCORESCORESCORESCORESCORESCORESCORECompilation ErrorSCORESCORECompilation ErrorCompilation ErrorCompilation ErrorCompilation ErrorSCORESCORESCORESCORESCORESCORESCORESCORESCORESCORESCORESCORESCORESCORESCORESCORESCORESCORESCORESCORESCORESCORESCORESCORESCORESCORECompilation ErrorSCORESCORESCORESCORESCORESCORESCORESCORESCORESCORESCORESCORESCORESCORESCORESCORESCORESCORESCORECompilation ErrorCompilation ErrorSCORESCORESCORECompilation ErrorSCORESCORESCORECompilation ErrorCompilation ErrorCompilation ErrorSCORECompilation ErrorSCORESCORESCORESCORESCORESCORESCORESCORESCORESCORESCORECompilation ErrorSCORESCORESCORESCORESCORESCORESCORESCORESCORESCORESCORECompilation ErrorSCORESCORESCORESCORESCORESCORESCORESCORESCORESCORESCORESCORESCORESCORESCORESCORESCORESCORECompilation ErrorCompilation ErrorCompilation ErrorSCORECompilation ErrorSCORECompilation ErrorCompilation ErrorSCORECompilation ErrorSCORESCORECompilation ErrorSCORESCORECompilation ErrorCompilation ErrorSCORESCORECompilation ErrorCompilation ErrorCompilation ErrorSCORESCORESCORESCORESCORESCORESCORESCORESCORESCORESCORESCORESCORESCORESCORESCORECompilation ErrorSCORESCORECompilation ErrorCompilation ErrorCompilation ErrorCompilation ErrorSCORESCORESCORESCORESCORESCORESCORESCORESCORESCORESCORESCORESCORESCORESCORESCORESCORESCORESCORESCORESCORESCORESCORESCORESCORESCORECompilation ErrorSCORESCORESCORESCORESCORESCORESCORESCORESCORESCORESCORESCORESCORESCORESCORESCORESCORESCORESCORECompilation ErrorCompilation ErrorSCORESCORESCORECompilation ErrorSCORESCORESCORECompilation ErrorCompilation ErrorCompilation ErrorSCORECompilation ErrorSCORESCORESCORESCORESCORESCORESCORESCORESCORESCORESCORECompilation ErrorSCORESCORESCORESCORESCORESCORESCORESCORESCORESCORESCORECompilation ErrorSCORESCORESCORESCORESCORESCORESCORESCORESCORESCORESCORESCORESCORESCORESCORESCORESCORESCORECompilation ErrorCompilation ErrorCompilation ErrorSCORECompilation ErrorSCORECompilation ErrorCompilation ErrorSCORECompilation ErrorSCORESCORECompilation ErrorSCORESCORECompilation ErrorCompilation ErrorSCORESCORECompilation ErrorCompilation ErrorCompilation ErrorSCORESCORESCORESCORESCORESCORESCORESCORESCORESCORESCORESCORESCORESCORESCORESCORECompilation ErrorSCORESCORECompilation ErrorCompilation ErrorCompilation ErrorCompilation ErrorSCORESCORESCORESCORESCORESCORESCORESCORESCORESCORESCORESCORESCORESCORESCORESCORESCORESCORESCORESCORESCORESCORESCORESCORESCORESCORECompilation ErrorSCORESCORESCORESCORESCORESCORESCORESCORESCORESCORESCORESCORESCORESCORESCORESCORESCORESCORESCORECompilation ErrorCompilation ErrorSCORESCORESCORECompilation ErrorSCORESCORESCORECompilation ErrorCompilation ErrorCompilation ErrorSCORECompilation ErrorSCORESCORESCORESCORESCORESCORESCORESCORESCORESCORESCORECompilation ErrorSCORESCORESCORESCORESCORESCORESCORESCORESCORESCORESCORECompilation ErrorSCORESCORESCORESCORESCORESCORESCORESCORESCORESCORESCORESCORESCORESCORESCORESCORESCORESCORECompilation ErrorCompilation ErrorCompilation ErrorSCORECompilation ErrorSCORECompilation ErrorCompilation ErrorSCORECompilation ErrorSCORESCORECompilation ErrorSCORESCORECompilation ErrorCompilation ErrorSCORESCORECompilation ErrorCompilation ErrorCompilation ErrorSCORESCORESCORESCORESCORESCORESCORESCORESCORESCORESCORESCORESCORESCORESCORESCORECompilation ErrorSCORESCORECompilation ErrorCompilation ErrorCompilation ErrorCompilation ErrorSCORESCORESCORESCORESCORESCORESCORESCORESCORESCORESCORESCORESCORESCORESCORESCORESCORESCORESCORESCORESCORESCORESCORESCORESCORESCORECompilation ErrorSCORESCORESCORESCORESCORESCORESCORESCORESCORESCORESCORESCORESCORESCORESCORESCORESCORESCORESCORECompilation ErrorCompilation ErrorSCORESCORESCORECompilation ErrorSCORESCORESCORECompilation ErrorCompilation ErrorCompilation ErrorSCORECompilation ErrorSCORESCORESCORESCORESCORESCORESCORESCORESCORESCORESCORECompilation ErrorSCORESCORESCORESCORESCORESCORESCORESCORESCORESCORESCORECompilation ErrorSCORESCORESCORESCORESCORESCORESCORESCORESCORESCORESCORESCORESCORESCORESCORESCORESCORESCORECompilation ErrorCompilation ErrorCompilation ErrorSCORECompilation ErrorSCORECompilation ErrorCompilation ErrorSCORECompilation ErrorSCORESCORECompilation ErrorSCORESCORECompilation ErrorCompilation ErrorSCORESCORECompilation ErrorCompilation ErrorCompilation ErrorSCORESCORESCORESCORESCORESCORESCORESCORESCORESCORESCORESCORESCORESCORESCORESCORECompilation ErrorSCORESCORECompilation ErrorCompilation ErrorCompilation ErrorCompilation ErrorSCORESCORESCORESCORESCORESCORESCORESCORESCORESCORESCORESCORESCORESCORESCORESCORESCORESCORESCORESCORESCORESCORESCORESCORESCORESCORECompilation ErrorSCORESCORESCORESCORESCORESCORESCORESCORESCORESCORESCORESCORESCORESCORESCORESCORESCORESCORESCORECompilation ErrorCompilation ErrorSCORESCORESCORECompilation ErrorSCORESCORESCORECompilation ErrorCompilation ErrorCompilation ErrorSCORECompilation ErrorSCORESCORESCORESCORESCORESCORESCORESCORESCORESCORESCORECompilation ErrorSCORESCORESCORESCORESCORESCORESCORESCORESCORESCORESCORECompilation ErrorSCORESCORESCORESCORESCORESCORESCORESCORESCORESCORESCORESCORESCORESCORESCORESCORESCORESCORECompilation ErrorCompilation ErrorCompilation ErrorSCORECompilation ErrorSCORECompilation ErrorCompilation ErrorSCORECompilation ErrorSCORESCORECompilation ErrorSCORESCORECompilation ErrorCompilation ErrorSCORESCORECompilation ErrorCompilation ErrorCompilation ErrorSCORESCORESCORESCORESCORESCORESCORESCORESCORESCORESCORESCORESCORESCORESCORESCORECompilation ErrorSCORESCORECompilation ErrorCompilation ErrorCompilation ErrorCompilation ErrorSCORESCORESCORESCORESCORESCORESCORESCORESCORESCORESCORESCORESCORESCORESCORESCORESCORESCORESCORESCORESCORESCORESCORESCORESCORESCORECompilation ErrorSCORESCORESCORESCORESCORESCORESCORESCORESCORESCORESCORESCORESCORESCORESCORESCORESCORESCORESCORECompilation ErrorCompilation ErrorSCORESCORESCORECompilation ErrorSCORESCORESCORECompilation ErrorCompilation ErrorCompilation ErrorSCORECompilation ErrorSCORESCORESCORESCORESCORESCORESCORESCORESCORESCORESCORECompilation ErrorSCORESCORESCORESCORESCORESCORESCORESCORESCORESCORESCORECompilation ErrorSCORESCORESCORESCORESCORESCORESCORESCORESCORESCORESCORESCORESCORESCORESCORESCORESCORESCORECompilation ErrorCompilation ErrorCompilation ErrorSCORECompilation ErrorSCORECompilation ErrorCompilation ErrorSCORECompilation ErrorSCORESCORECompilation ErrorSCORESCORECompilation ErrorCompilation ErrorSCORESCORECompilation ErrorCompilation ErrorCompilation ErrorSCORESCORESCORESCORESCORESCORESCORESCORESCORESCORESCORESCORESCORESCORESCORESCORECompilation ErrorSCORESCORECompilation ErrorCompilation ErrorCompilation ErrorCompilation ErrorSCORESCORESCORESCORESCORESCORESCORESCORESCORESCORESCORESCORESCORESCORESCORESCORESCORESCORESCORESCORESCORESCORESCORESCORESCORESCORECompilation ErrorSCORESCORESCORESCORESCORESCORESCORESCORESCORESCORESCORESCORESCORESCORESCORESCORESCORESCORESCORECompilation ErrorCompilation ErrorSCORESCORESCORECompilation ErrorSCORESCORESCORECompilation ErrorCompilation ErrorCompilation ErrorSCORECompilation ErrorSCORESCORESCORESCORESCORESCORESCORESCORESCORESCORESCORECompilation ErrorSCORESCORESCORESCORESCORESCORESCORESCORESCORESCORESCORECompilation ErrorSCORESCORESCORESCORESCORESCORESCORESCORESCORESCORESCORESCORESCORESCORESCORESCORESCORESCORECompilation ErrorCompilation ErrorCompilation ErrorSCORECompilation ErrorSCORECompilation ErrorCompilation ErrorSCORECompilation ErrorSCORESCORECompilation ErrorSCORESCORECompilation ErrorCompilation ErrorSCORESCORECompilation ErrorCompilation ErrorCompilation ErrorSCORESCORESCORESCORESCORESCORESCORESCORESCORESCORESCORESCORESCORESCORESCORESCORECompilation ErrorSCORESCORECompilation ErrorCompilation ErrorCompilation ErrorCompilation ErrorSCORESCORESCORESCORESCORESCORESCORESCORESCORESCORESCORESCORESCORESCORESCORESCORESCORESCORESCORESCORESCORESCORESCORESCORESCORESCORECompilation ErrorSCORESCORESCORESCORESCORESCORESCORESCORESCORESCORESCORESCORESCORESCORESCORESCORESCORESCORESCORECompilation ErrorCompilation ErrorSCORESCORESCORECompilation ErrorSCORESCORESCORECompilation ErrorCompilation ErrorCompilation ErrorSCORECompilation ErrorSCORESCORESCORESCORESCORESCORESCORESCORESCORESCORESCORECompilation ErrorSCORESCORESCORESCORESCORESCORESCORESCORESCORESCORESCORECompilation ErrorSCORESCORESCORESCORESCORESCORESCORESCORESCORESCORESCORESCORESCORESCORESCORESCORESCORESCORECompilation ErrorCompilation ErrorCompilation ErrorSCORECompilation ErrorSCORECompilation ErrorCompilation ErrorSCORECompilation ErrorSCORESCORECompilation ErrorSCORESCORECompilation ErrorCompilation ErrorSCORESCORECompilation ErrorCompilation ErrorCompilation ErrorSCORESCORESCORESCORESCORESCORESCORESCORESCORESCORESCORESCORESCORESCORESCORESCORECompilation ErrorSCORESCORECompilation ErrorCompilation ErrorCompilation ErrorCompilation ErrorSCORESCORESCORESCORESCORESCORESCORESCORESCORESCORESCORESCORESCORESCORESCORESCORESCORESCORESCORESCORESCORESCORESCORESCORESCORESCORECompilation ErrorSCORESCORESCORESCORESCORESCORESCORESCORESCORESCORESCORESCORESCORESCORESCORESCORESCORESCORESCORECompilation ErrorCompilation ErrorSCORESCORESCORECompilation ErrorSCORESCORESCORECompilation ErrorCompilation ErrorCompilation ErrorSCORECompilation ErrorSCORESCORESCORESCORESCORESCORESCORESCORESCORESCORESCORECompilation ErrorSCORESCORESCORESCORESCORESCORESCORESCORESCORESCORESCORECompilation ErrorSCORESCORESCORESCORESCORESCORESCORESCORESCORESCORESCORESCORESCORESCORESCORESCORESCORESCORECompilation ErrorCompilation ErrorCompilation ErrorSCORECompilation ErrorSCORECompilation ErrorCompilation ErrorSCORECompilation ErrorSCORESCORECompilation ErrorSCORESCORECompilation ErrorCompilation ErrorSCORESCORECompilation ErrorCompilation ErrorCompilation ErrorSCORESCORESCORESCORESCORESCORESCORESCORESCORESCORESCORESCORESCORESCORESCORESCORECompilation ErrorSCORESCORECompilation ErrorCompilation ErrorCompilation ErrorCompilation ErrorSCORESCORESCORESCORESCORESCORESCORESCORESCORESCORESCORESCORESCORESCORESCORESCORESCORESCORESCORESCORESCORESCORESCORESCORESCORESCORECompilation ErrorSCORESCORESCORESCORESCORESCORESCORESCORESCORESCORESCORESCORESCORESCORESCORESCORESCORESCORESCORECompilation ErrorCompilation ErrorSCORESCORESCORECompilation ErrorSCORESCORESCORECompilation ErrorCompilation ErrorCompilation ErrorSCORECompilation ErrorSCORESCORESCORESCORESCORESCORESCORESCORESCORESCORESCORECompilation ErrorSCORESCORESCORESCORESCORESCORESCORESCORESCORESCORESCORECompilation ErrorSCORESCORESCORESCORESCORESCORESCORESCORESCORESCORESCORESCORESCORESCORESCORESCORESCORESCORECompilation ErrorCompilation ErrorCompilation ErrorSCORECompilation ErrorSCORECompilation ErrorCompilation ErrorSCORECompilation ErrorSCORESCORECompilation ErrorSCORESCORECompilation ErrorCompilation ErrorSCORESCORECompilation ErrorCompilation ErrorCompilation ErrorSCORESCORESCORESCORESCORESCORESCORESCORESCORESCORESCORESCORESCORESCORESCORESCORECompilation ErrorSCORESCORECompilation ErrorCompilation ErrorCompilation ErrorCompilation ErrorSCORESCORESCORESCORESCORESCORESCORESCORESCORESCORESCORESCORESCORESCORESCORESCORESCORESCORESCORESCORESCORESCORESCORESCORESCORESCORECompilation ErrorSCORESCORESCORESCORESCORESCORESCORESCORESCORESCORESCORESCORESCORESCORESCORESCORESCORESCORESCORECompilation ErrorCompilation ErrorSCORESCORESCORECompilation ErrorSCORESCORESCORECompilation ErrorCompilation ErrorCompilation ErrorSCORECompilation ErrorSCORESCORESCORESCORESCORESCORESCORESCORESCORESCORESCORECompilation ErrorSCORESCORESCORESCORESCORESCORESCORESCORESCORESCORESCORECompilation ErrorSCORESCORESCORESCORESCORESCORESCORESCORESCORESCORESCORESCORESCORESCORESCORESCORESCORESCORECompilation ErrorCompilation ErrorCompilation ErrorSCORECompilation ErrorSCORECompilation ErrorCompilation ErrorSCORECompilation ErrorSCORESCORECompilation ErrorSCORESCORECompilation ErrorCompilation ErrorSCORESCORECompilation ErrorCompilation ErrorCompilation ErrorSCORESCORESCORESCORESCORESCORESCORESCORESCORESCORESCORESCORESCORESCORESCORESCORECompilation ErrorSCORESCORECompilation ErrorCompilation ErrorCompilation ErrorCompilation ErrorSCORESCORESCORESCORESCORESCORESCORESCORESCORESCORESCORESCORESCORESCORESCORESCORESCORESCORESCORESCORESCORESCORESCORESCORESCORESCORECompilation ErrorSCORESCORESCORESCORESCORESCORESCORESCORESCORESCORESCORESCORESCORESCORESCORESCORESCORESCORESCORECompilation ErrorCompilation ErrorSCORESCORESCORECompilation ErrorSCORESCORESCORECompilation ErrorCompilation ErrorCompilation ErrorSCORECompilation ErrorSCORESCORESCORESCORESCORESCORESCORESCORESCORESCORESCORECompilation ErrorSCORESCORESCORESCORESCORESCORESCORESCORESCORESCORESCORECompilation ErrorSCORESCORESCORESCORESCORESCORESCORESCORESCORESCORESCORESCORESCORESCORESCORESCORESCORESCORECompilation ErrorCompilation ErrorCompilation ErrorSCORECompilation ErrorSCORECompilation ErrorCompilation ErrorSCORECompilation ErrorSCORESCORECompilation ErrorSCORESCORECompilation ErrorCompilation ErrorSCORESCORECompilation ErrorCompilation ErrorCompilation ErrorSCORESCORESCORESCORESCORESCORESCORESCORESCORESCORESCORESCORESCORESCORESCORESCORECompilation ErrorSCORESCORECompilation ErrorCompilation ErrorCompilation ErrorCompilation ErrorSCORESCORESCORESCORESCORESCORESCORESCORESCORESCORESCORESCORESCORESCORESCORESCORESCORESCORESCORESCORESCORESCORESCORESCORESCORESCORECompilation ErrorSCORESCORESCORESCORESCORESCORESCORESCORESCORESCORESCORESCORESCORESCORESCORESCORESCORESCORESCORECompilation ErrorCompilation ErrorSCORESCORESCORECompilation ErrorSCORESCORESCORECompilation ErrorCompilation ErrorCompilation ErrorSCORECompilation ErrorSCORESCORESCORESCORESCORESCORESCORESCORESCORESCORESCORECompilation ErrorSCORESCORESCORESCORESCORESCORESCORESCORESCORESCORESCORECompilation ErrorSCORESCORESCORESCORESCORESCORESCORESCORESCORESCORESCORESCORESCORESCORESCORESCORESCORESCORECompilation ErrorCompilation ErrorCompilation ErrorSCORECompilation ErrorSCORECompilation ErrorCompilation ErrorSCORECompilation ErrorSCORESCORECompilation ErrorSCORESCORECompilation ErrorCompilation ErrorSCORESCORECompilation ErrorCompilation ErrorCompilation ErrorSCORESCORESCORESCORESCORESCORESCORESCORESCORESCORESCORESCORESCORESCORESCORESCORECompilation ErrorSCORESCORECompilation ErrorCompilation ErrorCompilation ErrorCompilation ErrorSCORESCORESCORESCORESCORESCORESCORESCORESCORESCORESCORESCORESCORESCORESCORESCORESCORESCORESCORESCORESCORESCORESCORESCORESCORESCORECompilation ErrorSCORESCORESCORESCORESCORESCORESCORESCORESCORESCORESCORESCORESCORESCORESCORESCORESCORESCORESCORECompilation ErrorCompilation ErrorSCORESCORESCORECompilation ErrorSCORESCORESCORECompilation ErrorCompilation ErrorCompilation ErrorSCORECompilation ErrorSCORESCORESCORESCORESCORESCORESCORESCORESCORESCORESCORECompilation ErrorSCORESCORESCORESCORESCORESCORESCORESCORESCORESCORESCORECompilation ErrorSCORESCORESCORESCORESCORESCORESCORESCORESCORESCORESCORESCORESCORESCORESCORESCORESCORESCORECompilation ErrorCompilation ErrorCompilation ErrorSCORECompilation ErrorSCORECompilation ErrorCompilation ErrorSCORECompilation ErrorSCORESCORECompilation ErrorSCORESCORECompilation ErrorCompilation ErrorSCORESCORECompilation ErrorCompilation ErrorCompilation ErrorSCORESCORESCORESCORESCORESCORESCORESCORESCORESCORESCORESCORESCORESCORESCORESCORECompilation ErrorSCORESCORECompilation ErrorCompilation ErrorCompilation ErrorCompilation ErrorSCORESCORESCORESCORESCORESCORESCORESCORESCORESCORESCORESCORESCORESCORESCORESCORESCORESCORESCORESCORESCORESCORESCORESCORESCORESCORECompilation ErrorSCORESCORESCORESCORESCORESCORESCORESCORESCORESCORESCORESCORESCORESCORESCORESCORESCORESCORESCORECompilation ErrorCompilation ErrorSCORESCORESCORECompilation ErrorSCORESCORESCORECompilation ErrorCompilation ErrorCompilation ErrorSCORECompilation ErrorSCORESCORESCORESCORESCORESCORESCORESCORESCORESCORESCORECompilation ErrorSCORESCORESCORESCORESCORESCORESCORESCORESCORESCORESCORECompilation ErrorSCORESCORESCORESCORESCORESCORESCORESCORESCORESCORESCORESCORESCORESCORESCORESCORESCORESCORECompilation ErrorCompilation ErrorCompilation ErrorSCORECompilation ErrorSCORECompilation ErrorCompilation ErrorSCORECompilation ErrorSCORESCORECompilation ErrorSCORESCORECompilation ErrorCompilation ErrorSCORESCORECompilation ErrorCompilation ErrorCompilation ErrorSCORESCORESCORESCORESCORESCORESCORESCORESCORESCORESCORESCORESCORESCORESCORESCORECompilation ErrorSCORESCORECompilation ErrorCompilation ErrorCompilation ErrorCompilation ErrorSCORESCORESCORESCORESCORESCORESCORESCORESCORESCORESCORESCORESCORESCORESCORESCORESCORESCORESCORESCORESCORESCORESCORESCORESCORESCORECompilation ErrorSCORESCORESCORESCORESCORESCORESCORESCORESCORESCORESCORESCORESCORESCORESCORESCORESCORESCORESCORECompilation ErrorCompilation ErrorSCORESCORESCORECompilation ErrorSCORESCORESCORECompilation ErrorCompilation ErrorCompilation ErrorSCORECompilation ErrorSCORESCORESCORESCORESCORESCORESCORESCORESCORESCORESCORECompilation ErrorSCORESCORESCORESCORESCORESCORESCORESCORESCORESCORESCORECompilation ErrorSCORESCORESCORESCORESCORESCORESCORESCORESCORESCORESCORESCORESCORESCORESCORESCORESCORESCORECompilation ErrorCompilation ErrorCompilation ErrorSCORECompilation ErrorSCORECompilation ErrorCompilation ErrorSCORECompilation ErrorSCORESCORECompilation ErrorSCORESCORECompilation ErrorCompilation ErrorSCORESCORECompilation ErrorCompilation ErrorCompilation ErrorSCORESCORESCORESCORESCORESCORESCORESCORESCORESCORESCORESCORESCORESCORESCORESCORECompilation ErrorSCORESCORECompilation ErrorCompilation ErrorCompilation ErrorCompilation ErrorSCORESCORESCORESCORESCORESCORESCORESCORESCORESCORESCORESCORESCORESCORESCORESCORESCORESCORESCORESCORESCORESCORESCORESCORESCORESCORECompilation ErrorSCORESCORESCORESCORESCORESCORESCORESCORESCORESCORESCORESCORESCORESCORESCORESCORESCORESCORESCORECompilation ErrorCompilation ErrorSCORESCORESCORECompilation ErrorSCORESCORESCORECompilation ErrorCompilation ErrorCompilation ErrorSCORECompilation ErrorSCORESCORESCORESCORESCORESCORESCORESCORESCORESCORESCORECompilation ErrorSCORESCORESCORESCORESCORESCORESCORESCORESCORESCORESCORECompilation ErrorSCORESCORESCORESCORESCORESCORESCORESCORESCORESCORESCORESCORESCORESCORESCORESCORESCORESCORECompilation ErrorCompilation ErrorCompilation ErrorSCORECompilation ErrorSCORECompilation ErrorCompilation ErrorSCORECompilation ErrorSCORESCORECompilation ErrorSCORESCORECompilation ErrorCompilation ErrorSCORESCORECompilation ErrorCompilation ErrorCompilation ErrorSCORESCORESCORESCORESCORESCORESCORESCORESCORESCORESCORESCORESCORESCORESCORESCORECompilation ErrorSCORESCORECompilation ErrorCompilation ErrorCompilation ErrorCompilation ErrorSCORESCORESCORESCORESCORESCORESCORESCORESCORESCORESCORESCORESCORESCORESCORESCORESCORESCORESCORESCORESCORESCORESCORESCORESCORESCORECompilation ErrorSCORESCORESCORESCORESCORESCORESCORESCORESCORESCORESCORESCORESCORESCORESCORESCORESCORESCORESCORECompilation ErrorCompilation ErrorSCORESCORESCORECompilation ErrorSCORESCORESCORECompilation ErrorCompilation ErrorCompilation ErrorSCORECompilation ErrorSCORESCORESCORESCORESCORESCORESCORESCORESCORESCORESCORECompilation ErrorSCORESCORESCORESCORESCORESCORESCORESCORESCORESCORESCORECompilation ErrorSCORESCORESCORESCORESCORESCORESCORESCORESCORESCORESCORESCORESCORESCORESCORESCORESCORESCORECompilation ErrorCompilation ErrorCompilation ErrorSCORECompilation ErrorSCORECompilation ErrorCompilation ErrorSCORECompilation ErrorSCORESCORECompilation ErrorSCORESCORECompilation ErrorCompilation ErrorSCORESCORECompilation ErrorCompilation ErrorCompilation ErrorSCORESCORESCORESCORESCORESCORESCORESCORESCORESCORESCORESCORESCORESCORESCORESCORECompilation ErrorSCORESCORECompilation ErrorCompilation ErrorCompilation ErrorCompilation ErrorSCORESCORESCORESCORESCORESCORESCORESCORESCORESCORESCORESCORESCORESCORESCORESCORESCORESCORESCORESCORESCORESCORESCORESCORESCORESCORECompilation ErrorSCORESCORESCORESCORESCORESCORESCORESCORESCORESCORESCORESCORESCORESCORESCORESCORESCORESCORESCORECompilation ErrorCompilation ErrorSCORESCORESCORECompilation ErrorSCORESCORESCORECompilation ErrorCompilation ErrorCompilation ErrorSCORECompilation ErrorSCORESCORESCORESCORESCORESCORESCORESCORESCORESCORESCORECompilation ErrorSCORESCORESCORESCORESCORESCORESCORESCORESCORESCORESCORECompilation ErrorSCORESCORESCORESCORESCORESCORESCORESCORESCORESCORESCORESCORESCORESCORESCORESCORESCORESCORECompilation ErrorCompilation ErrorCompilation ErrorSCORECompilation ErrorSCORECompilation ErrorCompilation ErrorSCORECompilation ErrorSCORESCORECompilation ErrorSCORESCORECompilation ErrorCompilation ErrorSCORESCORECompilation ErrorCompilation ErrorCompilation ErrorSCORESCORESCORESCORESCORESCORESCORESCORESCORESCORESCORESCORESCORESCORESCORESCORECompilation ErrorSCORESCORECompilation ErrorCompilation ErrorCompilation ErrorCompilation ErrorSCORESCORESCORESCORESCORESCORESCORESCORESCORESCORESCORESCORESCORESCORESCORESCORESCORESCORESCORESCORESCORESCORESCORESCORESCORESCORECompilation ErrorSCORESCORESCORESCORESCORESCORESCORESCORESCORESCORESCORESCORESCORESCORESCORESCORESCORESCORESCORECompilation ErrorCompilation ErrorSCORESCORESCORECompilation ErrorSCORESCORESCORECompilation ErrorCompilation ErrorCompilation ErrorSCORECompilation ErrorSCORESCORESCORESCORESCORESCORESCORESCORESCORESCORESCORECompilation ErrorSCORESCORESCORESCORESCORESCORESCORESCORESCORESCORESCORECompilation ErrorSCORESCORESCORESCORESCORESCORESCORESCORESCORESCORESCORESCORESCORESCORESCORESCORESCORESCORECompilation ErrorCompilation ErrorCompilation ErrorSCORECompilation ErrorSCORECompilation ErrorCompilation ErrorSCORECompilation ErrorSCORESCORECompilation ErrorSCORESCORECompilation ErrorCompilation ErrorSCORESCORECompilation ErrorCompilation ErrorCompilation ErrorSCORESCORESCORESCORESCORESCORESCORESCORESCORESCORESCORESCORESCORESCORESCORESCORECompilation ErrorSCORESCORECompilation ErrorCompilation ErrorCompilation ErrorCompilation ErrorSCORESCORESCORESCORESCORESCORESCORESCORESCORESCORESCORESCORESCORESCORESCORESCORESCORESCORESCORESCORESCORESCORESCORESCORESCORESCORECompilation ErrorSCORESCORESCORESCORESCORESCORESCORESCORESCORESCORESCORESCORESCORESCORESCORESCORESCORESCORESCORECompilation ErrorCompilation ErrorSCORESCORESCORECompilation ErrorSCORESCORESCORECompilation ErrorCompilation ErrorCompilation ErrorSCORECompilation ErrorSCORESCORESCORESCORESCORESCORESCORESCORESCORESCORESCORECompilation ErrorSCORESCORESCORESCORESCORESCORESCORESCORESCORESCORESCORECompilation ErrorSCORESCORESCORESCORESCORESCORESCORESCORESCORESCORESCORESCORESCORESCORESCORESCORESCORESCORECompilation ErrorCompilation ErrorCompilation ErrorSCORECompilation ErrorSCORECompilation ErrorCompilation ErrorSCORECompilation ErrorSCORESCORECompilation ErrorSCORESCORECompilation ErrorCompilation ErrorSCORESCORECompilation ErrorCompilation ErrorCompilation ErrorSCORESCORESCORESCORESCORESCORESCORESCORESCORESCORESCORESCORESCORESCORESCORESCORECompilation ErrorSCORESCORECompilation ErrorCompilation ErrorCompilation ErrorCompilation ErrorSCORESCORESCORESCORESCORESCORESCORESCORESCORESCORESCORESCORESCORESCORESCORESCORESCORESCORESCORESCORESCORESCORESCORESCORESCORESCORECompilation ErrorSCORESCORESCORESCORESCORESCORESCORESCORESCORESCORESCORESCORESCORESCORESCORESCORESCORESCORESCORECompilation ErrorCompilation ErrorSCORESCORESCORECompilation ErrorSCORESCORESCORECompilation ErrorCompilation ErrorCompilation ErrorSCORECompilation ErrorSCORESCORESCORESCORESCORESCORESCORESCORESCORESCORESCORECompilation ErrorSCORESCORESCORESCORESCORESCORESCORESCORESCORESCORESCORECompilation ErrorSCORESCORESCORESCORESCORESCORESCORESCORESCORESCORESCORESCORESCORESCORESCORESCORESCORESCORECompilation ErrorCompilation ErrorCompilation ErrorSCORECompilation ErrorSCORECompilation ErrorCompilation ErrorSCORECompilation ErrorSCORESCORECompilation ErrorSCORESCORECompilation ErrorCompilation ErrorSCORESCORECompilation ErrorCompilation ErrorCompilation ErrorSCORESCORESCORESCORESCORESCORESCORESCORESCORESCORESCORESCORESCORESCORESCORESCORECompilation ErrorSCORESCORECompilation ErrorCompilation ErrorCompilation ErrorCompilation ErrorSCORESCORESCORESCORESCORESCORESCORESCORESCORESCORESCORESCORESCORESCORESCORESCORESCORESCORESCORESCORESCORESCORESCORESCORESCORESCORECompilation ErrorSCORESCORESCORESCORESCORESCORESCORESCORESCORESCORESCORESCORESCORESCORESCORESCORESCORESCORESCORECompilation ErrorCompilation ErrorSCORESCORESCORECompilation ErrorSCORESCORESCORECompilation ErrorCompilation ErrorCompilation ErrorSCORECompilation ErrorSCORESCORESCORESCORESCORESCORESCORESCORESCORESCORESCORECompilation ErrorSCORESCORESCORESCORESCORESCORESCORESCORESCORESCORESCORECompilation ErrorSCORESCORESCORESCORESCORESCORESCORESCORESCORESCORESCORESCORESCORESCORESCORESCORESCORESCORECompilation ErrorCompilation ErrorCompilation ErrorSCORECompilation ErrorSCORECompilation ErrorCompilation ErrorSCORECompilation ErrorSCORESCORECompilation ErrorSCORESCORECompilation ErrorCompilation ErrorSCORESCORECompilation ErrorCompilation ErrorCompilation ErrorSCORESCORESCORESCORESCORESCORESCORESCORESCORESCORESCORESCORESCORESCORESCORESCORECompilation ErrorSCORESCORECompilation ErrorCompilation ErrorCompilation ErrorCompilation ErrorSCORESCORESCORESCORESCORESCORESCORESCORESCORESCORESCORESCORESCORESCORESCORESCORESCORESCORESCORESCORESCORESCORESCORESCORESCORESCORECompilation ErrorSCORESCORESCORESCORESCORESCORESCORESCORESCORESCORESCORESCORESCORESCORESCORESCORESCORESCORESCORECompilation ErrorCompilation ErrorSCORESCORESCORECompilation ErrorSCORESCORESCORECompilation ErrorCompilation ErrorCompilation ErrorSCORECompilation ErrorSCORESCORESCORESCORESCORESCORESCORESCORESCORESCORESCORECompilation ErrorSCORESCORESCORESCORESCORESCORESCORESCORESCORESCORESCORECompilation ErrorSCORESCORESCORESCORESCORESCORESCORESCORESCORESCORESCORESCORESCORESCORESCORESCORESCORESCORECompilation ErrorCompilation ErrorCompilation ErrorSCORECompilation ErrorSCORECompilation ErrorCompilation ErrorSCORECompilation ErrorSCORESCORECompilation ErrorSCORESCORECompilation ErrorCompilation ErrorSCORESCORECompilation ErrorCompilation ErrorCompilation ErrorSCORESCORESCORESCORESCORESCORESCORESCORESCORESCORESCORESCORESCORESCORESCORESCORECompilation ErrorSCORESCORECompilation ErrorCompilation ErrorCompilation ErrorCompilation ErrorSCORESCORESCORESCORESCORESCORESCORESCORESCORESCORESCORESCORESCORESCORESCORESCORESCORESCORESCORESCORESCORESCORESCORESCORESCORESCORECompilation ErrorSCORESCORESCORESCORESCORESCORESCORESCORESCORESCORESCORESCORESCORESCORESCORESCORESCORESCORESCORECompilation ErrorCompilation ErrorSCORESCORESCORECompilation ErrorSCORESCORESCORECompilation ErrorCompilation ErrorCompilation ErrorSCORECompilation ErrorSCORESCORESCORESCORESCORESCORESCORESCORESCORESCORESCORECompilation ErrorSCORESCORESCORESCORESCORESCORESCORESCORESCORESCORESCORECompilation ErrorSCORESCORESCORESCORESCORESCORESCORESCORESCORESCORESCORESCORESCORESCORESCORESCORESCORESCORECompilation ErrorCompilation ErrorCompilation ErrorSCORECompilation ErrorSCORECompilation ErrorCompilation ErrorSCORECompilation ErrorSCORESCORECompilation ErrorSCORESCORECompilation ErrorCompilation ErrorSCORESCORECompilation ErrorCompilation ErrorCompilation ErrorSCORESCORESCORESCORESCORESCORESCORESCORESCORESCORESCORESCORESCORESCORESCORESCORECompilation ErrorSCORESCORECompilation ErrorCompilation ErrorCompilation ErrorCompilation ErrorSCORESCORESCORESCORESCORESCORESCORESCORESCORESCORESCORESCORESCORESCORESCORESCORESCORESCORESCORESCORESCORESCORESCORESCORESCORESCORECompilation ErrorSCORESCORESCORESCORESCORESCORESCORESCORESCORESCORESCORESCORESCORESCORESCORESCORESCORESCORESCORECompilation ErrorCompilation ErrorSCORESCORESCORECompilation ErrorSCORESCORESCORECompilation ErrorCompilation ErrorCompilation ErrorSCORECompilation ErrorSCORESCORESCORESCORESCORESCORESCORESCORESCORESCORESCORECompilation ErrorSCORESCORESCORESCORESCORESCORESCORESCORESCORESCORESCORECompilation ErrorSCORESCORESCORESCORESCORESCORESCORESCORESCORESCORESCORESCORESCORESCORESCORESCORESCORESCORECompilation ErrorCompilation ErrorCompilation ErrorSCORECompilation ErrorSCORECompilation ErrorCompilation ErrorSCORECompilation ErrorSCORESCORECompilation ErrorSCORESCORECompilation ErrorCompilation ErrorSCORESCORECompilation ErrorCompilation ErrorCompilation ErrorSCORESCORESCORESCORESCORESCORESCORESCORESCORESCORESCORESCORESCORESCORESCORESCORECompilation ErrorSCORESCORECompilation ErrorCompilation ErrorCompilation ErrorCompilation ErrorSCORESCORESCORESCORESCORESCORESCORESCORESCORESCORESCORESCORESCORESCORESCORESCORESCORESCORESCORESCORESCORESCORESCORESCORESCORESCORECompilation ErrorSCORESCORESCORESCORESCORESCORESCORESCORESCORESCORESCORESCORESCORESCORESCORESCORESCORESCORESCORECompilation ErrorCompilation ErrorSCORESCORESCORECompilation ErrorSCORESCORESCORECompilation ErrorCompilation ErrorCompilation ErrorSCORECompilation ErrorSCORESCORESCORESCORESCORESCORESCORESCORESCORESCORESCORECompilation ErrorSCORESCORESCORESCORESCORESCORESCORESCORESCORESCORESCORECompilation ErrorSCORESCORESCORESCORESCORESCORESCORESCORESCORESCORESCORESCORESCORESCORESCORESCORESCORESCORECompilation ErrorCompilation ErrorCompilation ErrorSCORECompilation ErrorSCORECompilation ErrorCompilation ErrorSCORECompilation ErrorSCORESCORECompilation ErrorSCORESCORECompilation ErrorCompilation ErrorSCORESCORECompilation ErrorCompilation ErrorCompilation ErrorSCORESCORESCORESCORESCORESCORESCORESCORESCORESCORESCORESCORESCORESCORESCORESCORECompilation ErrorSCORESCORECompilation ErrorCompilation ErrorCompilation ErrorCompilation ErrorSCORESCORESCORESCORESCORESCORESCORESCORESCORESCORESCORESCORESCORESCORESCORESCORESCORESCORESCORESCORESCORESCORESCORESCORESCORESCORECompilation ErrorSCORESCORESCORESCORESCORESCORESCORESCORESCORESCORESCORESCORESCORESCORESCORESCORESCORESCORESCORECompilation ErrorCompilation ErrorSCORESCORESCORECompilation ErrorSCORESCORESCORECompilation ErrorCompilation ErrorCompilation ErrorSCORECompilation ErrorSCORESCORESCORESCORESCORESCORESCORESCORESCORESCORESCORECompilation ErrorSCORESCORESCORESCORESCORESCORESCORESCORESCORESCORESCORECompilation ErrorSCORESCORESCORESCORESCORESCORESCORESCORESCORESCORESCORESCORESCORESCORESCORESCORESCORESCORECompilation ErrorCompilation ErrorCompilation ErrorSCORECompilation ErrorSCORECompilation ErrorCompilation ErrorSCORECompilation ErrorSCORESCORECompilation ErrorSCORESCORECompilation ErrorCompilation ErrorSCORESCORECompilation ErrorCompilation ErrorCompilation ErrorSCORESCORESCORESCORESCORESCORESCORESCORESCORESCORESCORESCORESCORESCORESCORESCORECompilation ErrorSCORESCORECompilation ErrorCompilation ErrorCompilation ErrorCompilation ErrorSCORESCORESCORESCORESCORESCORESCORESCORESCORESCORESCORESCORESCORESCORESCORESCORESCORESCORESCORESCORESCORESCORESCORESCORESCORESCORECompilation ErrorSCORESCORESCORESCORESCORESCORESCORESCORESCORESCORESCORESCORESCORESCORESCORESCORESCORESCORESCORECompilation ErrorCompilation ErrorSCORESCORESCORECompilation ErrorSCORESCORESCORECompilation ErrorCompilation ErrorCompilation ErrorSCORECompilation ErrorSCORESCORESCORESCORESCORESCORESCORESCORESCORESCORESCORECompilation ErrorSCORESCORESCORESCORESCORESCORESCORESCORESCORESCORESCORECompilation ErrorSCORESCORESCORESCORESCORESCORESCORESCORESCORESCORESCORESCORESCORESCORESCORESCORESCORESCORECompilation ErrorCompilation ErrorCompilation ErrorSCORECompilation ErrorSCORECompilation ErrorCompilation ErrorSCORECompilation ErrorSCORESCORECompilation ErrorSCORESCORECompilation ErrorCompilation ErrorSCORESCORECompilation ErrorCompilation ErrorCompilation ErrorSCORESCORESCORESCORESCORESCORESCORESCORESCORESCORESCORESCORESCORESCORESCORESCORECompilation ErrorSCORESCORECompilation ErrorCompilation ErrorCompilation ErrorCompilation ErrorSCORESCORESCORESCORESCORESCORESCORESCORESCORESCORESCORESCORESCORESCORESCORESCORESCORESCORESCORESCORESCORESCORESCORESCORESCORESCORECompilation ErrorSCORESCORESCORESCORESCORESCORESCORESCORESCORESCORESCORESCORESCORESCORESCORESCORESCORESCORESCORECompilation ErrorCompilation ErrorSCORESCORESCORECompilation ErrorSCORESCORESCORECompilation ErrorCompilation ErrorCompilation ErrorSCORECompilation ErrorSCORESCORESCORESCORESCORESCORESCORESCORESCORESCORESCORECompilation ErrorSCORESCORESCORESCORESCORESCORESCORESCORESCORESCORESCORECompilation ErrorSCORESCORESCORESCORESCORESCORESCORESCORESCORESCORESCORESCORESCORESCORESCORESCORESCORESCORECompilation ErrorCompilation ErrorCompilation ErrorSCORECompilation ErrorSCORECompilation ErrorCompilation ErrorSCORECompilation ErrorSCORESCORECompilation ErrorSCORESCORECompilation ErrorCompilation ErrorSCORESCORECompilation ErrorCompilation ErrorCompilation ErrorSCORESCORESCORESCORESCORESCORESCORESCORESCORESCORESCORESCORESCORESCORESCORESCORECompilation ErrorSCORESCORECompilation ErrorCompilation ErrorCompilation ErrorCompilation ErrorSCORESCORESCORESCORESCORESCORESCORESCORESCORESCORESCORESCORESCORESCORESCORESCORESCORESCORESCORESCORESCORESCORESCORESCORESCORESCORECompilation ErrorSCORESCORESCORESCORESCORESCORESCORESCORESCORESCORESCORESCORESCORESCORESCORESCORESCORESCORESCORECompilation ErrorCompilation ErrorSCORESCORESCORECompilation ErrorSCORESCORESCORECompilation ErrorCompilation ErrorCompilation ErrorSCORECompilation ErrorSCORESCORESCORESCORESCORESCORESCORESCORESCORESCORESCORECompilation ErrorSCORESCORESCORESCORESCORESCORESCORESCORESCORESCORESCORECompilation ErrorSCORESCORESCORESCORESCORESCORESCORESCORESCORESCORESCORESCORESCORESCORESCORESCORESCORESCORECompilation ErrorCompilation ErrorCompilation ErrorSCORECompilation ErrorSCORECompilation ErrorCompilation ErrorSCORECompilation ErrorSCORESCORECompilation ErrorSCORESCORECompilation ErrorCompilation ErrorSCORESCORECompilation ErrorCompilation ErrorCompilation ErrorSCORESCORESCORESCORESCORESCORESCORESCORESCORESCORESCORESCORESCORESCORESCORESCORECompilation ErrorSCORESCORECompilation ErrorCompilation ErrorCompilation ErrorCompilation ErrorSCORESCORESCORESCORESCORESCORESCORESCORESCORESCORESCORESCORESCORESCORESCORESCORESCORESCORESCORESCORESCORESCORESCORESCORESCORESCORECompilation ErrorSCORESCORESCORESCORESCORESCORESCORESCORESCORESCORESCORESCORESCORESCORESCORESCORESCORESCORESCORECompilation ErrorCompilation ErrorSCORESCORESCORECompilation ErrorSCORESCORESCORECompilation ErrorCompilation ErrorCompilation ErrorSCORECompilation ErrorSCORESCORESCORESCORESCORESCORESCORESCORESCORESCORESCORECompilation ErrorSCORESCORESCORESCORESCORESCORESCORESCORESCORESCORESCORECompilation ErrorSCORESCORESCORESCORESCORESCORESCORESCORESCORESCORESCORESCORESCORESCORESCORESCORESCORESCORECompilation ErrorCompilation ErrorCompilation ErrorSCORECompilation ErrorSCORECompilation ErrorCompilation ErrorSCORECompilation ErrorSCORESCORECompilation ErrorSCORESCORECompilation ErrorCompilation ErrorSCORESCORECompilation ErrorCompilation ErrorCompilation ErrorSCORESCORESCORESCORESCORESCORESCORESCORESCORESCORESCORESCORESCORESCORESCORESCORECompilation ErrorSCORESCORECompilation ErrorCompilation ErrorCompilation ErrorCompilation ErrorSCORESCORESCORESCORESCORESCORESCORESCORESCORESCORESCORESCORESCORESCORESCORESCORESCORESCORESCORESCORESCORESCORESCORESCORESCORESCORECompilation ErrorSCORESCORESCORESCORESCORESCORESCORESCORESCORESCORESCORESCORESCORESCORESCORESCORESCORESCORESCORECompilation ErrorCompilation ErrorSCORESCORESCORECompilation ErrorSCORESCORESCORECompilation ErrorCompilation ErrorCompilation ErrorSCORECompilation ErrorSCORESCORESCORESCORESCORESCORESCORESCORESCORESCORESCORECompilation ErrorSCORESCORESCORESCORESCORESCORESCORESCORESCORESCORESCORECompilation ErrorSCORESCORESCORESCORESCORESCORESCORESCORESCORESCORESCORESCORESCORESCORESCORESCORESCORESCORECompilation ErrorCompilation ErrorCompilation ErrorSCORECompilation ErrorSCORECompilation ErrorCompilation ErrorSCORECompilation ErrorSCORESCORECompilation ErrorSCORESCORECompilation ErrorCompilation ErrorSCORESCORECompilation ErrorCompilation ErrorCompilation ErrorSCORESCORESCORESCORESCORESCORESCORESCORESCORESCORESCORESCORESCORESCORESCORESCORECompilation ErrorSCORESCORECompilation ErrorCompilation ErrorCompilation ErrorCompilation ErrorSCORESCORESCORESCORESCORESCORESCORESCORESCORESCORESCORESCORESCORESCORESCORESCORESCORESCORESCORESCORESCORESCORESCORESCORESCORESCORECompilation ErrorSCORESCORESCORESCORESCORESCORESCORESCORESCORESCORESCORESCORESCORESCORESCORESCORESCORESCORESCORECompilation ErrorCompilation ErrorSCORESCORESCORECompilation ErrorSCORESCORESCORECompilation ErrorCompilation ErrorCompilation ErrorSCORECompilation ErrorSCORESCORESCORESCORESCORESCORESCORESCORESCORESCORESCORECompilation ErrorSCORESCORESCORESCORESCORESCORESCORESCORESCORESCORESCORECompilation ErrorSCORESCORESCORESCORESCORESCORESCORESCORESCORESCORESCORESCORESCORESCORESCORESCORESCORESCORECompilation ErrorCompilation ErrorCompilation ErrorSCORECompilation ErrorSCORECompilation ErrorCompilation ErrorSCORECompilation ErrorSCORESCORECompilation ErrorSCORESCORECompilation ErrorCompilation ErrorSCORESCORECompilation ErrorCompilation ErrorCompilation ErrorSCORESCORESCORESCORESCORESCORESCORESCORESCORESCORESCORESCORESCORESCORESCORESCORECompilation ErrorSCORESCORECompilation ErrorCompilation ErrorCompilation ErrorCompilation ErrorSCORESCORESCORESCORESCORESCORESCORESCORESCORESCORESCORESCORESCORESCORESCORESCORESCORESCORESCORESCORESCORESCORESCORESCORESCORESCORECompilation ErrorSCORESCORESCORESCORESCORESCORESCORESCORESCORESCORESCORESCORESCORESCORESCORESCORESCORESCORESCORECompilation ErrorCompilation ErrorSCORESCORESCORECompilation ErrorSCORESCORESCORECompilation ErrorCompilation ErrorCompilation ErrorSCORECompilation ErrorSCORESCORESCORESCORESCORESCORESCORESCORESCORESCORESCORECompilation ErrorSCORESCORESCORESCORESCORESCORESCORESCORESCORESCORESCORECompilation ErrorSCORESCORESCORESCORESCORESCORESCORESCORESCORESCORESCORESCORESCORESCORESCORESCORESCORESCORECompilation ErrorCompilation ErrorCompilation ErrorSCORECompilation ErrorSCORECompilation ErrorCompilation ErrorSCORECompilation ErrorSCORESCORECompilation ErrorSCORESCORECompilation ErrorCompilation ErrorSCORESCORECompilation ErrorCompilation ErrorCompilation ErrorSCORESCORESCORESCORESCORESCORESCORESCORESCORESCORESCORESCORESCORESCORESCORESCORECompilation ErrorSCORESCORECompilation ErrorCompilation ErrorCompilation ErrorCompilation ErrorSCORESCORESCORESCORESCORESCORESCORESCORESCORESCORESCORESCORESCORESCORESCORESCORESCORESCORESCORESCORESCORESCORESCORESCORESCORESCORECompilation ErrorSCORESCORESCORESCORESCORESCORESCORESCORESCORESCORESCORESCORESCORESCORESCORESCORESCORESCORESCORECompilation ErrorCompilation ErrorSCORESCORESCORECompilation ErrorSCORESCORESCORECompilation ErrorCompilation ErrorCompilation ErrorSCORECompilation ErrorSCORESCORESCORESCORESCORESCORESCORESCORESCORESCORESCORECompilation ErrorSCORESCORESCORESCORESCORESCORESCORESCORESCORESCORESCORECompilation ErrorSCORESCORESCORESCORESCORESCORESCORESCORESCORESCORESCORESCORESCORESCORESCORESCORESCORESCORECompilation ErrorCompilation ErrorCompilation ErrorSCORECompilation ErrorSCORECompilation ErrorCompilation ErrorSCORECompilation ErrorSCORESCORECompilation ErrorSCORESCORECompilation ErrorCompilation ErrorSCORESCORECompilation ErrorCompilation ErrorCompilation ErrorSCORESCORESCORESCORESCORESCORESCORESCORESCORESCORESCORESCORESCORESCORESCORESCORECompilation ErrorSCORESCORECompilation ErrorCompilation ErrorCompilation ErrorCompilation ErrorSCORESCORESCORESCORESCORESCORESCORESCORESCORESCORESCORESCORESCORESCORESCORESCORESCORESCORESCORESCORESCORESCORESCORESCORESCORESCORECompilation ErrorSCORESCORESCORESCORESCORESCORESCORESCORESCORESCORESCORESCORESCORESCORESCORESCORESCORESCORESCORECompilation ErrorCompilation ErrorSCORESCORESCORECompilation ErrorSCORESCORESCORECompilation ErrorCompilation ErrorCompilation ErrorSCORECompilation ErrorSCORESCORESCORESCORESCORESCORESCORESCORESCORESCORESCORECompilation ErrorSCORESCORESCORESCORESCORESCORESCORESCORESCORESCORESCORECompilation ErrorSCORESCORESCORESCORESCORESCORESCORESCORESCORESCORESCORESCORESCORESCORESCORESCORESCORESCORECompilation ErrorCompilation ErrorCompilation ErrorSCORECompilation ErrorSCORECompilation ErrorCompilation ErrorSCORECompilation ErrorSCORESCORECompilation ErrorSCORESCORECompilation ErrorCompilation ErrorSCORESCORECompilation ErrorCompilation ErrorCompilation ErrorSCORESCORESCORESCORESCORESCORESCORESCORESCORESCORESCORESCORESCORESCORESCORESCORECompilation ErrorSCORESCORECompilation ErrorCompilation ErrorCompilation ErrorCompilation ErrorSCORESCORESCORESCORESCORESCORESCORESCORESCORESCORESCORESCORESCORESCORESCORESCORESCORESCORESCORESCORESCORESCORESCORESCORESCORESCORECompilation ErrorSCORESCORESCORESCORESCORESCORESCORESCORESCORESCORESCORESCORESCORESCORESCORESCORESCORESCORESCORECompilation ErrorCompilation ErrorSCORESCORESCORECompilation ErrorSCORESCORESCORECompilation ErrorCompilation ErrorCompilation ErrorSCORECompilation ErrorSCORESCORESCORESCORESCORESCORESCORESCORESCORESCORESCORECompilation ErrorSCORESCORESCORESCORESCORESCORESCORESCORESCORESCORESCORECompilation ErrorSCORESCORESCORESCORESCORESCORESCORESCORESCORESCORESCORESCORESCORESCORESCORESCORESCORESCORECompilation ErrorCompilation ErrorCompilation ErrorSCORECompilation ErrorSCORECompilation ErrorCompilation ErrorSCORECompilation ErrorSCORESCORECompilation ErrorSCORESCORECompilation ErrorCompilation ErrorSCORESCORECompilation ErrorCompilation ErrorCompilation ErrorSCORESCORESCORESCORESCORESCORESCORESCORESCORESCORESCORESCORESCORESCORESCORESCORECompilation ErrorSCORESCORECompilation ErrorCompilation ErrorCompilation ErrorCompilation ErrorSCORESCORESCORESCORESCORESCORESCORESCORESCORESCORESCORESCORESCORESCORESCORESCORESCORESCORESCORESCORESCORESCORESCORESCORESCORESCORECompilation ErrorSCORESCORESCORESCORESCORESCORESCORESCORESCORESCORESCORESCORESCORESCORESCORESCORESCORESCORESCORECompilation ErrorCompilation ErrorSCORESCORESCORECompilation ErrorSCORESCORESCORECompilation ErrorCompilation ErrorCompilation ErrorSCORECompilation ErrorSCORESCORESCORESCORESCORESCORESCORESCORESCORESCORESCORECompilation ErrorSCORESCORESCORESCORESCORESCORESCORESCORESCORESCORESCORECompilation ErrorSCORESCORESCORESCORESCORESCORESCORESCORESCORESCORESCORESCORESCORESCORESCORESCORESCORESCORECompilation ErrorCompilation ErrorCompilation ErrorSCORECompilation ErrorSCORECompilation ErrorCompilation ErrorSCORECompilation ErrorSCORESCORECompilation ErrorSCORESCORECompilation ErrorCompilation ErrorSCORESCORECompilation ErrorCompilation ErrorCompilation ErrorSCORESCORESCORESCORESCORESCORESCORESCORESCORESCORESCORESCORESCORESCORESCORESCORECompilation ErrorSCORESCORECompilation ErrorCompilation ErrorCompilation ErrorCompilation ErrorSCORESCORESCORESCORESCORESCORESCORESCORESCORESCORESCORESCORESCORESCORESCORESCORESCORESCORESCORESCORESCORESCORESCORESCORESCORESCORECompilation ErrorSCORESCORESCORESCORESCORESCORESCORESCORESCORESCORESCORESCORESCORESCORESCORESCORESCORESCORESCORECompilation ErrorCompilation ErrorSCORESCORESCORECompilation ErrorSCORESCORESCORECompilation ErrorCompilation ErrorCompilation ErrorSCORECompilation ErrorSCORESCORESCORESCORESCORESCORESCORESCORESCORESCORESCORECompilation ErrorSCORESCORESCORESCORESCORESCORESCORESCORESCORESCORESCORECompilation ErrorSCORESCORESCORESCORESCORESCORESCORESCORESCORESCORESCORESCORESCORESCORESCORESCORESCORESCORECompilation ErrorCompilation ErrorCompilation ErrorSCORECompilation ErrorSCORECompilation ErrorCompilation ErrorSCORECompilation ErrorSCORESCORECompilation ErrorSCORESCORECompilation ErrorCompilation ErrorSCORESCORECompilation ErrorCompilation ErrorCompilation ErrorSCORESCORESCORESCORESCORESCORESCORESCORESCORESCORESCORESCORESCORESCORESCORESCORECompilation ErrorSCORESCORECompilation ErrorCompilation ErrorCompilation ErrorCompilation ErrorSCORESCORESCORESCORESCORESCORESCORESCORESCORESCORESCORESCORESCORESCORESCORESCORESCORESCORESCORESCORESCORESCORESCORESCORESCORESCORECompilation ErrorSCORESCORESCORESCORESCORESCORESCORESCORESCORESCORESCORESCORESCORESCORESCORESCORESCORESCORESCORECompilation ErrorCompilation ErrorSCORESCORESCORECompilation ErrorSCORESCORESCORECompilation ErrorCompilation ErrorCompilation ErrorSCORECompilation ErrorSCORESCORESCORESCORESCORESCORESCORESCORESCORESCORESCORECompilation ErrorSCORESCORESCORESCORESCORESCORESCORESCORESCORESCORESCORECompilation ErrorSCORESCORESCORESCORESCORESCORESCORESCORESCORESCORESCORESCORESCORESCORESCORESCORESCORESCORECompilation ErrorCompilation ErrorCompilation ErrorSCORECompilation ErrorSCORECompilation ErrorCompilation ErrorSCORECompilation ErrorSCORESCORECompilation ErrorSCORESCORECompilation ErrorCompilation ErrorSCORESCORECompilation ErrorCompilation ErrorCompilation ErrorSCORESCORESCORESCORESCORESCORESCORESCORESCORESCORESCORESCORESCORESCORESCORESCORECompilation ErrorSCORESCORECompilation ErrorCompilation ErrorCompilation ErrorCompilation ErrorSCORESCORESCORESCORESCORESCORESCORESCORESCORESCORESCORESCORESCORESCORESCORESCORESCORESCORESCORESCORESCORESCORESCORESCORESCORESCORECompilation ErrorSCORESCORESCORESCORESCORESCORESCORESCORESCORESCORESCORESCORESCORESCORESCORESCORESCORESCORESCORECompilation ErrorCompilation ErrorSCORESCORESCORECompilation ErrorSCORESCORESCORECompilation ErrorCompilation ErrorCompilation ErrorSCORECompilation ErrorSCORESCORESCORESCORESCORESCORESCORESCORESCORESCORESCORECompilation ErrorSCORESCORESCORESCORESCORESCORESCORESCORESCORESCORESCORECompilation ErrorSCORESCORESCORESCORESCORESCORESCORESCORESCORESCORESCORESCORESCORESCORESCORESCORESCORESCORECompilation ErrorCompilation ErrorCompilation ErrorSCORECompilation ErrorSCORECompilation ErrorCompilation ErrorSCORECompilation ErrorSCORESCORECompilation ErrorSCORESCORECompilation ErrorCompilation ErrorSCORESCORECompilation ErrorCompilation ErrorCompilation ErrorSCORESCORESCORESCORESCORESCORESCORESCORESCORESCORESCORESCORESCORESCORESCORESCORECompilation ErrorSCORESCORECompilation ErrorCompilation ErrorCompilation ErrorCompilation ErrorSCORESCORESCORESCORESCORESCORESCORESCORESCORESCORESCORESCORESCORESCORESCORESCORESCORESCORESCORESCORESCORESCORESCORESCORESCORESCORECompilation ErrorSCORESCORESCORESCORESCORESCORESCORESCORESCORESCORESCORESCORESCORESCORESCORESCORESCORESCORESCORECompilation ErrorCompilation ErrorSCORESCORESCORECompilation ErrorSCORESCORESCORECompilation ErrorCompilation ErrorCompilation ErrorSCORECompilation ErrorSCORESCORESCORESCORESCORESCORESCORESCORESCORESCORESCORECompilation ErrorSCORESCORESCORESCORESCORESCORESCORESCORESCORESCORESCORECompilation ErrorSCORESCORESCORESCORESCORESCORESCORESCORESCORESCORESCORESCORESCORESCORESCORESCORESCORESCORECompilation ErrorCompilation ErrorCompilation ErrorSCORECompilation ErrorSCORECompilation ErrorCompilation ErrorSCORECompilation ErrorSCORESCORECompilation ErrorSCORESCORECompilation ErrorCompilation ErrorSCORESCORECompilation ErrorCompilation ErrorCompilation ErrorSCORESCORESCORESCORESCORESCORESCORESCORESCORESCORESCORESCORESCORESCORESCORESCORECompilation ErrorSCORESCORECompilation ErrorCompilation ErrorCompilation ErrorCompilation ErrorSCORESCORESCORESCORESCORESCORESCORESCORESCORESCORESCORESCORESCORESCORESCORESCORESCORESCORESCORESCORESCORESCORESCORESCORESCORESCORECompilation ErrorSCORESCORESCORESCORESCORESCORESCORESCORESCORESCORESCORESCORESCORESCORESCORESCORESCORESCORESCORECompilation ErrorCompilation ErrorSCORESCORESCORECompilation ErrorSCORESCORESCORECompilation ErrorCompilation ErrorCompilation ErrorSCORECompilation ErrorSCORESCORESCORESCORESCORESCORESCORESCORESCORESCORESCORECompilation ErrorSCORESCORESCORESCORESCORESCORESCORESCORESCORESCORESCORECompilation ErrorSCORESCORESCORESCORESCORESCORESCORESCORESCORESCORESCORESCORESCORESCORESCORESCORESCORESCORECompilation ErrorCompilation ErrorCompilation ErrorSCORECompilation ErrorSCORECompilation ErrorCompilation ErrorSCORECompilation ErrorSCORESCORECompilation ErrorSCORESCORECompilation ErrorCompilation ErrorSCORESCORECompilation ErrorCompilation ErrorCompilation ErrorSCORESCORESCORESCORESCORESCORESCORESCORESCORESCORESCORESCORESCORESCORESCORESCORECompilation ErrorSCORESCORECompilation ErrorCompilation ErrorCompilation ErrorCompilation ErrorSCORESCORESCORESCORESCORESCORESCORESCORESCORESCORESCORESCORESCORESCORESCORESCORESCORESCORESCORESCORESCORESCORESCORESCORESCORESCORECompilation ErrorSCORESCORESCORESCORESCORESCORESCORESCORESCORESCORESCORESCORESCORESCORESCORESCORESCORESCORESCORECompilation ErrorCompilation ErrorSCORESCORESCORECompilation ErrorSCORESCORESCORECompilation ErrorCompilation ErrorCompilation ErrorSCORECompilation ErrorSCORESCORESCORESCORESCORESCORESCORESCORESCORESCORESCORECompilation ErrorSCORESCORESCORESCORESCORESCORESCORESCORESCORESCORESCORECompilation ErrorSCORESCORESCORESCORESCORESCORESCORESCORESCORESCORESCORESCORESCORESCORESCORESCORESCORESCORECompilation ErrorCompilation ErrorCompilation ErrorSCORECompilation ErrorSCORECompilation ErrorCompilation ErrorSCORECompilation ErrorSCORESCORECompilation ErrorSCORESCORECompilation ErrorCompilation ErrorSCORESCORECompilation ErrorCompilation ErrorCompilation ErrorSCORESCORESCORESCORESCORESCORESCORESCORESCORESCORESCORESCORESCORESCORESCORESCORECompilation ErrorSCORESCORECompilation ErrorCompilation ErrorCompilation ErrorCompilation ErrorSCORESCORESCORESCORESCORESCORESCORESCORESCORESCORESCORESCORESCORESCORESCORESCORESCORESCORESCORESCORESCORESCORESCORESCORESCORESCORECompilation ErrorSCORESCORESCORESCORESCORESCORESCORESCORESCORESCORESCORESCORESCORESCORESCORESCORESCORESCORESCORECompilation ErrorCompilation ErrorSCORESCORESCORECompilation ErrorSCORESCORESCORECompilation ErrorCompilation ErrorCompilation ErrorSCORECompilation ErrorSCORESCORESCORESCORESCORESCORESCORESCORESCORESCORESCORECompilation ErrorSCORESCORESCORESCORESCORESCORESCORESCORESCORESCORESCORECompilation ErrorSCORESCORESCORESCORESCORESCORESCORESCORESCORESCORESCORESCORESCORESCORESCORESCORESCORESCORECompilation ErrorCompilation ErrorCompilation ErrorSCORECompilation ErrorSCORECompilation ErrorCompilation ErrorSCORECompilation ErrorSCORESCORECompilation ErrorSCORESCORECompilation ErrorCompilation ErrorSCORESCORECompilation ErrorCompilation ErrorCompilation ErrorSCORESCORESCORESCORESCORESCORESCORESCORESCORESCORESCORESCORESCORESCORESCORESCORECompilation ErrorSCORESCORECompilation ErrorCompilation ErrorCompilation ErrorCompilation ErrorSCORESCORESCORESCORESCORESCORESCORESCORESCORESCORESCORESCORESCORESCORESCORESCORESCORESCORESCORESCORESCORESCORESCORESCORESCORESCORECompilation ErrorSCORESCORESCORESCORESCORESCORESCORESCORESCORESCORESCORESCORESCORESCORESCORESCORESCORESCORESCORECompilation ErrorCompilation ErrorSCORESCORESCORECompilation ErrorSCORESCORESCORECompilation ErrorCompilation ErrorCompilation ErrorSCORECompilation ErrorSCORESCORESCORESCORESCORESCORESCORESCORESCORESCORESCORECompilation ErrorSCORESCORESCORESCORESCORESCORESCORESCORESCORESCORESCORECompilation ErrorSCORESCORESCORESCORESCORESCORESCORESCORESCORESCORESCORESCORESCORESCORESCORESCORESCORESCORECompilation ErrorCompilation ErrorCompilation ErrorSCORECompilation ErrorSCORECompilation ErrorCompilation ErrorSCORECompilation ErrorSCORESCORECompilation ErrorSCORESCORECompilation ErrorCompilation ErrorSCORESCORECompilation ErrorCompilation ErrorCompilation ErrorSCORESCORESCORESCORESCORESCORESCORESCORESCORESCORESCORESCORESCORESCORESCORESCORECompilation ErrorSCORESCORECompilation ErrorCompilation ErrorCompilation ErrorCompilation ErrorSCORESCORESCORESCORESCORESCORESCORESCORESCORESCORESCORESCORESCORESCORESCORESCORESCORESCORESCORESCORESCORESCORESCORESCORESCORESCORECompilation ErrorSCORESCORESCORESCORESCORESCORESCORESCORESCORESCORESCORESCORESCORESCORESCORESCORESCORESCORESCORECompilation ErrorCompilation ErrorSCORESCORESCORECompilation ErrorSCORESCORESCORECompilation ErrorCompilation ErrorCompilation ErrorSCORECompilation ErrorSCORESCORESCORESCORESCORESCORESCORESCORESCORESCORESCORECompilation ErrorSCORESCORESCORESCORESCORESCORESCORESCORESCORESCORESCORECompilation ErrorSCORESCORESCORESCORESCORESCORESCORESCORESCORESCORESCORESCORESCORESCORESCORESCORESCORESCORECompilation ErrorCompilation ErrorCompilation ErrorSCORECompilation ErrorSCORECompilation ErrorCompilation ErrorSCORECompilation ErrorSCORESCORECompilation ErrorSCORESCORECompilation ErrorCompilation ErrorSCORESCORECompilation ErrorCompilation ErrorCompilation ErrorSCORESCORESCORESCORESCORESCORESCORESCORESCORESCORESCORESCORESCORESCORESCORESCORECompilation ErrorSCORESCORECompilation ErrorCompilation ErrorCompilation ErrorCompilation ErrorSCORESCORESCORESCORESCORESCORESCORESCORESCORESCORESCORESCORESCORESCORESCORESCORESCORESCORESCORESCORESCORESCORESCORESCORESCORESCORECompilation ErrorSCORESCORESCORESCORESCORESCORESCORESCORESCORESCORESCORESCORESCORESCORESCORESCORESCORESCORESCORECompilation ErrorCompilation ErrorSCORESCORESCORECompilation ErrorSCORESCORESCORECompilation ErrorCompilation ErrorCompilation ErrorSCORECompilation ErrorSCORESCORESCORESCORESCORESCORESCORESCORESCORESCORESCORECompilation ErrorSCORESCORESCORESCORESCORESCORESCORESCORESCORESCORESCORECompilation ErrorSCORESCORESCORESCORESCORESCORESCORESCORESCORESCORESCORESCORESCORESCORESCORESCORESCORESCORECompilation ErrorCompilation ErrorCompilation ErrorSCORECompilation ErrorSCORECompilation ErrorCompilation ErrorSCORECompilation ErrorSCORESCORECompilation ErrorSCORESCORECompilation ErrorCompilation ErrorSCORESCORECompilation ErrorCompilation ErrorCompilation ErrorSCORESCORESCORESCORESCORESCORESCORESCORESCORESCORESCORESCORESCORESCORESCORESCORECompilation ErrorSCORESCORECompilation ErrorCompilation ErrorCompilation ErrorCompilation ErrorSCORESCORESCORESCORESCORESCORESCORESCORESCORESCORESCORESCORESCORESCORESCORESCORESCORESCORESCORESCORESCORESCORESCORESCORESCORESCORECompilation ErrorSCORESCORESCORESCORESCORESCORESCORESCORESCORESCORESCORESCORESCORESCORESCORESCORESCORESCORESCORECompilation ErrorCompilation ErrorSCORESCORESCORECompilation ErrorSCORESCORESCORECompilation ErrorCompilation ErrorCompilation ErrorSCORECompilation ErrorSCORESCORESCORESCORESCORESCORESCORESCORESCORESCORESCORECompilation ErrorSCORESCORESCORESCORESCORESCORESCORESCORESCORESCORESCORECompilation ErrorSCORESCORESCORESCORESCORESCORESCORESCORESCORESCORESCORESCORESCORESCORESCORESCORESCORESCORECompilation ErrorCompilation ErrorCompilation ErrorSCORECompilation ErrorSCORECompilation ErrorCompilation ErrorSCORECompilation ErrorSCORESCORECompilation ErrorSCORESCORECompilation ErrorCompilation ErrorSCORESCORECompilation ErrorCompilation ErrorCompilation ErrorSCORESCORESCORESCORESCORESCORESCORESCORESCORESCORESCORESCORESCORESCORESCORESCORECompilation ErrorSCORESCORECompilation ErrorCompilation ErrorCompilation ErrorCompilation ErrorSCORESCORESCORESCORESCORESCORESCORESCORESCORESCORESCORESCORESCORESCORESCORESCORESCORESCORESCORESCORESCORESCORESCORESCORESCORESCORECompilation ErrorSCORESCORESCORESCORESCORESCORESCORESCORESCORESCORESCORESCORESCORESCORESCORESCORESCORESCORESCORECompilation ErrorCompilation ErrorSCORESCORESCORECompilation ErrorSCORESCORESCORECompilation ErrorCompilation ErrorCompilation ErrorSCORECompilation ErrorSCORESCORESCORESCORESCORESCORESCORESCORESCORESCORESCORECompilation ErrorSCORESCORESCORESCORESCORESCORESCORESCORESCORESCORESCORECompilation ErrorSCORESCORESCORESCORESCORESCORESCORESCORESCORESCORESCORESCORESCORESCORESCORESCORESCORESCORECompilation ErrorCompilation ErrorCompilation ErrorSCORECompilation ErrorSCORECompilation ErrorCompilation ErrorSCORECompilation ErrorSCORESCORECompilation ErrorSCORESCORECompilation ErrorCompilation ErrorSCORESCORECompilation ErrorCompilation ErrorCompilation ErrorSCORESCORESCORESCORESCORESCORESCORESCORESCORESCORESCORESCORESCORESCORESCORESCORECompilation ErrorSCORESCORECompilation ErrorCompilation ErrorCompilation ErrorCompilation ErrorSCORESCORESCORESCORESCORESCORESCORESCORESCORESCORESCORESCORESCORESCORESCORESCORESCORESCORESCORESCORESCORESCORESCORESCORESCORESCORECompilation ErrorSCORESCORESCORESCORESCORESCORESCORESCORESCORESCORESCORESCORESCORESCORESCORESCORESCORESCORESCORECompilation ErrorCompilation ErrorSCORESCORESCORECompilation ErrorSCORESCORESCORECompilation ErrorCompilation ErrorCompilation ErrorSCORECompilation ErrorSCORESCORESCORESCORESCORESCORESCORESCORESCORESCORESCORECompilation ErrorSCORESCORESCORESCORESCORESCORESCORESCORESCORESCORESCORECompilation ErrorSCORESCORESCORESCORESCORESCORESCORESCORESCORESCORESCORESCORESCORESCORESCORESCORESCORESCORECompilation ErrorCompilation ErrorCompilation ErrorSCORECompilation ErrorSCORECompilation ErrorCompilation ErrorSCORECompilation ErrorSCORESCORECompilation ErrorSCORESCORECompilation ErrorCompilation ErrorSCORESCORECompilation ErrorCompilation ErrorCompilation ErrorSCORESCORESCORESCORESCORESCORESCORESCORESCORESCORESCORESCORESCORESCORESCORESCORECompilation ErrorSCORESCORECompilation ErrorCompilation ErrorCompilation ErrorCompilation ErrorSCORESCORESCORESCORESCORESCORESCORESCORESCORESCORESCORESCORESCORESCORESCORESCORESCORESCORESCORESCORESCORESCORESCORESCORESCORESCORECompilation ErrorSCORESCORESCORESCORESCORESCORESCORESCORESCORESCORESCORESCORESCORESCORESCORESCORESCORESCORESCORECompilation ErrorCompilation ErrorSCORESCORESCORECompilation ErrorSCORESCORESCORECompilation ErrorCompilation ErrorCompilation ErrorSCORECompilation ErrorSCORESCORESCORESCORESCORESCORESCORESCORESCORESCORESCORECompilation ErrorSCORESCORESCORESCORESCORESCORESCORESCORESCORESCORESCORECompilation ErrorSCORESCORESCORESCORESCORESCORESCORESCORESCORESCORESCORESCORESCORESCORESCORESCORESCORESCORECompilation ErrorCompilation ErrorCompilation ErrorSCORECompilation ErrorSCORECompilation ErrorCompilation ErrorSCORECompilation ErrorSCORESCORECompilation ErrorSCORESCORECompilation ErrorCompilation ErrorSCORESCORECompilation ErrorCompilation ErrorCompilation ErrorSCORESCORESCORESCORESCORESCORESCORESCORESCORESCORESCORESCORESCORESCORESCORESCORECompilation ErrorSCORESCORECompilation ErrorCompilation ErrorCompilation ErrorCompilation ErrorSCORESCORESCORESCORESCORESCORESCORESCORESCORESCORESCORESCORESCORESCORESCORESCORESCORESCORESCORESCORESCORESCORESCORESCORESCORESCORECompilation ErrorSCORESCORESCORESCORESCORESCORESCORESCORESCORESCORESCORESCORESCORESCORESCORESCORESCORESCORESCORECompilation ErrorCompilation ErrorSCORESCORESCORECompilation ErrorSCORESCORESCORECompilation ErrorCompilation ErrorCompilation ErrorSCORECompilation ErrorSCORESCORESCORESCORESCORESCORESCORESCORESCORESCORESCORECompilation ErrorSCORESCORESCORESCORESCORESCORESCORESCORESCORESCORESCORECompilation ErrorSCORESCORESCORESCORESCORESCORESCORESCORESCORESCORESCORESCORESCORESCORESCORESCORESCORESCORECompilation ErrorCompilation ErrorCompilation ErrorSCORECompilation ErrorSCORECompilation ErrorCompilation ErrorSCORECompilation ErrorSCORESCORECompilation ErrorSCORESCORECompilation ErrorCompilation ErrorSCORESCORECompilation ErrorCompilation ErrorCompilation ErrorSCORESCORESCORESCORESCORESCORESCORESCORESCORESCORESCORESCORESCORESCORESCORESCORECompilation ErrorSCORESCORECompilation ErrorCompilation ErrorCompilation ErrorCompilation ErrorSCORESCORESCORESCORESCORESCORESCORESCORESCORESCORESCORESCORESCORESCORESCORESCORESCORESCORESCORESCORESCORESCORESCORESCORESCORESCORECompilation ErrorSCORESCORESCORESCORESCORESCORESCORESCORESCORESCORESCORESCORESCORESCORESCORESCORESCORESCORESCORECompilation ErrorCompilation ErrorSCORESCORESCORECompilation ErrorSCORESCORESCORECompilation ErrorCompilation ErrorCompilation ErrorSCORECompilation ErrorSCORESCORESCORESCORESCORESCORESCORESCORESCORESCORESCORECompilation ErrorSCORESCORESCORESCORESCORESCORESCORESCORESCORESCORESCORECompilation ErrorSCORESCORESCORESCORESCORESCORESCORESCORESCORESCORESCORESCORESCORESCORESCORESCORESCORESCORECompilation ErrorCompilation ErrorCompilation ErrorSCORECompilation ErrorSCORECompilation ErrorCompilation ErrorSCORECompilation ErrorSCORESCORECompilation ErrorSCORESCORECompilation ErrorCompilation ErrorSCORESCORECompilation ErrorCompilation ErrorCompilation ErrorSCORESCORESCORESCORESCORESCORESCORESCORESCORESCORESCORESCORESCORESCORESCORESCORECompilation ErrorSCORESCORECompilation ErrorCompilation ErrorCompilation ErrorCompilation ErrorSCORESCORESCORESCORESCORESCORESCORESCORESCORESCORESCORESCORESCORESCORESCORESCORESCORESCORESCORESCORESCORESCORESCORESCORESCORESCORECompilation ErrorSCORESCORESCORESCORESCORESCORESCORESCORESCORESCORESCORESCORESCORESCORESCORESCORESCORESCORESCORECompilation ErrorCompilation ErrorSCORESCORESCORECompilation ErrorSCORESCORESCORECompilation ErrorCompilation ErrorCompilation ErrorSCORECompilation ErrorSCORESCORESCORESCORESCORESCORESCORESCORESCORESCORESCORECompilation ErrorSCORESCORESCORESCORESCORESCORESCORESCORESCORESCORESCORECompilation ErrorSCORESCORESCORESCORESCORESCORESCORESCORESCORESCORESCORESCORESCORESCORESCORESCORESCORESCORECompilation ErrorCompilation ErrorCompilation ErrorSCORECompilation ErrorSCORECompilation ErrorCompilation ErrorSCORECompilation ErrorSCORESCORECompilation ErrorSCORESCORECompilation ErrorCompilation ErrorSCORESCORECompilation ErrorCompilation ErrorCompilation ErrorSCORESCORESCORESCORESCORESCORESCORESCORESCORESCORESCORESCORESCORESCORESCORESCORECompilation ErrorSCORESCORECompilation ErrorCompilation ErrorCompilation ErrorCompilation ErrorSCORESCORESCORESCORESCORESCORESCORESCORESCORESCORESCORESCORESCORESCORESCORESCORESCORESCORESCORESCORESCORESCORESCORESCORESCORESCORECompilation ErrorSCORESCORESCORESCORESCORESCORESCORESCORESCORESCORESCORESCORESCORESCORESCORESCORESCORESCORESCORECompilation ErrorCompilation ErrorSCORESCORESCORECompilation ErrorSCORESCORESCORECompilation ErrorCompilation ErrorCompilation ErrorSCORECompilation ErrorSCORESCORESCORESCORESCORESCORESCORESCORESCORESCORESCORECompilation ErrorSCORESCORESCORESCORESCORESCORESCORESCORESCORESCORESCORECompilation ErrorSCORESCORESCORESCORESCORESCORESCORESCORESCORESCORESCORESCORESCORESCORESCORESCORESCORESCORECompilation ErrorCompilation ErrorCompilation ErrorSCORECompilation ErrorSCORECompilation ErrorCompilation ErrorSCORECompilation ErrorSCORESCORECompilation ErrorSCORESCORECompilation ErrorCompilation ErrorSCORESCORECompilation ErrorCompilation ErrorCompilation ErrorSCORESCORESCORESCORESCORESCORESCORESCORESCORESCORESCORESCORESCORESCORESCORESCORECompilation ErrorSCORESCORECompilation ErrorCompilation ErrorCompilation ErrorCompilation ErrorSCORESCORESCORESCORESCORESCORESCORESCORESCORESCORESCORESCORESCORESCORESCORESCORESCORESCORESCORESCORESCORESCORESCORESCORESCORESCORECompilation ErrorSCORESCORESCORESCORESCORESCORESCORESCORESCORESCORESCORESCORESCORESCORESCORESCORESCORESCORESCORECompilation ErrorCompilation ErrorSCORESCORESCORECompilation ErrorSCORESCORESCORECompilation ErrorCompilation ErrorCompilation ErrorSCORECompilation ErrorSCORESCORESCORESCORESCORESCORESCORESCORESCORESCORESCORECompilation ErrorSCORESCORESCORESCORESCORESCORESCORESCORESCORESCORESCORECompilation ErrorSCORESCORESCORESCORESCORESCORESCORESCORESCORESCORESCORESCORESCORESCORESCORESCORESCORESCORECompilation ErrorCompilation ErrorCompilation ErrorSCORECompilation ErrorSCORECompilation ErrorCompilation ErrorSCORECompilation ErrorSCORESCORECompilation ErrorSCORESCORECompilation ErrorCompilation ErrorSCORESCORECompilation ErrorCompilation ErrorCompilation ErrorSCORESCORESCORESCORESCORESCORESCORESCORESCORESCORESCORESCORESCORESCORESCORESCORECompilation ErrorSCORESCORECompilation ErrorCompilation ErrorCompilation ErrorCompilation ErrorSCORESCORESCORESCORESCORESCORESCORESCORESCORESCORESCORESCORESCORESCORESCORESCORESCORESCORESCORESCORESCORESCORESCORESCORESCORESCORECompilation ErrorSCORESCORESCORESCORESCORESCORESCORESCORESCORESCORESCORESCORESCORESCORESCORESCORESCORESCORESCORECompilation ErrorCompilation ErrorSCORESCORESCORECompilation ErrorSCORESCORESCORECompilation ErrorCompilation ErrorCompilation ErrorSCORECompilation ErrorSCORESCORESCORESCORESCORESCORESCORESCORESCORESCORESCORECompilation ErrorSCORESCORESCORESCORESCORESCORESCORESCORESCORESCORESCORECompilation ErrorSCORESCORESCORESCORESCORESCORESCORESCORESCORESCORESCORESCORESCORESCORESCORESCORESCORESCORECompilation ErrorCompilation ErrorCompilation ErrorSCORECompilation ErrorSCORECompilation ErrorCompilation ErrorSCORECompilation ErrorSCORESCORECompilation ErrorSCORESCORECompilation ErrorCompilation ErrorSCORESCORECompilation ErrorCompilation ErrorCompilation ErrorSCORESCORESCORESCORESCORESCORESCORESCORESCORESCORESCORESCORESCORESCORESCORESCORECompilation ErrorSCORESCORECompilation ErrorCompilation ErrorCompilation ErrorCompilation ErrorSCORESCORESCORESCORESCORESCORESCORESCORESCORESCORESCORESCORESCORESCORESCORESCORESCORESCORESCORESCORESCORESCORESCORESCORESCORESCORECompilation ErrorSCORESCORESCORESCORESCORESCORESCORESCORESCORESCORESCORESCORESCORESCORESCORESCORESCORESCORESCORECompilation ErrorCompilation ErrorSCORESCORESCORECompilation ErrorSCORESCORESCORECompilation ErrorCompilation ErrorCompilation ErrorSCORECompilation ErrorSCORESCORESCORESCORESCORESCORESCORESCORESCORESCORESCORECompilation ErrorSCORESCORESCORESCORESCORESCORESCORESCORESCORESCORESCORECompilation ErrorSCORESCORESCORESCORESCORESCORESCORESCORESCORESCORESCORESCORESCORESCORESCORESCORESCORESCORECompilation ErrorCompilation ErrorCompilation ErrorSCORECompilation ErrorSCORECompilation ErrorCompilation ErrorSCORECompilation ErrorSCORESCORECompilation ErrorSCORESCORECompilation ErrorCompilation ErrorSCORESCORECompilation ErrorCompilation ErrorCompilation ErrorSCORESCORESCORESCORESCORESCORESCORESCORESCORESCORESCORESCORESCORESCORESCORESCORECompilation ErrorSCORESCORECompilation ErrorCompilation ErrorCompilation ErrorCompilation ErrorSCORESCORESCORESCORESCORESCORESCORESCORESCORESCORESCORESCORESCORESCORESCORESCORESCORESCORESCORESCORESCORESCORESCORESCORESCORESCORECompilation ErrorSCORESCORESCORESCORESCORESCORESCORESCORESCORESCORESCORESCORESCORESCORESCORESCORESCORESCORESCORECompilation ErrorCompilation ErrorSCORESCORESCORECompilation ErrorSCORESCORESCORECompilation ErrorCompilation ErrorCompilation ErrorSCORECompilation ErrorSCORESCORESCORESCORESCORESCORESCORESCORESCORESCORESCORECompilation ErrorSCORESCORESCORESCORESCORESCORESCORESCORESCORESCORESCORECompilation ErrorSCORESCORESCORESCORESCORESCORESCORESCORESCORESCORESCORESCORESCORESCORESCORESCORESCORESCORECompilation ErrorCompilation ErrorCompilation ErrorSCORECompilation ErrorSCORECompilation ErrorCompilation ErrorSCORECompilation ErrorSCORESCORECompilation ErrorSCORESCORECompilation ErrorCompilation ErrorSCORESCORECompilation ErrorCompilation ErrorCompilation ErrorSCORESCORESCORESCORESCORESCORESCORESCORESCORESCORESCORESCORESCORESCORESCORESCORECompilation ErrorSCORESCORECompilation ErrorCompilation ErrorCompilation ErrorCompilation ErrorSCORESCORESCORESCORESCORESCORESCORESCORESCORESCORESCORESCORESCORESCORESCORESCORESCORESCORESCORESCORESCORESCORESCORESCORESCORESCORECompilation ErrorSCORESCORESCORESCORESCORESCORESCORESCORESCORESCORESCORESCORESCORESCORESCORESCORESCORESCORESCORECompilation ErrorCompilation ErrorSCORESCORESCORECompilation ErrorSCORESCORESCORECompilation ErrorCompilation ErrorCompilation ErrorSCORECompilation ErrorSCORESCORESCORESCORESCORESCORESCORESCORESCORESCORESCORECompilation ErrorSCORESCORESCORESCORESCORESCORESCORESCORESCORESCORESCORECompilation ErrorSCORESCORESCORESCORESCORESCORESCORESCORESCORESCORESCORESCORESCORESCORESCORESCORESCORESCORECompilation ErrorCompilation ErrorCompilation ErrorSCORECompilation ErrorSCORECompilation ErrorCompilation ErrorSCORECompilation ErrorSCORESCORECompilation ErrorSCORESCORECompilation ErrorCompilation ErrorSCORESCORECompilation ErrorCompilation ErrorCompilation ErrorSCORESCORESCORESCORESCORESCORESCORESCORESCORESCORESCORESCORESCORESCORESCORESCORECompilation ErrorSCORESCORECompilation ErrorCompilation ErrorCompilation ErrorCompilation ErrorSCORESCORESCORESCORESCORESCORESCORESCORESCORESCORESCORESCORESCORESCORESCORESCORESCORESCORESCORESCORESCORESCORESCORESCORESCORESCORECompilation ErrorSCORESCORESCORESCORESCORESCORESCORESCORESCORESCORESCORESCORESCORESCORESCORESCORESCORESCORESCORECompilation ErrorCompilation ErrorSCORESCORESCORECompilation ErrorSCORESCORESCORECompilation ErrorCompilation ErrorCompilation ErrorSCORECompilation ErrorSCORESCORESCORESCORESCORESCORESCORESCORESCORESCORESCORECompilation ErrorSCORESCORESCORESCORESCORESCORESCORESCORESCORESCORESCORECompilation ErrorSCORESCORESCORESCORESCORESCORESCORESCORESCORESCORESCORESCORESCORESCORESCORESCORESCORESCORECompilation ErrorCompilation ErrorCompilation ErrorSCORECompilation ErrorSCORECompilation ErrorCompilation ErrorSCORECompilation ErrorSCORESCORECompilation ErrorSCORESCORECompilation ErrorCompilation ErrorSCORESCORECompilation ErrorCompilation ErrorCompilation ErrorSCORESCORESCORESCORESCORESCORESCORESCORESCORESCORESCORESCORESCORESCORESCORESCORECompilation ErrorSCORESCORECompilation ErrorCompilation ErrorCompilation ErrorCompilation ErrorSCORESCORESCORESCORESCORESCORESCORESCORESCORESCORESCORESCORESCORESCORESCORESCORESCORESCORESCORESCORESCORESCORESCORESCORESCORESCORECompilation ErrorSCORESCORESCORESCORESCORESCORESCORESCORESCORESCORESCORESCORESCORESCORESCORESCORESCORESCORESCORECompilation ErrorCompilation ErrorSCORESCORESCORECompilation ErrorSCORESCORESCORECompilation ErrorCompilation ErrorCompilation ErrorSCORECompilation ErrorSCORESCORESCORESCORESCORESCORESCORESCORESCORESCORESCORECompilation ErrorSCORESCORESCORESCORESCORESCORESCORESCORESCORESCORESCORECompilation ErrorSCORESCORESCORESCORESCORESCORESCORESCORESCORESCORESCORESCORESCORESCORESCORESCORESCORESCORECompilation ErrorCompilation ErrorCompilation ErrorSCORECompilation ErrorSCORECompilation ErrorCompilation ErrorSCORECompilation ErrorSCORESCORECompilation ErrorSCORESCORECompilation ErrorCompilation ErrorSCORESCORECompilation ErrorCompilation ErrorCompilation ErrorSCORESCORESCORESCORESCORESCORESCORESCORESCORESCORESCORESCORESCORESCORESCORESCORECompilation ErrorSCORESCORECompilation ErrorCompilation ErrorCompilation ErrorCompilation ErrorSCORESCORESCORESCORESCORESCORESCORESCORESCORESCORESCORESCORESCORESCORESCORESCORESCORESCORESCORESCORESCORESCORESCORESCORESCORESCORECompilation ErrorSCORESCORESCORESCORESCORESCORESCORESCORESCORESCORESCORESCORESCORESCORESCORESCORESCORESCORESCORECompilation ErrorCompilation ErrorSCORESCORESCORECompilation ErrorSCORESCORESCORECompilation ErrorCompilation ErrorCompilation ErrorSCORECompilation ErrorSCORESCORESCORESCORESCORESCORESCORESCORESCORESCORESCORECompilation ErrorSCORESCORESCORESCORESCORESCORESCORESCORESCORESCORESCORECompilation ErrorSCORESCORESCORESCORESCORESCORESCORESCORESCORESCORESCORESCORESCORESCORESCORESCORESCORESCORECompilation ErrorCompilation ErrorCompilation ErrorSCORECompilation ErrorSCORECompilation ErrorCompilation ErrorSCORECompilation ErrorSCORESCORECompilation ErrorSCORESCORECompilation ErrorCompilation ErrorSCORESCORECompilation ErrorCompilation ErrorCompilation ErrorSCORESCORESCORESCORESCORESCORESCORESCORESCORESCORESCORESCORESCORESCORESCORESCORECompilation ErrorSCORESCORECompilation ErrorCompilation ErrorCompilation ErrorCompilation ErrorSCORESCORESCORESCORESCORESCORESCORESCORESCORESCORESCORESCORESCORESCORESCORESCORESCORESCORESCORESCORESCORESCORESCORESCORESCORESCORECompilation ErrorSCORESCORESCORESCORESCORESCORESCORESCORESCORESCORESCORESCORESCORESCORESCORESCORESCORESCORESCORECompilation ErrorCompilation ErrorSCORESCORESCORECompilation ErrorSCORESCORESCORECompilation ErrorCompilation ErrorCompilation ErrorSCORECompilation ErrorSCORESCORESCORESCORESCORESCORESCORESCORESCORESCORESCORECompilation ErrorSCORESCORESCORESCORESCORESCORESCORESCORESCORESCORESCORECompilation ErrorSCORESCORESCORESCORESCORESCORESCORESCORESCORESCORESCORESCORESCORESCORESCORESCORESCORESCORECompilation ErrorCompilation ErrorCompilation ErrorSCORECompilation ErrorSCORECompilation ErrorCompilation ErrorSCORECompilation ErrorSCORESCORECompilation ErrorSCORESCORECompilation ErrorCompilation ErrorSCORESCORECompilation ErrorCompilation ErrorCompilation ErrorSCORESCORESCORESCORESCORESCORESCORESCORESCORESCORESCORESCORESCORESCORESCORESCORECompilation ErrorSCORESCORECompilation ErrorCompilation ErrorCompilation ErrorCompilation ErrorSCORESCORESCORESCORESCORESCORESCORESCORESCORESCORESCORESCORESCORESCORESCORESCORESCORESCORESCORESCORESCORESCORESCORESCORESCORESCORECompilation ErrorSCORESCORESCORESCORESCORESCORESCORESCORESCORESCORESCORESCORESCORESCORESCORESCORESCORESCORESCORECompilation ErrorCompilation ErrorSCORESCORESCORECompilation ErrorSCORESCORESCORECompilation ErrorCompilation ErrorCompilation ErrorSCORECompilation ErrorSCORESCORESCORESCORESCORESCORESCORESCORESCORESCORESCORECompilation ErrorSCORESCORESCORESCORESCORESCORESCORESCORESCORESCORESCORECompilation ErrorSCORESCORESCORESCORESCORESCORESCORESCORESCORESCORESCORESCORESCORESCORESCORESCORESCORESCORECompilation ErrorCompilation ErrorCompilation ErrorSCORECompilation ErrorSCORECompilation ErrorCompilation ErrorSCORECompilation ErrorSCORESCORECompilation ErrorSCORESCORECompilation ErrorCompilation ErrorSCORESCORECompilation ErrorCompilation ErrorCompilation ErrorSCORESCORESCORESCORESCORESCORESCORESCORESCORESCORESCORESCORESCORESCORESCORESCORECompilation ErrorSCORESCORECompilation ErrorCompilation ErrorCompilation ErrorCompilation ErrorSCORESCORESCORESCORESCORESCORESCORESCORESCORESCORESCORESCORESCORESCORESCORESCORESCORESCORESCORESCORESCORESCORESCORESCORESCORESCORECompilation ErrorSCORESCORESCORESCORESCORESCORESCORESCORESCORESCORESCORESCORESCORESCORESCORESCORESCORESCORESCORECompilation ErrorCompilation ErrorSCORESCORESCORECompilation ErrorSCORESCORESCORECompilation ErrorCompilation ErrorCompilation ErrorSCORECompilation ErrorSCORESCORESCORESCORESCORESCORESCORESCORESCORESCORESCORECompilation ErrorSCORESCORESCORESCORESCORESCORESCORESCORESCORESCORESCORECompilation ErrorSCORESCORESCORESCORESCORESCORESCORESCORESCORESCORESCORESCORESCORESCORESCORESCORESCORESCORECompilation ErrorCompilation ErrorCompilation ErrorSCORECompilation ErrorSCORECompilation ErrorCompilation ErrorSCORECompilation ErrorSCORESCORECompilation ErrorSCORESCORECompilation ErrorCompilation ErrorSCORESCORECompilation ErrorCompilation ErrorCompilation ErrorSCORESCORESCORESCORESCORESCORESCORESCORESCORESCORESCORESCORESCORESCORESCORESCORECompilation ErrorSCORESCORECompilation ErrorCompilation ErrorCompilation ErrorCompilation ErrorSCORESCORESCORESCORESCORESCORESCORESCORESCORESCORESCORESCORESCORESCORESCORESCORESCORESCORESCORESCORESCORESCORESCORESCORESCORESCORECompilation ErrorSCORESCORESCORESCORESCORESCORESCORESCORESCORESCORESCORESCORESCORESCORESCORESCORESCORESCORESCORECompilation ErrorCompilation ErrorSCORESCORESCORECompilation ErrorSCORESCORESCORECompilation ErrorCompilation ErrorCompilation ErrorSCORECompilation ErrorSCORESCORESCORESCORESCORESCORESCORESCORESCORESCORESCORECompilation ErrorSCORESCORESCORESCORESCORESCORESCORESCORESCORESCORESCORECompilation ErrorSCORESCORESCORESCORESCORESCORESCORESCORESCORESCORESCORESCORESCORESCORESCORESCORESCORESCORECompilation ErrorCompilation ErrorCompilation ErrorSCORECompilation ErrorSCORECompilation ErrorCompilation ErrorSCORECompilation ErrorSCORESCORECompilation ErrorSCORESCORECompilation ErrorCompilation ErrorSCORESCORECompilation ErrorCompilation ErrorCompilation ErrorSCORESCORESCORESCORESCORESCORESCORESCORESCORESCORESCORESCORESCORESCORESCORESCORECompilation ErrorSCORESCORECompilation ErrorCompilation ErrorCompilation ErrorCompilation ErrorSCORESCORESCORESCORESCORESCORESCORESCORESCORESCORESCORESCORESCORESCORESCORESCORESCORESCORESCORESCORESCORESCORESCORESCORESCORESCORECompilation ErrorSCORESCORESCORESCORESCORESCORESCORESCORESCORESCORESCORESCORESCORESCORESCORESCORESCORESCORESCORECompilation ErrorCompilation ErrorSCORESCORESCORECompilation ErrorSCORESCORESCORECompilation ErrorCompilation ErrorCompilation ErrorSCORECompilation ErrorSCORESCORESCORESCORESCORESCORESCORESCORESCORESCORESCORECompilation ErrorSCORESCORESCORESCORESCORESCORESCORESCORESCORESCORESCORECompilation ErrorSCORESCORESCORESCORESCORESCORESCORESCORESCORESCORESCORESCORESCORESCORESCORESCORESCORESCORECompilation ErrorCompilation ErrorCompilation ErrorSCORECompilation ErrorSCORECompilation ErrorCompilation ErrorSCORECompilation ErrorSCORESCORECompilation ErrorSCORESCORECompilation ErrorCompilation ErrorSCORESCORECompilation ErrorCompilation ErrorCompilation ErrorSCORESCORESCORESCORESCORESCORESCORESCORESCORESCORESCORESCORESCORESCORESCORESCORECompilation ErrorSCORESCORECompilation ErrorCompilation ErrorCompilation ErrorCompilation ErrorSCORESCORESCORESCORESCORESCORESCORESCORESCORESCORESCORESCORESCORESCORESCORESCORESCORESCORESCORESCORESCORESCORESCORESCORESCORESCORECompilation ErrorSCORESCORESCORESCORESCORESCORESCORESCORESCORESCORESCORESCORESCORESCORESCORESCORESCORESCORESCORECompilation ErrorCompilation ErrorSCORESCORESCORECompilation ErrorSCORESCORESCORECompilation ErrorCompilation ErrorCompilation ErrorSCORECompilation ErrorSCORESCORESCORESCORESCORESCORESCORESCORESCORESCORESCORECompilation ErrorSCORESCORESCORESCORESCORESCORESCORESCORESCORESCORESCORECompilation ErrorSCORESCORESCORESCORESCORESCORESCORESCORESCORESCORESCORESCORESCORESCORESCORESCORESCORESCORECompilation ErrorCompilation ErrorCompilation ErrorSCORECompilation ErrorSCORECompilation ErrorCompilation ErrorSCORECompilation ErrorSCORESCORECompilation ErrorSCORESCORECompilation ErrorCompilation ErrorSCORESCORECompilation ErrorCompilation ErrorCompilation ErrorSCORESCORESCORESCORESCORESCORESCORESCORESCORESCORESCORESCORESCORESCORESCORESCORECompilation ErrorSCORESCORECompilation ErrorCompilation ErrorCompilation ErrorCompilation ErrorSCORESCORESCORESCORESCORESCORESCORESCORESCORESCORESCORESCORESCORESCORESCORESCORESCORESCORESCORESCORESCORESCORESCORESCORESCORESCORECompilation ErrorSCORESCORESCORESCORESCORESCORESCORESCORESCORESCORESCORESCORESCORESCORESCORESCORESCORESCORESCORECompilation ErrorCompilation ErrorSCORESCORESCORECompilation ErrorSCORESCORESCORECompilation ErrorCompilation ErrorCompilation ErrorSCORECompilation ErrorSCORESCORESCORESCORESCORESCORESCORESCORESCORESCORESCORECompilation ErrorSCORESCORESCORESCORESCORESCORESCORESCORESCORESCORESCORECompilation ErrorSCORESCORESCORESCORESCORESCORESCORESCORESCORESCORESCORESCORESCORESCORESCORESCORESCORESCORECompilation ErrorCompilation ErrorCompilation ErrorSCORECompilation ErrorSCORECompilation ErrorCompilation ErrorSCORECompilation ErrorSCORESCORECompilation ErrorSCORESCORECompilation ErrorCompilation ErrorSCORESCORECompilation ErrorCompilation ErrorCompilation ErrorSCORESCORESCORESCORESCORESCORESCORESCORESCORESCORESCORESCORESCORESCORESCORESCORECompilation ErrorSCORESCORECompilation ErrorCompilation ErrorCompilation ErrorCompilation ErrorSCORESCORESCORESCORESCORESCORESCORESCORESCORESCORESCORESCORESCORESCORESCORESCORESCORESCORESCORESCORESCORESCORESCORESCORESCORESCORECompilation ErrorSCORESCORESCORESCORESCORESCORESCORESCORESCORESCORESCORESCORESCORESCORESCORESCORESCORESCORESCORECompilation ErrorCompilation ErrorSCORESCORESCORECompilation ErrorSCORESCORESCORECompilation ErrorCompilation ErrorCompilation ErrorSCORECompilation ErrorSCORESCORESCORESCORESCORESCORESCORESCORESCORESCORESCORECompilation ErrorSCORESCORESCORESCORESCORESCORESCORESCORESCORESCORESCORECompilation ErrorSCORESCORESCORESCORESCORESCORESCORESCORESCORESCORESCORESCORESCORESCORESCORESCORESCORESCORECompilation ErrorCompilation ErrorCompilation ErrorSCORECompilation ErrorSCORECompilation ErrorCompilation ErrorSCORECompilation ErrorSCORESCORECompilation ErrorSCORESCORECompilation ErrorCompilation ErrorSCORESCORECompilation ErrorCompilation ErrorCompilation ErrorSCORESCORESCORESCORESCORESCORESCORESCORESCORESCORESCORESCORESCORESCORESCORESCORECompilation ErrorSCORESCORECompilation ErrorCompilation ErrorCompilation ErrorCompilation ErrorSCORESCORESCORESCORESCORESCORESCORESCORESCORESCORESCORESCORESCORESCORESCORESCORESCORESCORESCORESCORESCORESCORESCORESCORESCORESCORECompilation ErrorSCORESCORESCORESCORESCORESCORESCORESCORESCORESCORESCORESCORESCORESCORESCORESCORESCORESCORESCORECompilation ErrorCompilation ErrorSCORESCORESCORECompilation ErrorSCORESCORESCORECompilation ErrorCompilation ErrorCompilation ErrorSCORECompilation ErrorSCORESCORESCORESCORESCORESCORESCORESCORESCORESCORESCORECompilation ErrorSCORESCORESCORESCORESCORESCORESCORESCORESCORESCORESCORECompilation ErrorSCORESCORESCORESCORESCORESCORESCORESCORESCORESCORESCORESCORESCORESCORESCORESCORESCORESCORECompilation ErrorCompilation ErrorCompilation ErrorSCORECompilation ErrorSCORECompilation ErrorCompilation ErrorSCORECompilation ErrorSCORESCORECompilation ErrorSCORESCORECompilation ErrorCompilation ErrorSCORESCORECompilation ErrorCompilation ErrorCompilation ErrorSCORESCORESCORESCORESCORESCORESCORESCORESCORESCORESCORESCORESCORESCORESCORESCORECompilation ErrorSCORESCORECompilation ErrorCompilation ErrorCompilation ErrorCompilation ErrorSCORESCORESCORESCORESCORESCORESCORESCORESCORESCORESCORESCORESCORESCORESCORESCORESCORESCORESCORESCORESCORESCORESCORESCORESCORESCORECompilation ErrorSCORESCORESCORESCORESCORESCORESCORESCORESCORESCORESCORESCORESCORESCORESCORESCORESCORESCORESCORECompilation ErrorCompilation ErrorSCORESCORESCORECompilation ErrorSCORESCORESCORECompilation ErrorCompilation ErrorCompilation ErrorSCORECompilation ErrorSCORESCORESCORESCORESCORESCORESCORESCORESCORESCORESCORECompilation ErrorSCORESCORESCORESCORESCORESCORESCORESCORESCORESCORESCORECompilation ErrorSCORESCORESCORESCORESCORESCORESCORESCORESCORESCORESCORESCORESCORESCORESCORESCORESCORESCORECompilation ErrorCompilation ErrorCompilation ErrorSCORECompilation ErrorSCORECompilation ErrorCompilation ErrorSCORECompilation ErrorSCORESCORECompilation ErrorSCORESCORECompilation ErrorCompilation ErrorSCORESCORECompilation ErrorCompilation ErrorCompilation ErrorSCORESCORESCORESCORESCORESCORESCORESCORESCORESCORESCORESCORESCORESCORESCORESCORECompilation ErrorSCORESCORECompilation ErrorCompilation ErrorCompilation ErrorCompilation ErrorSCORESCORESCORESCORESCORESCORESCORESCORESCORESCORESCORESCORESCORESCORESCORESCORESCORESCORESCORESCORESCORESCORESCORESCORESCORESCORECompilation ErrorSCORESCORESCORESCORESCORESCORESCORESCORESCORESCORESCORESCORESCORESCORESCORESCORESCORESCORESCORECompilation ErrorCompilation ErrorSCORESCORESCORECompilation ErrorSCORESCORESCORECompilation ErrorCompilation ErrorCompilation ErrorSCORECompilation ErrorSCORESCORESCORESCORESCORESCORESCORESCORESCORESCORESCORECompilation ErrorSCORESCORESCORESCORESCORESCORESCORESCORESCORESCORESCORECompilation ErrorSCORESCORESCORESCORESCORESCORESCORESCORESCORESCORESCORESCORESCORESCORESCORESCORESCORESCORECompilation ErrorCompilation ErrorCompilation ErrorSCORECompilation ErrorSCORECompilation ErrorCompilation ErrorSCORECompilation ErrorSCORESCORECompilation ErrorSCORESCORECompilation ErrorCompilation ErrorSCORESCORECompilation ErrorCompilation ErrorCompilation ErrorSCORESCORESCORESCORESCORESCORESCORESCORESCORESCORESCORESCORESCORESCORESCORESCORECompilation ErrorSCORESCORECompilation ErrorCompilation ErrorCompilation ErrorCompilation ErrorSCORESCORESCORESCORESCORESCORESCORESCORESCORESCORESCORESCORESCORESCORESCORESCORESCORESCORESCORESCORESCORESCORESCORESCORESCORESCORECompilation ErrorSCORESCORESCORESCORESCORESCORESCORESCORESCORESCORESCORESCORESCORESCORESCORESCORESCORESCORESCORECompilation ErrorCompilation ErrorSCORESCORESCORECompilation ErrorSCORESCORESCORECompilation ErrorCompilation ErrorCompilation ErrorSCORECompilation ErrorSCORESCORESCORESCORESCORESCORESCORESCORESCORESCORESCORECompilation ErrorSCORESCORESCORESCORESCORESCORESCORESCORESCORESCORESCORECompilation ErrorSCORESCORESCORESCORESCORESCORESCORESCORESCORESCORESCORESCORESCORESCORESCORESCORESCORESCORECompilation ErrorCompilation ErrorCompilation ErrorSCORECompilation ErrorSCORECompilation ErrorCompilation ErrorSCORECompilation ErrorSCORESCORECompilation ErrorSCORESCORECompilation ErrorCompilation ErrorSCORESCORECompilation ErrorCompilation ErrorCompilation ErrorSCORESCORESCORESCORESCORESCORESCORESCORESCORESCORESCORESCORESCORESCORESCORESCORECompilation ErrorSCORESCORECompilation ErrorCompilation ErrorCompilation ErrorCompilation ErrorSCORESCORESCORESCORESCORESCORESCORESCORESCORESCORESCORESCORESCORESCORESCORESCORESCORESCORESCORESCORESCORESCORESCORESCORESCORESCORECompilation ErrorSCORESCORESCORESCORESCORESCORESCORESCORESCORESCORESCORESCORESCORESCORESCORESCORESCORESCORESCORECompilation ErrorCompilation ErrorSCORESCORESCORECompilation ErrorSCORESCORESCORECompilation ErrorCompilation ErrorCompilation ErrorSCORECompilation ErrorSCORESCORESCORESCORESCORESCORESCORESCORESCORESCORESCORECompilation ErrorSCORESCORESCORESCORESCORESCORESCORESCORESCORESCORESCORECompilation ErrorSCORESCORESCORESCORESCORESCORESCORESCORESCORESCORESCORESCORESCORESCORESCORESCORESCORESCORECompilation ErrorCompilation ErrorCompilation ErrorSCORECompilation ErrorSCORECompilation ErrorCompilation ErrorSCORECompilation ErrorSCORESCORECompilation ErrorSCORESCORECompilation ErrorCompilation ErrorSCORESCORECompilation ErrorCompilation ErrorCompilation ErrorSCORESCORESCORESCORESCORESCORESCORESCORESCORESCORESCORESCORESCORESCORESCORESCORECompilation ErrorSCORESCORECompilation ErrorCompilation ErrorCompilation ErrorCompilation ErrorSCORESCORESCORESCORESCORESCORESCORESCORESCORESCORESCORESCORESCORESCORESCORESCORESCORESCORESCORESCORESCORESCORESCORESCORESCORESCORECompilation ErrorSCORESCORESCORESCORESCORESCORESCORESCORESCORESCORESCORESCORESCORESCORESCORESCORESCORESCORESCORECompilation ErrorCompilation ErrorSCORESCORESCORECompilation ErrorSCORESCORESCORECompilation ErrorCompilation ErrorCompilation ErrorSCORECompilation ErrorSCORESCORESCORESCORESCORESCORESCORESCORESCORESCORESCORECompilation ErrorSCORESCORESCORESCORESCORESCORESCORESCORESCORESCORESCORECompilation ErrorSCORESCORESCORESCORESCORESCORESCORESCORESCORESCORESCORESCORESCORESCORESCORESCORESCORESCORECompilation ErrorCompilation ErrorCompilation ErrorSCORECompilation ErrorSCORECompilation ErrorCompilation ErrorSCORECompilation ErrorSCORESCORECompilation ErrorSCORESCORECompilation ErrorCompilation ErrorSCORESCORECompilation ErrorCompilation ErrorCompilation ErrorSCORESCORESCORESCORESCORESCORESCORESCORESCORESCORESCORESCORESCORESCORESCORESCORECompilation ErrorSCORESCORECompilation ErrorCompilation ErrorCompilation ErrorCompilation ErrorSCORESCORESCORESCORESCORESCORESCORESCORESCORESCORESCORESCORESCORESCORESCORESCORESCORESCORESCORESCORESCORESCORESCORESCORESCORESCORECompilation ErrorSCORESCORESCORESCORESCORESCORESCORESCORESCORESCORESCORESCORESCORESCORESCORESCORESCORESCORESCORECompilation ErrorCompilation ErrorSCORESCORESCORECompilation ErrorSCORESCORESCORECompilation ErrorCompilation ErrorCompilation ErrorSCORECompilation ErrorSCORESCORESCORESCORESCORESCORESCORESCORESCORESCORESCORECompilation ErrorSCORESCORESCORESCORESCORESCORESCORESCORESCORESCORESCORECompilation ErrorSCORESCORESCORESCORESCORESCORESCORESCORESCORESCORESCORESCORESCORESCORESCORESCORESCORESCORECompilation ErrorCompilation ErrorCompilation ErrorSCORECompilation ErrorSCORECompilation ErrorCompilation ErrorSCORECompilation ErrorSCORESCORECompilation ErrorSCORESCORECompilation ErrorCompilation ErrorSCORESCORECompilation ErrorCompilation ErrorCompilation ErrorSCORESCORESCORESCORESCORESCORESCORESCORESCORESCORESCORESCORESCORESCORESCORESCORECompilation ErrorSCORESCORECompilation ErrorCompilation ErrorCompilation ErrorCompilation ErrorSCORESCORESCORESCORESCORESCORESCORESCORESCORESCORESCORESCORESCORESCORESCORESCORESCORESCORESCORESCORESCORESCORESCORESCORESCORESCORECompilation ErrorSCORESCORESCORESCORESCORESCORESCORESCORESCORESCORESCORESCORESCORESCORESCORESCORESCORESCORESCORECompilation ErrorCompilation ErrorSCORESCORESCORECompilation ErrorSCORESCORESCORECompilation ErrorCompilation ErrorCompilation ErrorSCORECompilation ErrorSCORESCORESCORESCORESCORESCORESCORESCORESCORESCORESCORECompilation ErrorSCORESCORESCORESCORESCORESCORESCORESCORESCORESCORESCORECompilation ErrorSCORESCORESCORESCORESCORESCORESCORESCORESCORESCORESCORESCORESCORESCORESCORESCORESCORESCORECompilation ErrorCompilation ErrorCompilation ErrorSCORECompilation ErrorSCORECompilation ErrorCompilation ErrorSCORECompilation ErrorSCORESCORECompilation ErrorSCORESCORECompilation ErrorCompilation ErrorSCORESCORECompilation ErrorCompilation ErrorCompilation ErrorSCORESCORESCORESCORESCORESCORESCORESCORESCORESCORESCORESCORESCORESCORESCORESCORECompilation ErrorSCORESCORECompilation ErrorCompilation ErrorCompilation ErrorCompilation ErrorSCORESCORESCORESCORESCORESCORESCORESCORESCORESCORESCORESCORESCORESCORESCORESCORESCORESCORESCORESCORESCORESCORESCORESCORESCORESCORECompilation ErrorSCORESCORESCORESCORESCORESCORESCORESCORESCORESCORESCORESCORESCORESCORESCORESCORESCORESCORESCORECompilation ErrorCompilation ErrorSCORESCORESCORECompilation ErrorSCORESCORESCORECompilation ErrorCompilation ErrorCompilation ErrorSCORECompilation ErrorSCORESCORESCORESCORESCORESCORESCORESCORESCORESCORESCORECompilation ErrorSCORESCORESCORESCORESCORESCORESCORESCORESCORESCORESCORECompilation ErrorSCORESCORESCORESCORESCORESCORESCORESCORESCORESCORESCORESCORESCORESCORESCORESCORESCORESCORECompilation ErrorCompilation ErrorCompilation ErrorSCORECompilation ErrorSCORECompilation ErrorCompilation ErrorSCORECompilation ErrorSCORESCORECompilation ErrorSCORESCORECompilation ErrorCompilation ErrorSCORESCORECompilation ErrorCompilation ErrorCompilation ErrorSCORESCORESCORESCORESCORESCORESCORESCORESCORESCORESCORESCORESCORESCORESCORESCORECompilation ErrorSCORESCORECompilation ErrorCompilation ErrorCompilation ErrorCompilation ErrorSCORESCORESCORESCORESCORESCORESCORESCORESCORESCORESCORESCORESCORESCORESCORESCORESCORESCORESCORESCORESCORESCORESCORESCORESCORESCORECompilation ErrorSCORESCORESCORESCORESCORESCORESCORESCORESCORESCORESCORESCORESCORESCORESCORESCORESCORESCORESCORECompilation ErrorCompilation ErrorSCORESCORESCORECompilation ErrorSCORESCORESCORECompilation ErrorCompilation ErrorCompilation ErrorSCORECompilation ErrorSCORESCORESCORESCORESCORESCORESCORESCORESCORESCORESCORECompilation ErrorSCORESCORESCORESCORESCORESCORESCORESCORESCORESCORESCORECompilation ErrorSCORESCORESCORESCORESCORESCORESCORESCORESCORESCORESCORESCORESCORESCORESCORESCORESCORESCORECompilation ErrorCompilation ErrorCompilation ErrorSCORECompilation ErrorSCORECompilation ErrorCompilation ErrorSCORECompilation ErrorSCORESCORECompilation ErrorSCORESCORECompilation ErrorCompilation ErrorSCORESCORECompilation ErrorCompilation ErrorCompilation ErrorSCORESCORESCORESCORESCORESCORESCORESCORESCORESCORESCORESCORESCORESCORESCORESCORECompilation ErrorSCORESCORECompilation ErrorCompilation ErrorCompilation ErrorCompilation ErrorSCORESCORESCORESCORESCORESCORESCORESCORESCORESCORESCORESCORESCORESCORESCORESCORESCORESCORESCORESCORESCORESCORESCORESCORESCORESCORECompilation ErrorSCORESCORESCORESCORESCORESCORESCORESCORESCORESCORESCORESCORESCORESCORESCORESCORESCORESCORESCORECompilation ErrorCompilation ErrorSCORESCORESCORECompilation ErrorSCORESCORESCORECompilation ErrorCompilation ErrorCompilation ErrorSCORECompilation ErrorSCORESCORESCORESCORESCORESCORESCORESCORESCORESCORESCORECompilation ErrorSCORESCORESCORESCORESCORESCORESCORESCORESCORESCORESCORECompilation ErrorSCORESCORESCORESCORESCORESCORESCORESCORESCORESCORESCORESCORESCORESCORESCORESCORESCORESCORECompilation ErrorCompilation ErrorCompilation ErrorSCORECompilation ErrorSCORECompilation ErrorCompilation ErrorSCORECompilation ErrorSCORESCORECompilation ErrorSCORESCORECompilation ErrorCompilation ErrorSCORESCORECompilation ErrorCompilation ErrorCompilation ErrorSCORESCORESCORESCORESCORESCORESCORESCORESCORESCORESCORESCORESCORESCORESCORESCORECompilation ErrorSCORESCORECompilation ErrorCompilation ErrorCompilation ErrorCompilation ErrorSCORESCORESCORESCORESCORESCORESCORESCORESCORESCORESCORESCORESCORESCORESCORESCORESCORESCORESCORESCORESCORESCORESCORESCORESCORESCORECompilation ErrorSCORESCORESCORESCORESCORESCORESCORESCORESCORESCORESCORESCORESCORESCORESCORESCORESCORESCORESCORECompilation ErrorCompilation ErrorSCORESCORESCORECompilation ErrorSCORESCORESCORECompilation ErrorCompilation ErrorCompilation ErrorSCORECompilation ErrorSCORESCORESCORESCORESCORESCORESCORESCORESCORESCORESCORECompilation ErrorSCORESCORESCORESCORESCORESCORESCORESCORESCORESCORESCORECompilation ErrorSCORESCORESCORESCORESCORESCORESCORESCORESCORESCORESCORESCORESCORESCORESCORESCORESCORESCORECompilation ErrorCompilation ErrorCompilation ErrorSCORECompilation ErrorSCORECompilation ErrorCompilation ErrorSCORECompilation ErrorSCORESCORECompilation ErrorSCORESCORECompilation ErrorCompilation ErrorSCORESCORECompilation ErrorCompilation ErrorCompilation ErrorSCORESCORESCORESCORESCORESCORESCORESCORESCORESCORESCORESCORESCORESCORESCORESCORECompilation ErrorSCORESCORECompilation ErrorCompilation ErrorCompilation ErrorCompilation ErrorSCORESCORESCORESCORESCORESCORESCORESCORESCORESCORESCORESCORESCORESCORESCORESCORESCORESCORESCORESCORESCORESCORESCORESCORESCORESCORECompilation ErrorSCORESCORESCORESCORESCORESCORESCORESCORESCORESCORESCORESCORESCORESCORESCORESCORESCORESCORESCORECompilation ErrorCompilation ErrorSCORESCORESCORECompilation ErrorSCORESCORESCORECompilation ErrorCompilation ErrorCompilation ErrorSCORECompilation ErrorSCORESCORESCORESCORESCORESCORESCORESCORESCORESCORESCORECompilation ErrorSCORESCORESCORESCORESCORESCORESCORESCORESCORESCORESCORECompilation ErrorSCORESCORESCORESCORESCORESCORESCORESCORESCORESCORESCORESCORESCORESCORESCORESCORESCORESCORECompilation ErrorCompilation ErrorCompilation ErrorSCORECompilation ErrorSCORECompilation ErrorCompilation ErrorSCORECompilation ErrorSCORESCORECompilation ErrorSCORESCORECompilation ErrorCompilation ErrorSCORESCORECompilation ErrorCompilation ErrorCompilation ErrorSCORESCORESCORESCORESCORESCORESCORESCORESCORESCORESCORESCORESCORESCORESCORESCORECompilation ErrorSCORESCORECompilation ErrorCompilation ErrorCompilation ErrorCompilation ErrorSCORESCORESCORESCORESCORESCORESCORESCORESCORESCORESCORESCORESCORESCORESCORESCORESCORESCORESCORESCORESCORESCORESCORESCORESCORESCORECompilation ErrorSCORESCORESCORESCORESCORESCORESCORESCORESCORESCORESCORESCORESCORESCORESCORESCORESCORESCORESCORECompilation ErrorCompilation ErrorSCORESCORESCORECompilation ErrorSCORESCORESCORECompilation ErrorCompilation ErrorCompilation ErrorSCORECompilation ErrorSCORESCORESCORESCORESCORESCORESCORESCORESCORESCORESCORECompilation ErrorSCORESCORESCORESCORESCORESCORESCORESCORESCORESCORESCORECompilation ErrorSCORESCORESCORESCORESCORESCORESCORESCORESCORESCORESCORESCORESCORESCORESCORESCORESCORESCORECompilation ErrorCompilation ErrorCompilation ErrorSCORECompilation ErrorSCORECompilation ErrorCompilation ErrorSCORECompilation ErrorSCORESCORECompilation ErrorSCORESCORECompilation ErrorCompilation ErrorSCORESCORECompilation ErrorCompilation ErrorCompilation ErrorSCORESCORESCORESCORESCORESCORESCORESCORESCORESCORESCORESCORESCORESCORESCORESCORECompilation ErrorSCORESCORECompilation ErrorCompilation ErrorCompilation ErrorCompilation ErrorSCORESCORESCORESCORESCORESCORESCORESCORESCORESCORESCORESCORESCORESCORESCORESCORESCORESCORESCORESCORESCORESCORESCORESCORESCORESCORECompilation ErrorSCORESCORESCORESCORESCORESCORESCORESCORESCORESCORESCORESCORESCORESCORESCORESCORESCORESCORESCORECompilation ErrorCompilation ErrorSCORESCORESCORECompilation ErrorSCORESCORESCORECompilation ErrorCompilation ErrorCompilation ErrorSCORECompilation ErrorSCORESCORESCORESCORESCORESCORESCORESCORESCORESCORESCORECompilation ErrorSCORESCORESCORESCORESCORESCORESCORESCORESCORESCORESCORECompilation ErrorSCORESCORESCORESCORESCORESCORESCORESCORESCORESCORESCORESCORESCORESCORESCORESCORESCORESCORECompilation ErrorCompilation ErrorCompilation ErrorSCORECompilation ErrorSCORECompilation ErrorCompilation ErrorSCORECompilation ErrorSCORESCORECompilation ErrorSCORESCORECompilation ErrorCompilation ErrorSCORESCORECompilation ErrorCompilation ErrorCompilation ErrorSCORESCORESCORESCORESCORESCORESCORESCORESCORESCORESCORESCORESCORESCORESCORESCORECompilation ErrorSCORESCORECompilation ErrorCompilation ErrorCompilation ErrorCompilation ErrorSCORESCORESCORESCORESCORESCORESCORESCORESCORESCORESCORESCORESCORESCORESCORESCORESCORESCORESCORESCORESCORESCORESCORESCORESCORESCORECompilation ErrorSCORESCORESCORESCORESCORESCORESCORESCORESCORESCORESCORESCORESCORESCORESCORESCORESCORESCORESCORECompilation ErrorCompilation ErrorSCORESCORESCORECompilation ErrorSCORESCORESCORECompilation ErrorCompilation ErrorCompilation ErrorSCORECompilation ErrorSCORESCORESCORESCORESCORESCORESCORESCORESCORESCORESCORECompilation ErrorSCORESCORESCORESCORESCORESCORESCORESCORESCORESCORESCORECompilation ErrorSCORESCORESCORESCORESCORESCORESCORESCORESCORESCORESCORESCORESCORESCORESCORESCORESCORESCORECompilation ErrorCompilation ErrorCompilation ErrorSCORECompilation ErrorSCORECompilation ErrorCompilation ErrorSCORECompilation ErrorSCORESCORECompilation ErrorSCORESCORECompilation ErrorCompilation ErrorSCORESCORECompilation ErrorCompilation ErrorCompilation ErrorSCORESCORESCORESCORESCORESCORESCORESCORESCORESCORESCORESCORESCORESCORESCORESCORECompilation ErrorSCORESCORECompilation ErrorCompilation ErrorCompilation ErrorCompilation ErrorSCORESCORESCORESCORESCORESCORESCORESCORESCORESCORESCORESCORESCORESCORESCORESCORESCORESCORESCORESCORESCORESCORESCORESCORESCORESCORECompilation ErrorSCORESCORESCORESCORESCORESCORESCORESCORESCORESCORESCORESCORESCORESCORESCORESCORESCORESCORESCORECompilation ErrorCompilation ErrorSCORESCORESCORECompilation ErrorSCORESCORESCORECompilation ErrorCompilation ErrorCompilation ErrorSCORECompilation ErrorSCORESCORESCORESCORESCORESCORESCORESCORESCORESCORESCORECompilation ErrorSCORESCORESCORESCORESCORESCORESCORESCORESCORESCORESCORECompilation ErrorSCORESCORESCORESCORESCORESCORESCORESCORESCORESCORESCORESCORESCORESCORESCORESCORESCORESCORECompilation ErrorCompilation ErrorCompilation ErrorSCORECompilation ErrorSCORECompilation ErrorCompilation ErrorSCORECompilation ErrorSCORESCORECompilation ErrorSCORESCORECompilation ErrorCompilation ErrorSCORESCORECompilation ErrorCompilation ErrorCompilation ErrorSCORESCORESCORESCORESCORESCORESCORESCORESCORESCORESCORESCORESCORESCORESCORESCORECompilation ErrorSCORESCORECompilation ErrorCompilation ErrorCompilation ErrorCompilation ErrorSCORESCORESCORESCORESCORESCORESCORESCORESCORESCORESCORESCORESCORESCORESCORESCORESCORESCORESCORESCORESCORESCORESCORESCORESCORESCORECompilation ErrorSCORESCORESCORESCORESCORESCORESCORESCORESCORESCORESCORESCORESCORESCORESCORESCORESCORESCORESCORECompilation ErrorCompilation ErrorSCORESCORESCORECompilation ErrorSCORESCORESCORECompilation ErrorCompilation ErrorCompilation ErrorSCORECompilation ErrorSCORESCORESCORESCORESCORESCORESCORESCORESCORESCORESCORECompilation ErrorSCORESCORESCORESCORESCORESCORESCORESCORESCORESCORESCORECompilation ErrorSCORESCORESCORESCORESCORESCORESCORESCORESCORESCORESCORESCORESCORESCORESCORESCORESCORESCORECompilation ErrorCompilation ErrorCompilation ErrorSCORECompilation ErrorSCORECompilation ErrorCompilation ErrorSCORECompilation ErrorSCORESCORECompilation ErrorSCORESCORECompilation ErrorCompilation ErrorSCORESCORECompilation ErrorCompilation ErrorCompilation ErrorSCORESCORESCORESCORESCORESCORESCORESCORESCORESCORESCORESCORESCORESCORESCORESCORECompilation ErrorSCORESCORECompilation ErrorCompilation ErrorCompilation ErrorCompilation ErrorSCORESCORESCORESCORESCORESCORESCORESCORESCORESCORESCORESCORESCORESCORESCORESCORESCORESCORESCORESCORESCORESCORESCORESCORESCORESCORECompilation ErrorSCORESCORESCORESCORESCORESCORESCORESCORESCORESCORESCORESCORESCORESCORESCORESCORESCORESCORESCORECompilation ErrorCompilation ErrorSCORESCORESCORECompilation ErrorSCORESCORESCORECompilation ErrorCompilation ErrorCompilation ErrorSCORECompilation ErrorSCORESCORESCORESCORESCORESCORESCORESCORESCORESCORESCORECompilation ErrorSCORESCORESCORESCORESCORESCORESCORESCORESCORESCORESCORECompilation ErrorSCORESCORESCORESCORESCORESCORESCORESCORESCORESCORESCORESCORESCORESCORESCORESCORESCORESCORECompilation ErrorCompilation ErrorCompilation ErrorSCORECompilation ErrorSCORECompilation ErrorCompilation ErrorSCORECompilation ErrorSCORESCORECompilation ErrorSCORESCORECompilation ErrorCompilation ErrorSCORESCORECompilation ErrorCompilation ErrorCompilation ErrorSCORESCORESCORESCORESCORESCORESCORESCORESCORESCORESCORESCORESCORESCORESCORESCORECompilation ErrorSCORESCORECompilation ErrorCompilation ErrorCompilation ErrorCompilation ErrorSCORESCORESCORESCORESCORESCORESCORESCORESCORESCORESCORESCORESCORESCORESCORESCORESCORESCORESCORESCORESCORESCORESCORESCORESCORESCORECompilation ErrorSCORESCORESCORESCORESCORESCORESCORESCORESCORESCORESCORESCORESCORESCORESCORESCORESCORESCORESCORECompilation ErrorCompilation ErrorSCORESCORESCORECompilation ErrorSCORESCORESCORECompilation ErrorCompilation ErrorCompilation ErrorSCORECompilation ErrorSCORESCORESCORESCORESCORESCORESCORESCORESCORESCORESCORECompilation ErrorSCORESCORESCORESCORESCORESCORESCORESCORESCORESCORESCORECompilation ErrorSCORESCORESCORESCORESCORESCORESCORESCORESCORESCORESCORESCORESCORESCORESCORESCORESCORESCORECompilation ErrorCompilation ErrorCompilation ErrorSCORECompilation ErrorSCORECompilation ErrorCompilation ErrorSCORECompilation ErrorSCORESCORECompilation ErrorSCORESCORECompilation ErrorCompilation ErrorSCORESCORECompilation ErrorCompilation ErrorCompilation ErrorSCORESCORESCORESCORESCORESCORESCORESCORESCORESCORESCORESCORESCORESCORESCORESCORECompilation ErrorSCORESCORECompilation ErrorCompilation ErrorCompilation ErrorCompilation ErrorSCORESCORESCORESCORESCORESCORESCORESCORESCORESCORESCORESCORESCORESCORESCORESCORESCORESCORESCORESCORESCORESCORESCORESCORESCORESCORECompilation ErrorSCORESCORESCORESCORESCORESCORESCORESCORESCORESCORESCORESCORESCORESCORESCORESCORESCORESCORESCORECompilation ErrorCompilation ErrorSCORESCORESCORECompilation ErrorSCORESCORESCORECompilation ErrorCompilation ErrorCompilation ErrorSCORECompilation ErrorSCORESCORESCORESCORESCORESCORESCORESCORESCORESCORESCORECompilation ErrorSCORESCORESCORESCORESCORESCORESCORESCORESCORESCORESCORECompilation ErrorSCORESCORESCORESCORESCORESCORESCORESCORESCORESCORESCORESCORESCORESCORESCORESCORESCORESCORECompilation ErrorCompilation ErrorCompilation ErrorSCORECompilation ErrorSCORECompilation ErrorCompilation ErrorSCORECompilation ErrorSCORESCORECompilation ErrorSCORESCORECompilation ErrorCompilation ErrorSCORESCORECompilation ErrorCompilation ErrorCompilation ErrorSCORESCORESCORESCORESCORESCORESCORESCORESCORESCORESCORESCORESCORESCORESCORESCORECompilation ErrorSCORESCORECompilation ErrorCompilation ErrorCompilation ErrorCompilation ErrorSCORESCORESCORESCORESCORESCORESCORESCORESCORESCORESCORESCORESCORESCORESCORESCORESCORESCORESCORESCORESCORESCORESCORESCORESCORESCORECompilation ErrorSCORESCORESCORESCORESCORESCORESCORESCORESCORESCORESCORESCORESCORESCORESCORESCORESCORESCORESCORECompilation ErrorCompilation ErrorSCORESCORESCORECompilation ErrorSCORESCORESCORECompilation ErrorCompilation ErrorCompilation ErrorSCORECompilation ErrorSCORESCORESCORESCORESCORESCORESCORESCORESCORESCORESCORECompilation ErrorSCORESCORESCORESCORESCORESCORESCORESCORESCORESCORESCORECompilation ErrorSCORESCORESCORESCORESCORESCORESCORESCORESCORESCORESCORESCORESCORESCORESCORESCORESCORESCORECompilation ErrorCompilation ErrorCompilation ErrorSCORECompilation ErrorSCORECompilation ErrorCompilation ErrorSCORECompilation ErrorSCORESCORECompilation ErrorSCORESCORECompilation ErrorCompilation ErrorSCORESCORECompilation ErrorCompilation ErrorCompilation ErrorSCORESCORESCORESCORESCORESCORESCORESCORESCORESCORESCORESCORESCORESCORESCORESCORECompilation ErrorSCORESCORECompilation ErrorCompilation ErrorCompilation ErrorCompilation ErrorSCORESCORESCORESCORESCORESCORESCORESCORESCORESCORESCORESCORESCORESCORESCORESCORESCORESCORESCORESCORESCORESCORESCORESCORESCORESCORECompilation ErrorSCORESCORESCORESCORESCORESCORESCORESCORESCORESCORESCORESCORESCORESCORESCORESCORESCORESCORESCORECompilation ErrorCompilation ErrorSCORESCORESCORECompilation ErrorSCORESCORESCORECompilation ErrorCompilation ErrorCompilation ErrorSCORECompilation ErrorSCORESCORESCORESCORESCORESCORESCORESCORESCORESCORESCORECompilation ErrorSCORESCORESCORESCORESCORESCORESCORESCORESCORESCORESCORECompilation ErrorSCORESCORESCORESCORESCORESCORESCORESCORESCORESCORESCORESCORESCORESCORESCORESCORESCORESCORECompilation ErrorCompilation ErrorCompilation ErrorSCORECompilation ErrorSCORECompilation ErrorCompilation ErrorSCORECompilation ErrorSCORESCORECompilation ErrorSCORESCORECompilation ErrorCompilation ErrorSCORESCORECompilation ErrorCompilation ErrorCompilation ErrorSCORESCORESCORESCORESCORESCORESCORESCORESCORESCORESCORESCORESCORESCORESCORESCORECompilation ErrorSCORESCORECompilation ErrorCompilation ErrorCompilation ErrorCompilation ErrorSCORESCORESCORESCORESCORESCORESCORESCORESCORESCORESCORESCORESCORESCORESCORESCORESCORESCORESCORESCORESCORESCORESCORESCORESCORESCORECompilation ErrorSCORESCORESCORESCORESCORESCORESCORESCORESCORESCORESCORESCORESCORESCORESCORESCORESCORESCORESCORECompilation ErrorCompilation ErrorSCORESCORESCORECompilation ErrorSCORESCORESCORECompilation ErrorCompilation ErrorCompilation ErrorSCORECompilation ErrorSCORESCORESCORESCORESCORESCORESCORESCORESCORESCORESCORECompilation ErrorSCORESCORESCORESCORESCORESCORESCORESCORESCORESCORESCORECompilation ErrorSCORESCORESCORESCORESCORESCORESCORESCORESCORESCORESCORESCORESCORESCORESCORESCORESCORESCORECompilation ErrorCompilation ErrorCompilation ErrorSCORECompilation ErrorSCORECompilation ErrorCompilation ErrorSCORECompilation ErrorSCORESCORECompilation ErrorSCORESCORECompilation ErrorCompilation ErrorSCORESCORECompilation ErrorCompilation ErrorCompilation ErrorSCORESCORESCORESCORESCORESCORESCORESCORESCORESCORESCORESCORESCORESCORESCORESCORECompilation ErrorSCORESCORECompilation ErrorCompilation ErrorCompilation ErrorCompilation ErrorSCORESCORESCORESCORESCORESCORESCORESCORESCORESCORESCORESCORESCORESCORESCORESCORESCORESCORESCORESCORESCORESCORESCORESCORESCORESCORECompilation ErrorSCORESCORESCORESCORESCORESCORESCORESCORESCORESCORESCORESCORESCORESCORESCORESCORESCORESCORESCORECompilation ErrorCompilation ErrorSCORESCORESCORECompilation ErrorSCORESCORESCORECompilation ErrorCompilation ErrorCompilation ErrorSCORECompilation ErrorSCORESCORESCORESCORESCORESCORESCORESCORESCORESCORESCORECompilation ErrorSCORESCORESCORESCORESCORESCORESCORESCORESCORESCORESCORECompilation ErrorSCORESCORESCORESCORESCORESCORESCORESCORESCORESCORESCORESCORESCORESCORESCORESCORESCORESCORECompilation ErrorCompilation ErrorCompilation ErrorSCORECompilation ErrorSCORECompilation ErrorCompilation ErrorSCORECompilation ErrorSCORESCORECompilation ErrorSCORESCORECompilation ErrorCompilation ErrorSCORESCORECompilation ErrorCompilation ErrorCompilation ErrorSCORESCORESCORESCORESCORESCORESCORESCORESCORESCORESCORESCORESCORESCORESCORESCORECompilation ErrorSCORESCORECompilation ErrorCompilation ErrorCompilation ErrorCompilation ErrorSCORESCORESCORESCORESCORESCORESCORESCORESCORESCORESCORESCORESCORESCORESCORESCORESCORESCORESCORESCORESCORESCORESCORESCORESCORESCORECompilation ErrorSCORESCORESCORESCORESCORESCORESCORESCORESCORESCORESCORESCORESCORESCORESCORESCORESCORESCORESCORECompilation ErrorCompilation ErrorSCORESCORESCORECompilation ErrorSCORESCORESCORECompilation ErrorCompilation ErrorCompilation ErrorSCORECompilation ErrorSCORESCORESCORESCORESCORESCORESCORESCORESCORESCORESCORECompilation ErrorSCORESCORESCORESCORESCORESCORESCORESCORESCORESCORESCORECompilation ErrorSCORESCORESCORESCORESCORESCORESCORESCORESCORESCORESCORESCORESCORESCORESCORESCORESCORESCORECompilation ErrorCompilation ErrorCompilation ErrorSCORECompilation ErrorSCORECompilation ErrorCompilation ErrorSCORECompilation ErrorSCORESCORECompilation ErrorSCORESCORECompilation ErrorCompilation ErrorSCORESCORECompilation ErrorCompilation ErrorCompilation ErrorSCORESCORESCORESCORESCORESCORESCORESCORESCORESCORESCORESCORESCORESCORESCORESCORECompilation ErrorSCORESCORECompilation ErrorCompilation ErrorCompilation ErrorCompilation ErrorSCORESCORESCORESCORESCORESCORESCORESCORESCORESCORESCORESCORESCORESCORESCORESCORESCORESCORESCORESCORESCORESCORESCORESCORESCORESCORECompilation ErrorSCORESCORESCORESCORESCORESCORESCORESCORESCORESCORESCORESCORESCORESCORESCORESCORESCORESCORESCORECompilation ErrorCompilation ErrorSCORESCORESCORECompilation ErrorSCORESCORESCORECompilation ErrorCompilation ErrorCompilation ErrorSCORECompilation ErrorSCORESCORESCORESCORESCORESCORESCORESCORESCORESCORESCORECompilation ErrorSCORESCORESCORESCORESCORESCORESCORESCORESCORESCORESCORECompilation ErrorSCORESCORESCORESCORESCORESCORESCORESCORESCORESCORESCORESCORESCORESCORESCORESCORESCORESCORECompilation ErrorCompilation ErrorCompilation ErrorSCORECompilation ErrorSCORECompilation ErrorCompilation ErrorSCORECompilation ErrorSCORESCORECompilation ErrorSCORESCORECompilation ErrorCompilation ErrorSCORESCORECompilation ErrorCompilation ErrorCompilation ErrorSCORESCORESCORESCORESCORESCORESCORESCORESCORESCORESCORESCORESCORESCORESCORESCORECompilation ErrorSCORESCORECompilation ErrorCompilation ErrorCompilation ErrorCompilation ErrorSCORESCORESCORESCORESCORESCORESCORESCORESCORESCORESCORESCORESCORESCORESCORESCORESCORESCORESCORESCORESCORESCORESCORESCORESCORESCORECompilation ErrorSCORESCORESCORESCORESCORESCORESCORESCORESCORESCORESCORESCORESCORESCORESCORESCORESCORESCORESCORECompilation ErrorCompilation ErrorSCORESCORESCORECompilation ErrorSCORESCORESCORECompilation ErrorCompilation ErrorCompilation ErrorSCORECompilation ErrorSCORESCORESCORESCORESCORESCORESCORESCORESCORESCORESCORECompilation ErrorSCORESCORESCORESCORESCORESCORESCORESCORESCORESCORESCORECompilation ErrorSCORESCORESCORESCORESCORESCORESCORESCORESCORESCORESCORESCORESCORESCORESCORESCORESCORESCORECompilation ErrorCompilation ErrorCompilation ErrorSCORECompilation ErrorSCORECompilation ErrorCompilation ErrorSCORECompilation ErrorSCORESCORECompilation ErrorSCORESCORECompilation ErrorCompilation ErrorSCORESCORECompilation ErrorCompilation ErrorCompilation ErrorSCORESCORESCORESCORESCORESCORESCORESCORESCORESCORESCORESCORESCORESCORESCORESCORECompilation ErrorSCORESCORECompilation ErrorCompilation ErrorCompilation ErrorCompilation ErrorSCORESCORESCORESCORESCORESCORESCORESCORESCORESCORESCORESCORESCORESCORESCORESCORESCORESCORESCORESCORESCORESCORESCORESCORESCORESCORECompilation ErrorSCORESCORESCORESCORESCORESCORESCORESCORESCORESCORESCORESCORESCORESCORESCORESCORESCORESCORESCORECompilation ErrorCompilation ErrorSCORESCORESCORECompilation ErrorSCORESCORESCORECompilation ErrorCompilation ErrorCompilation ErrorSCORECompilation ErrorSCORESCORESCORESCORESCORESCORESCORESCORESCORESCORESCORECompilation ErrorSCORESCORESCORESCORESCORESCORESCORESCORESCORESCORESCORECompilation ErrorSCORESCORESCORESCORESCORESCORESCORESCORESCORESCORESCORESCORESCORESCORESCORESCORESCORESCORECompilation ErrorCompilation ErrorCompilation ErrorSCORECompilation ErrorSCORECompilation ErrorCompilation ErrorSCORECompilation ErrorSCORESCORECompilation ErrorSCORESCORECompilation ErrorCompilation ErrorSCORESCORECompilation ErrorCompilation ErrorCompilation ErrorSCORESCORESCORESCORESCORESCORESCORESCORESCORESCORESCORESCORESCORESCORESCORESCORECompilation ErrorSCORESCORECompilation ErrorCompilation ErrorCompilation ErrorCompilation ErrorSCORESCORESCORESCORESCORESCORESCORESCORESCORESCORESCORESCORESCORESCORESCORESCORESCORESCORESCORESCORESCORESCORESCORESCORESCORESCORECompilation ErrorSCORESCORESCORESCORESCORESCORESCORESCORESCORESCORESCORESCORESCORESCORESCORESCORESCORESCORESCORECompilation ErrorCompilation ErrorSCORESCORESCORECompilation ErrorSCORESCORESCORECompilation ErrorCompilation ErrorCompilation ErrorSCORECompilation ErrorSCORESCORESCORESCORESCORESCORESCORESCORESCORESCORESCORECompilation ErrorSCORESCORESCORESCORESCORESCORESCORESCORESCORESCORESCORECompilation ErrorSCORESCORESCORESCORESCORESCORESCORESCORESCORESCORESCORESCORESCORESCORESCORESCORESCORESCORECompilation ErrorCompilation ErrorCompilation ErrorSCORECompilation ErrorSCORECompilation ErrorCompilation ErrorSCORECompilation ErrorSCORESCORECompilation ErrorSCORESCORECompilation ErrorCompilation ErrorSCORESCORECompilation ErrorCompilation ErrorCompilation ErrorSCORESCORESCORESCORESCORESCORESCORESCORESCORESCORESCORESCORESCORESCORESCORESCORECompilation ErrorSCORESCORECompilation ErrorCompilation ErrorCompilation ErrorCompilation ErrorSCORESCORESCORESCORESCORESCORESCORESCORESCORESCORESCORESCORESCORESCORESCORESCORESCORESCORESCORESCORESCORESCORESCORESCORESCORESCORECompilation ErrorSCORESCORESCORESCORESCORESCORESCORESCORESCORESCORESCORESCORESCORESCORESCORESCORESCORESCORESCORECompilation ErrorCompilation ErrorSCORESCORESCORECompilation ErrorSCORESCORESCORECompilation ErrorCompilation ErrorCompilation ErrorSCORECompilation ErrorSCORESCORESCORESCORESCORESCORESCORESCORESCORESCORESCORECompilation ErrorSCORESCORESCORESCORESCORESCORESCORESCORESCORESCORESCORECompilation ErrorSCORESCORESCORESCORESCORESCORESCORESCORESCORESCORESCORESCORESCORESCORESCORESCORESCORESCORECompilation ErrorCompilation ErrorCompilation ErrorSCORECompilation ErrorSCORECompilation ErrorCompilation ErrorSCORECompilation ErrorSCORESCORECompilation ErrorSCORESCORECompilation ErrorCompilation ErrorSCORESCORECompilation ErrorCompilation ErrorCompilation ErrorSCORESCORESCORESCORESCORESCORESCORESCORESCORESCORESCORESCORESCORESCORESCORESCORECompilation ErrorSCORESCORECompilation ErrorCompilation ErrorCompilation ErrorCompilation ErrorSCORESCORESCORESCORESCORESCORESCORESCORESCORESCORESCORESCORESCORESCORESCORESCORESCORESCORESCORESCORESCORESCORESCORESCORESCORESCORECompilation ErrorSCORESCORESCORESCORESCORESCORESCORESCORESCORESCORESCORESCORESCORESCORESCORESCORESCORESCORESCORECompilation ErrorCompilation ErrorSCORESCORESCORECompilation ErrorSCORESCORESCORECompilation ErrorCompilation ErrorCompilation ErrorSCORECompilation ErrorSCORESCORESCORESCORESCORESCORESCORESCORESCORESCORESCORECompilation ErrorSCORESCORESCORESCORESCORESCORESCORESCORESCORESCORESCORECompilation ErrorSCORESCORESCORESCORESCORESCORESCORESCORESCORESCORESCORESCORESCORESCORESCORESCORESCORESCORECompilation ErrorCompilation ErrorCompilation ErrorSCORECompilation ErrorSCORECompilation ErrorCompilation ErrorSCORECompilation ErrorSCORESCORECompilation ErrorSCORESCORECompilation ErrorCompilation ErrorSCORESCORECompilation ErrorCompilation ErrorCompilation ErrorSCORESCORESCORESCORESCORESCORESCORESCORESCORESCORESCORESCORESCORESCORESCORESCORECompilation ErrorSCORESCORECompilation ErrorCompilation ErrorCompilation ErrorCompilation ErrorSCORESCORESCORESCORESCORESCORESCORESCORESCORESCORESCORESCORESCORESCORESCORESCORESCORESCORESCORESCORESCORESCORESCORESCORESCORESCORECompilation ErrorSCORESCORESCORESCORESCORESCORESCORESCORESCORESCORESCORESCORESCORESCORESCORESCORESCORESCORESCORECompilation ErrorCompilation ErrorSCORESCORESCORECompilation ErrorSCORESCORESCORECompilation ErrorCompilation ErrorCompilation ErrorSCORECompilation ErrorSCORESCORESCORESCORESCORESCORESCORESCORESCORESCORESCORECompilation ErrorSCORESCORESCORESCORESCORESCORESCORESCORESCORESCORESCORECompilation ErrorSCORESCORESCORESCORESCORESCORESCORESCORESCORESCORESCORESCORESCORESCORESCORESCORESCORESCORECompilation ErrorCompilation ErrorCompilation ErrorSCORECompilation ErrorSCORECompilation ErrorCompilation ErrorSCORECompilation ErrorSCORESCORECompilation ErrorSCORESCORECompilation ErrorCompilation ErrorSCORESCORECompilation ErrorCompilation ErrorCompilation ErrorSCORESCORESCORESCORESCORESCORESCORESCORESCORESCORESCORESCORESCORESCORESCORESCORECompilation ErrorSCORESCORECompilation ErrorCompilation ErrorCompilation ErrorCompilation ErrorSCORESCORESCORESCORESCORESCORESCORESCORESCORESCORESCORESCORESCORESCORESCORESCORESCORESCORESCORESCORESCORESCORESCORESCORESCORESCORECompilation ErrorSCORESCORESCORESCORESCORESCORESCORESCORESCORESCORESCORESCORESCORESCORESCORESCORESCORESCORESCORECompilation ErrorCompilation ErrorSCORESCORESCORECompilation ErrorSCORESCORESCORECompilation ErrorCompilation ErrorCompilation ErrorSCORECompilation ErrorSCORESCORESCORESCORESCORESCORESCORESCORESCORESCORESCORECompilation ErrorSCORESCORESCORESCORESCORESCORESCORESCORESCORESCORESCORECompilation ErrorSCORESCORESCORESCORESCORESCORESCORESCORESCORESCORESCORESCORESCORESCORESCORESCORESCORESCORECompilation ErrorCompilation ErrorCompilation ErrorSCORECompilation ErrorSCORECompilation ErrorCompilation ErrorSCORECompilation ErrorSCORESCORECompilation ErrorSCORESCORECompilation ErrorCompilation ErrorSCORESCORECompilation ErrorCompilation ErrorCompilation ErrorSCORESCORESCORESCORESCORESCORESCORESCORESCORESCORESCORESCORESCORESCORESCORESCORECompilation ErrorSCORESCORECompilation ErrorCompilation ErrorCompilation ErrorCompilation ErrorSCORESCORESCORESCORESCORESCORESCORESCORESCORESCORESCORESCORESCORESCORESCORESCORESCORESCORESCORESCORESCORESCORESCORESCORESCORESCORECompilation ErrorSCORESCORESCORESCORESCORESCORESCORESCORESCORESCORESCORESCORESCORESCORESCORESCORESCORESCORESCORECompilation ErrorCompilation ErrorSCORESCORESCORECompilation ErrorSCORESCORESCORECompilation ErrorCompilation ErrorCompilation ErrorSCORECompilation ErrorSCORESCORESCORESCORESCORESCORESCORESCORESCORESCORESCORECompilation ErrorSCORESCORESCORESCORESCORESCORESCORESCORESCORESCORESCORECompilation ErrorSCORESCORESCORESCORESCORESCORESCORESCORESCORESCORESCORESCORESCORESCORESCORESCORESCORESCORECompilation ErrorCompilation ErrorCompilation ErrorSCORECompilation ErrorSCORECompilation ErrorCompilation ErrorSCORECompilation ErrorSCORESCORECompilation ErrorSCORESCORECompilation ErrorCompilation ErrorSCORESCORECompilation ErrorCompilation ErrorCompilation ErrorSCORESCORESCORESCORESCORESCORESCORESCORESCORESCORESCORESCORESCORESCORESCORESCORECompilation ErrorSCORESCORECompilation ErrorCompilation ErrorCompilation ErrorCompilation ErrorSCORESCORESCORESCORESCORESCORESCORESCORESCORESCORESCORESCORESCORESCORESCORESCORESCORESCORESCORESCORESCORESCORESCORESCORESCORESCORECompilation ErrorSCORESCORESCORESCORESCORESCORESCORESCORESCORESCORESCORESCORESCORESCORESCORESCORESCORESCORESCORECompilation ErrorCompilation ErrorSCORESCORESCORECompilation ErrorSCORESCORESCORECompilation ErrorCompilation ErrorCompilation ErrorSCORECompilation ErrorSCORESCORESCORESCORESCORESCORESCORESCORESCORESCORESCORECompilation ErrorSCORESCORESCORESCORESCORESCORESCORESCORESCORESCORESCORECompilation ErrorSCORESCORESCORESCORESCORESCORESCORESCORESCORESCORESCORESCORESCORESCORESCORESCORESCORESCORECompilation ErrorCompilation ErrorCompilation ErrorSCORECompilation ErrorSCORECompilation ErrorCompilation ErrorSCORECompilation ErrorSCORESCORECompilation ErrorSCORESCORECompilation ErrorCompilation ErrorSCORESCORECompilation ErrorCompilation ErrorCompilation ErrorSCORESCORESCORESCORESCORESCORESCORESCORESCORESCORESCORESCORESCORESCORESCORESCORECompilation ErrorSCORESCORECompilation ErrorCompilation ErrorCompilation ErrorCompilation ErrorSCORESCORESCORESCORESCORESCORESCORESCORESCORESCORESCORESCORESCORESCORESCORESCORESCORESCORESCORESCORESCORESCORESCORESCORESCORESCORECompilation ErrorSCORESCORESCORESCORESCORESCORESCORESCORESCORESCORESCORESCORESCORESCORESCORESCORESCORESCORESCORECompilation ErrorCompilation ErrorSCORESCORESCORECompilation ErrorSCORESCORESCORECompilation ErrorCompilation ErrorCompilation ErrorSCORECompilation ErrorSCORESCORESCORESCORESCORESCORESCORESCORESCORESCORESCORECompilation ErrorSCORESCORESCORESCORESCORESCORESCORESCORESCORESCORESCORECompilation ErrorSCORESCORESCORESCORESCORESCORESCORESCORESCORESCORESCORESCORESCORESCORESCORESCORESCORESCORECompilation ErrorCompilation ErrorCompilation ErrorSCORECompilation ErrorSCORECompilation ErrorCompilation ErrorSCORECompilation ErrorSCORESCORECompilation ErrorSCORESCORECompilation ErrorCompilation ErrorSCORESCORECompilation ErrorCompilation ErrorCompilation ErrorSCORESCORESCORESCORESCORESCORESCORESCORESCORESCORESCORESCORESCORESCORESCORESCORECompilation ErrorSCORESCORECompilation ErrorCompilation ErrorCompilation ErrorCompilation ErrorSCORESCORESCORESCORESCORESCORESCORESCORESCORESCORESCORESCORESCORESCORESCORESCORESCORESCORESCORESCORESCORESCORESCORESCORESCORESCORECompilation ErrorSCORESCORESCORESCORESCORESCORESCORESCORESCORESCORESCORESCORESCORESCORESCORESCORESCORESCORESCORECompilation ErrorCompilation ErrorSCORESCORESCORECompilation ErrorSCORESCORESCORECompilation ErrorCompilation ErrorCompilation ErrorSCORECompilation ErrorSCORESCORESCORESCORESCORESCORESCORESCORESCORESCORESCORECompilation ErrorSCORESCORESCORESCORESCORESCORESCORESCORESCORESCORESCORECompilation ErrorSCORESCORESCORESCORESCORESCORESCORESCORESCORESCORESCORESCORESCORESCORESCORESCORESCORESCORECompilation ErrorCompilation ErrorCompilation ErrorSCORECompilation ErrorSCORECompilation ErrorCompilation ErrorSCORECompilation ErrorSCORESCORECompilation ErrorSCORESCORECompilation ErrorCompilation ErrorSCORESCORECompilation ErrorCompilation ErrorCompilation ErrorSCORESCORESCORESCORESCORESCORESCORESCORESCORESCORESCORESCORESCORESCORESCORESCORECompilation ErrorSCORESCORECompilation ErrorCompilation ErrorCompilation ErrorCompilation ErrorSCORESCORESCORESCORESCORESCORESCORESCORESCORESCORESCORESCORESCORESCORESCORESCORESCORESCORESCORESCORESCORESCORESCORESCORESCORESCORECompilation ErrorSCORESCORESCORESCORESCORESCORESCORESCORESCORESCORESCORESCORESCORESCORESCORESCORESCORESCORESCORECompilation ErrorCompilation ErrorSCORESCORESCORECompilation ErrorSCORESCORESCORECompilation ErrorCompilation ErrorCompilation ErrorSCORECompilation ErrorSCORESCORESCORESCORESCORESCORESCORESCORESCORESCORESCORECompilation ErrorSCORESCORESCORESCORESCORESCORESCORESCORESCORESCORESCORECompilation ErrorSCORESCORESCORESCORESCORESCORESCORESCORESCORESCORESCORESCORESCORESCORESCORESCORESCORESCORECompilation ErrorCompilation ErrorCompilation ErrorSCORECompilation ErrorSCORECompilation ErrorCompilation ErrorSCORECompilation ErrorSCORESCORECompilation ErrorSCORESCORECompilation ErrorCompilation ErrorSCORESCORECompilation ErrorCompilation ErrorCompilation ErrorSCORESCORESCORESCORESCORESCORESCORESCORESCORESCORESCORESCORESCORESCORESCORESCORECompilation ErrorSCORESCORECompilation ErrorCompilation ErrorCompilation ErrorCompilation ErrorSCORESCORESCORESCORESCORESCORESCORESCORESCORESCORESCORESCORESCORESCORESCORESCORESCORESCORESCORESCORESCORESCORESCORESCORESCORESCORECompilation ErrorSCORESCORESCORESCORESCORESCORESCORESCORESCORESCORESCORESCORESCORESCORESCORESCORESCORESCORESCORECompilation ErrorCompilation ErrorSCORESCORESCORECompilation ErrorSCORESCORESCORECompilation ErrorCompilation ErrorCompilation ErrorSCORECompilation ErrorSCORESCORESCORESCORESCORESCORESCORESCORESCORESCORESCORECompilation ErrorSCORESCORESCORESCORESCORESCORESCORESCORESCORESCORESCORECompilation ErrorSCORESCORESCORESCORESCORESCORESCORESCORESCORESCORESCORESCORESCORESCORESCORESCORESCORESCORECompilation ErrorCompilation ErrorCompilation ErrorSCORECompilation ErrorSCORECompilation ErrorCompilation ErrorSCORECompilation ErrorSCORESCORECompilation ErrorSCORESCORECompilation ErrorCompilation ErrorSCORESCORECompilation ErrorCompilation ErrorCompilation ErrorSCORESCORESCORESCORESCORESCORESCORESCORESCORESCORESCORESCORESCORESCORESCORESCORECompilation ErrorSCORESCORECompilation ErrorCompilation ErrorCompilation ErrorCompilation ErrorSCORESCORESCORESCORESCORESCORESCORESCORESCORESCORESCORESCORESCORESCORESCORESCORESCORESCORESCORESCORESCORESCORESCORESCORESCORESCORECompilation ErrorSCORESCORESCORESCORESCORESCORESCORESCORESCORESCORESCORESCORESCORESCORESCORESCORESCORESCORESCORECompilation ErrorCompilation ErrorSCORESCORESCORECompilation ErrorSCORESCORESCORECompilation ErrorCompilation ErrorCompilation ErrorSCORECompilation ErrorSCORESCORESCORESCORESCORESCORESCORESCORESCORESCORESCORECompilation ErrorSCORESCORESCORESCORESCORESCORESCORESCORESCORESCORESCORECompilation ErrorSCORESCORESCORESCORESCORESCORESCORESCORESCORESCORESCORESCORESCORESCORESCORESCORESCORESCORECompilation ErrorCompilation ErrorCompilation ErrorSCORECompilation ErrorSCORECompilation ErrorCompilation ErrorSCORECompilation ErrorSCORESCORECompilation ErrorSCORESCORECompilation ErrorCompilation ErrorSCORESCORECompilation ErrorCompilation ErrorCompilation ErrorSCORESCORESCORESCORESCORESCORESCORESCORESCORESCORESCORESCORESCORESCORESCORESCORECompilation ErrorSCORESCORECompilation ErrorCompilation ErrorCompilation ErrorCompilation ErrorSCORESCORESCORESCORESCORESCORESCORESCORESCORESCORESCORESCORESCORESCORESCORESCORESCORESCORESCORESCORESCORESCORESCORESCORESCORESCORECompilation ErrorSCORESCORESCORESCORESCORESCORESCORESCORESCORESCORESCORESCORESCORESCORESCORESCORESCORESCORESCORECompilation ErrorCompilation ErrorSCORESCORESCORECompilation ErrorSCORESCORESCORECompilation ErrorCompilation ErrorCompilation ErrorSCORECompilation ErrorSCORESCORESCORESCORESCORESCORESCORESCORESCORESCORESCORECompilation ErrorSCORESCORESCORESCORESCORESCORESCORESCORESCORESCORESCORECompilation ErrorSCORESCORESCORESCORESCORESCORESCORESCORESCORESCORESCORESCORESCORESCORESCORESCORESCORESCORECompilation ErrorCompilation ErrorCompilation ErrorSCORECompilation ErrorSCORECompilation ErrorCompilation ErrorSCORECompilation ErrorSCORESCORECompilation ErrorSCORESCORECompilation ErrorCompilation ErrorSCORESCORECompilation ErrorCompilation ErrorCompilation ErrorSCORESCORESCORESCORESCORESCORESCORESCORESCORESCORESCORESCORESCORESCORESCORESCORECompilation ErrorSCORESCORECompilation ErrorCompilation ErrorCompilation ErrorCompilation ErrorSCORESCORESCORESCORESCORESCORESCORESCORESCORESCORESCORESCORESCORESCORESCORESCORESCORESCORESCORESCORESCORESCORESCORESCORESCORESCORECompilation ErrorSCORESCORESCORESCORESCORESCORESCORESCORESCORESCORESCORESCORESCORESCORESCORESCORESCORESCORESCORECompilation ErrorCompilation ErrorSCORESCORESCORECompilation ErrorSCORESCORESCORECompilation ErrorCompilation ErrorCompilation ErrorSCORECompilation ErrorSCORESCORESCORESCORESCORESCORESCORESCORESCORESCORESCORECompilation ErrorSCORESCORESCORESCORESCORESCORESCORESCORESCORESCORESCORECompilation ErrorSCORESCORESCORESCORESCORESCORESCORESCORESCORESCORESCORESCORESCORESCORESCORESCORESCORESCORECompilation ErrorCompilation ErrorCompilation ErrorSCORECompilation ErrorSCORECompilation ErrorCompilation ErrorSCORECompilation ErrorSCORESCORECompilation ErrorSCORESCORECompilation ErrorCompilation ErrorSCORESCORECompilation ErrorCompilation ErrorCompilation ErrorSCORESCORESCORESCORESCORESCORESCORESCORESCORESCORESCORESCORESCORESCORESCORESCORECompilation ErrorSCORESCORECompilation ErrorCompilation ErrorCompilation ErrorCompilation ErrorSCORESCORESCORESCORESCORESCORESCORESCORESCORESCORESCORESCORESCORESCORESCORESCORESCORESCORESCORESCORESCORESCORESCORESCORESCORESCORECompilation ErrorSCORESCORESCORESCORESCORESCORESCORESCORESCORESCORESCORESCORESCORESCORESCORESCORESCORESCORESCORECompilation ErrorCompilation ErrorSCORESCORESCORECompilation ErrorSCORESCORESCORECompilation ErrorCompilation ErrorCompilation ErrorSCORECompilation ErrorSCORESCORESCORESCORESCORESCORESCORESCORESCORESCORESCORECompilation ErrorSCORESCORESCORESCORESCORESCORESCORESCORESCORESCORESCORECompilation ErrorSCORESCORESCORESCORESCORESCORESCORESCORESCORESCORESCORESCORESCORESCORESCORESCORESCORESCORECompilation ErrorCompilation ErrorCompilation ErrorSCORECompilation ErrorSCORECompilation ErrorCompilation ErrorSCORECompilation ErrorSCORESCORECompilation ErrorSCORESCORECompilation ErrorCompilation ErrorSCORESCORECompilation ErrorCompilation ErrorCompilation ErrorSCORESCORESCORESCORESCORESCORESCORESCORESCORESCORESCORESCORESCORESCORESCORESCORECompilation ErrorSCORESCORECompilation ErrorCompilation ErrorCompilation ErrorCompilation ErrorSCORESCORESCORESCORESCORESCORESCORESCORESCORESCORESCORESCORESCORESCORESCORESCORESCORESCORESCORESCORESCORESCORESCORESCORESCORESCORECompilation ErrorSCORESCORESCORESCORESCORESCORESCORESCORESCORESCORESCORESCORESCORESCORESCORESCORESCORESCORESCORECompilation ErrorCompilation ErrorSCORESCORESCORECompilation ErrorSCORESCORESCORECompilation ErrorCompilation ErrorCompilation ErrorSCORECompilation ErrorSCORESCORESCORESCORESCORESCORESCORESCORESCORESCORESCORECompilation ErrorSCORESCORESCORESCORESCORESCORESCORESCORESCORESCORESCORECompilation ErrorSCORESCORESCORESCORESCORESCORESCORESCORESCORESCORESCORESCORESCORESCORESCORESCORESCORESCORECompilation ErrorCompilation ErrorCompilation ErrorSCORECompilation ErrorSCORECompilation ErrorCompilation ErrorSCORECompilation ErrorSCORESCORECompilation ErrorSCORESCORECompilation ErrorCompilation ErrorSCORESCORECompilation ErrorCompilation ErrorCompilation ErrorSCORESCORESCORESCORESCORESCORESCORESCORESCORESCORESCORESCORESCORESCORESCORESCORECompilation ErrorSCORESCORECompilation ErrorCompilation ErrorCompilation ErrorCompilation ErrorSCORESCORESCORESCORESCORESCORESCORESCORESCORESCORESCORESCORESCORESCORESCORESCORESCORESCORESCORESCORESCORESCORESCORESCORESCORESCORECompilation ErrorSCORESCORESCORESCORESCORESCORESCORESCORESCORESCORESCORESCORESCORESCORESCORESCORESCORESCORESCORECompilation ErrorCompilation ErrorSCORESCORESCORECompilation ErrorSCORESCORESCORECompilation ErrorCompilation ErrorCompilation ErrorSCORECompilation ErrorSCORESCORESCORESCORESCORESCORESCORESCORESCORESCORESCORECompilation ErrorSCORESCORESCORESCORESCORESCORESCORESCORESCORESCORESCORECompilation ErrorSCORESCORESCORESCORESCORESCORESCORESCORESCORESCORESCORESCORESCORESCORESCORESCORESCORESCORECompilation ErrorCompilation ErrorCompilation ErrorSCORECompilation ErrorSCORECompilation ErrorCompilation ErrorSCORECompilation ErrorSCORESCORECompilation ErrorSCORESCORECompilation ErrorCompilation ErrorSCORESCORECompilation ErrorCompilation ErrorCompilation ErrorSCORESCORESCORESCORESCORESCORESCORESCORESCORESCORESCORESCORESCORESCORESCORESCORECompilation ErrorSCORESCORECompilation ErrorCompilation ErrorCompilation ErrorCompilation ErrorSCORESCORESCORESCORESCORESCORESCORESCORESCORESCORESCORESCORESCORESCORESCORESCORESCORESCORESCORESCORESCORESCORESCORESCORESCORESCORECompilation ErrorSCORESCORESCORESCORESCORESCORESCORESCORESCORESCORESCORESCORESCORESCORESCORESCORESCORESCORESCORECompilation ErrorCompilation ErrorSCORESCORESCORECompilation ErrorSCORESCORESCORECompilation ErrorCompilation ErrorCompilation ErrorSCORECompilation ErrorSCORESCORESCORESCORESCORESCORESCORESCORESCORESCORESCORECompilation ErrorSCORESCORESCORESCORESCORESCORESCORESCORESCORESCORESCORECompilation ErrorSCORESCORESCORESCORESCORESCORESCORESCORESCORESCORESCORESCORESCORESCORESCORESCORESCORESCORECompilation ErrorCompilation ErrorCompilation ErrorSCORECompilation ErrorSCORECompilation ErrorCompilation ErrorSCORECompilation ErrorSCORESCORECompilation ErrorSCORESCORECompilation ErrorCompilation ErrorSCORESCORECompilation ErrorCompilation ErrorCompilation ErrorSCORESCORESCORESCORESCORESCORESCORESCORESCORESCORESCORESCORESCORESCORESCORESCORECompilation ErrorSCORESCORECompilation ErrorCompilation ErrorCompilation ErrorCompilation ErrorSCORESCORESCORESCORESCORESCORESCORESCORESCORESCORESCORESCORESCORESCORESCORESCORESCORESCORESCORESCORESCORESCORESCORESCORESCORESCORECompilation ErrorSCORESCORESCORESCORESCORESCORESCORESCORESCORESCORESCORESCORESCORESCORESCORESCORESCORESCORESCORECompilation ErrorCompilation ErrorSCORESCORESCORECompilation ErrorSCORESCORESCORECompilation ErrorCompilation ErrorCompilation ErrorSCORECompilation ErrorSCORESCORESCORESCORESCORESCORESCORESCORESCORESCORESCORECompilation ErrorSCORESCORESCORESCORESCORESCORESCORESCORESCORESCORESCORECompilation ErrorSCORESCORESCORESCORESCORESCORESCORESCORESCORESCORESCORESCORESCORESCORESCORESCORESCORESCORECompilation ErrorCompilation ErrorCompilation ErrorSCORECompilation ErrorSCORECompilation ErrorCompilation ErrorSCORECompilation ErrorSCORESCORECompilation ErrorSCORESCORECompilation ErrorCompilation ErrorSCORESCORECompilation ErrorCompilation ErrorCompilation ErrorSCORESCORESCORESCORESCORESCORESCORESCORESCORESCORESCORESCORESCORESCORESCORESCORECompilation ErrorSCORESCORECompilation ErrorCompilation ErrorCompilation ErrorCompilation ErrorSCORESCORESCORESCORESCORESCORESCORESCORESCORESCORESCORESCORESCORESCORESCORESCORESCORESCORESCORESCORESCORESCORESCORESCORESCORESCORECompilation ErrorSCORESCORESCORESCORESCORESCORESCORESCORESCORESCORESCORESCORESCORESCORESCORESCORESCORESCORESCORECompilation ErrorCompilation ErrorSCORESCORESCORECompilation ErrorSCORESCORESCORECompilation ErrorCompilation ErrorCompilation ErrorSCORECompilation ErrorSCORESCORESCORESCORESCORESCORESCORESCORESCORESCORESCORECompilation ErrorSCORESCORESCORESCORESCORESCORESCORESCORESCORESCORESCORECompilation ErrorSCORESCORESCORESCORESCORESCORESCORESCORESCORESCORESCORESCORESCORESCORESCORESCORESCORESCORECompilation ErrorCompilation ErrorCompilation ErrorSCORECompilation ErrorSCORECompilation ErrorCompilation ErrorSCORECompilation ErrorSCORESCORECompilation ErrorSCORESCORECompilation ErrorCompilation ErrorSCORESCORECompilation ErrorCompilation ErrorCompilation ErrorSCORESCORESCORESCORESCORESCORESCORESCORESCORESCORESCORESCORESCORESCORESCORESCORECompilation ErrorSCORESCORECompilation ErrorCompilation ErrorCompilation ErrorCompilation ErrorSCORESCORESCORESCORESCORESCORESCORESCORESCORESCORESCORESCORESCORESCORESCORESCORESCORESCORESCORESCORESCORESCORESCORESCORESCORESCORECompilation ErrorSCORESCORESCORESCORESCORESCORESCORESCORESCORESCORESCORESCORESCORESCORESCORESCORESCORESCORESCORECompilation ErrorCompilation ErrorSCORESCORESCORECompilation ErrorSCORESCORESCORECompilation ErrorCompilation ErrorCompilation ErrorSCORECompilation ErrorSCORESCORESCORESCORESCORESCORESCORESCORESCORESCORESCORECompilation ErrorSCORESCORESCORESCORESCORESCORESCORESCORESCORESCORESCORECompilation ErrorSCORESCORESCORESCORESCORESCORESCORESCORESCORESCORESCORESCORESCORESCORESCORESCORESCORESCORECompilation ErrorCompilation ErrorCompilation ErrorSCORECompilation ErrorSCORECompilation ErrorCompilation ErrorSCORECompilation ErrorSCORESCORECompilation ErrorSCORESCORECompilation ErrorCompilation ErrorSCORESCORECompilation ErrorCompilation ErrorCompilation ErrorSCORESCORESCORESCORESCORESCORESCORESCORESCORESCORESCORESCORESCORESCORESCORESCORECompilation ErrorSCORESCORECompilation ErrorCompilation ErrorCompilation ErrorCompilation ErrorSCORESCORESCORESCORESCORESCORESCORESCORESCORESCORESCORESCORESCORESCORESCORESCORESCORESCORESCORESCORESCORESCORESCORESCORESCORESCORECompilation ErrorSCORESCORESCORESCORESCORESCORESCORESCORESCORESCORESCORESCORESCORESCORESCORESCORESCORESCORESCORECompilation ErrorCompilation ErrorSCORESCORESCORECompilation ErrorSCORESCORESCORECompilation ErrorCompilation ErrorCompilation ErrorSCORECompilation ErrorSCORESCORESCORESCORESCORESCORESCORESCORESCORESCORESCORECompilation ErrorSCORESCORESCORESCORESCORESCORESCORESCORESCORESCORESCORECompilation ErrorSCORESCORESCORESCORESCORESCORESCORESCORESCORESCORESCORESCORESCORESCORESCORESCORESCORESCORECompilation ErrorCompilation ErrorCompilation ErrorSCORECompilation ErrorSCORECompilation ErrorCompilation ErrorSCORECompilation ErrorSCORESCORECompilation ErrorSCORESCORECompilation ErrorCompilation ErrorSCORESCORECompilation ErrorCompilation ErrorCompilation ErrorSCORESCORESCORESCORESCORESCORESCORESCORESCORESCORESCORESCORESCORESCORESCORESCORECompilation ErrorSCORESCORECompilation ErrorCompilation ErrorCompilation ErrorCompilation ErrorSCORESCORESCORESCORESCORESCORESCORESCORESCORESCORESCORESCORESCORESCORESCORESCORESCORESCORESCORESCORESCORESCORESCORESCORESCORESCORECompilation ErrorSCORESCORESCORESCORESCORESCORESCORESCORESCORESCORESCORESCORESCORESCORESCORESCORESCORESCORESCORECompilation ErrorCompilation ErrorSCORESCORESCORECompilation ErrorSCORESCORESCORECompilation ErrorCompilation ErrorCompilation ErrorSCORECompilation ErrorSCORESCORESCORESCORESCORESCORESCORESCORESCORESCORESCORECompilation ErrorSCORESCORESCORESCORESCORESCORESCORESCORESCORESCORESCORECompilation ErrorSCORESCORESCORESCORESCORESCORESCORESCORESCORESCORESCORESCORESCORESCORESCORESCORESCORESCORECompilation ErrorCompilation ErrorCompilation ErrorSCORECompilation ErrorSCORECompilation ErrorCompilation ErrorSCORECompilation ErrorSCORESCORECompilation ErrorSCORESCORECompilation ErrorCompilation ErrorSCORESCORECompilation ErrorCompilation ErrorCompilation ErrorSCORESCORESCORESCORESCORESCORESCORESCORESCORESCORESCORESCORESCORESCORESCORESCORECompilation ErrorSCORESCORECompilation ErrorCompilation ErrorCompilation ErrorCompilation ErrorSCORESCORESCORESCORESCORESCORESCORESCORESCORESCORESCORESCORESCORESCORESCORESCORESCORESCORESCORESCORESCORESCORESCORESCORESCORESCORECompilation ErrorSCORESCORESCORESCORESCORESCORESCORESCORESCORESCORESCORESCORESCORESCORESCORESCORESCORESCORESCORECompilation ErrorCompilation ErrorSCORESCORESCORECompilation ErrorSCORESCORESCORECompilation ErrorCompilation ErrorCompilation ErrorSCORECompilation ErrorSCORESCORESCORESCORESCORESCORESCORESCORESCORESCORESCORECompilation ErrorSCORESCORESCORESCORESCORESCORESCORESCORESCORESCORESCORECompilation ErrorSCORESCORESCORESCORESCORESCORESCORESCORESCORESCORESCORESCORESCORESCORESCORESCORESCORESCORECompilation ErrorCompilation ErrorCompilation ErrorSCORECompilation ErrorSCORECompilation ErrorCompilation ErrorSCORECompilation ErrorSCORESCORECompilation ErrorSCORESCORECompilation ErrorCompilation ErrorSCORESCORECompilation ErrorCompilation ErrorCompilation ErrorSCORESCORESCORESCORESCORESCORESCORESCORESCORESCORESCORESCORESCORESCORESCORESCORECompilation ErrorSCORESCORECompilation ErrorCompilation ErrorCompilation ErrorCompilation ErrorSCORESCORESCORESCORESCORESCORESCORESCORESCORESCORESCORESCORESCORESCORESCORESCORESCORESCORESCORESCORESCORESCORESCORESCORESCORESCORECompilation ErrorSCORESCORESCORESCORESCORESCORESCORESCORESCORESCORESCORESCORESCORESCORESCORESCORESCORESCORESCORECompilation ErrorCompilation ErrorSCORESCORESCORECompilation ErrorSCORESCORESCORECompilation ErrorCompilation ErrorCompilation ErrorSCORECompilation ErrorSCORESCORESCORESCORESCORESCORESCORESCORESCORESCORESCORECompilation ErrorSCORESCORESCORESCORESCORESCORESCORESCORESCORESCORESCORECompilation ErrorSCORESCORESCORESCORESCORESCORESCORESCORESCORESCORESCORESCORESCORESCORESCORESCORESCORESCORECompilation ErrorCompilation ErrorCompilation ErrorSCORECompilation ErrorSCORECompilation ErrorCompilation ErrorSCORECompilation ErrorSCORESCORECompilation ErrorSCORESCORECompilation ErrorCompilation ErrorSCORESCORECompilation ErrorCompilation ErrorCompilation ErrorSCORESCORESCORESCORESCORESCORESCORESCORESCORESCORESCORESCORESCORESCORESCORESCORECompilation ErrorSCORESCORECompilation ErrorCompilation ErrorCompilation ErrorCompilation ErrorSCORESCORESCORESCORESCORESCORESCORESCORESCORESCORESCORESCORESCORESCORESCORESCORESCORESCORESCORESCORESCORESCORESCORESCORESCORESCORECompilation ErrorSCORESCORESCORESCORESCORESCORESCORESCORESCORESCORESCORESCORESCORESCORESCORESCORESCORESCORESCORECompilation ErrorCompilation ErrorSCORESCORESCORECompilation ErrorSCORESCORESCORECompilation ErrorCompilation ErrorCompilation ErrorSCORECompilation ErrorSCORESCORESCORESCORESCORESCORESCORESCORESCORESCORESCORECompilation ErrorSCORESCORESCORESCORESCORESCORESCORESCORESCORESCORESCORECompilation ErrorSCORESCORESCORESCORESCORESCORESCORESCORESCORESCORESCORESCORESCORESCORESCORESCORESCORESCORECompilation ErrorCompilation ErrorCompilation ErrorSCORECompilation ErrorSCORECompilation ErrorCompilation ErrorSCORECompilation ErrorSCORESCORECompilation ErrorSCORESCORECompilation ErrorCompilation ErrorSCORESCORECompilation ErrorCompilation ErrorCompilation ErrorSCORESCORESCORESCORESCORESCORESCORESCORESCORESCORESCORESCORESCORESCORESCORESCORECompilation ErrorSCORESCORECompilation ErrorCompilation ErrorCompilation ErrorCompilation ErrorSCORESCORESCORESCORESCORESCORESCORESCORESCORESCORESCORESCORESCORESCORESCORESCORESCORESCORESCORESCORESCORESCORESCORESCORESCORESCORECompilation ErrorSCORESCORESCORESCORESCORESCORESCORESCORESCORESCORESCORESCORESCORESCORESCORESCORESCORESCORESCORECompilation ErrorCompilation ErrorSCORESCORESCORECompilation ErrorSCORESCORESCORECompilation ErrorCompilation ErrorCompilation ErrorSCORECompilation ErrorSCORESCORESCORESCORESCORESCORESCORESCORESCORESCORESCORECompilation ErrorSCORESCORESCORESCORESCORESCORESCORESCORESCORESCORESCORECompilation ErrorSCORESCORESCORESCORESCORESCORESCORESCORESCORESCORESCORESCORESCORESCORESCORESCORESCORESCORECompilation ErrorCompilation ErrorCompilation ErrorSCORECompilation ErrorSCORECompilation ErrorCompilation ErrorSCORECompilation ErrorSCORESCORECompilation ErrorSCORESCORECompilation ErrorCompilation ErrorSCORESCORECompilation ErrorCompilation ErrorCompilation ErrorSCORESCORESCORESCORESCORESCORESCORESCORESCORESCORESCORESCORESCORESCORESCORESCORECompilation ErrorSCORESCORECompilation ErrorCompilation ErrorCompilation ErrorCompilation ErrorSCORESCORESCORESCORESCORESCORESCORESCORESCORESCORESCORESCORESCORESCORESCORESCORESCORESCORESCORESCORESCORESCORESCORESCORESCORESCORECompilation ErrorSCORESCORESCORESCORESCORESCORESCORESCORESCORESCORESCORESCORESCORESCORESCORESCORESCORESCORESCORECompilation ErrorCompilation ErrorSCORESCORESCORECompilation ErrorSCORESCORESCORECompilation ErrorCompilation ErrorCompilation ErrorSCORECompilation ErrorSCORESCORESCORESCORESCORESCORESCORESCORESCORESCORESCORECompilation ErrorSCORESCORESCORESCORESCORESCORESCORESCORESCORESCORESCORECompilation ErrorSCORESCORESCORESCORESCORESCORESCORESCORESCORESCORESCORESCORESCORESCORESCORESCORESCORESCORECompilation ErrorCompilation ErrorCompilation ErrorSCORECompilation ErrorSCORECompilation ErrorCompilation ErrorSCORECompilation ErrorSCORESCORECompilation ErrorSCORESCORECompilation ErrorCompilation ErrorSCORESCORECompilation ErrorCompilation ErrorCompilation ErrorSCORESCORESCORESCORESCORESCORESCORESCORESCORESCORESCORESCORESCORESCORESCORESCORECompilation ErrorSCORESCORECompilation ErrorCompilation ErrorCompilation ErrorCompilation ErrorSCORESCORESCORESCORESCORESCORESCORESCORESCORESCORESCORESCORESCORESCORESCORESCORESCORESCORESCORESCORESCORESCORESCORESCORESCORESCORECompilation ErrorSCORESCORESCORESCORESCORESCORESCORESCORESCORESCORESCORESCORESCORESCORESCORESCORESCORESCORESCORECompilation ErrorCompilation ErrorSCORESCORESCORECompilation ErrorSCORESCORESCORECompilation ErrorCompilation ErrorCompilation ErrorSCORECompilation ErrorSCORESCORESCORESCORESCORESCORESCORESCORESCORESCORESCORECompilation ErrorSCORESCORESCORESCORESCORESCORESCORESCORESCORESCORESCORECompilation ErrorSCORESCORESCORESCORESCORESCORESCORESCORESCORESCORESCORESCORESCORESCORESCORESCORESCORESCORECompilation ErrorCompilation ErrorCompilation ErrorSCORECompilation ErrorSCORECompilation ErrorCompilation ErrorSCORECompilation ErrorSCORESCORECompilation ErrorSCORESCORECompilation ErrorCompilation ErrorSCORESCORECompilation ErrorCompilation ErrorCompilation ErrorSCORESCORESCORESCORESCORESCORESCORESCORESCORESCORESCORESCORESCORESCORESCORESCORECompilation ErrorSCORESCORECompilation ErrorCompilation ErrorCompilation ErrorCompilation ErrorSCORESCORESCORESCORESCORESCORESCORESCORESCORESCORESCORESCORESCORESCORESCORESCORESCORESCORESCORESCORESCORESCORESCORESCORESCORESCORECompilation ErrorSCORESCORESCORESCORESCORESCORESCORESCORESCORESCORESCORESCORESCORESCORESCORESCORESCORESCORESCORECompilation ErrorCompilation ErrorSCORESCORESCORECompilation ErrorSCORESCORESCORECompilation ErrorCompilation ErrorCompilation ErrorSCORECompilation ErrorSCORESCORESCORESCORESCORESCORESCORESCORESCORESCORESCORECompilation ErrorSCORESCORESCORESCORESCORESCORESCORESCORESCORESCORESCORECompilation ErrorSCORESCORESCORESCORESCORESCORESCORESCORESCORESCORESCORESCORESCORESCORESCORESCORESCORESCORECompilation ErrorCompilation ErrorCompilation ErrorSCORECompilation ErrorSCORECompilation ErrorCompilation ErrorSCORECompilation ErrorSCORESCORECompilation ErrorSCORESCORECompilation ErrorCompilation ErrorSCORESCORECompilation ErrorCompilation ErrorCompilation ErrorSCORESCORESCORESCORESCORESCORESCORESCORESCORESCORESCORESCORESCORESCORESCORESCORECompilation ErrorSCORESCORECompilation ErrorCompilation ErrorCompilation ErrorCompilation ErrorSCORESCORESCORESCORESCORESCORESCORESCORESCORESCORESCORESCORESCORESCORESCORESCORESCORESCORESCORESCORESCORESCORESCORESCORESCORESCORECompilation ErrorSCORESCORESCORESCORESCORESCORESCORESCORESCORESCORESCORESCORESCORESCORESCORESCORESCORESCORESCORECompilation ErrorCompilation ErrorSCORESCORESCORECompilation ErrorSCORESCORESCORECompilation ErrorCompilation ErrorCompilation ErrorSCORECompilation ErrorSCORESCORESCORESCORESCORESCORESCORESCORESCORESCORESCORECompilation ErrorSCORESCORESCORESCORESCORESCORESCORESCORESCORESCORESCORECompilation ErrorSCORESCORESCORESCORESCORESCORESCORESCORESCORESCORESCORESCORESCORESCORESCORESCORESCORESCORECompilation ErrorCompilation ErrorCompilation ErrorSCORECompilation ErrorSCORECompilation ErrorCompilation ErrorSCORECompilation ErrorSCORESCORECompilation ErrorSCORESCORECompilation ErrorCompilation ErrorSCORESCORECompilation ErrorCompilation ErrorCompilation ErrorSCORESCORESCORESCORESCORESCORESCORESCORESCORESCORESCORESCORESCORESCORESCORESCORECompilation ErrorSCORESCORECompilation ErrorCompilation ErrorCompilation ErrorCompilation ErrorSCORESCORESCORESCORESCORESCORESCORESCORESCORESCORESCORESCORESCORESCORESCORESCORESCORESCORESCORESCORESCORESCORESCORESCORESCORESCORECompilation ErrorSCORESCORESCORESCORESCORESCORESCORESCORESCORESCORESCORESCORESCORESCORESCORESCORESCORESCORESCORECompilation ErrorCompilation ErrorSCORESCORESCORECompilation ErrorSCORESCORESCORECompilation ErrorCompilation ErrorCompilation ErrorSCORECompilation ErrorSCORESCORESCORESCORESCORESCORESCORESCORESCORESCORESCORECompilation ErrorSCORESCORESCORESCORESCORESCORESCORESCORESCORESCORESCORECompilation ErrorSCORESCORESCORESCORESCORESCORESCORESCORESCORESCORESCORESCORESCORESCORESCORESCORESCORESCORECompilation ErrorCompilation ErrorCompilation ErrorSCORECompilation ErrorSCORECompilation ErrorCompilation ErrorSCORECompilation ErrorSCORESCORECompilation ErrorSCORESCORECompilation ErrorCompilation ErrorSCORESCORECompilation ErrorCompilation ErrorCompilation ErrorSCORESCORESCORESCORESCORESCORESCORESCORESCORESCORESCORESCORESCORESCORESCORESCORECompilation ErrorSCORESCORECompilation ErrorCompilation ErrorCompilation ErrorCompilation ErrorSCORESCORESCORESCORESCORESCORESCORESCORESCORESCORESCORESCORESCORESCORESCORESCORESCORESCORESCORESCORESCORESCORESCORESCORESCORESCORECompilation ErrorSCORESCORESCORESCORESCORESCORESCORESCORESCORESCORESCORESCORESCORESCORESCORESCORESCORESCORESCORECompilation ErrorCompilation ErrorSCORESCORESCORECompilation ErrorSCORESCORESCORECompilation ErrorCompilation ErrorCompilation ErrorSCORECompilation ErrorSCORESCORESCORESCORESCORESCORESCORESCORESCORESCORESCORECompilation ErrorSCORESCORESCORESCORESCORESCORESCORESCORESCORESCORESCORECompilation ErrorSCORESCORESCORESCORESCORESCORESCORESCORESCORESCORESCORESCORESCORESCORESCORESCORESCORESCORECompilation ErrorCompilation ErrorCompilation ErrorSCORECompilation ErrorSCORECompilation ErrorCompilation ErrorSCORECompilation ErrorSCORESCORECompilation ErrorSCORESCORECompilation ErrorCompilation ErrorSCORESCORECompilation ErrorCompilation ErrorCompilation ErrorSCORESCORESCORESCORESCORESCORESCORESCORESCORESCORESCORESCORESCORESCORESCORESCORECompilation ErrorSCORESCORECompilation ErrorCompilation ErrorCompilation ErrorCompilation ErrorSCORESCORESCORESCORESCORESCORESCORESCORESCORESCORESCORESCORESCORESCORESCORESCORESCORESCORESCORESCORESCORESCORESCORESCORESCORESCORECompilation ErrorSCORESCORESCORESCORESCORESCORESCORESCORESCORESCORESCORESCORESCORESCORESCORESCORESCORESCORESCORECompilation ErrorCompilation ErrorSCORESCORESCORECompilation ErrorSCORESCORESCORECompilation ErrorCompilation ErrorCompilation ErrorSCORECompilation ErrorSCORESCORESCORESCORESCORESCORESCORESCORESCORESCORESCORECompilation ErrorSCORESCORESCORESCORESCORESCORESCORESCORESCORESCORESCORECompilation ErrorSCORESCORESCORESCORESCORESCORESCORESCORESCORESCORESCORESCORESCORESCORESCORESCORESCORESCORECompilation ErrorCompilation ErrorCompilation ErrorSCORECompilation ErrorSCORECompilation ErrorCompilation ErrorSCORECompilation ErrorSCORESCORECompilation ErrorSCORESCORECompilation ErrorCompilation ErrorSCORESCORECompilation ErrorCompilation ErrorCompilation ErrorSCORESCORESCORESCORESCORESCORESCORESCORESCORESCORESCORESCORESCORESCORESCORESCORECompilation ErrorSCORESCORECompilation ErrorCompilation ErrorCompilation ErrorCompilation ErrorSCORESCORESCORESCORESCORESCORESCORESCORESCORESCORESCORESCORESCORESCORESCORESCORESCORESCORESCORESCORESCORESCORESCORESCORESCORESCORECompilation ErrorSCORESCORESCORESCORESCORESCORESCORESCORESCORESCORESCORESCORESCORESCORESCORESCORESCORESCORESCORECompilation ErrorCompilation ErrorSCORESCORESCORECompilation ErrorSCORESCORESCORECompilation ErrorCompilation ErrorCompilation ErrorSCORECompilation ErrorSCORESCORESCORESCORESCORESCORESCORESCORESCORESCORESCORECompilation ErrorSCORESCORESCORESCORESCORESCORESCORESCORESCORESCORESCORECompilation ErrorSCORESCORESCORESCORESCORESCORESCORESCORESCORESCORESCORESCORESCORESCORESCORESCORESCORESCORECompilation ErrorCompilation ErrorCompilation ErrorSCORECompilation ErrorSCORECompilation ErrorCompilation ErrorSCORECompilation ErrorSCORESCORECompilation ErrorSCORESCORECompilation ErrorCompilation ErrorSCORESCORECompilation ErrorCompilation ErrorCompilation ErrorSCORESCORESCORESCORESCORESCORESCORESCORESCORESCORESCORESCORESCORESCORESCORESCORECompilation ErrorSCORESCORECompilation ErrorCompilation ErrorCompilation ErrorCompilation ErrorSCORESCORESCORESCORESCORESCORESCORESCORESCORESCORESCORESCORESCORESCORESCORESCORESCORESCORESCORESCORESCORESCORESCORESCORESCORESCORECompilation ErrorSCORESCORESCORESCORESCORESCORESCORESCORESCORESCORESCORESCORESCORESCORESCORESCORESCORESCORESCORECompilation ErrorCompilation ErrorSCORESCORESCORECompilation ErrorSCORESCORESCORECompilation ErrorCompilation ErrorCompilation ErrorSCORECompilation ErrorSCORESCORESCORESCORESCORESCORESCORESCORESCORESCORESCORECompilation ErrorSCORESCORESCORESCORESCORESCORESCORESCORESCORESCORESCORECompilation ErrorSCORESCORESCORESCORESCORESCORESCORESCORESCORESCORESCORESCORESCORESCORESCORESCORESCORESCORECompilation ErrorCompilation ErrorCompilation ErrorSCORECompilation ErrorSCORECompilation ErrorCompilation ErrorSCORECompilation ErrorSCORESCORECompilation ErrorSCORESCORECompilation ErrorCompilation ErrorSCORESCORECompilation ErrorCompilation ErrorCompilation ErrorSCORESCORESCORESCORESCORESCORESCORESCORESCORESCORESCORESCORESCORESCORESCORESCORECompilation ErrorSCORESCORECompilation ErrorCompilation ErrorCompilation ErrorCompilation ErrorSCORESCORESCORESCORESCORESCORESCORESCORESCORESCORESCORESCORESCORESCORESCORESCORESCORESCORESCORESCORESCORESCORESCORESCORESCORESCORECompilation ErrorSCORESCORESCORESCORESCORESCORESCORESCORESCORESCORESCORESCORESCORESCORESCORESCORESCORESCORESCORECompilation ErrorCompilation ErrorSCORESCORESCORECompilation ErrorSCORESCORESCORECompilation ErrorCompilation ErrorCompilation ErrorSCORECompilation ErrorSCORESCORESCORESCORESCORESCORESCORESCORESCORESCORESCORECompilation ErrorSCORESCORESCORESCORESCORESCORESCORESCORESCORESCORESCORECompilation ErrorSCORESCORESCORESCORESCORESCORESCORESCORESCORESCORESCORESCORESCORESCORESCORESCORESCORESCORECompilation ErrorCompilation ErrorCompilation ErrorSCORECompilation ErrorSCORECompilation ErrorCompilation ErrorSCORECompilation ErrorSCORESCORECompilation ErrorSCORESCORECompilation ErrorCompilation ErrorSCORESCORECompilation ErrorCompilation ErrorCompilation ErrorSCORESCORESCORESCORESCORESCORESCORESCORESCORESCORESCORESCORESCORESCORESCORESCORECompilation ErrorSCORESCORECompilation ErrorCompilation ErrorCompilation ErrorCompilation ErrorSCORESCORESCORESCORESCORESCORESCORESCORESCORESCORESCORESCORESCORESCORESCORESCORESCORESCORESCORESCORESCORESCORESCORESCORESCORESCORECompilation ErrorSCORESCORESCORESCORESCORESCORESCORESCORESCORESCORESCORESCORESCORESCORESCORESCORESCORESCORESCORECompilation ErrorCompilation ErrorSCORESCORESCORECompilation ErrorSCORESCORESCORECompilation ErrorCompilation ErrorCompilation ErrorSCORECompilation ErrorSCORESCORESCORESCORESCORESCORESCORESCORESCORESCORESCORECompilation ErrorSCORESCORESCORESCORESCORESCORESCORESCORESCORESCORESCORECompilation ErrorSCORESCORESCORESCORESCORESCORESCORESCORESCORESCORESCORESCORESCORESCORESCORESCORESCORESCORECompilation ErrorCompilation ErrorCompilation ErrorSCORECompilation ErrorSCORECompilation ErrorCompilation ErrorSCORECompilation ErrorSCORESCORECompilation ErrorSCORESCORECompilation ErrorCompilation ErrorSCORESCORECompilation ErrorCompilation ErrorCompilation ErrorSCORESCORESCORESCORESCORESCORESCORESCORESCORESCORESCORESCORESCORESCORESCORESCORECompilation ErrorSCORESCORECompilation ErrorCompilation ErrorCompilation ErrorCompilation ErrorSCORESCORESCORESCORESCORESCORESCORESCORESCORESCORESCORESCORESCORESCORESCORESCORESCORESCORESCORESCORESCORESCORESCORESCORESCORESCORECompilation ErrorSCORESCORESCORESCORESCORESCORESCORESCORESCORESCORESCORESCORESCORESCORESCORESCORESCORESCORESCORECompilation ErrorCompilation ErrorSCORESCORESCORECompilation ErrorSCORESCORESCORECompilation ErrorCompilation ErrorCompilation ErrorSCORECompilation ErrorSCORESCORESCORESCORESCORESCORESCORESCORESCORESCORESCORECompilation ErrorSCORESCORESCORESCORESCORESCORESCORESCORESCORESCORESCORECompilation ErrorSCORESCORESCORESCORESCORESCORESCORESCORESCORESCORESCORESCORESCORESCORESCORESCORESCORESCORECompilation ErrorCompilation ErrorCompilation ErrorSCORECompilation ErrorSCORECompilation ErrorCompilation ErrorSCORECompilation ErrorSCORESCORECompilation ErrorSCORESCORECompilation ErrorCompilation ErrorSCORESCORECompilation ErrorCompilation ErrorCompilation ErrorSCORESCORESCORESCORESCORESCORESCORESCORESCORESCORESCORESCORESCORESCORESCORESCORECompilation ErrorSCORESCORECompilation ErrorCompilation ErrorCompilation ErrorCompilation ErrorSCORESCORESCORESCORESCORESCORESCORESCORESCORESCORESCORESCORESCORESCORESCORESCORESCORESCORESCORESCORESCORESCORESCORESCORESCORESCORECompilation ErrorSCORESCORESCORESCORESCORESCORESCORESCORESCORESCORESCORESCORESCORESCORESCORESCORESCORESCORESCORECompilation ErrorCompilation ErrorSCORESCORESCORECompilation ErrorSCORESCORESCORECompilation ErrorCompilation ErrorCompilation ErrorSCORECompilation ErrorSCORESCORESCORESCORESCORESCORESCORESCORESCORESCORESCORECompilation ErrorSCORESCORESCORESCORESCORESCORESCORESCORESCORESCORESCORECompilation ErrorSCORESCORESCORESCORESCORESCORESCORESCORESCORESCORESCORESCORESCORESCORESCORESCORESCORESCORECompilation ErrorCompilation ErrorCompilation ErrorSCORECompilation ErrorSCORECompilation ErrorCompilation ErrorSCORECompilation ErrorSCORESCORECompilation ErrorSCORESCORECompilation ErrorCompilation ErrorSCORESCORECompilation ErrorCompilation ErrorCompilation ErrorSCORESCORESCORESCORESCORESCORESCORESCORESCORESCORESCORESCORESCORESCORESCORESCORECompilation ErrorSCORESCORECompilation ErrorCompilation ErrorCompilation ErrorCompilation ErrorSCORESCORESCORESCORESCORESCORESCORESCORESCORESCORESCORESCORESCORESCORESCORESCORESCORESCORESCORESCORESCORESCORESCORESCORESCORESCORECompilation ErrorSCORESCORESCORESCORESCORESCORESCORESCORESCORESCORESCORESCORESCORESCORESCORESCORESCORESCORESCORECompilation ErrorCompilation ErrorSCORESCORESCORECompilation ErrorSCORESCORESCORECompilation ErrorCompilation ErrorCompilation ErrorSCORECompilation ErrorSCORESCORESCORESCORESCORESCORESCORESCORESCORESCORESCORECompilation ErrorSCORESCORESCORESCORESCORESCORESCORESCORESCORESCORESCORECompilation ErrorSCORESCORESCORESCORESCORESCORESCORESCORESCORESCORESCORESCORESCORESCORESCORESCORESCORESCORECompilation ErrorCompilation ErrorCompilation ErrorSCORECompilation ErrorSCORECompilation ErrorCompilation ErrorSCORECompilation ErrorSCORESCORECompilation ErrorSCORESCORECompilation ErrorCompilation ErrorSCORESCORECompilation ErrorCompilation ErrorCompilation ErrorSCORESCORESCORESCORESCORESCORESCORESCORESCORESCORESCORESCORESCORESCORESCORESCORECompilation ErrorSCORESCORECompilation ErrorCompilation ErrorCompilation ErrorCompilation ErrorSCORESCORESCORESCORESCORESCORESCORESCORESCORESCORESCORESCORESCORESCORESCORESCORESCORESCORESCORESCORESCORESCORESCORESCORESCORESCORECompilation ErrorSCORESCORESCORESCORESCORESCORESCORESCORESCORESCORESCORESCORESCORESCORESCORESCORESCORESCORESCORECompilation ErrorCompilation ErrorSCORESCORESCORECompilation ErrorSCORESCORESCORECompilation ErrorCompilation ErrorCompilation ErrorSCORECompilation ErrorSCORESCORESCORESCORESCORESCORESCORESCORESCORESCORESCORECompilation ErrorSCORESCORESCORESCORESCORESCORESCORESCORESCORESCORESCORECompilation ErrorSCORESCORESCORESCORESCORESCORESCORESCORESCORESCORESCORESCORESCORESCORESCORESCORESCORESCORECompilation ErrorCompilation ErrorCompilation ErrorSCORECompilation ErrorSCORECompilation ErrorCompilation ErrorSCORECompilation ErrorSCORESCORECompilation ErrorSCORESCORECompilation ErrorCompilation ErrorSCORESCORECompilation ErrorCompilation ErrorCompilation ErrorSCORESCORESCORESCORESCORESCORESCORESCORESCORESCORESCORESCORESCORESCORESCORESCORECompilation ErrorSCORESCORECompilation ErrorCompilation ErrorCompilation ErrorCompilation ErrorSCORESCORESCORESCORESCORESCORESCORESCORESCORESCORESCORESCORESCORESCORESCORESCORESCORESCORESCORESCORESCORESCORESCORESCORESCORESCORECompilation ErrorSCORESCORESCORESCORESCORESCORESCORESCORESCORESCORESCORESCORESCORESCORESCORESCORESCORESCORESCORECompilation ErrorCompilation ErrorSCORESCORESCORECompilation ErrorSCORESCORESCORECompilation ErrorCompilation ErrorCompilation ErrorSCORECompilation ErrorSCORESCORESCORESCORESCORESCORESCORESCORESCORESCORESCORECompilation ErrorSCORESCORESCORESCORESCORESCORESCORESCORESCORESCORESCORECompilation ErrorSCORESCORESCORESCORESCORESCORESCORESCORESCORESCORESCORESCORESCORESCORESCORESCORESCORESCORECompilation ErrorCompilation ErrorCompilation ErrorSCORECompilation ErrorSCORECompilation ErrorCompilation ErrorSCORECompilation ErrorSCORESCORECompilation ErrorSCORESCORECompilation ErrorCompilation ErrorSCORESCORECompilation ErrorCompilation ErrorCompilation ErrorSCORESCORESCORESCORESCORESCORESCORESCORESCORESCORESCORESCORESCORESCORESCORESCORECompilation ErrorSCORESCORECompilation ErrorCompilation ErrorCompilation ErrorCompilation ErrorSCORESCORESCORESCORESCORESCORESCORESCORESCORESCORESCORESCORESCORESCORESCORESCORESCORESCORESCORESCORESCORESCORESCORESCORESCORESCORECompilation ErrorSCORESCORESCORESCORESCORE' to numeric",
      "\nThe above exception was the direct cause of the following exception:\n",
      "\u001b[1;31mTypeError\u001b[0m                                 Traceback (most recent call last)",
      "Cell \u001b[1;32mIn[302], line 49\u001b[0m\n\u001b[0;32m     46\u001b[0m annonimized \u001b[38;5;241m=\u001b[39m process_times_and_mems(annonimized)\n\u001b[0;32m     47\u001b[0m annonimized \u001b[38;5;241m=\u001b[39m aggregate_features_by_username(annonimized)\n\u001b[1;32m---> 49\u001b[0m annonimized \u001b[38;5;241m=\u001b[39m \u001b[43mannonimized\u001b[49m\u001b[38;5;241;43m.\u001b[39;49m\u001b[43mgroupby\u001b[49m\u001b[43m(\u001b[49m\u001b[38;5;124;43m'\u001b[39;49m\u001b[38;5;124;43musername\u001b[39;49m\u001b[38;5;124;43m'\u001b[39;49m\u001b[43m)\u001b[49m\u001b[38;5;241;43m.\u001b[39;49m\u001b[43magg\u001b[49m\u001b[43m(\u001b[49m\u001b[43m{\u001b[49m\n\u001b[0;32m     50\u001b[0m \u001b[43m    \u001b[49m\u001b[38;5;124;43m'\u001b[39;49m\u001b[38;5;124;43mstatus_encoded\u001b[39;49m\u001b[38;5;124;43m'\u001b[39;49m\u001b[43m:\u001b[49m\u001b[43m \u001b[49m\u001b[38;5;124;43m'\u001b[39;49m\u001b[38;5;124;43mmean\u001b[39;49m\u001b[38;5;124;43m'\u001b[39;49m\u001b[43m,\u001b[49m\n\u001b[0;32m     51\u001b[0m \u001b[43m    \u001b[49m\u001b[38;5;124;43m'\u001b[39;49m\u001b[38;5;124;43mis_final\u001b[39;49m\u001b[38;5;124;43m'\u001b[39;49m\u001b[43m:\u001b[49m\u001b[43m \u001b[49m\u001b[38;5;124;43m'\u001b[39;49m\u001b[38;5;124;43mmean\u001b[39;49m\u001b[38;5;124;43m'\u001b[39;49m\u001b[43m,\u001b[49m\n\u001b[0;32m     52\u001b[0m \u001b[43m    \u001b[49m\u001b[38;5;124;43m'\u001b[39;49m\u001b[38;5;124;43mduplicate_count_sum\u001b[39;49m\u001b[38;5;124;43m'\u001b[39;49m\u001b[43m:\u001b[49m\u001b[43m \u001b[49m\u001b[38;5;124;43m'\u001b[39;49m\u001b[38;5;124;43mfirst\u001b[39;49m\u001b[38;5;124;43m'\u001b[39;49m\u001b[43m,\u001b[49m\n\u001b[0;32m     53\u001b[0m \u001b[43m    \u001b[49m\u001b[38;5;124;43m'\u001b[39;49m\u001b[38;5;124;43mduration\u001b[39;49m\u001b[38;5;124;43m'\u001b[39;49m\u001b[43m:\u001b[49m\u001b[43m \u001b[49m\u001b[38;5;124;43m'\u001b[39;49m\u001b[38;5;124;43mmean\u001b[39;49m\u001b[38;5;124;43m'\u001b[39;49m\u001b[43m,\u001b[49m\n\u001b[0;32m     54\u001b[0m \u001b[43m    \u001b[49m\u001b[38;5;124;43m'\u001b[39;49m\u001b[38;5;124;43mwrong_testcases\u001b[39;49m\u001b[38;5;124;43m'\u001b[39;49m\u001b[43m:\u001b[49m\u001b[43m \u001b[49m\u001b[38;5;124;43m'\u001b[39;49m\u001b[38;5;124;43mmean\u001b[39;49m\u001b[38;5;124;43m'\u001b[39;49m\u001b[43m,\u001b[49m\n\u001b[0;32m     55\u001b[0m \u001b[43m    \u001b[49m\u001b[38;5;124;43m'\u001b[39;49m\u001b[38;5;124;43mtimes_max\u001b[39;49m\u001b[38;5;124;43m'\u001b[39;49m\u001b[43m:\u001b[49m\u001b[43m \u001b[49m\u001b[38;5;124;43m'\u001b[39;49m\u001b[38;5;124;43mmean\u001b[39;49m\u001b[38;5;124;43m'\u001b[39;49m\u001b[43m,\u001b[49m\n\u001b[0;32m     56\u001b[0m \u001b[43m    \u001b[49m\u001b[38;5;124;43m'\u001b[39;49m\u001b[38;5;124;43mmems_max\u001b[39;49m\u001b[38;5;124;43m'\u001b[39;49m\u001b[43m:\u001b[49m\u001b[43m \u001b[49m\u001b[38;5;124;43m'\u001b[39;49m\u001b[38;5;124;43mmean\u001b[39;49m\u001b[38;5;124;43m'\u001b[39;49m\u001b[43m,\u001b[49m\n\u001b[0;32m     57\u001b[0m \u001b[43m    \u001b[49m\u001b[38;5;124;43m'\u001b[39;49m\u001b[38;5;124;43mtimes_sum\u001b[39;49m\u001b[38;5;124;43m'\u001b[39;49m\u001b[43m:\u001b[49m\u001b[43m \u001b[49m\u001b[38;5;124;43m'\u001b[39;49m\u001b[38;5;124;43mmean\u001b[39;49m\u001b[38;5;124;43m'\u001b[39;49m\u001b[43m,\u001b[49m\n\u001b[0;32m     58\u001b[0m \u001b[43m    \u001b[49m\u001b[38;5;124;43m'\u001b[39;49m\u001b[38;5;124;43mmems_sum\u001b[39;49m\u001b[38;5;124;43m'\u001b[39;49m\u001b[43m:\u001b[49m\u001b[43m \u001b[49m\u001b[38;5;124;43m'\u001b[39;49m\u001b[38;5;124;43mmean\u001b[39;49m\u001b[38;5;124;43m'\u001b[39;49m\u001b[43m,\u001b[49m\n\u001b[0;32m     59\u001b[0m \u001b[43m    \u001b[49m\u001b[38;5;124;43m'\u001b[39;49m\u001b[38;5;124;43mtimes_mean\u001b[39;49m\u001b[38;5;124;43m'\u001b[39;49m\u001b[43m:\u001b[49m\u001b[43m \u001b[49m\u001b[38;5;124;43m'\u001b[39;49m\u001b[38;5;124;43mmean\u001b[39;49m\u001b[38;5;124;43m'\u001b[39;49m\u001b[43m,\u001b[49m\n\u001b[0;32m     60\u001b[0m \u001b[43m    \u001b[49m\u001b[38;5;124;43m'\u001b[39;49m\u001b[38;5;124;43mmems_mean\u001b[39;49m\u001b[38;5;124;43m'\u001b[39;49m\u001b[43m:\u001b[49m\u001b[43m \u001b[49m\u001b[38;5;124;43m'\u001b[39;49m\u001b[38;5;124;43mmean\u001b[39;49m\u001b[38;5;124;43m'\u001b[39;49m\u001b[43m,\u001b[49m\n\u001b[0;32m     61\u001b[0m \u001b[43m    \u001b[49m\u001b[38;5;124;43m'\u001b[39;49m\u001b[38;5;124;43mis_final_sum\u001b[39;49m\u001b[38;5;124;43m'\u001b[39;49m\u001b[43m:\u001b[49m\u001b[43m \u001b[49m\u001b[38;5;124;43m'\u001b[39;49m\u001b[38;5;124;43mmean\u001b[39;49m\u001b[38;5;124;43m'\u001b[39;49m\u001b[43m,\u001b[49m\n\u001b[0;32m     62\u001b[0m \u001b[43m    \u001b[49m\u001b[38;5;124;43m'\u001b[39;49m\u001b[38;5;124;43mstatus_sum\u001b[39;49m\u001b[38;5;124;43m'\u001b[39;49m\u001b[43m:\u001b[49m\u001b[43m \u001b[49m\u001b[38;5;124;43m'\u001b[39;49m\u001b[38;5;124;43mmean\u001b[39;49m\u001b[38;5;124;43m'\u001b[39;49m\u001b[43m,\u001b[49m\n\u001b[0;32m     63\u001b[0m \u001b[43m    \u001b[49m\u001b[38;5;124;43m'\u001b[39;49m\u001b[38;5;124;43mpre_score_coefficient_product\u001b[39;49m\u001b[38;5;124;43m'\u001b[39;49m\u001b[43m:\u001b[49m\u001b[43m \u001b[49m\u001b[38;5;124;43m'\u001b[39;49m\u001b[38;5;124;43mmean\u001b[39;49m\u001b[38;5;124;43m'\u001b[39;49m\n\u001b[0;32m     64\u001b[0m \u001b[43m}\u001b[49m\u001b[43m)\u001b[49m\u001b[38;5;241m.\u001b[39mreset_index()\n\u001b[0;32m     67\u001b[0m \u001b[38;5;66;03m# Lưu các đặc trưng cần thiết\u001b[39;00m\n\u001b[0;32m     68\u001b[0m features \u001b[38;5;241m=\u001b[39m [\n\u001b[0;32m     69\u001b[0m     \u001b[38;5;124m'\u001b[39m\u001b[38;5;124musername\u001b[39m\u001b[38;5;124m'\u001b[39m, \u001b[38;5;124m'\u001b[39m\u001b[38;5;124mis_final\u001b[39m\u001b[38;5;124m'\u001b[39m, \u001b[38;5;124m'\u001b[39m\u001b[38;5;124mduplicate_count_sum\u001b[39m\u001b[38;5;124m'\u001b[39m, \u001b[38;5;124m'\u001b[39m\u001b[38;5;124mduration\u001b[39m\u001b[38;5;124m'\u001b[39m,\n\u001b[0;32m     70\u001b[0m     \u001b[38;5;124m'\u001b[39m\u001b[38;5;124mwrong_testcases\u001b[39m\u001b[38;5;124m'\u001b[39m, \u001b[38;5;124m'\u001b[39m\u001b[38;5;124mtimes_max\u001b[39m\u001b[38;5;124m'\u001b[39m, \u001b[38;5;124m'\u001b[39m\u001b[38;5;124mmems_max\u001b[39m\u001b[38;5;124m'\u001b[39m, \u001b[38;5;124m'\u001b[39m\u001b[38;5;124mtimes_sum\u001b[39m\u001b[38;5;124m'\u001b[39m, \u001b[38;5;124m'\u001b[39m\u001b[38;5;124mmems_sum\u001b[39m\u001b[38;5;124m'\u001b[39m,\n\u001b[0;32m     71\u001b[0m     \u001b[38;5;124m'\u001b[39m\u001b[38;5;124mtimes_mean\u001b[39m\u001b[38;5;124m'\u001b[39m, \u001b[38;5;124m'\u001b[39m\u001b[38;5;124mmems_mean\u001b[39m\u001b[38;5;124m'\u001b[39m, \u001b[38;5;124m'\u001b[39m\u001b[38;5;124mis_final_sum\u001b[39m\u001b[38;5;124m'\u001b[39m, \u001b[38;5;124m'\u001b[39m\u001b[38;5;124mstatus_sum\u001b[39m\u001b[38;5;124m'\u001b[39m, \u001b[38;5;124m'\u001b[39m\u001b[38;5;124mpre_score_coefficient_product\u001b[39m\u001b[38;5;124m'\u001b[39m, \u001b[38;5;124m'\u001b[39m\u001b[38;5;124mstatus_encoded\u001b[39m\u001b[38;5;124m'\u001b[39m\n\u001b[0;32m     72\u001b[0m ]\n",
      "File \u001b[1;32m~\\AppData\\Local\\Packages\\PythonSoftwareFoundation.Python.3.11_qbz5n2kfra8p0\\LocalCache\\local-packages\\Python311\\site-packages\\pandas\\core\\groupby\\generic.py:1432\u001b[0m, in \u001b[0;36mDataFrameGroupBy.aggregate\u001b[1;34m(self, func, engine, engine_kwargs, *args, **kwargs)\u001b[0m\n\u001b[0;32m   1429\u001b[0m     kwargs[\u001b[38;5;124m\"\u001b[39m\u001b[38;5;124mengine_kwargs\u001b[39m\u001b[38;5;124m\"\u001b[39m] \u001b[38;5;241m=\u001b[39m engine_kwargs\n\u001b[0;32m   1431\u001b[0m op \u001b[38;5;241m=\u001b[39m GroupByApply(\u001b[38;5;28mself\u001b[39m, func, args\u001b[38;5;241m=\u001b[39margs, kwargs\u001b[38;5;241m=\u001b[39mkwargs)\n\u001b[1;32m-> 1432\u001b[0m result \u001b[38;5;241m=\u001b[39m \u001b[43mop\u001b[49m\u001b[38;5;241;43m.\u001b[39;49m\u001b[43magg\u001b[49m\u001b[43m(\u001b[49m\u001b[43m)\u001b[49m\n\u001b[0;32m   1433\u001b[0m \u001b[38;5;28;01mif\u001b[39;00m \u001b[38;5;129;01mnot\u001b[39;00m is_dict_like(func) \u001b[38;5;129;01mand\u001b[39;00m result \u001b[38;5;129;01mis\u001b[39;00m \u001b[38;5;129;01mnot\u001b[39;00m \u001b[38;5;28;01mNone\u001b[39;00m:\n\u001b[0;32m   1434\u001b[0m     \u001b[38;5;66;03m# GH #52849\u001b[39;00m\n\u001b[0;32m   1435\u001b[0m     \u001b[38;5;28;01mif\u001b[39;00m \u001b[38;5;129;01mnot\u001b[39;00m \u001b[38;5;28mself\u001b[39m\u001b[38;5;241m.\u001b[39mas_index \u001b[38;5;129;01mand\u001b[39;00m is_list_like(func):\n",
      "File \u001b[1;32m~\\AppData\\Local\\Packages\\PythonSoftwareFoundation.Python.3.11_qbz5n2kfra8p0\\LocalCache\\local-packages\\Python311\\site-packages\\pandas\\core\\apply.py:190\u001b[0m, in \u001b[0;36mApply.agg\u001b[1;34m(self)\u001b[0m\n\u001b[0;32m    187\u001b[0m     \u001b[38;5;28;01mreturn\u001b[39;00m \u001b[38;5;28mself\u001b[39m\u001b[38;5;241m.\u001b[39mapply_str()\n\u001b[0;32m    189\u001b[0m \u001b[38;5;28;01mif\u001b[39;00m is_dict_like(func):\n\u001b[1;32m--> 190\u001b[0m     \u001b[38;5;28;01mreturn\u001b[39;00m \u001b[38;5;28;43mself\u001b[39;49m\u001b[38;5;241;43m.\u001b[39;49m\u001b[43magg_dict_like\u001b[49m\u001b[43m(\u001b[49m\u001b[43m)\u001b[49m\n\u001b[0;32m    191\u001b[0m \u001b[38;5;28;01melif\u001b[39;00m is_list_like(func):\n\u001b[0;32m    192\u001b[0m     \u001b[38;5;66;03m# we require a list, but not a 'str'\u001b[39;00m\n\u001b[0;32m    193\u001b[0m     \u001b[38;5;28;01mreturn\u001b[39;00m \u001b[38;5;28mself\u001b[39m\u001b[38;5;241m.\u001b[39magg_list_like()\n",
      "File \u001b[1;32m~\\AppData\\Local\\Packages\\PythonSoftwareFoundation.Python.3.11_qbz5n2kfra8p0\\LocalCache\\local-packages\\Python311\\site-packages\\pandas\\core\\apply.py:423\u001b[0m, in \u001b[0;36mApply.agg_dict_like\u001b[1;34m(self)\u001b[0m\n\u001b[0;32m    415\u001b[0m \u001b[38;5;28;01mdef\u001b[39;00m \u001b[38;5;21magg_dict_like\u001b[39m(\u001b[38;5;28mself\u001b[39m) \u001b[38;5;241m-\u001b[39m\u001b[38;5;241m>\u001b[39m DataFrame \u001b[38;5;241m|\u001b[39m Series:\n\u001b[0;32m    416\u001b[0m \u001b[38;5;250m    \u001b[39m\u001b[38;5;124;03m\"\"\"\u001b[39;00m\n\u001b[0;32m    417\u001b[0m \u001b[38;5;124;03m    Compute aggregation in the case of a dict-like argument.\u001b[39;00m\n\u001b[0;32m    418\u001b[0m \n\u001b[1;32m   (...)\u001b[0m\n\u001b[0;32m    421\u001b[0m \u001b[38;5;124;03m    Result of aggregation.\u001b[39;00m\n\u001b[0;32m    422\u001b[0m \u001b[38;5;124;03m    \"\"\"\u001b[39;00m\n\u001b[1;32m--> 423\u001b[0m     \u001b[38;5;28;01mreturn\u001b[39;00m \u001b[38;5;28;43mself\u001b[39;49m\u001b[38;5;241;43m.\u001b[39;49m\u001b[43magg_or_apply_dict_like\u001b[49m\u001b[43m(\u001b[49m\u001b[43mop_name\u001b[49m\u001b[38;5;241;43m=\u001b[39;49m\u001b[38;5;124;43m\"\u001b[39;49m\u001b[38;5;124;43magg\u001b[39;49m\u001b[38;5;124;43m\"\u001b[39;49m\u001b[43m)\u001b[49m\n",
      "File \u001b[1;32m~\\AppData\\Local\\Packages\\PythonSoftwareFoundation.Python.3.11_qbz5n2kfra8p0\\LocalCache\\local-packages\\Python311\\site-packages\\pandas\\core\\apply.py:1608\u001b[0m, in \u001b[0;36mGroupByApply.agg_or_apply_dict_like\u001b[1;34m(self, op_name)\u001b[0m\n\u001b[0;32m   1603\u001b[0m     kwargs\u001b[38;5;241m.\u001b[39mupdate({\u001b[38;5;124m\"\u001b[39m\u001b[38;5;124mengine\u001b[39m\u001b[38;5;124m\"\u001b[39m: engine, \u001b[38;5;124m\"\u001b[39m\u001b[38;5;124mengine_kwargs\u001b[39m\u001b[38;5;124m\"\u001b[39m: engine_kwargs})\n\u001b[0;32m   1605\u001b[0m \u001b[38;5;28;01mwith\u001b[39;00m com\u001b[38;5;241m.\u001b[39mtemp_setattr(\n\u001b[0;32m   1606\u001b[0m     obj, \u001b[38;5;124m\"\u001b[39m\u001b[38;5;124mas_index\u001b[39m\u001b[38;5;124m\"\u001b[39m, \u001b[38;5;28;01mTrue\u001b[39;00m, condition\u001b[38;5;241m=\u001b[39m\u001b[38;5;28mhasattr\u001b[39m(obj, \u001b[38;5;124m\"\u001b[39m\u001b[38;5;124mas_index\u001b[39m\u001b[38;5;124m\"\u001b[39m)\n\u001b[0;32m   1607\u001b[0m ):\n\u001b[1;32m-> 1608\u001b[0m     result_index, result_data \u001b[38;5;241m=\u001b[39m \u001b[38;5;28;43mself\u001b[39;49m\u001b[38;5;241;43m.\u001b[39;49m\u001b[43mcompute_dict_like\u001b[49m\u001b[43m(\u001b[49m\n\u001b[0;32m   1609\u001b[0m \u001b[43m        \u001b[49m\u001b[43mop_name\u001b[49m\u001b[43m,\u001b[49m\u001b[43m \u001b[49m\u001b[43mselected_obj\u001b[49m\u001b[43m,\u001b[49m\u001b[43m \u001b[49m\u001b[43mselection\u001b[49m\u001b[43m,\u001b[49m\u001b[43m \u001b[49m\u001b[43mkwargs\u001b[49m\n\u001b[0;32m   1610\u001b[0m \u001b[43m    \u001b[49m\u001b[43m)\u001b[49m\n\u001b[0;32m   1611\u001b[0m result \u001b[38;5;241m=\u001b[39m \u001b[38;5;28mself\u001b[39m\u001b[38;5;241m.\u001b[39mwrap_results_dict_like(selected_obj, result_index, result_data)\n\u001b[0;32m   1612\u001b[0m \u001b[38;5;28;01mreturn\u001b[39;00m result\n",
      "File \u001b[1;32m~\\AppData\\Local\\Packages\\PythonSoftwareFoundation.Python.3.11_qbz5n2kfra8p0\\LocalCache\\local-packages\\Python311\\site-packages\\pandas\\core\\apply.py:496\u001b[0m, in \u001b[0;36mApply.compute_dict_like\u001b[1;34m(self, op_name, selected_obj, selection, kwargs)\u001b[0m\n\u001b[0;32m    493\u001b[0m         results \u001b[38;5;241m+\u001b[39m\u001b[38;5;241m=\u001b[39m key_data\n\u001b[0;32m    494\u001b[0m \u001b[38;5;28;01melse\u001b[39;00m:\n\u001b[0;32m    495\u001b[0m     \u001b[38;5;66;03m# key used for column selection and output\u001b[39;00m\n\u001b[1;32m--> 496\u001b[0m     results \u001b[38;5;241m=\u001b[39m \u001b[43m[\u001b[49m\n\u001b[0;32m    497\u001b[0m \u001b[43m        \u001b[49m\u001b[38;5;28;43mgetattr\u001b[39;49m\u001b[43m(\u001b[49m\u001b[43mobj\u001b[49m\u001b[38;5;241;43m.\u001b[39;49m\u001b[43m_gotitem\u001b[49m\u001b[43m(\u001b[49m\u001b[43mkey\u001b[49m\u001b[43m,\u001b[49m\u001b[43m \u001b[49m\u001b[43mndim\u001b[49m\u001b[38;5;241;43m=\u001b[39;49m\u001b[38;5;241;43m1\u001b[39;49m\u001b[43m)\u001b[49m\u001b[43m,\u001b[49m\u001b[43m \u001b[49m\u001b[43mop_name\u001b[49m\u001b[43m)\u001b[49m\u001b[43m(\u001b[49m\u001b[43mhow\u001b[49m\u001b[43m,\u001b[49m\u001b[43m \u001b[49m\u001b[38;5;241;43m*\u001b[39;49m\u001b[38;5;241;43m*\u001b[39;49m\u001b[43mkwargs\u001b[49m\u001b[43m)\u001b[49m\n\u001b[0;32m    498\u001b[0m \u001b[43m        \u001b[49m\u001b[38;5;28;43;01mfor\u001b[39;49;00m\u001b[43m \u001b[49m\u001b[43mkey\u001b[49m\u001b[43m,\u001b[49m\u001b[43m \u001b[49m\u001b[43mhow\u001b[49m\u001b[43m \u001b[49m\u001b[38;5;129;43;01min\u001b[39;49;00m\u001b[43m \u001b[49m\u001b[43mfunc\u001b[49m\u001b[38;5;241;43m.\u001b[39;49m\u001b[43mitems\u001b[49m\u001b[43m(\u001b[49m\u001b[43m)\u001b[49m\n\u001b[0;32m    499\u001b[0m \u001b[43m    \u001b[49m\u001b[43m]\u001b[49m\n\u001b[0;32m    500\u001b[0m     keys \u001b[38;5;241m=\u001b[39m \u001b[38;5;28mlist\u001b[39m(func\u001b[38;5;241m.\u001b[39mkeys())\n\u001b[0;32m    502\u001b[0m \u001b[38;5;28;01mreturn\u001b[39;00m keys, results\n",
      "File \u001b[1;32m~\\AppData\\Local\\Packages\\PythonSoftwareFoundation.Python.3.11_qbz5n2kfra8p0\\LocalCache\\local-packages\\Python311\\site-packages\\pandas\\core\\apply.py:497\u001b[0m, in \u001b[0;36m<listcomp>\u001b[1;34m(.0)\u001b[0m\n\u001b[0;32m    493\u001b[0m         results \u001b[38;5;241m+\u001b[39m\u001b[38;5;241m=\u001b[39m key_data\n\u001b[0;32m    494\u001b[0m \u001b[38;5;28;01melse\u001b[39;00m:\n\u001b[0;32m    495\u001b[0m     \u001b[38;5;66;03m# key used for column selection and output\u001b[39;00m\n\u001b[0;32m    496\u001b[0m     results \u001b[38;5;241m=\u001b[39m [\n\u001b[1;32m--> 497\u001b[0m         \u001b[38;5;28;43mgetattr\u001b[39;49m\u001b[43m(\u001b[49m\u001b[43mobj\u001b[49m\u001b[38;5;241;43m.\u001b[39;49m\u001b[43m_gotitem\u001b[49m\u001b[43m(\u001b[49m\u001b[43mkey\u001b[49m\u001b[43m,\u001b[49m\u001b[43m \u001b[49m\u001b[43mndim\u001b[49m\u001b[38;5;241;43m=\u001b[39;49m\u001b[38;5;241;43m1\u001b[39;49m\u001b[43m)\u001b[49m\u001b[43m,\u001b[49m\u001b[43m \u001b[49m\u001b[43mop_name\u001b[49m\u001b[43m)\u001b[49m\u001b[43m(\u001b[49m\u001b[43mhow\u001b[49m\u001b[43m,\u001b[49m\u001b[43m \u001b[49m\u001b[38;5;241;43m*\u001b[39;49m\u001b[38;5;241;43m*\u001b[39;49m\u001b[43mkwargs\u001b[49m\u001b[43m)\u001b[49m\n\u001b[0;32m    498\u001b[0m         \u001b[38;5;28;01mfor\u001b[39;00m key, how \u001b[38;5;129;01min\u001b[39;00m func\u001b[38;5;241m.\u001b[39mitems()\n\u001b[0;32m    499\u001b[0m     ]\n\u001b[0;32m    500\u001b[0m     keys \u001b[38;5;241m=\u001b[39m \u001b[38;5;28mlist\u001b[39m(func\u001b[38;5;241m.\u001b[39mkeys())\n\u001b[0;32m    502\u001b[0m \u001b[38;5;28;01mreturn\u001b[39;00m keys, results\n",
      "File \u001b[1;32m~\\AppData\\Local\\Packages\\PythonSoftwareFoundation.Python.3.11_qbz5n2kfra8p0\\LocalCache\\local-packages\\Python311\\site-packages\\pandas\\core\\groupby\\generic.py:249\u001b[0m, in \u001b[0;36mSeriesGroupBy.aggregate\u001b[1;34m(self, func, engine, engine_kwargs, *args, **kwargs)\u001b[0m\n\u001b[0;32m    247\u001b[0m     \u001b[38;5;28;01mif\u001b[39;00m engine_kwargs \u001b[38;5;129;01mis\u001b[39;00m \u001b[38;5;129;01mnot\u001b[39;00m \u001b[38;5;28;01mNone\u001b[39;00m:\n\u001b[0;32m    248\u001b[0m         kwargs[\u001b[38;5;124m\"\u001b[39m\u001b[38;5;124mengine_kwargs\u001b[39m\u001b[38;5;124m\"\u001b[39m] \u001b[38;5;241m=\u001b[39m engine_kwargs\n\u001b[1;32m--> 249\u001b[0m     \u001b[38;5;28;01mreturn\u001b[39;00m \u001b[38;5;28;43mgetattr\u001b[39;49m\u001b[43m(\u001b[49m\u001b[38;5;28;43mself\u001b[39;49m\u001b[43m,\u001b[49m\u001b[43m \u001b[49m\u001b[43mfunc\u001b[49m\u001b[43m)\u001b[49m\u001b[43m(\u001b[49m\u001b[38;5;241;43m*\u001b[39;49m\u001b[43margs\u001b[49m\u001b[43m,\u001b[49m\u001b[43m \u001b[49m\u001b[38;5;241;43m*\u001b[39;49m\u001b[38;5;241;43m*\u001b[39;49m\u001b[43mkwargs\u001b[49m\u001b[43m)\u001b[49m\n\u001b[0;32m    251\u001b[0m \u001b[38;5;28;01melif\u001b[39;00m \u001b[38;5;28misinstance\u001b[39m(func, abc\u001b[38;5;241m.\u001b[39mIterable):\n\u001b[0;32m    252\u001b[0m     \u001b[38;5;66;03m# Catch instances of lists / tuples\u001b[39;00m\n\u001b[0;32m    253\u001b[0m     \u001b[38;5;66;03m# but not the class list / tuple itself.\u001b[39;00m\n\u001b[0;32m    254\u001b[0m     func \u001b[38;5;241m=\u001b[39m maybe_mangle_lambdas(func)\n",
      "File \u001b[1;32m~\\AppData\\Local\\Packages\\PythonSoftwareFoundation.Python.3.11_qbz5n2kfra8p0\\LocalCache\\local-packages\\Python311\\site-packages\\pandas\\core\\groupby\\groupby.py:2452\u001b[0m, in \u001b[0;36mGroupBy.mean\u001b[1;34m(self, numeric_only, engine, engine_kwargs)\u001b[0m\n\u001b[0;32m   2445\u001b[0m     \u001b[38;5;28;01mreturn\u001b[39;00m \u001b[38;5;28mself\u001b[39m\u001b[38;5;241m.\u001b[39m_numba_agg_general(\n\u001b[0;32m   2446\u001b[0m         grouped_mean,\n\u001b[0;32m   2447\u001b[0m         executor\u001b[38;5;241m.\u001b[39mfloat_dtype_mapping,\n\u001b[0;32m   2448\u001b[0m         engine_kwargs,\n\u001b[0;32m   2449\u001b[0m         min_periods\u001b[38;5;241m=\u001b[39m\u001b[38;5;241m0\u001b[39m,\n\u001b[0;32m   2450\u001b[0m     )\n\u001b[0;32m   2451\u001b[0m \u001b[38;5;28;01melse\u001b[39;00m:\n\u001b[1;32m-> 2452\u001b[0m     result \u001b[38;5;241m=\u001b[39m \u001b[38;5;28;43mself\u001b[39;49m\u001b[38;5;241;43m.\u001b[39;49m\u001b[43m_cython_agg_general\u001b[49m\u001b[43m(\u001b[49m\n\u001b[0;32m   2453\u001b[0m \u001b[43m        \u001b[49m\u001b[38;5;124;43m\"\u001b[39;49m\u001b[38;5;124;43mmean\u001b[39;49m\u001b[38;5;124;43m\"\u001b[39;49m\u001b[43m,\u001b[49m\n\u001b[0;32m   2454\u001b[0m \u001b[43m        \u001b[49m\u001b[43malt\u001b[49m\u001b[38;5;241;43m=\u001b[39;49m\u001b[38;5;28;43;01mlambda\u001b[39;49;00m\u001b[43m \u001b[49m\u001b[43mx\u001b[49m\u001b[43m:\u001b[49m\u001b[43m \u001b[49m\u001b[43mSeries\u001b[49m\u001b[43m(\u001b[49m\u001b[43mx\u001b[49m\u001b[43m,\u001b[49m\u001b[43m \u001b[49m\u001b[43mcopy\u001b[49m\u001b[38;5;241;43m=\u001b[39;49m\u001b[38;5;28;43;01mFalse\u001b[39;49;00m\u001b[43m)\u001b[49m\u001b[38;5;241;43m.\u001b[39;49m\u001b[43mmean\u001b[49m\u001b[43m(\u001b[49m\u001b[43mnumeric_only\u001b[49m\u001b[38;5;241;43m=\u001b[39;49m\u001b[43mnumeric_only\u001b[49m\u001b[43m)\u001b[49m\u001b[43m,\u001b[49m\n\u001b[0;32m   2455\u001b[0m \u001b[43m        \u001b[49m\u001b[43mnumeric_only\u001b[49m\u001b[38;5;241;43m=\u001b[39;49m\u001b[43mnumeric_only\u001b[49m\u001b[43m,\u001b[49m\n\u001b[0;32m   2456\u001b[0m \u001b[43m    \u001b[49m\u001b[43m)\u001b[49m\n\u001b[0;32m   2457\u001b[0m     \u001b[38;5;28;01mreturn\u001b[39;00m result\u001b[38;5;241m.\u001b[39m__finalize__(\u001b[38;5;28mself\u001b[39m\u001b[38;5;241m.\u001b[39mobj, method\u001b[38;5;241m=\u001b[39m\u001b[38;5;124m\"\u001b[39m\u001b[38;5;124mgroupby\u001b[39m\u001b[38;5;124m\"\u001b[39m)\n",
      "File \u001b[1;32m~\\AppData\\Local\\Packages\\PythonSoftwareFoundation.Python.3.11_qbz5n2kfra8p0\\LocalCache\\local-packages\\Python311\\site-packages\\pandas\\core\\groupby\\groupby.py:1998\u001b[0m, in \u001b[0;36mGroupBy._cython_agg_general\u001b[1;34m(self, how, alt, numeric_only, min_count, **kwargs)\u001b[0m\n\u001b[0;32m   1995\u001b[0m     result \u001b[38;5;241m=\u001b[39m \u001b[38;5;28mself\u001b[39m\u001b[38;5;241m.\u001b[39m_agg_py_fallback(how, values, ndim\u001b[38;5;241m=\u001b[39mdata\u001b[38;5;241m.\u001b[39mndim, alt\u001b[38;5;241m=\u001b[39malt)\n\u001b[0;32m   1996\u001b[0m     \u001b[38;5;28;01mreturn\u001b[39;00m result\n\u001b[1;32m-> 1998\u001b[0m new_mgr \u001b[38;5;241m=\u001b[39m \u001b[43mdata\u001b[49m\u001b[38;5;241;43m.\u001b[39;49m\u001b[43mgrouped_reduce\u001b[49m\u001b[43m(\u001b[49m\u001b[43marray_func\u001b[49m\u001b[43m)\u001b[49m\n\u001b[0;32m   1999\u001b[0m res \u001b[38;5;241m=\u001b[39m \u001b[38;5;28mself\u001b[39m\u001b[38;5;241m.\u001b[39m_wrap_agged_manager(new_mgr)\n\u001b[0;32m   2000\u001b[0m \u001b[38;5;28;01mif\u001b[39;00m how \u001b[38;5;129;01min\u001b[39;00m [\u001b[38;5;124m\"\u001b[39m\u001b[38;5;124midxmin\u001b[39m\u001b[38;5;124m\"\u001b[39m, \u001b[38;5;124m\"\u001b[39m\u001b[38;5;124midxmax\u001b[39m\u001b[38;5;124m\"\u001b[39m]:\n",
      "File \u001b[1;32m~\\AppData\\Local\\Packages\\PythonSoftwareFoundation.Python.3.11_qbz5n2kfra8p0\\LocalCache\\local-packages\\Python311\\site-packages\\pandas\\core\\internals\\base.py:367\u001b[0m, in \u001b[0;36mSingleDataManager.grouped_reduce\u001b[1;34m(self, func)\u001b[0m\n\u001b[0;32m    365\u001b[0m \u001b[38;5;28;01mdef\u001b[39;00m \u001b[38;5;21mgrouped_reduce\u001b[39m(\u001b[38;5;28mself\u001b[39m, func):\n\u001b[0;32m    366\u001b[0m     arr \u001b[38;5;241m=\u001b[39m \u001b[38;5;28mself\u001b[39m\u001b[38;5;241m.\u001b[39marray\n\u001b[1;32m--> 367\u001b[0m     res \u001b[38;5;241m=\u001b[39m \u001b[43mfunc\u001b[49m\u001b[43m(\u001b[49m\u001b[43marr\u001b[49m\u001b[43m)\u001b[49m\n\u001b[0;32m    368\u001b[0m     index \u001b[38;5;241m=\u001b[39m default_index(\u001b[38;5;28mlen\u001b[39m(res))\n\u001b[0;32m    370\u001b[0m     mgr \u001b[38;5;241m=\u001b[39m \u001b[38;5;28mtype\u001b[39m(\u001b[38;5;28mself\u001b[39m)\u001b[38;5;241m.\u001b[39mfrom_array(res, index)\n",
      "File \u001b[1;32m~\\AppData\\Local\\Packages\\PythonSoftwareFoundation.Python.3.11_qbz5n2kfra8p0\\LocalCache\\local-packages\\Python311\\site-packages\\pandas\\core\\groupby\\groupby.py:1995\u001b[0m, in \u001b[0;36mGroupBy._cython_agg_general.<locals>.array_func\u001b[1;34m(values)\u001b[0m\n\u001b[0;32m   1992\u001b[0m     \u001b[38;5;28;01mreturn\u001b[39;00m result\n\u001b[0;32m   1994\u001b[0m \u001b[38;5;28;01massert\u001b[39;00m alt \u001b[38;5;129;01mis\u001b[39;00m \u001b[38;5;129;01mnot\u001b[39;00m \u001b[38;5;28;01mNone\u001b[39;00m\n\u001b[1;32m-> 1995\u001b[0m result \u001b[38;5;241m=\u001b[39m \u001b[38;5;28;43mself\u001b[39;49m\u001b[38;5;241;43m.\u001b[39;49m\u001b[43m_agg_py_fallback\u001b[49m\u001b[43m(\u001b[49m\u001b[43mhow\u001b[49m\u001b[43m,\u001b[49m\u001b[43m \u001b[49m\u001b[43mvalues\u001b[49m\u001b[43m,\u001b[49m\u001b[43m \u001b[49m\u001b[43mndim\u001b[49m\u001b[38;5;241;43m=\u001b[39;49m\u001b[43mdata\u001b[49m\u001b[38;5;241;43m.\u001b[39;49m\u001b[43mndim\u001b[49m\u001b[43m,\u001b[49m\u001b[43m \u001b[49m\u001b[43malt\u001b[49m\u001b[38;5;241;43m=\u001b[39;49m\u001b[43malt\u001b[49m\u001b[43m)\u001b[49m\n\u001b[0;32m   1996\u001b[0m \u001b[38;5;28;01mreturn\u001b[39;00m result\n",
      "File \u001b[1;32m~\\AppData\\Local\\Packages\\PythonSoftwareFoundation.Python.3.11_qbz5n2kfra8p0\\LocalCache\\local-packages\\Python311\\site-packages\\pandas\\core\\groupby\\groupby.py:1946\u001b[0m, in \u001b[0;36mGroupBy._agg_py_fallback\u001b[1;34m(self, how, values, ndim, alt)\u001b[0m\n\u001b[0;32m   1944\u001b[0m     msg \u001b[38;5;241m=\u001b[39m \u001b[38;5;124mf\u001b[39m\u001b[38;5;124m\"\u001b[39m\u001b[38;5;124magg function failed [how->\u001b[39m\u001b[38;5;132;01m{\u001b[39;00mhow\u001b[38;5;132;01m}\u001b[39;00m\u001b[38;5;124m,dtype->\u001b[39m\u001b[38;5;132;01m{\u001b[39;00mser\u001b[38;5;241m.\u001b[39mdtype\u001b[38;5;132;01m}\u001b[39;00m\u001b[38;5;124m]\u001b[39m\u001b[38;5;124m\"\u001b[39m\n\u001b[0;32m   1945\u001b[0m     \u001b[38;5;66;03m# preserve the kind of exception that raised\u001b[39;00m\n\u001b[1;32m-> 1946\u001b[0m     \u001b[38;5;28;01mraise\u001b[39;00m \u001b[38;5;28mtype\u001b[39m(err)(msg) \u001b[38;5;28;01mfrom\u001b[39;00m \u001b[38;5;21;01merr\u001b[39;00m\n\u001b[0;32m   1948\u001b[0m \u001b[38;5;28;01mif\u001b[39;00m ser\u001b[38;5;241m.\u001b[39mdtype \u001b[38;5;241m==\u001b[39m \u001b[38;5;28mobject\u001b[39m:\n\u001b[0;32m   1949\u001b[0m     res_values \u001b[38;5;241m=\u001b[39m res_values\u001b[38;5;241m.\u001b[39mastype(\u001b[38;5;28mobject\u001b[39m, copy\u001b[38;5;241m=\u001b[39m\u001b[38;5;28;01mFalse\u001b[39;00m)\n",
      "\u001b[1;31mTypeError\u001b[0m: agg function failed [how->mean,dtype->object]"
     ]
    }
   ],
   "source": [
    "# Bỏ cột không cần thiết\n",
    "annonimized.drop(columns=['language_id'], inplace=True)\n",
    "\n",
    "label_encoder = LabelEncoder()\n",
    "\n",
    "annonimized['status_encoded'] = label_encoder.fit_transform(annonimized['status'])\n",
    "\n",
    "# # Mã hóa cột status: 'SCORE' -> 1, các giá trị khác -> 0\n",
    "# annonimized['status'] = annonimized['status'].apply(lambda x: 1 if x == 'SCORE' else 0)\n",
    "\n",
    "# Chuyển đổi created_at và updated_at sang datetime\n",
    "annonimized['created_at'] = pd.to_datetime(annonimized['created_at'], errors='coerce')\n",
    "annonimized['updated_at'] = pd.to_datetime(annonimized['updated_at'], errors='coerce')\n",
    "\n",
    "# Tạo đặc trưng mới duration\n",
    "annonimized['duration'] = (annonimized['updated_at'] - annonimized['created_at']).dt.total_seconds()\n",
    "annonimized['duration'] = annonimized['duration'].fillna(0)\n",
    "\n",
    "# Đếm số dòng trùng lặp dựa trên username, assignment_id, problem_id\n",
    "duplicate_counts = annonimized.groupby(['username', 'assignment_id', 'problem_id']).size()\n",
    "annonimized['duplicate_count'] = annonimized.apply(\n",
    "    lambda row: duplicate_counts.get((row['username'], row['assignment_id'], row['problem_id']), 0), axis=1\n",
    ")\n",
    "\n",
    "# Tổng duplicate_count theo username\n",
    "annonimized['duplicate_count_sum'] = annonimized.groupby('username')['duplicate_count'].transform('sum')\n",
    "\n",
    "# Tính thêm các đặc trưng\n",
    "annonimized['is_final_sum'] = annonimized.groupby('username')['is_final'].transform('sum')\n",
    "annonimized['status_sum'] = annonimized.groupby('username')['status'].transform('sum')\n",
    "\n",
    "# Chuẩn hóa tỷ lệ status và is_final\n",
    "annonimized['status_encoded'] = annonimized['status_encoded'].values / (annonimized['duplicate_count'] + 1e-5)\n",
    "annonimized['is_final'] = annonimized['is_final'] / (annonimized['duplicate_count'] + 1e-5)\n",
    "\n",
    "# Tạo đặc trưng pre_score_coefficient_product\n",
    "annonimized['pre_score_coefficient_product'] = (\n",
    "    annonimized['pre_score'] * annonimized['coefficient']\n",
    ")\n",
    "annonimized['pre_score_coefficient_product'] = (\n",
    "    annonimized.groupby('username')['pre_score_coefficient_product'].transform('sum')\n",
    ")\n",
    "\n",
    "# Rút trích các đặc trưng từ cột judgement\n",
    "annonimized = extract_judgement_features(annonimized)\n",
    "annonimized = process_times_and_mems(annonimized)\n",
    "annonimized = aggregate_features_by_username(annonimized)\n",
    "\n",
    "annonimized = annonimized.groupby('username').agg({\n",
    "    'status_encoded': 'mean',\n",
    "    'is_final': 'mean',\n",
    "    'duplicate_count_sum': 'first',\n",
    "    'duration': 'mean',\n",
    "    'wrong_testcases': 'mean',\n",
    "    'times_max': 'mean',\n",
    "    'mems_max': 'mean',\n",
    "    'times_sum': 'mean',\n",
    "    'mems_sum': 'mean',\n",
    "    'times_mean': 'mean',\n",
    "    'mems_mean': 'mean',\n",
    "    'is_final_sum': 'mean',\n",
    "    'status_sum': 'mean',\n",
    "    'pre_score_coefficient_product': 'mean'\n",
    "}).reset_index()\n",
    "\n",
    "\n",
    "# Lưu các đặc trưng cần thiết\n",
    "features = [\n",
    "    'username', 'is_final', 'duplicate_count_sum', 'duration',\n",
    "    'wrong_testcases', 'times_max', 'mems_max', 'times_sum', 'mems_sum',\n",
    "    'times_mean', 'mems_mean', 'is_final_sum', 'status_sum', 'pre_score_coefficient_product', 'status_encoded'\n",
    "]\n",
    "\n",
    "features_nouser = [\n",
    "    'is_final', 'duplicate_count_sum', 'duration',\n",
    "    'wrong_testcases', 'times_max', 'mems_max', 'times_sum', 'mems_sum',\n",
    "    'times_mean', 'mems_mean', 'is_final_sum', 'status_sum', 'pre_score_coefficient_product', 'status_encoded'\n",
    "]\n",
    "annonimized = annonimized[features]\n"
   ]
  },
  {
   "cell_type": "markdown",
   "metadata": {},
   "source": [
    "## data TBTL"
   ]
  },
  {
   "cell_type": "code",
   "execution_count": 247,
   "metadata": {},
   "outputs": [],
   "source": [
    "# Merge dữ liệu bằng username từ annonimized và tbtl\n",
    "data_tbtl = annonimized.merge(tbtl, on=\"username\", how=\"left\")"
   ]
  },
  {
   "cell_type": "code",
   "execution_count": 248,
   "metadata": {},
   "outputs": [],
   "source": [
    "data_tbtl['TBTL'] = data_tbtl.groupby('username')['TBTL'].mean().values"
   ]
  },
  {
   "cell_type": "code",
   "execution_count": 249,
   "metadata": {},
   "outputs": [
    {
     "name": "stdout",
     "output_type": "stream",
     "text": [
      "Số lượng sinh viên có điểm (train): 799\n",
      "Số lượng sinh viên cần dự đoán: 690\n"
     ]
    }
   ],
   "source": [
    "# Phân tách dữ liệu\n",
    "train_test_data_tbtl = data_tbtl[data_tbtl['TBTL'].notna()]  # Sinh viên có điểm dùng để train\n",
    "predict_data_tbtl = data_tbtl[data_tbtl['TBTL'].isna()]  # Sinh viên không có điểm dùng để dự đoán\n",
    "\n",
    "# In số lượng\n",
    "print(f\"Số lượng sinh viên có điểm (train): {train_test_data_tbtl.shape[0]}\")\n",
    "print(f\"Số lượng sinh viên cần dự đoán: {predict_data_tbtl.shape[0]}\")"
   ]
  },
  {
   "cell_type": "markdown",
   "metadata": {},
   "source": [
    "### Train test data tbtl"
   ]
  },
  {
   "cell_type": "code",
   "execution_count": 250,
   "metadata": {},
   "outputs": [],
   "source": [
    "X_train_test_data_tbtl = train_test_data_tbtl[features_nouser]\n",
    "y_train_test_data_tbtl = train_test_data_tbtl['TBTL']"
   ]
  },
  {
   "cell_type": "code",
   "execution_count": 251,
   "metadata": {},
   "outputs": [
    {
     "name": "stdout",
     "output_type": "stream",
     "text": [
      "Các cột chứa NaN: []\n",
      "Số lượng NaN trong mỗi cột:\n",
      "Series([], dtype: int64)\n"
     ]
    }
   ],
   "source": [
    "nan_columns = X_train_test_data_tbtl.columns[X_train_test_data_tbtl.isna().any()]\n",
    "print(f\"Các cột chứa NaN: {nan_columns.tolist()}\")\n",
    "nan_counts = X_train_test_data_tbtl.isna().sum()\n",
    "print(\"Số lượng NaN trong mỗi cột:\")\n",
    "print(nan_counts[nan_counts > 0])\n",
    "X_train_test_data_tbtl[nan_columns] = X_train_test_data_tbtl[nan_columns].fillna(X_train_test_data_tbtl[nan_columns].mean())"
   ]
  },
  {
   "cell_type": "code",
   "execution_count": 252,
   "metadata": {},
   "outputs": [
    {
     "data": {
      "text/html": [
       "<div>\n",
       "<style scoped>\n",
       "    .dataframe tbody tr th:only-of-type {\n",
       "        vertical-align: middle;\n",
       "    }\n",
       "\n",
       "    .dataframe tbody tr th {\n",
       "        vertical-align: top;\n",
       "    }\n",
       "\n",
       "    .dataframe thead th {\n",
       "        text-align: right;\n",
       "    }\n",
       "</style>\n",
       "<table border=\"1\" class=\"dataframe\">\n",
       "  <thead>\n",
       "    <tr style=\"text-align: right;\">\n",
       "      <th></th>\n",
       "      <th>is_final</th>\n",
       "      <th>duplicate_count_sum</th>\n",
       "      <th>duration</th>\n",
       "      <th>wrong_testcases</th>\n",
       "      <th>times_max</th>\n",
       "      <th>mems_max</th>\n",
       "      <th>times_sum</th>\n",
       "      <th>mems_sum</th>\n",
       "      <th>times_mean</th>\n",
       "      <th>mems_mean</th>\n",
       "      <th>is_final_sum</th>\n",
       "      <th>status_sum</th>\n",
       "      <th>pre_score_coefficient_product</th>\n",
       "    </tr>\n",
       "  </thead>\n",
       "  <tbody>\n",
       "    <tr>\n",
       "      <th>0</th>\n",
       "      <td>0.551667</td>\n",
       "      <td>147</td>\n",
       "      <td>16.595745</td>\n",
       "      <td>11.0</td>\n",
       "      <td>0.82</td>\n",
       "      <td>13740.0</td>\n",
       "      <td>7.69</td>\n",
       "      <td>97320.0</td>\n",
       "      <td>0.308842</td>\n",
       "      <td>4418.443956</td>\n",
       "      <td>46.0</td>\n",
       "      <td>47.0</td>\n",
       "      <td>46607100.0</td>\n",
       "    </tr>\n",
       "    <tr>\n",
       "      <th>1</th>\n",
       "      <td>0.547083</td>\n",
       "      <td>259</td>\n",
       "      <td>936.153846</td>\n",
       "      <td>9.0</td>\n",
       "      <td>-0.14</td>\n",
       "      <td>12487.0</td>\n",
       "      <td>9.93</td>\n",
       "      <td>108180.0</td>\n",
       "      <td>-0.617374</td>\n",
       "      <td>5762.701099</td>\n",
       "      <td>78.0</td>\n",
       "      <td>77.0</td>\n",
       "      <td>75249900.0</td>\n",
       "    </tr>\n",
       "    <tr>\n",
       "      <th>2</th>\n",
       "      <td>0.731160</td>\n",
       "      <td>195</td>\n",
       "      <td>14.117647</td>\n",
       "      <td>135.0</td>\n",
       "      <td>0.30</td>\n",
       "      <td>17523.0</td>\n",
       "      <td>4.87</td>\n",
       "      <td>55076.0</td>\n",
       "      <td>-0.656128</td>\n",
       "      <td>4628.780952</td>\n",
       "      <td>67.0</td>\n",
       "      <td>67.0</td>\n",
       "      <td>62951400.0</td>\n",
       "    </tr>\n",
       "    <tr>\n",
       "      <th>3</th>\n",
       "      <td>0.729469</td>\n",
       "      <td>100</td>\n",
       "      <td>8.936170</td>\n",
       "      <td>0.0</td>\n",
       "      <td>0.36</td>\n",
       "      <td>8956.0</td>\n",
       "      <td>0.38</td>\n",
       "      <td>11656.0</td>\n",
       "      <td>0.042286</td>\n",
       "      <td>1395.885714</td>\n",
       "      <td>47.0</td>\n",
       "      <td>47.0</td>\n",
       "      <td>47000000.0</td>\n",
       "    </tr>\n",
       "    <tr>\n",
       "      <th>4</th>\n",
       "      <td>0.833494</td>\n",
       "      <td>107</td>\n",
       "      <td>11.818182</td>\n",
       "      <td>25.0</td>\n",
       "      <td>3.06</td>\n",
       "      <td>11904.0</td>\n",
       "      <td>30.39</td>\n",
       "      <td>240064.0</td>\n",
       "      <td>1.523212</td>\n",
       "      <td>8784.344554</td>\n",
       "      <td>66.0</td>\n",
       "      <td>66.0</td>\n",
       "      <td>60251900.0</td>\n",
       "    </tr>\n",
       "    <tr>\n",
       "      <th>...</th>\n",
       "      <td>...</td>\n",
       "      <td>...</td>\n",
       "      <td>...</td>\n",
       "      <td>...</td>\n",
       "      <td>...</td>\n",
       "      <td>...</td>\n",
       "      <td>...</td>\n",
       "      <td>...</td>\n",
       "      <td>...</td>\n",
       "      <td>...</td>\n",
       "      <td>...</td>\n",
       "      <td>...</td>\n",
       "      <td>...</td>\n",
       "    </tr>\n",
       "    <tr>\n",
       "      <th>796</th>\n",
       "      <td>0.642428</td>\n",
       "      <td>111</td>\n",
       "      <td>10.666667</td>\n",
       "      <td>26.0</td>\n",
       "      <td>0.57</td>\n",
       "      <td>7320.0</td>\n",
       "      <td>0.59</td>\n",
       "      <td>9888.0</td>\n",
       "      <td>0.062429</td>\n",
       "      <td>1327.542857</td>\n",
       "      <td>44.0</td>\n",
       "      <td>45.0</td>\n",
       "      <td>42400000.0</td>\n",
       "    </tr>\n",
       "    <tr>\n",
       "      <th>797</th>\n",
       "      <td>0.562274</td>\n",
       "      <td>357</td>\n",
       "      <td>12.115385</td>\n",
       "      <td>2.0</td>\n",
       "      <td>1.06</td>\n",
       "      <td>10236.0</td>\n",
       "      <td>15.08</td>\n",
       "      <td>46624.0</td>\n",
       "      <td>0.594176</td>\n",
       "      <td>2903.326007</td>\n",
       "      <td>104.0</td>\n",
       "      <td>104.0</td>\n",
       "      <td>103184600.0</td>\n",
       "    </tr>\n",
       "    <tr>\n",
       "      <th>798</th>\n",
       "      <td>0.735943</td>\n",
       "      <td>155</td>\n",
       "      <td>5.660377</td>\n",
       "      <td>16.0</td>\n",
       "      <td>-2.46</td>\n",
       "      <td>3965.0</td>\n",
       "      <td>2.86</td>\n",
       "      <td>27776.0</td>\n",
       "      <td>-2.761667</td>\n",
       "      <td>2311.666667</td>\n",
       "      <td>53.0</td>\n",
       "      <td>50.0</td>\n",
       "      <td>48066600.0</td>\n",
       "    </tr>\n",
       "    <tr>\n",
       "      <th>799</th>\n",
       "      <td>0.457073</td>\n",
       "      <td>557</td>\n",
       "      <td>650.608696</td>\n",
       "      <td>11.0</td>\n",
       "      <td>-1.28</td>\n",
       "      <td>22445.0</td>\n",
       "      <td>13.03</td>\n",
       "      <td>191676.0</td>\n",
       "      <td>-2.360293</td>\n",
       "      <td>8717.012724</td>\n",
       "      <td>115.0</td>\n",
       "      <td>112.0</td>\n",
       "      <td>110600000.0</td>\n",
       "    </tr>\n",
       "    <tr>\n",
       "      <th>800</th>\n",
       "      <td>0.645134</td>\n",
       "      <td>54</td>\n",
       "      <td>5.000000</td>\n",
       "      <td>10.0</td>\n",
       "      <td>0.00</td>\n",
       "      <td>0.0</td>\n",
       "      <td>0.00</td>\n",
       "      <td>0.0</td>\n",
       "      <td>0.000000</td>\n",
       "      <td>0.000000</td>\n",
       "      <td>24.0</td>\n",
       "      <td>24.0</td>\n",
       "      <td>23000000.0</td>\n",
       "    </tr>\n",
       "  </tbody>\n",
       "</table>\n",
       "<p>799 rows × 13 columns</p>\n",
       "</div>"
      ],
      "text/plain": [
       "     is_final  duplicate_count_sum    duration  wrong_testcases  times_max  \\\n",
       "0    0.551667                  147   16.595745             11.0       0.82   \n",
       "1    0.547083                  259  936.153846              9.0      -0.14   \n",
       "2    0.731160                  195   14.117647            135.0       0.30   \n",
       "3    0.729469                  100    8.936170              0.0       0.36   \n",
       "4    0.833494                  107   11.818182             25.0       3.06   \n",
       "..        ...                  ...         ...              ...        ...   \n",
       "796  0.642428                  111   10.666667             26.0       0.57   \n",
       "797  0.562274                  357   12.115385              2.0       1.06   \n",
       "798  0.735943                  155    5.660377             16.0      -2.46   \n",
       "799  0.457073                  557  650.608696             11.0      -1.28   \n",
       "800  0.645134                   54    5.000000             10.0       0.00   \n",
       "\n",
       "     mems_max  times_sum  mems_sum  times_mean    mems_mean  is_final_sum  \\\n",
       "0     13740.0       7.69   97320.0    0.308842  4418.443956          46.0   \n",
       "1     12487.0       9.93  108180.0   -0.617374  5762.701099          78.0   \n",
       "2     17523.0       4.87   55076.0   -0.656128  4628.780952          67.0   \n",
       "3      8956.0       0.38   11656.0    0.042286  1395.885714          47.0   \n",
       "4     11904.0      30.39  240064.0    1.523212  8784.344554          66.0   \n",
       "..        ...        ...       ...         ...          ...           ...   \n",
       "796    7320.0       0.59    9888.0    0.062429  1327.542857          44.0   \n",
       "797   10236.0      15.08   46624.0    0.594176  2903.326007         104.0   \n",
       "798    3965.0       2.86   27776.0   -2.761667  2311.666667          53.0   \n",
       "799   22445.0      13.03  191676.0   -2.360293  8717.012724         115.0   \n",
       "800       0.0       0.00       0.0    0.000000     0.000000          24.0   \n",
       "\n",
       "     status_sum  pre_score_coefficient_product  \n",
       "0          47.0                     46607100.0  \n",
       "1          77.0                     75249900.0  \n",
       "2          67.0                     62951400.0  \n",
       "3          47.0                     47000000.0  \n",
       "4          66.0                     60251900.0  \n",
       "..          ...                            ...  \n",
       "796        45.0                     42400000.0  \n",
       "797       104.0                    103184600.0  \n",
       "798        50.0                     48066600.0  \n",
       "799       112.0                    110600000.0  \n",
       "800        24.0                     23000000.0  \n",
       "\n",
       "[799 rows x 13 columns]"
      ]
     },
     "execution_count": 252,
     "metadata": {},
     "output_type": "execute_result"
    }
   ],
   "source": [
    "X_train_test_data_tbtl"
   ]
  },
  {
   "cell_type": "code",
   "execution_count": 253,
   "metadata": {},
   "outputs": [],
   "source": [
    "#Chuẩn hóa dữ liệu\n",
    "# scaler = StandardScaler()\n",
    "# X_train_test_data_tbtl = scaler.fit_transform(X_train_test_data_tbtl)\n",
    "\n",
    "#train test split\n",
    "X_train, X_test, y_train, y_test = train_test_split(X_train_test_data_tbtl, y_train_test_data_tbtl, test_size=0.2, random_state=42)"
   ]
  },
  {
   "cell_type": "code",
   "execution_count": 254,
   "metadata": {},
   "outputs": [
    {
     "data": {
      "text/html": [
       "<div>\n",
       "<style scoped>\n",
       "    .dataframe tbody tr th:only-of-type {\n",
       "        vertical-align: middle;\n",
       "    }\n",
       "\n",
       "    .dataframe tbody tr th {\n",
       "        vertical-align: top;\n",
       "    }\n",
       "\n",
       "    .dataframe thead th {\n",
       "        text-align: right;\n",
       "    }\n",
       "</style>\n",
       "<table border=\"1\" class=\"dataframe\">\n",
       "  <thead>\n",
       "    <tr style=\"text-align: right;\">\n",
       "      <th></th>\n",
       "      <th>is_final</th>\n",
       "      <th>duplicate_count_sum</th>\n",
       "      <th>duration</th>\n",
       "      <th>wrong_testcases</th>\n",
       "      <th>times_max</th>\n",
       "      <th>mems_max</th>\n",
       "      <th>times_sum</th>\n",
       "      <th>mems_sum</th>\n",
       "      <th>times_mean</th>\n",
       "      <th>mems_mean</th>\n",
       "      <th>is_final_sum</th>\n",
       "      <th>status_sum</th>\n",
       "      <th>pre_score_coefficient_product</th>\n",
       "    </tr>\n",
       "  </thead>\n",
       "  <tbody>\n",
       "    <tr>\n",
       "      <th>264</th>\n",
       "      <td>0.694819</td>\n",
       "      <td>99</td>\n",
       "      <td>8.000000</td>\n",
       "      <td>92.0</td>\n",
       "      <td>-2.81</td>\n",
       "      <td>12332.0</td>\n",
       "      <td>4.23</td>\n",
       "      <td>91616.0</td>\n",
       "      <td>-3.640090</td>\n",
       "      <td>8715.015385</td>\n",
       "      <td>45.0</td>\n",
       "      <td>41.0</td>\n",
       "      <td>28143000.0</td>\n",
       "    </tr>\n",
       "    <tr>\n",
       "      <th>616</th>\n",
       "      <td>0.699995</td>\n",
       "      <td>8</td>\n",
       "      <td>0.000000</td>\n",
       "      <td>0.0</td>\n",
       "      <td>-5.00</td>\n",
       "      <td>-5.0</td>\n",
       "      <td>0.00</td>\n",
       "      <td>0.0</td>\n",
       "      <td>-5.000000</td>\n",
       "      <td>-5.000000</td>\n",
       "      <td>5.0</td>\n",
       "      <td>0.0</td>\n",
       "      <td>0.0</td>\n",
       "    </tr>\n",
       "    <tr>\n",
       "      <th>329</th>\n",
       "      <td>0.377093</td>\n",
       "      <td>279</td>\n",
       "      <td>8.372093</td>\n",
       "      <td>18.0</td>\n",
       "      <td>-0.96</td>\n",
       "      <td>16562.0</td>\n",
       "      <td>9.02</td>\n",
       "      <td>139360.0</td>\n",
       "      <td>-1.610148</td>\n",
       "      <td>7416.139194</td>\n",
       "      <td>43.0</td>\n",
       "      <td>41.0</td>\n",
       "      <td>39326500.0</td>\n",
       "    </tr>\n",
       "    <tr>\n",
       "      <th>342</th>\n",
       "      <td>0.594321</td>\n",
       "      <td>231</td>\n",
       "      <td>7.297297</td>\n",
       "      <td>24.0</td>\n",
       "      <td>1.46</td>\n",
       "      <td>16308.0</td>\n",
       "      <td>13.40</td>\n",
       "      <td>106768.0</td>\n",
       "      <td>0.508318</td>\n",
       "      <td>4911.580488</td>\n",
       "      <td>74.0</td>\n",
       "      <td>74.0</td>\n",
       "      <td>72519000.0</td>\n",
       "    </tr>\n",
       "    <tr>\n",
       "      <th>395</th>\n",
       "      <td>0.537206</td>\n",
       "      <td>294</td>\n",
       "      <td>7.578947</td>\n",
       "      <td>28.0</td>\n",
       "      <td>-0.68</td>\n",
       "      <td>22247.0</td>\n",
       "      <td>0.38</td>\n",
       "      <td>26864.0</td>\n",
       "      <td>-0.958286</td>\n",
       "      <td>3010.638095</td>\n",
       "      <td>95.0</td>\n",
       "      <td>94.0</td>\n",
       "      <td>91250000.0</td>\n",
       "    </tr>\n",
       "    <tr>\n",
       "      <th>...</th>\n",
       "      <td>...</td>\n",
       "      <td>...</td>\n",
       "      <td>...</td>\n",
       "      <td>...</td>\n",
       "      <td>...</td>\n",
       "      <td>...</td>\n",
       "      <td>...</td>\n",
       "      <td>...</td>\n",
       "      <td>...</td>\n",
       "      <td>...</td>\n",
       "      <td>...</td>\n",
       "      <td>...</td>\n",
       "      <td>...</td>\n",
       "    </tr>\n",
       "    <tr>\n",
       "      <th>71</th>\n",
       "      <td>0.713800</td>\n",
       "      <td>200</td>\n",
       "      <td>11.287129</td>\n",
       "      <td>19.0</td>\n",
       "      <td>-5.64</td>\n",
       "      <td>9062.0</td>\n",
       "      <td>0.38</td>\n",
       "      <td>11760.0</td>\n",
       "      <td>-5.957286</td>\n",
       "      <td>1503.942857</td>\n",
       "      <td>101.0</td>\n",
       "      <td>95.0</td>\n",
       "      <td>93100000.0</td>\n",
       "    </tr>\n",
       "    <tr>\n",
       "      <th>106</th>\n",
       "      <td>0.611122</td>\n",
       "      <td>163</td>\n",
       "      <td>3.600000</td>\n",
       "      <td>0.0</td>\n",
       "      <td>0.25</td>\n",
       "      <td>1984.0</td>\n",
       "      <td>0.25</td>\n",
       "      <td>1984.0</td>\n",
       "      <td>0.025000</td>\n",
       "      <td>198.400000</td>\n",
       "      <td>50.0</td>\n",
       "      <td>50.0</td>\n",
       "      <td>50000000.0</td>\n",
       "    </tr>\n",
       "    <tr>\n",
       "      <th>270</th>\n",
       "      <td>0.625517</td>\n",
       "      <td>489</td>\n",
       "      <td>13.082707</td>\n",
       "      <td>45.0</td>\n",
       "      <td>1.03</td>\n",
       "      <td>25621.0</td>\n",
       "      <td>62.54</td>\n",
       "      <td>272100.0</td>\n",
       "      <td>-0.948733</td>\n",
       "      <td>10464.729092</td>\n",
       "      <td>133.0</td>\n",
       "      <td>130.0</td>\n",
       "      <td>125091600.0</td>\n",
       "    </tr>\n",
       "    <tr>\n",
       "      <th>436</th>\n",
       "      <td>0.419776</td>\n",
       "      <td>161</td>\n",
       "      <td>7.058824</td>\n",
       "      <td>94.0</td>\n",
       "      <td>-3.00</td>\n",
       "      <td>12025.0</td>\n",
       "      <td>0.00</td>\n",
       "      <td>164424.0</td>\n",
       "      <td>-3.000000</td>\n",
       "      <td>11741.571429</td>\n",
       "      <td>34.0</td>\n",
       "      <td>31.0</td>\n",
       "      <td>22520500.0</td>\n",
       "    </tr>\n",
       "    <tr>\n",
       "      <th>102</th>\n",
       "      <td>0.594209</td>\n",
       "      <td>122</td>\n",
       "      <td>9.767442</td>\n",
       "      <td>0.0</td>\n",
       "      <td>1.29</td>\n",
       "      <td>5952.0</td>\n",
       "      <td>6.02</td>\n",
       "      <td>23808.0</td>\n",
       "      <td>0.602000</td>\n",
       "      <td>2380.800000</td>\n",
       "      <td>43.0</td>\n",
       "      <td>43.0</td>\n",
       "      <td>41900000.0</td>\n",
       "    </tr>\n",
       "  </tbody>\n",
       "</table>\n",
       "<p>639 rows × 13 columns</p>\n",
       "</div>"
      ],
      "text/plain": [
       "     is_final  duplicate_count_sum   duration  wrong_testcases  times_max  \\\n",
       "264  0.694819                   99   8.000000             92.0      -2.81   \n",
       "616  0.699995                    8   0.000000              0.0      -5.00   \n",
       "329  0.377093                  279   8.372093             18.0      -0.96   \n",
       "342  0.594321                  231   7.297297             24.0       1.46   \n",
       "395  0.537206                  294   7.578947             28.0      -0.68   \n",
       "..        ...                  ...        ...              ...        ...   \n",
       "71   0.713800                  200  11.287129             19.0      -5.64   \n",
       "106  0.611122                  163   3.600000              0.0       0.25   \n",
       "270  0.625517                  489  13.082707             45.0       1.03   \n",
       "436  0.419776                  161   7.058824             94.0      -3.00   \n",
       "102  0.594209                  122   9.767442              0.0       1.29   \n",
       "\n",
       "     mems_max  times_sum  mems_sum  times_mean     mems_mean  is_final_sum  \\\n",
       "264   12332.0       4.23   91616.0   -3.640090   8715.015385          45.0   \n",
       "616      -5.0       0.00       0.0   -5.000000     -5.000000           5.0   \n",
       "329   16562.0       9.02  139360.0   -1.610148   7416.139194          43.0   \n",
       "342   16308.0      13.40  106768.0    0.508318   4911.580488          74.0   \n",
       "395   22247.0       0.38   26864.0   -0.958286   3010.638095          95.0   \n",
       "..        ...        ...       ...         ...           ...           ...   \n",
       "71     9062.0       0.38   11760.0   -5.957286   1503.942857         101.0   \n",
       "106    1984.0       0.25    1984.0    0.025000    198.400000          50.0   \n",
       "270   25621.0      62.54  272100.0   -0.948733  10464.729092         133.0   \n",
       "436   12025.0       0.00  164424.0   -3.000000  11741.571429          34.0   \n",
       "102    5952.0       6.02   23808.0    0.602000   2380.800000          43.0   \n",
       "\n",
       "     status_sum  pre_score_coefficient_product  \n",
       "264        41.0                     28143000.0  \n",
       "616         0.0                            0.0  \n",
       "329        41.0                     39326500.0  \n",
       "342        74.0                     72519000.0  \n",
       "395        94.0                     91250000.0  \n",
       "..          ...                            ...  \n",
       "71         95.0                     93100000.0  \n",
       "106        50.0                     50000000.0  \n",
       "270       130.0                    125091600.0  \n",
       "436        31.0                     22520500.0  \n",
       "102        43.0                     41900000.0  \n",
       "\n",
       "[639 rows x 13 columns]"
      ]
     },
     "execution_count": 254,
     "metadata": {},
     "output_type": "execute_result"
    }
   ],
   "source": [
    "X_train"
   ]
  },
  {
   "cell_type": "code",
   "execution_count": 255,
   "metadata": {},
   "outputs": [
    {
     "data": {
      "text/plain": [
       "264    7.10\n",
       "616    8.21\n",
       "329    8.06\n",
       "342    7.15\n",
       "395    7.73\n",
       "       ... \n",
       "71     7.11\n",
       "106    7.93\n",
       "270    9.15\n",
       "436    7.32\n",
       "102    8.10\n",
       "Name: TBTL, Length: 639, dtype: float64"
      ]
     },
     "execution_count": 255,
     "metadata": {},
     "output_type": "execute_result"
    }
   ],
   "source": [
    "y_train "
   ]
  },
  {
   "cell_type": "code",
   "execution_count": 262,
   "metadata": {},
   "outputs": [],
   "source": [
    "# Huấn luyện và đánh giá mô hình\n",
    "models = {\n",
    "    'LinearRegression': LinearRegression(),\n",
    "    # 'RandomForest': RandomForestRegressor(random_state=42),\n",
    "    # 'XGBoost': XGBRegressor(random_state=42)\n",
    "}\n",
    "\n",
    "metrics = {}\n",
    "\n",
    "for name, model in models.items():\n",
    "    # Huấn luyện\n",
    "    model.fit(X_train, y_train)\n",
    "    y_pred = model.predict(X_test)\n",
    "\n",
    "    # Đánh giá\n",
    "    mse = mean_squared_error(y_test, y_pred)\n",
    "    r2 = r2_score(y_test, y_pred)\n",
    "\n",
    "    metrics[name] = {\n",
    "        'MSE': mse,\n",
    "        'R2': r2\n",
    "    }"
   ]
  },
  {
   "cell_type": "code",
   "execution_count": null,
   "metadata": {},
   "outputs": [
    {
     "data": {
      "image/png": "[encoded data removed]",
      "text/plain": [
       "<Figure size 1000x600 with 1 Axes>"
      ]
     },
     "metadata": {},
     "output_type": "display_data"
    }
   ],
   "source": [
    "# Mức độ quan trọng của các đặc trưng\n",
    "# importances = model.coef_\n",
    "# features = X_train_test_data_tbtl.columns\n",
    "\n",
    "# # Vẽ biểu đồ mức độ quan trọng\n",
    "# plt.figure(figsize=(10, 6))\n",
    "# plt.barh(features, importances, color='skyblue')\n",
    "# plt.xlabel('Importance')\n",
    "# plt.title('Feature Importance')\n",
    "# plt.show()"
   ]
  },
  {
   "cell_type": "code",
   "execution_count": 258,
   "metadata": {},
   "outputs": [
    {
     "name": "stdout",
     "output_type": "stream",
     "text": [
      "Model Evaluation Results of TBTL:\n",
      "LinearRegression: MSE=0.8222, R2=0.0172\n"
     ]
    }
   ],
   "source": [
    "# In kết quả\n",
    "print(\"Model Evaluation Results of TBTL:\")\n",
    "for name, metrics in metrics.items():\n",
    "    print(f\"{name}: MSE={metrics['MSE']:.4f}, R2={metrics['R2']:.4f}\")"
   ]
  },
  {
   "cell_type": "markdown",
   "metadata": {},
   "source": [
    "### Predict data tbtl"
   ]
  },
  {
   "cell_type": "code",
   "execution_count": 259,
   "metadata": {},
   "outputs": [],
   "source": [
    "X_predict_data_tbtl = predict_data_tbtl[features_nouser]"
   ]
  },
  {
   "cell_type": "code",
   "execution_count": 260,
   "metadata": {},
   "outputs": [
    {
     "name": "stdout",
     "output_type": "stream",
     "text": [
      "Các cột chứa NaN: []\n",
      "Số lượng NaN trong mỗi cột:\n",
      "Series([], dtype: int64)\n"
     ]
    }
   ],
   "source": [
    "nan_columns = X_predict_data_tbtl.columns[X_predict_data_tbtl.isna().any()]\n",
    "print(f\"Các cột chứa NaN: {nan_columns.tolist()}\")\n",
    "nan_counts = X_predict_data_tbtl.isna().sum()\n",
    "print(\"Số lượng NaN trong mỗi cột:\")\n",
    "print(nan_counts[nan_counts > 0])\n",
    "X_predict_data_tbtl[nan_columns] = X_predict_data_tbtl[nan_columns].fillna(X_predict_data_tbtl[nan_columns].mean())"
   ]
  },
  {
   "cell_type": "code",
   "execution_count": 261,
   "metadata": {},
   "outputs": [
    {
     "ename": "ValueError",
     "evalue": "The feature names should match those that were passed during fit.\nFeature names seen at fit time, yet now missing:\n- status\n",
     "output_type": "error",
     "traceback": [
      "\u001b[1;31m---------------------------------------------------------------------------\u001b[0m",
      "\u001b[1;31mValueError\u001b[0m                                Traceback (most recent call last)",
      "Cell \u001b[1;32mIn[261], line 1\u001b[0m\n\u001b[1;32m----> 1\u001b[0m X_predict_data_tbtl \u001b[38;5;241m=\u001b[39m \u001b[43mscaler\u001b[49m\u001b[38;5;241;43m.\u001b[39;49m\u001b[43mtransform\u001b[49m\u001b[43m(\u001b[49m\u001b[43mX_predict_data_tbtl\u001b[49m\u001b[43m)\u001b[49m\n",
      "File \u001b[1;32m~\\AppData\\Local\\Packages\\PythonSoftwareFoundation.Python.3.11_qbz5n2kfra8p0\\LocalCache\\local-packages\\Python311\\site-packages\\sklearn\\utils\\_set_output.py:316\u001b[0m, in \u001b[0;36m_wrap_method_output.<locals>.wrapped\u001b[1;34m(self, X, *args, **kwargs)\u001b[0m\n\u001b[0;32m    314\u001b[0m \u001b[38;5;129m@wraps\u001b[39m(f)\n\u001b[0;32m    315\u001b[0m \u001b[38;5;28;01mdef\u001b[39;00m \u001b[38;5;21mwrapped\u001b[39m(\u001b[38;5;28mself\u001b[39m, X, \u001b[38;5;241m*\u001b[39margs, \u001b[38;5;241m*\u001b[39m\u001b[38;5;241m*\u001b[39mkwargs):\n\u001b[1;32m--> 316\u001b[0m     data_to_wrap \u001b[38;5;241m=\u001b[39m \u001b[43mf\u001b[49m\u001b[43m(\u001b[49m\u001b[38;5;28;43mself\u001b[39;49m\u001b[43m,\u001b[49m\u001b[43m \u001b[49m\u001b[43mX\u001b[49m\u001b[43m,\u001b[49m\u001b[43m \u001b[49m\u001b[38;5;241;43m*\u001b[39;49m\u001b[43margs\u001b[49m\u001b[43m,\u001b[49m\u001b[43m \u001b[49m\u001b[38;5;241;43m*\u001b[39;49m\u001b[38;5;241;43m*\u001b[39;49m\u001b[43mkwargs\u001b[49m\u001b[43m)\u001b[49m\n\u001b[0;32m    317\u001b[0m     \u001b[38;5;28;01mif\u001b[39;00m \u001b[38;5;28misinstance\u001b[39m(data_to_wrap, \u001b[38;5;28mtuple\u001b[39m):\n\u001b[0;32m    318\u001b[0m         \u001b[38;5;66;03m# only wrap the first output for cross decomposition\u001b[39;00m\n\u001b[0;32m    319\u001b[0m         return_tuple \u001b[38;5;241m=\u001b[39m (\n\u001b[0;32m    320\u001b[0m             _wrap_data_with_container(method, data_to_wrap[\u001b[38;5;241m0\u001b[39m], X, \u001b[38;5;28mself\u001b[39m),\n\u001b[0;32m    321\u001b[0m             \u001b[38;5;241m*\u001b[39mdata_to_wrap[\u001b[38;5;241m1\u001b[39m:],\n\u001b[0;32m    322\u001b[0m         )\n",
      "File \u001b[1;32m~\\AppData\\Local\\Packages\\PythonSoftwareFoundation.Python.3.11_qbz5n2kfra8p0\\LocalCache\\local-packages\\Python311\\site-packages\\sklearn\\preprocessing\\_data.py:1045\u001b[0m, in \u001b[0;36mStandardScaler.transform\u001b[1;34m(self, X, copy)\u001b[0m\n\u001b[0;32m   1042\u001b[0m check_is_fitted(\u001b[38;5;28mself\u001b[39m)\n\u001b[0;32m   1044\u001b[0m copy \u001b[38;5;241m=\u001b[39m copy \u001b[38;5;28;01mif\u001b[39;00m copy \u001b[38;5;129;01mis\u001b[39;00m \u001b[38;5;129;01mnot\u001b[39;00m \u001b[38;5;28;01mNone\u001b[39;00m \u001b[38;5;28;01melse\u001b[39;00m \u001b[38;5;28mself\u001b[39m\u001b[38;5;241m.\u001b[39mcopy\n\u001b[1;32m-> 1045\u001b[0m X \u001b[38;5;241m=\u001b[39m \u001b[38;5;28;43mself\u001b[39;49m\u001b[38;5;241;43m.\u001b[39;49m\u001b[43m_validate_data\u001b[49m\u001b[43m(\u001b[49m\n\u001b[0;32m   1046\u001b[0m \u001b[43m    \u001b[49m\u001b[43mX\u001b[49m\u001b[43m,\u001b[49m\n\u001b[0;32m   1047\u001b[0m \u001b[43m    \u001b[49m\u001b[43mreset\u001b[49m\u001b[38;5;241;43m=\u001b[39;49m\u001b[38;5;28;43;01mFalse\u001b[39;49;00m\u001b[43m,\u001b[49m\n\u001b[0;32m   1048\u001b[0m \u001b[43m    \u001b[49m\u001b[43maccept_sparse\u001b[49m\u001b[38;5;241;43m=\u001b[39;49m\u001b[38;5;124;43m\"\u001b[39;49m\u001b[38;5;124;43mcsr\u001b[39;49m\u001b[38;5;124;43m\"\u001b[39;49m\u001b[43m,\u001b[49m\n\u001b[0;32m   1049\u001b[0m \u001b[43m    \u001b[49m\u001b[43mcopy\u001b[49m\u001b[38;5;241;43m=\u001b[39;49m\u001b[43mcopy\u001b[49m\u001b[43m,\u001b[49m\n\u001b[0;32m   1050\u001b[0m \u001b[43m    \u001b[49m\u001b[43mdtype\u001b[49m\u001b[38;5;241;43m=\u001b[39;49m\u001b[43mFLOAT_DTYPES\u001b[49m\u001b[43m,\u001b[49m\n\u001b[0;32m   1051\u001b[0m \u001b[43m    \u001b[49m\u001b[43mforce_writeable\u001b[49m\u001b[38;5;241;43m=\u001b[39;49m\u001b[38;5;28;43;01mTrue\u001b[39;49;00m\u001b[43m,\u001b[49m\n\u001b[0;32m   1052\u001b[0m \u001b[43m    \u001b[49m\u001b[43mforce_all_finite\u001b[49m\u001b[38;5;241;43m=\u001b[39;49m\u001b[38;5;124;43m\"\u001b[39;49m\u001b[38;5;124;43mallow-nan\u001b[39;49m\u001b[38;5;124;43m\"\u001b[39;49m\u001b[43m,\u001b[49m\n\u001b[0;32m   1053\u001b[0m \u001b[43m\u001b[49m\u001b[43m)\u001b[49m\n\u001b[0;32m   1055\u001b[0m \u001b[38;5;28;01mif\u001b[39;00m sparse\u001b[38;5;241m.\u001b[39missparse(X):\n\u001b[0;32m   1056\u001b[0m     \u001b[38;5;28;01mif\u001b[39;00m \u001b[38;5;28mself\u001b[39m\u001b[38;5;241m.\u001b[39mwith_mean:\n",
      "File \u001b[1;32m~\\AppData\\Local\\Packages\\PythonSoftwareFoundation.Python.3.11_qbz5n2kfra8p0\\LocalCache\\local-packages\\Python311\\site-packages\\sklearn\\base.py:608\u001b[0m, in \u001b[0;36mBaseEstimator._validate_data\u001b[1;34m(self, X, y, reset, validate_separately, cast_to_ndarray, **check_params)\u001b[0m\n\u001b[0;32m    537\u001b[0m \u001b[38;5;28;01mdef\u001b[39;00m \u001b[38;5;21m_validate_data\u001b[39m(\n\u001b[0;32m    538\u001b[0m     \u001b[38;5;28mself\u001b[39m,\n\u001b[0;32m    539\u001b[0m     X\u001b[38;5;241m=\u001b[39m\u001b[38;5;124m\"\u001b[39m\u001b[38;5;124mno_validation\u001b[39m\u001b[38;5;124m\"\u001b[39m,\n\u001b[1;32m   (...)\u001b[0m\n\u001b[0;32m    544\u001b[0m     \u001b[38;5;241m*\u001b[39m\u001b[38;5;241m*\u001b[39mcheck_params,\n\u001b[0;32m    545\u001b[0m ):\n\u001b[0;32m    546\u001b[0m \u001b[38;5;250m    \u001b[39m\u001b[38;5;124;03m\"\"\"Validate input data and set or check the `n_features_in_` attribute.\u001b[39;00m\n\u001b[0;32m    547\u001b[0m \n\u001b[0;32m    548\u001b[0m \u001b[38;5;124;03m    Parameters\u001b[39;00m\n\u001b[1;32m   (...)\u001b[0m\n\u001b[0;32m    606\u001b[0m \u001b[38;5;124;03m        validated.\u001b[39;00m\n\u001b[0;32m    607\u001b[0m \u001b[38;5;124;03m    \"\"\"\u001b[39;00m\n\u001b[1;32m--> 608\u001b[0m     \u001b[38;5;28;43mself\u001b[39;49m\u001b[38;5;241;43m.\u001b[39;49m\u001b[43m_check_feature_names\u001b[49m\u001b[43m(\u001b[49m\u001b[43mX\u001b[49m\u001b[43m,\u001b[49m\u001b[43m \u001b[49m\u001b[43mreset\u001b[49m\u001b[38;5;241;43m=\u001b[39;49m\u001b[43mreset\u001b[49m\u001b[43m)\u001b[49m\n\u001b[0;32m    610\u001b[0m     \u001b[38;5;28;01mif\u001b[39;00m y \u001b[38;5;129;01mis\u001b[39;00m \u001b[38;5;28;01mNone\u001b[39;00m \u001b[38;5;129;01mand\u001b[39;00m \u001b[38;5;28mself\u001b[39m\u001b[38;5;241m.\u001b[39m_get_tags()[\u001b[38;5;124m\"\u001b[39m\u001b[38;5;124mrequires_y\u001b[39m\u001b[38;5;124m\"\u001b[39m]:\n\u001b[0;32m    611\u001b[0m         \u001b[38;5;28;01mraise\u001b[39;00m \u001b[38;5;167;01mValueError\u001b[39;00m(\n\u001b[0;32m    612\u001b[0m             \u001b[38;5;124mf\u001b[39m\u001b[38;5;124m\"\u001b[39m\u001b[38;5;124mThis \u001b[39m\u001b[38;5;132;01m{\u001b[39;00m\u001b[38;5;28mself\u001b[39m\u001b[38;5;241m.\u001b[39m\u001b[38;5;18m__class__\u001b[39m\u001b[38;5;241m.\u001b[39m\u001b[38;5;18m__name__\u001b[39m\u001b[38;5;132;01m}\u001b[39;00m\u001b[38;5;124m estimator \u001b[39m\u001b[38;5;124m\"\u001b[39m\n\u001b[0;32m    613\u001b[0m             \u001b[38;5;124m\"\u001b[39m\u001b[38;5;124mrequires y to be passed, but the target y is None.\u001b[39m\u001b[38;5;124m\"\u001b[39m\n\u001b[0;32m    614\u001b[0m         )\n",
      "File \u001b[1;32m~\\AppData\\Local\\Packages\\PythonSoftwareFoundation.Python.3.11_qbz5n2kfra8p0\\LocalCache\\local-packages\\Python311\\site-packages\\sklearn\\base.py:535\u001b[0m, in \u001b[0;36mBaseEstimator._check_feature_names\u001b[1;34m(self, X, reset)\u001b[0m\n\u001b[0;32m    530\u001b[0m \u001b[38;5;28;01mif\u001b[39;00m \u001b[38;5;129;01mnot\u001b[39;00m missing_names \u001b[38;5;129;01mand\u001b[39;00m \u001b[38;5;129;01mnot\u001b[39;00m unexpected_names:\n\u001b[0;32m    531\u001b[0m     message \u001b[38;5;241m+\u001b[39m\u001b[38;5;241m=\u001b[39m (\n\u001b[0;32m    532\u001b[0m         \u001b[38;5;124m\"\u001b[39m\u001b[38;5;124mFeature names must be in the same order as they were in fit.\u001b[39m\u001b[38;5;130;01m\\n\u001b[39;00m\u001b[38;5;124m\"\u001b[39m\n\u001b[0;32m    533\u001b[0m     )\n\u001b[1;32m--> 535\u001b[0m \u001b[38;5;28;01mraise\u001b[39;00m \u001b[38;5;167;01mValueError\u001b[39;00m(message)\n",
      "\u001b[1;31mValueError\u001b[0m: The feature names should match those that were passed during fit.\nFeature names seen at fit time, yet now missing:\n- status\n"
     ]
    }
   ],
   "source": [
    "X_predict_data_tbtl = scaler.transform(X_predict_data_tbtl)"
   ]
  },
  {
   "cell_type": "code",
   "execution_count": 198,
   "metadata": {},
   "outputs": [
    {
     "name": "stderr",
     "output_type": "stream",
     "text": [
      "C:\\Users\\Admin\\AppData\\Local\\Packages\\PythonSoftwareFoundation.Python.3.11_qbz5n2kfra8p0\\LocalCache\\local-packages\\Python311\\site-packages\\sklearn\\base.py:493: UserWarning: X does not have valid feature names, but LinearRegression was fitted with feature names\n",
      "  warnings.warn(\n",
      "C:\\Users\\Admin\\AppData\\Local\\Temp\\ipykernel_216564\\3950690568.py:2: SettingWithCopyWarning: \n",
      "A value is trying to be set on a copy of a slice from a DataFrame.\n",
      "Try using .loc[row_indexer,col_indexer] = value instead\n",
      "\n",
      "See the caveats in the documentation: https://pandas.pydata.org/pandas-docs/stable/user_guide/indexing.html#returning-a-view-versus-a-copy\n",
      "  predict_data_tbtl['TBTL'] = model.predict(X_predict_data_tbtl)\n"
     ]
    }
   ],
   "source": [
    "# Dự đoán\n",
    "predict_data_tbtl['TBTL'] = model.predict(X_predict_data_tbtl)\n"
   ]
  },
  {
   "cell_type": "code",
   "execution_count": 199,
   "metadata": {},
   "outputs": [],
   "source": [
    "\n",
    "output = predict_data_tbtl[['username', 'TBTL']]\n",
    "\n",
    "# Xuất file kết quả\n",
    "output = output.to_csv(\"Predict/predicted_tbtl.csv\", index=False)"
   ]
  },
  {
   "cell_type": "markdown",
   "metadata": {},
   "source": [
    "## data TH\n"
   ]
  },
  {
   "cell_type": "markdown",
   "metadata": {},
   "source": [
    "### Train test data th"
   ]
  },
  {
   "cell_type": "code",
   "execution_count": 200,
   "metadata": {},
   "outputs": [],
   "source": [
    "# Merge dữ liệu bằng username từ annonimized và th\n",
    "data_th = annonimized.merge(th, on=\"username\", how=\"left\")"
   ]
  },
  {
   "cell_type": "code",
   "execution_count": 201,
   "metadata": {},
   "outputs": [],
   "source": [
    "data_th['TH'] = pd.to_numeric(data_th['TH'], errors='coerce')\n",
    "data_th['TH'] = data_th.groupby('username')['TH'].mean().values"
   ]
  },
  {
   "cell_type": "code",
   "execution_count": 202,
   "metadata": {},
   "outputs": [
    {
     "name": "stdout",
     "output_type": "stream",
     "text": [
      "Số lượng sinh viên có điểm (train): 753\n",
      "Số lượng sinh viên cần dự đoán: 736\n"
     ]
    }
   ],
   "source": [
    "# Phân tách dữ liệu\n",
    "train_test_data_th = data_th[data_th['TH'].notna()]  # Sinh viên có điểm dùng để train\n",
    "predict_data_th = data_th[data_th['TH'].isna()]  # Sinh viên không có điểm dùng để dự đoán\n",
    "\n",
    "# In số lượng\n",
    "print(f\"Số lượng sinh viên có điểm (train): {train_test_data_th.shape[0]}\")\n",
    "print(f\"Số lượng sinh viên cần dự đoán: {predict_data_th.shape[0]}\")"
   ]
  },
  {
   "cell_type": "markdown",
   "metadata": {},
   "source": [
    "### Train test data th"
   ]
  },
  {
   "cell_type": "code",
   "execution_count": 203,
   "metadata": {},
   "outputs": [],
   "source": [
    "X_train_test_data_th = train_test_data_th[features_nouser]\n",
    "y_train_test_data_th = train_test_data_th['TH']"
   ]
  },
  {
   "cell_type": "code",
   "execution_count": 204,
   "metadata": {},
   "outputs": [
    {
     "name": "stdout",
     "output_type": "stream",
     "text": [
      "Các cột chứa NaN: []\n",
      "Số lượng NaN trong mỗi cột:\n",
      "Series([], dtype: int64)\n"
     ]
    }
   ],
   "source": [
    "nan_columns = X_train_test_data_th.columns[X_train_test_data_th.isna().any()]\n",
    "print(f\"Các cột chứa NaN: {nan_columns.tolist()}\")\n",
    "nan_counts = X_train_test_data_th.isna().sum()\n",
    "print(\"Số lượng NaN trong mỗi cột:\")\n",
    "print(nan_counts[nan_counts > 0])\n",
    "X_train_test_data_th[nan_columns] = X_train_test_data_th[nan_columns].fillna(X_train_test_data_th[nan_columns].mean())"
   ]
  },
  {
   "cell_type": "code",
   "execution_count": 205,
   "metadata": {},
   "outputs": [],
   "source": [
    "#Chuẩn hóa dữ liệu\n",
    "X_train_test_data_th = scaler.fit_transform(X_train_test_data_th)\n",
    "\n",
    "#train test split\n",
    "X_train, X_test, y_train, y_test = train_test_split(X_train_test_data_th, y_train_test_data_th, test_size=0.2, random_state=42)"
   ]
  },
  {
   "cell_type": "code",
   "execution_count": 206,
   "metadata": {},
   "outputs": [],
   "source": [
    "# Huấn luyện và đánh giá mô hình\n",
    "models = {\n",
    "    'LinearRegression': LinearRegression(),\n",
    "    # 'RandomForest': RandomForestRegressor(random_state=42),\n",
    "    # 'XGBoost': XGBRegressor(random_state=42)\n",
    "}\n",
    "\n",
    "metrics = {}\n",
    "\n",
    "for name, model in models.items():\n",
    "    # Huấn luyện\n",
    "    model.fit(X_train, y_train)\n",
    "    y_pred = model.predict(X_test)\n",
    "\n",
    "    # Đánh giá\n",
    "    mse = mean_squared_error(y_test, y_pred)\n",
    "    r2 = r2_score(y_test, y_pred)\n",
    "\n",
    "    metrics[name] = {\n",
    "        'MSE': mse,\n",
    "        'R2': r2\n",
    "    }"
   ]
  },
  {
   "cell_type": "code",
   "execution_count": 207,
   "metadata": {},
   "outputs": [
    {
     "name": "stdout",
     "output_type": "stream",
     "text": [
      "Model Evaluation Results of TH:\n",
      "LinearRegression: MSE=3.9233, R2=0.2271\n"
     ]
    }
   ],
   "source": [
    "# In kết quả\n",
    "print(\"Model Evaluation Results of TH:\")\n",
    "for name, metrics in metrics.items():\n",
    "    print(f\"{name}: MSE={metrics['MSE']:.4f}, R2={metrics['R2']:.4f}\")"
   ]
  },
  {
   "cell_type": "markdown",
   "metadata": {},
   "source": [
    "### Predict data th"
   ]
  },
  {
   "cell_type": "code",
   "execution_count": 208,
   "metadata": {},
   "outputs": [],
   "source": [
    "X_predict_data_th = predict_data_th[features_nouser]"
   ]
  },
  {
   "cell_type": "code",
   "execution_count": 209,
   "metadata": {},
   "outputs": [
    {
     "name": "stdout",
     "output_type": "stream",
     "text": [
      "Các cột chứa NaN: []\n",
      "Số lượng NaN trong mỗi cột:\n",
      "Series([], dtype: int64)\n"
     ]
    }
   ],
   "source": [
    "nan_columns = X_predict_data_th.columns[X_predict_data_th.isna().any()]\n",
    "print(f\"Các cột chứa NaN: {nan_columns.tolist()}\")\n",
    "nan_counts = X_predict_data_th.isna().sum()\n",
    "print(\"Số lượng NaN trong mỗi cột:\")\n",
    "print(nan_counts[nan_counts > 0])\n",
    "X_predict_data_th[nan_columns] = X_predict_data_th[nan_columns].fillna(X_predict_data_th[nan_columns].mean())"
   ]
  },
  {
   "cell_type": "code",
   "execution_count": 210,
   "metadata": {},
   "outputs": [],
   "source": [
    "X_predict_data_th = scaler.transform(X_predict_data_th)"
   ]
  },
  {
   "cell_type": "code",
   "execution_count": 211,
   "metadata": {},
   "outputs": [
    {
     "name": "stderr",
     "output_type": "stream",
     "text": [
      "C:\\Users\\Admin\\AppData\\Local\\Temp\\ipykernel_216564\\1421566909.py:2: SettingWithCopyWarning: \n",
      "A value is trying to be set on a copy of a slice from a DataFrame.\n",
      "Try using .loc[row_indexer,col_indexer] = value instead\n",
      "\n",
      "See the caveats in the documentation: https://pandas.pydata.org/pandas-docs/stable/user_guide/indexing.html#returning-a-view-versus-a-copy\n",
      "  predict_data_th['TH'] = model.predict(X_predict_data_th)\n"
     ]
    }
   ],
   "source": [
    "# Dự đoán\n",
    "predict_data_th['TH'] = model.predict(X_predict_data_th)"
   ]
  },
  {
   "cell_type": "code",
   "execution_count": 212,
   "metadata": {},
   "outputs": [],
   "source": [
    "\n",
    "output = predict_data_th[['username', 'TH']]\n",
    "\n",
    "# Xuất file kết quả\n",
    "output = output.to_csv(\"Predict/predicted_th.csv\", index=False)"
   ]
  },
  {
   "cell_type": "markdown",
   "metadata": {},
   "source": [
    "## data QT"
   ]
  },
  {
   "cell_type": "code",
   "execution_count": 213,
   "metadata": {},
   "outputs": [],
   "source": [
    "# Merge dữ liệu bằng username từ annonimized và qt\n",
    "data_qt = annonimized.merge(qt, on=\"username\", how=\"left\")"
   ]
  },
  {
   "cell_type": "code",
   "execution_count": 214,
   "metadata": {},
   "outputs": [],
   "source": [
    "data_qt['QT'] = pd.to_numeric(data_qt['QT'], errors='coerce')\n",
    "data_qt['QT'] = data_qt.groupby('username')['QT'].mean().values"
   ]
  },
  {
   "cell_type": "code",
   "execution_count": 215,
   "metadata": {},
   "outputs": [
    {
     "name": "stdout",
     "output_type": "stream",
     "text": [
      "Số lượng sinh viên có điểm (train): 754\n",
      "Số lượng sinh viên cần dự đoán: 735\n"
     ]
    }
   ],
   "source": [
    "# Phân tách dữ liệu\n",
    "train_test_data_qt = data_qt[data_qt['QT'].notna()]  # Sinh viên có điểm dùng để train\n",
    "predict_data_qt = data_qt[data_qt['QT'].isna()]  # Sinh viên không có điểm dùng để dự đoán\n",
    "\n",
    "# In số lượng\n",
    "print(f\"Số lượng sinh viên có điểm (train): {train_test_data_qt.shape[0]}\")\n",
    "print(f\"Số lượng sinh viên cần dự đoán: {predict_data_qt.shape[0]}\")"
   ]
  },
  {
   "cell_type": "markdown",
   "metadata": {},
   "source": [
    "### Train test data qt"
   ]
  },
  {
   "cell_type": "code",
   "execution_count": 216,
   "metadata": {},
   "outputs": [],
   "source": [
    "X_train_test_data_qt = train_test_data_qt[features_nouser]\n",
    "y_train_test_data_qt = train_test_data_qt['QT']"
   ]
  },
  {
   "cell_type": "code",
   "execution_count": 217,
   "metadata": {},
   "outputs": [
    {
     "name": "stdout",
     "output_type": "stream",
     "text": [
      "Các cột chứa NaN: []\n",
      "Số lượng NaN trong mỗi cột:\n",
      "Series([], dtype: int64)\n"
     ]
    }
   ],
   "source": [
    "# fill NaN\n",
    "nan_columns = X_train_test_data_qt.columns[X_train_test_data_qt.isna().any()]\n",
    "print(f\"Các cột chứa NaN: {nan_columns.tolist()}\")\n",
    "nan_counts = X_train_test_data_qt.isna().sum()\n",
    "print(\"Số lượng NaN trong mỗi cột:\")\n",
    "print(nan_counts[nan_counts > 0])\n",
    "X_train_test_data_qt[nan_columns] = X_train_test_data_qt[nan_columns].fillna(X_train_test_data_qt[nan_columns].mean())"
   ]
  },
  {
   "cell_type": "code",
   "execution_count": 218,
   "metadata": {},
   "outputs": [],
   "source": [
    "#Chuẩn hóa dữ liệu\n",
    "scaler = StandardScaler()\n",
    "X_train_test_data_qt = scaler.fit_transform(X_train_test_data_qt)\n",
    "\n",
    "#train test split\n",
    "X_train, X_test, y_train, y_test = train_test_split(X_train_test_data_qt, y_train_test_data_qt, test_size=0.2, random_state=42)"
   ]
  },
  {
   "cell_type": "code",
   "execution_count": 219,
   "metadata": {},
   "outputs": [],
   "source": [
    "# Huấn luyện và đánh giá mô hình\n",
    "models = {\n",
    "    'LinearRegression': LinearRegression(),\n",
    "    # 'RandomForest': RandomForestRegressor(random_state=42),\n",
    "    # 'XGBoost': XGBRegressor(random_state=42)\n",
    "}\n",
    "\n",
    "metrics = {}\n",
    "\n",
    "for name, model in models.items():\n",
    "    # Huấn luyện\n",
    "    model.fit(X_train, y_train)\n",
    "    y_pred = model.predict(X_test)\n",
    "\n",
    "    # Đánh giá\n",
    "    mse = mean_squared_error(y_test, y_pred)\n",
    "    r2 = r2_score(y_test, y_pred)\n",
    "\n",
    "    metrics[name] = {\n",
    "        'MSE': mse,\n",
    "        'R2': r2\n",
    "    }"
   ]
  },
  {
   "cell_type": "code",
   "execution_count": 220,
   "metadata": {},
   "outputs": [
    {
     "name": "stdout",
     "output_type": "stream",
     "text": [
      "Model Evaluation Results of QT:\n",
      "LinearRegression: MSE=2.5157, R2=-0.0626\n"
     ]
    }
   ],
   "source": [
    "# In kết quả\n",
    "print(\"Model Evaluation Results of QT:\")\n",
    "for name, metrics in metrics.items():\n",
    "    print(f\"{name}: MSE={metrics['MSE']:.4f}, R2={metrics['R2']:.4f}\")"
   ]
  },
  {
   "cell_type": "markdown",
   "metadata": {},
   "source": [
    "### Predict data qt"
   ]
  },
  {
   "cell_type": "code",
   "execution_count": 221,
   "metadata": {},
   "outputs": [],
   "source": [
    "X_predict_data_qt = predict_data_qt[features_nouser]"
   ]
  },
  {
   "cell_type": "code",
   "execution_count": 222,
   "metadata": {},
   "outputs": [
    {
     "name": "stdout",
     "output_type": "stream",
     "text": [
      "Các cột chứa NaN: []\n",
      "Số lượng NaN trong mỗi cột:\n",
      "Series([], dtype: int64)\n"
     ]
    }
   ],
   "source": [
    "nan_columns = X_predict_data_qt.columns[X_predict_data_qt.isna().any()]\n",
    "print(f\"Các cột chứa NaN: {nan_columns.tolist()}\")\n",
    "nan_counts = X_predict_data_qt.isna().sum()\n",
    "print(\"Số lượng NaN trong mỗi cột:\")\n",
    "print(nan_counts[nan_counts > 0])\n",
    "X_predict_data_qt[nan_columns] = X_predict_data_qt[nan_columns].fillna(X_predict_data_qt[nan_columns].mean())"
   ]
  },
  {
   "cell_type": "code",
   "execution_count": 223,
   "metadata": {},
   "outputs": [],
   "source": [
    "X_predict_data_qt = scaler.transform(X_predict_data_qt)"
   ]
  },
  {
   "cell_type": "code",
   "execution_count": 224,
   "metadata": {},
   "outputs": [
    {
     "name": "stderr",
     "output_type": "stream",
     "text": [
      "C:\\Users\\Admin\\AppData\\Local\\Temp\\ipykernel_216564\\3031361918.py:2: SettingWithCopyWarning: \n",
      "A value is trying to be set on a copy of a slice from a DataFrame.\n",
      "Try using .loc[row_indexer,col_indexer] = value instead\n",
      "\n",
      "See the caveats in the documentation: https://pandas.pydata.org/pandas-docs/stable/user_guide/indexing.html#returning-a-view-versus-a-copy\n",
      "  predict_data_qt['QT'] = model.predict(X_predict_data_qt)\n"
     ]
    }
   ],
   "source": [
    "# Dự đoán\n",
    "predict_data_qt['QT'] = model.predict(X_predict_data_qt)\n"
   ]
  },
  {
   "cell_type": "code",
   "execution_count": 225,
   "metadata": {},
   "outputs": [],
   "source": [
    "\n",
    "output = predict_data_qt[['username', 'QT']]\n",
    "\n",
    "# Xuất file kết quả\n",
    "output = output.to_csv(\"Predict/predicted_qt.csv\", index=False)"
   ]
  },
  {
   "cell_type": "markdown",
   "metadata": {},
   "source": [
    "## data CK"
   ]
  },
  {
   "cell_type": "code",
   "execution_count": 226,
   "metadata": {},
   "outputs": [],
   "source": [
    "# Merge dữ liệu bằng username từ annonimized và ck\n",
    "data_CK = annonimized.merge(CK, on=\"username\", how=\"left\")"
   ]
  },
  {
   "cell_type": "code",
   "execution_count": 227,
   "metadata": {},
   "outputs": [],
   "source": [
    "data_CK['CK'] = data_CK.groupby('username')['CK'].mean().values"
   ]
  },
  {
   "cell_type": "code",
   "execution_count": 228,
   "metadata": {},
   "outputs": [
    {
     "name": "stdout",
     "output_type": "stream",
     "text": [
      "Số lượng sinh viên có điểm (train): 755\n",
      "Số lượng sinh viên cần dự đoán: 734\n"
     ]
    }
   ],
   "source": [
    "# Phân tách dữ liệu\n",
    "train_test_data_ck = data_CK[data_CK['CK'].notna()]  # Sinh viên có điểm dùng để train\n",
    "predict_data_ck = data_CK[data_CK['CK'].isna()]  # Sinh viên không có điểm dùng để dự đoán\n",
    "\n",
    "# In số lượng\n",
    "print(f\"Số lượng sinh viên có điểm (train): {train_test_data_ck.shape[0]}\")\n",
    "print(f\"Số lượng sinh viên cần dự đoán: {predict_data_ck.shape[0]}\")"
   ]
  },
  {
   "cell_type": "code",
   "execution_count": 229,
   "metadata": {},
   "outputs": [],
   "source": [
    "X_train_test_data_ck = train_test_data_ck[features_nouser]\n",
    "y_train_test_data_ck = train_test_data_ck['CK']"
   ]
  },
  {
   "cell_type": "code",
   "execution_count": 230,
   "metadata": {},
   "outputs": [
    {
     "name": "stdout",
     "output_type": "stream",
     "text": [
      "Các cột chứa NaN: []\n",
      "Số lượng NaN trong mỗi cột:\n",
      "Series([], dtype: int64)\n"
     ]
    }
   ],
   "source": [
    "nan_columns = X_train_test_data_ck.columns[X_train_test_data_ck.isna().any()]\n",
    "print(f\"Các cột chứa NaN: {nan_columns.tolist()}\")\n",
    "nan_counts = X_train_test_data_ck.isna().sum()\n",
    "print(\"Số lượng NaN trong mỗi cột:\")\n",
    "print(nan_counts[nan_counts > 0])\n",
    "X_train_test_data_ck[nan_columns] = X_train_test_data_ck[nan_columns].fillna(X_train_test_data_ck[nan_columns].mean())"
   ]
  },
  {
   "cell_type": "code",
   "execution_count": 231,
   "metadata": {},
   "outputs": [],
   "source": [
    "#Chuẩn hóa dữ liệu\n",
    "X_train_test_data_ck = scaler.fit_transform(X_train_test_data_ck)\n",
    "\n",
    "#train test split\n",
    "X_train, X_test, y_train, y_test = train_test_split(X_train_test_data_ck, y_train_test_data_ck, test_size=0.2, random_state=42)"
   ]
  },
  {
   "cell_type": "code",
   "execution_count": 232,
   "metadata": {},
   "outputs": [],
   "source": [
    "# Huấn luyện và đánh giá mô hình\n",
    "models = {\n",
    "    'LinearRegression': LinearRegression(),\n",
    "    # 'RandomForest': RandomForestRegressor(random_state=42),\n",
    "    # 'XGBoost': XGBRegressor(random_state=42)\n",
    "}\n",
    "\n",
    "metrics = {}\n",
    "\n",
    "for name, model in models.items():\n",
    "    # Huấn luyện\n",
    "    model.fit(X_train, y_train)\n",
    "    y_pred = model.predict(X_test)\n",
    "\n",
    "    # Đánh giá\n",
    "    mse = mean_squared_error(y_test, y_pred)\n",
    "    r2 = r2_score(y_test, y_pred)\n",
    "\n",
    "    metrics[name] = {\n",
    "        'MSE': mse,\n",
    "        'R2': r2\n",
    "    }"
   ]
  },
  {
   "cell_type": "code",
   "execution_count": 233,
   "metadata": {},
   "outputs": [
    {
     "name": "stdout",
     "output_type": "stream",
     "text": [
      "Model Evaluation Results of CK:\n",
      "LinearRegression: MSE=3.2836, R2=0.1898\n"
     ]
    }
   ],
   "source": [
    "# In kết quả\n",
    "print(\"Model Evaluation Results of CK:\")\n",
    "for name, metrics in metrics.items():\n",
    "    print(f\"{name}: MSE={metrics['MSE']:.4f}, R2={metrics['R2']:.4f}\")"
   ]
  },
  {
   "cell_type": "markdown",
   "metadata": {},
   "source": [
    "### Predict data ck"
   ]
  },
  {
   "cell_type": "code",
   "execution_count": 234,
   "metadata": {},
   "outputs": [],
   "source": [
    "X_predict_data_ck = predict_data_ck[features_nouser]"
   ]
  },
  {
   "cell_type": "code",
   "execution_count": 235,
   "metadata": {},
   "outputs": [
    {
     "name": "stdout",
     "output_type": "stream",
     "text": [
      "Các cột chứa NaN: []\n",
      "Số lượng NaN trong mỗi cột:\n",
      "Series([], dtype: int64)\n"
     ]
    }
   ],
   "source": [
    "nan_columns = X_predict_data_ck.columns[X_predict_data_ck.isna().any()]\n",
    "print(f\"Các cột chứa NaN: {nan_columns.tolist()}\")\n",
    "nan_counts = X_predict_data_ck.isna().sum()\n",
    "print(\"Số lượng NaN trong mỗi cột:\")\n",
    "print(nan_counts[nan_counts > 0])\n",
    "X_predict_data_ck[nan_columns] = X_predict_data_ck[nan_columns].fillna(X_predict_data_ck[nan_columns].mean())"
   ]
  },
  {
   "cell_type": "code",
   "execution_count": 236,
   "metadata": {},
   "outputs": [],
   "source": [
    "X_predict_data_ck = scaler.transform(X_predict_data_ck)"
   ]
  },
  {
   "cell_type": "code",
   "execution_count": 237,
   "metadata": {},
   "outputs": [
    {
     "name": "stderr",
     "output_type": "stream",
     "text": [
      "C:\\Users\\Admin\\AppData\\Local\\Temp\\ipykernel_216564\\3428818030.py:2: SettingWithCopyWarning: \n",
      "A value is trying to be set on a copy of a slice from a DataFrame.\n",
      "Try using .loc[row_indexer,col_indexer] = value instead\n",
      "\n",
      "See the caveats in the documentation: https://pandas.pydata.org/pandas-docs/stable/user_guide/indexing.html#returning-a-view-versus-a-copy\n",
      "  predict_data_ck['CK'] = model.predict(X_predict_data_ck)\n"
     ]
    }
   ],
   "source": [
    "# Dự đoán\n",
    "predict_data_ck['CK'] = model.predict(X_predict_data_ck)"
   ]
  },
  {
   "cell_type": "code",
   "execution_count": 238,
   "metadata": {},
   "outputs": [],
   "source": [
    "\n",
    "output = predict_data_ck[['username', 'CK']]\n",
    "\n",
    "# Xuất file kết quả\n",
    "output = output.to_csv(\"Predict/predicted_ck.csv\", index=False)"
   ]
  }
 ],
 "metadata": {
  "kernelspec": {
   "display_name": "Python 3",
   "language": "python",
   "name": "python3"
  },
  "language_info": {
   "codemirror_mode": {
    "name": "ipython",
    "version": 3
   },
   "file_extension": ".py",
   "mimetype": "text/x-python",
   "name": "python",
   "nbconvert_exporter": "python",
   "pygments_lexer": "ipython3",
   "version": "3.11.9"
  }
 },
 "nbformat": 4,
 "nbformat_minor": 2
}
