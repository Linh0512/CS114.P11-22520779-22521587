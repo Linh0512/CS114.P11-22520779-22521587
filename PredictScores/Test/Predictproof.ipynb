{
 "cells": [
  {
   "cell_type": "code",
   "execution_count": 1,
   "metadata": {},
   "outputs": [],
   "source": [
    "import pandas as pd\n",
    "import numpy as np\n",
    "import matplotlib.pyplot as plt\n",
    "import seaborn as sns\n",
    "import os\n",
    "from sklearn.preprocessing import MinMaxScaler\n",
    "from sklearn.model_selection import train_test_split\n",
    "from sklearn.linear_model import LinearRegression\n",
    "from sklearn.preprocessing import LabelEncoder\n",
    "from sklearn.preprocessing import StandardScaler\n",
    "from sklearn.metrics import r2_score, mean_squared_error"
   ]
  },
  {
   "cell_type": "code",
   "execution_count": 2,
   "metadata": {},
   "outputs": [],
   "source": [
    "os.chdir('C:/Storage/StudyJourney/Nam3/Cs114/Project2')"
   ]
  },
  {
   "cell_type": "code",
   "execution_count": 3,
   "metadata": {},
   "outputs": [],
   "source": [
    "# Đọc dữ liệu\n",
    "annonimized = pd.read_csv(\"Dataset/annonimized.csv\")\n",
    "tbtl = pd.read_excel(\"Dataset/public_it001/tbtl-public.ods\", engine='odf')\n",
    "th = pd.read_csv(\"Dataset/public_it001/th-public.csv\")\n",
    "qt = pd.read_csv(\"Dataset/public_it001/qt-public.csv\")\n",
    "CK = pd.read_csv(\"Dataset/public_it001/ck-public.csv\")"
   ]
  },
  {
   "cell_type": "markdown",
   "metadata": {},
   "source": [
    "## Xử lý dữ liệu annonimized"
   ]
  },
  {
   "cell_type": "code",
   "execution_count": 4,
   "metadata": {},
   "outputs": [
    {
     "data": {
      "text/html": [
       "<div>\n",
       "<style scoped>\n",
       "    .dataframe tbody tr th:only-of-type {\n",
       "        vertical-align: middle;\n",
       "    }\n",
       "\n",
       "    .dataframe tbody tr th {\n",
       "        vertical-align: top;\n",
       "    }\n",
       "\n",
       "    .dataframe thead th {\n",
       "        text-align: right;\n",
       "    }\n",
       "</style>\n",
       "<table border=\"1\" class=\"dataframe\">\n",
       "  <thead>\n",
       "    <tr style=\"text-align: right;\">\n",
       "      <th></th>\n",
       "      <th>assignment_id</th>\n",
       "      <th>problem_id</th>\n",
       "      <th>username</th>\n",
       "      <th>is_final</th>\n",
       "      <th>status</th>\n",
       "      <th>pre_score</th>\n",
       "      <th>coefficient</th>\n",
       "      <th>language_id</th>\n",
       "      <th>created_at</th>\n",
       "      <th>updated_at</th>\n",
       "      <th>judgement</th>\n",
       "    </tr>\n",
       "  </thead>\n",
       "  <tbody>\n",
       "    <tr>\n",
       "      <th>0</th>\n",
       "      <td>90ce27571176d87961b565d5ef4b3de33ede04ac</td>\n",
       "      <td>789454427dd4097a14749e3dde63346b7a8d3811</td>\n",
       "      <td>ed9eaeb6a707f50154024b24d7efcb874a9795dd</td>\n",
       "      <td>0</td>\n",
       "      <td>SCORE</td>\n",
       "      <td>0</td>\n",
       "      <td>100</td>\n",
       "      <td>it0012</td>\n",
       "      <td>10/9/2025 8:02</td>\n",
       "      <td>10/9/2025 8:06</td>\n",
       "      <td>{\"times\":[0,0,0,0,0,0,0,0,0,0],\"mems\":[0,0,0,0...</td>\n",
       "    </tr>\n",
       "    <tr>\n",
       "      <th>1</th>\n",
       "      <td>90ce27571176d87961b565d5ef4b3de33ede04ac</td>\n",
       "      <td>789454427dd4097a14749e3dde63346b7a8d3811</td>\n",
       "      <td>ed9eaeb6a707f50154024b24d7efcb874a9795dd</td>\n",
       "      <td>0</td>\n",
       "      <td>SCORE</td>\n",
       "      <td>0</td>\n",
       "      <td>100</td>\n",
       "      <td>it0012</td>\n",
       "      <td>10/9/2025 8:04</td>\n",
       "      <td>10/9/2025 8:04</td>\n",
       "      <td>{\"times\":[0,0,0,0,0,0,0,0,0,0],\"mems\":[0,0,0,0...</td>\n",
       "    </tr>\n",
       "    <tr>\n",
       "      <th>2</th>\n",
       "      <td>90ce27571176d87961b565d5ef4b3de33ede04ac</td>\n",
       "      <td>789454427dd4097a14749e3dde63346b7a8d3811</td>\n",
       "      <td>ed9eaeb6a707f50154024b24d7efcb874a9795dd</td>\n",
       "      <td>1</td>\n",
       "      <td>SCORE</td>\n",
       "      <td>10000</td>\n",
       "      <td>100</td>\n",
       "      <td>it0012</td>\n",
       "      <td>10/9/2025 8:06</td>\n",
       "      <td>10/9/2025 8:06</td>\n",
       "      <td>{\"times\":[0,0,0,0,0,0,0,0,0,0],\"mems\":[0,0,0,0...</td>\n",
       "    </tr>\n",
       "    <tr>\n",
       "      <th>3</th>\n",
       "      <td>90ce27571176d87961b565d5ef4b3de33ede04ac</td>\n",
       "      <td>bf96fbdc5f499538c3e2bfbec5779c8a14b0a9ff</td>\n",
       "      <td>ed9eaeb6a707f50154024b24d7efcb874a9795dd</td>\n",
       "      <td>1</td>\n",
       "      <td>SCORE</td>\n",
       "      <td>10000</td>\n",
       "      <td>100</td>\n",
       "      <td>it0012</td>\n",
       "      <td>10/9/2025 8:47</td>\n",
       "      <td>10/9/2025 8:48</td>\n",
       "      <td>{\"times\":[0,0,0,0,0,0,0,0,0,0],\"mems\":[0,0,0,0...</td>\n",
       "    </tr>\n",
       "    <tr>\n",
       "      <th>4</th>\n",
       "      <td>90ce27571176d87961b565d5ef4b3de33ede04ac</td>\n",
       "      <td>7a6e5ca470ff47c3b5048f240c4738de71010c78</td>\n",
       "      <td>ed9eaeb6a707f50154024b24d7efcb874a9795dd</td>\n",
       "      <td>1</td>\n",
       "      <td>SCORE</td>\n",
       "      <td>10000</td>\n",
       "      <td>100</td>\n",
       "      <td>it0012</td>\n",
       "      <td>10/9/2025 9:19</td>\n",
       "      <td>10/9/2025 9:19</td>\n",
       "      <td>{\"times\":[0,0,0,0,0,0,0,0,0,0],\"mems\":[0,0,0,0...</td>\n",
       "    </tr>\n",
       "    <tr>\n",
       "      <th>...</th>\n",
       "      <td>...</td>\n",
       "      <td>...</td>\n",
       "      <td>...</td>\n",
       "      <td>...</td>\n",
       "      <td>...</td>\n",
       "      <td>...</td>\n",
       "      <td>...</td>\n",
       "      <td>...</td>\n",
       "      <td>...</td>\n",
       "      <td>...</td>\n",
       "      <td>...</td>\n",
       "    </tr>\n",
       "    <tr>\n",
       "      <th>295193</th>\n",
       "      <td>613aea04c978f5e72fffc8bcff1f7b695a63f7b1</td>\n",
       "      <td>388516cbf597351226be1bdbe5ef30b9dcef570f</td>\n",
       "      <td>232cce96362898f08e9150ba244adaf2d6583ab2</td>\n",
       "      <td>1</td>\n",
       "      <td>SCORE</td>\n",
       "      <td>10000</td>\n",
       "      <td>100</td>\n",
       "      <td>it0012</td>\n",
       "      <td>1/15/2025 16:03</td>\n",
       "      <td>1/15/2025 16:03</td>\n",
       "      <td>{\"times\":[0,0,0,0,0,0,0,0,0,0,0,0,0,0],\"mems\":...</td>\n",
       "    </tr>\n",
       "    <tr>\n",
       "      <th>295194</th>\n",
       "      <td>613aea04c978f5e72fffc8bcff1f7b695a63f7b1</td>\n",
       "      <td>d2b96124ccb8e27b4b8dacdb935e729cb1ba546b</td>\n",
       "      <td>232cce96362898f08e9150ba244adaf2d6583ab2</td>\n",
       "      <td>0</td>\n",
       "      <td>Compilation Error</td>\n",
       "      <td>0</td>\n",
       "      <td>100</td>\n",
       "      <td>it0012</td>\n",
       "      <td>1/15/2025 16:04</td>\n",
       "      <td>1/15/2025 16:05</td>\n",
       "      <td>{\"times\":[],\"mems\":[],\"verdicts\":{\"\\n\\nIn func...</td>\n",
       "    </tr>\n",
       "    <tr>\n",
       "      <th>295195</th>\n",
       "      <td>613aea04c978f5e72fffc8bcff1f7b695a63f7b1</td>\n",
       "      <td>d2b96124ccb8e27b4b8dacdb935e729cb1ba546b</td>\n",
       "      <td>232cce96362898f08e9150ba244adaf2d6583ab2</td>\n",
       "      <td>1</td>\n",
       "      <td>SCORE</td>\n",
       "      <td>10000</td>\n",
       "      <td>100</td>\n",
       "      <td>it0012</td>\n",
       "      <td>1/15/2025 16:04</td>\n",
       "      <td>1/15/2025 16:05</td>\n",
       "      <td>{\"times\":[0,0,0,0,0,0,0,0,0,0,0,0,0,0],\"mems\":...</td>\n",
       "    </tr>\n",
       "    <tr>\n",
       "      <th>295196</th>\n",
       "      <td>613aea04c978f5e72fffc8bcff1f7b695a63f7b1</td>\n",
       "      <td>8c0f8dd4ff55e1609f733e043ac5e88b1dde6e7c</td>\n",
       "      <td>232cce96362898f08e9150ba244adaf2d6583ab2</td>\n",
       "      <td>1</td>\n",
       "      <td>SCORE</td>\n",
       "      <td>10000</td>\n",
       "      <td>100</td>\n",
       "      <td>it0012</td>\n",
       "      <td>1/15/2025 16:05</td>\n",
       "      <td>1/15/2025 16:05</td>\n",
       "      <td>{\"times\":[0,0,0,0,0,0,0,0,0,0,0,0,0],\"mems\":[0...</td>\n",
       "    </tr>\n",
       "    <tr>\n",
       "      <th>295197</th>\n",
       "      <td>613aea04c978f5e72fffc8bcff1f7b695a63f7b1</td>\n",
       "      <td>e1baec9d1d9af44372188067b55edfec747f1342</td>\n",
       "      <td>232cce96362898f08e9150ba244adaf2d6583ab2</td>\n",
       "      <td>1</td>\n",
       "      <td>SCORE</td>\n",
       "      <td>10000</td>\n",
       "      <td>100</td>\n",
       "      <td>it0012</td>\n",
       "      <td>1/15/2025 16:05</td>\n",
       "      <td>1/15/2025 16:05</td>\n",
       "      <td>{\"times\":[0,0,0,0,0,0,0,0,0,0,0,0,0,0],\"mems\":...</td>\n",
       "    </tr>\n",
       "  </tbody>\n",
       "</table>\n",
       "<p>295198 rows × 11 columns</p>\n",
       "</div>"
      ],
      "text/plain": [
       "                                   assignment_id  \\\n",
       "0       90ce27571176d87961b565d5ef4b3de33ede04ac   \n",
       "1       90ce27571176d87961b565d5ef4b3de33ede04ac   \n",
       "2       90ce27571176d87961b565d5ef4b3de33ede04ac   \n",
       "3       90ce27571176d87961b565d5ef4b3de33ede04ac   \n",
       "4       90ce27571176d87961b565d5ef4b3de33ede04ac   \n",
       "...                                          ...   \n",
       "295193  613aea04c978f5e72fffc8bcff1f7b695a63f7b1   \n",
       "295194  613aea04c978f5e72fffc8bcff1f7b695a63f7b1   \n",
       "295195  613aea04c978f5e72fffc8bcff1f7b695a63f7b1   \n",
       "295196  613aea04c978f5e72fffc8bcff1f7b695a63f7b1   \n",
       "295197  613aea04c978f5e72fffc8bcff1f7b695a63f7b1   \n",
       "\n",
       "                                      problem_id  \\\n",
       "0       789454427dd4097a14749e3dde63346b7a8d3811   \n",
       "1       789454427dd4097a14749e3dde63346b7a8d3811   \n",
       "2       789454427dd4097a14749e3dde63346b7a8d3811   \n",
       "3       bf96fbdc5f499538c3e2bfbec5779c8a14b0a9ff   \n",
       "4       7a6e5ca470ff47c3b5048f240c4738de71010c78   \n",
       "...                                          ...   \n",
       "295193  388516cbf597351226be1bdbe5ef30b9dcef570f   \n",
       "295194  d2b96124ccb8e27b4b8dacdb935e729cb1ba546b   \n",
       "295195  d2b96124ccb8e27b4b8dacdb935e729cb1ba546b   \n",
       "295196  8c0f8dd4ff55e1609f733e043ac5e88b1dde6e7c   \n",
       "295197  e1baec9d1d9af44372188067b55edfec747f1342   \n",
       "\n",
       "                                        username  is_final             status  \\\n",
       "0       ed9eaeb6a707f50154024b24d7efcb874a9795dd         0              SCORE   \n",
       "1       ed9eaeb6a707f50154024b24d7efcb874a9795dd         0              SCORE   \n",
       "2       ed9eaeb6a707f50154024b24d7efcb874a9795dd         1              SCORE   \n",
       "3       ed9eaeb6a707f50154024b24d7efcb874a9795dd         1              SCORE   \n",
       "4       ed9eaeb6a707f50154024b24d7efcb874a9795dd         1              SCORE   \n",
       "...                                          ...       ...                ...   \n",
       "295193  232cce96362898f08e9150ba244adaf2d6583ab2         1              SCORE   \n",
       "295194  232cce96362898f08e9150ba244adaf2d6583ab2         0  Compilation Error   \n",
       "295195  232cce96362898f08e9150ba244adaf2d6583ab2         1              SCORE   \n",
       "295196  232cce96362898f08e9150ba244adaf2d6583ab2         1              SCORE   \n",
       "295197  232cce96362898f08e9150ba244adaf2d6583ab2         1              SCORE   \n",
       "\n",
       "        pre_score  coefficient language_id       created_at       updated_at  \\\n",
       "0               0          100      it0012   10/9/2025 8:02   10/9/2025 8:06   \n",
       "1               0          100      it0012   10/9/2025 8:04   10/9/2025 8:04   \n",
       "2           10000          100      it0012   10/9/2025 8:06   10/9/2025 8:06   \n",
       "3           10000          100      it0012   10/9/2025 8:47   10/9/2025 8:48   \n",
       "4           10000          100      it0012   10/9/2025 9:19   10/9/2025 9:19   \n",
       "...           ...          ...         ...              ...              ...   \n",
       "295193      10000          100      it0012  1/15/2025 16:03  1/15/2025 16:03   \n",
       "295194          0          100      it0012  1/15/2025 16:04  1/15/2025 16:05   \n",
       "295195      10000          100      it0012  1/15/2025 16:04  1/15/2025 16:05   \n",
       "295196      10000          100      it0012  1/15/2025 16:05  1/15/2025 16:05   \n",
       "295197      10000          100      it0012  1/15/2025 16:05  1/15/2025 16:05   \n",
       "\n",
       "                                                judgement  \n",
       "0       {\"times\":[0,0,0,0,0,0,0,0,0,0],\"mems\":[0,0,0,0...  \n",
       "1       {\"times\":[0,0,0,0,0,0,0,0,0,0],\"mems\":[0,0,0,0...  \n",
       "2       {\"times\":[0,0,0,0,0,0,0,0,0,0],\"mems\":[0,0,0,0...  \n",
       "3       {\"times\":[0,0,0,0,0,0,0,0,0,0],\"mems\":[0,0,0,0...  \n",
       "4       {\"times\":[0,0,0,0,0,0,0,0,0,0],\"mems\":[0,0,0,0...  \n",
       "...                                                   ...  \n",
       "295193  {\"times\":[0,0,0,0,0,0,0,0,0,0,0,0,0,0],\"mems\":...  \n",
       "295194  {\"times\":[],\"mems\":[],\"verdicts\":{\"\\n\\nIn func...  \n",
       "295195  {\"times\":[0,0,0,0,0,0,0,0,0,0,0,0,0,0],\"mems\":...  \n",
       "295196  {\"times\":[0,0,0,0,0,0,0,0,0,0,0,0,0],\"mems\":[0...  \n",
       "295197  {\"times\":[0,0,0,0,0,0,0,0,0,0,0,0,0,0],\"mems\":...  \n",
       "\n",
       "[295198 rows x 11 columns]"
      ]
     },
     "execution_count": 4,
     "metadata": {},
     "output_type": "execute_result"
    }
   ],
   "source": [
    "annonimized"
   ]
  },
  {
   "cell_type": "code",
   "execution_count": 5,
   "metadata": {},
   "outputs": [
    {
     "name": "stdout",
     "output_type": "stream",
     "text": [
      "['SCORE' 'Compilation Error' 'pending' 'Syntax Error']\n"
     ]
    }
   ],
   "source": [
    "print(annonimized['status'].unique())"
   ]
  },
  {
   "cell_type": "code",
   "execution_count": 6,
   "metadata": {},
   "outputs": [],
   "source": [
    "# Hàm xử lý cột `judgement` để rút trích các đặc trưng\n",
    "import json\n",
    "\n",
    "def extract_judgement_features(df):\n",
    "    # Parse cột judgement thành dict với kiểm tra ngoại lệ\n",
    "    def safe_json_loads(j):\n",
    "        try:\n",
    "            return json.loads(j) if isinstance(j, str) else {}\n",
    "        except json.JSONDecodeError:\n",
    "            return {}\n",
    "\n",
    "    # Chuyển cột judgement sang dạng dict\n",
    "    df['judgement_parsed'] = df['judgement'].apply(safe_json_loads)\n",
    "    \n",
    "    # Rút trích các giá trị từ judgement\n",
    "    df['times'] = df['judgement_parsed'].apply(lambda x: x.get('times', []) if isinstance(x, dict) else [])\n",
    "    df['mems'] = df['judgement_parsed'].apply(lambda x: x.get('mems', []) if isinstance(x, dict) else [])\n",
    "    \n",
    "    # Kiểm tra kiểu của verdicts và xử lý\n",
    "    def extract_verdicts(verdicts):\n",
    "        if isinstance(verdicts, dict):\n",
    "            return verdicts.get('WRONG', 0)\n",
    "        return 0  # Mặc định nếu verdicts không phải là dict\n",
    "\n",
    "    df['verdicts'] = df['judgement_parsed'].apply(lambda x: x.get('verdicts', {}) if isinstance(x, dict) else {})\n",
    "    df['wrong_testcases'] = df['verdicts'].apply(extract_verdicts)\n",
    "    df['accepted'] = df['verdicts'].apply(lambda x: 1 if isinstance(x, list) else -1)\n",
    "\n",
    "    return df\n",
    "\n",
    "def process_times_and_mems(df):\n",
    "    df['times_mean'] = df['times'].apply(lambda x: sum(x) / len(x) if x else -1)\n",
    "    df['mems_mean'] = df['mems'].apply(lambda x: sum(x) / len(x) if x else -1)\n",
    "    return df"
   ]
  },
  {
   "cell_type": "code",
   "execution_count": 7,
   "metadata": {},
   "outputs": [],
   "source": [
    "from datetime import datetime\n",
    "from scipy import stats\n",
    "\n",
    "# Hàm chuyển đổi thời gian với ngày tham chiếu\n",
    "reference_date = datetime(2024, 1, 1)\n",
    "\n",
    "# Chuyển đổi 'created_at' và 'updated_at' thành ordinal và thêm đặc trưng chênh lệch ngày\n",
    "annonimized['created_at'] = pd.to_datetime(annonimized['created_at'], errors='coerce')\n",
    "annonimized['updated_at'] = pd.to_datetime(annonimized['updated_at'], errors='coerce')\n",
    "annonimized['created_at_ordinal'] = (annonimized['created_at'] - reference_date).dt.days\n",
    "annonimized['updated_at_ordinal'] = (annonimized['updated_at'] - reference_date).dt.days\n",
    "annonimized['date_diff'] = (annonimized['updated_at'] - annonimized['created_at']).dt.total_seconds()\n",
    "\n",
    "# Tính toán các đặc trưng nhóm\n",
    "submission_count = annonimized.groupby(['username', 'assignment_id', 'problem_id']).size().reset_index(name='submission_count')\n",
    "status_count = annonimized.groupby(['username', 'assignment_id', 'problem_id'])['status'].value_counts().unstack(fill_value=0).reset_index()\n",
    "avg_score = annonimized.groupby(['username', 'assignment_id', 'problem_id'])['pre_score'].mean().reset_index(name='avg_score')\n",
    "error_rate = annonimized.groupby(['username', 'assignment_id', 'problem_id'])['judgement'].apply(lambda x: x.str.contains('WRONG').sum() / len(x)).reset_index(name='error_rate')\n",
    "\n",
    "# Z-score và kiểm tra ngoại lệ\n",
    "annonimized['z_score'] = stats.zscore(annonimized['pre_score'])\n",
    "annonimized['is_outlier'] = annonimized['z_score'].apply(lambda x: 1 if abs(x) > 3 else 0)\n",
    "\n",
    "# Đặc trưng hoạt động theo giờ\n",
    "annonimized['hour'] = annonimized['created_at'].dt.hour\n",
    "hourly_activity = annonimized.groupby(['username', 'assignment_id', 'problem_id'])['hour'].value_counts().unstack(fill_value=0).reset_index()\n",
    "\n",
    "# Label encoding cho cột 'status'\n",
    "label_encoder = LabelEncoder()\n",
    "\n",
    "# Thêm các đặc trưng tổng hợp\n",
    "annonimized['submission_time_diff'] = annonimized.groupby(['username', 'assignment_id', 'problem_id'])['created_at'].diff().dt.total_seconds()\n",
    "annonimized['avg_submission_time_diff'] = annonimized.groupby(['username', 'assignment_id', 'problem_id'])['submission_time_diff'].transform('mean')\n",
    "\n",
    "\n",
    "annonimized['status_encoded'] = label_encoder.fit_transform(annonimized['status'])\n",
    "\n",
    "annonimized['submission_count'] = annonimized.groupby('username')['is_final'].transform('count')\n",
    "\n",
    "annonimized['avg_pre_score'] = annonimized.groupby('username')['pre_score'].transform('mean')\n",
    "\n",
    "annonimized['avg_score_per_submission'] = annonimized['avg_pre_score'] / (annonimized['submission_count'] + 1e-5)  # Tránh chia cho 0\n",
    "\n",
    "annonimized['is_final_ratio'] = annonimized['is_final'] / annonimized['submission_count']\n",
    "\n",
    "annonimized['problem_final_ratio'] = annonimized.groupby(\n",
    "    ['username', 'assignment_id', 'problem_id'])['is_final'].transform(lambda x: x.sum() / (len(x) + 1e-5))\n",
    "\n",
    "annonimized['problem_submission_count'] = annonimized.groupby(\n",
    "    ['username', 'assignment_id', 'problem_id'])['is_final'].transform('count')\n",
    "\n",
    "annonimized = extract_judgement_features(annonimized)\n",
    "annonimized = process_times_and_mems(annonimized)\n",
    "\n",
    "annonimized = annonimized.groupby('username').agg({\n",
    "    'status_encoded': 'mean',\n",
    "    'is_final': 'mean',\n",
    "    'avg_submission_time_diff': 'mean',\n",
    "    'wrong_testcases': 'mean',\n",
    "    'accepted': 'mean',\n",
    "    'created_at_ordinal': 'mean',\n",
    "    'updated_at_ordinal': 'mean',\n",
    "    'date_diff': 'mean',\n",
    "    'hour': 'mean',\n",
    "    'z_score': 'mean',\n",
    "    'is_outlier': 'mean',\n",
    "    'submission_count': 'mean',\n",
    "    'avg_pre_score': 'mean',\n",
    "    'avg_score_per_submission': 'mean',\n",
    "    'is_final_ratio': 'mean',\n",
    "    'problem_submission_count': 'mean',\n",
    "    'problem_final_ratio': 'mean',\n",
    "    'times_mean': 'mean',\n",
    "    'mems_mean': 'mean'\n",
    "}).reset_index()\n",
    "\n",
    "# Nhóm và tổng hợp các đặc trưng\n",
    "features = ['username', 'is_final', 'submission_count', 'avg_pre_score', \n",
    "            'avg_score_per_submission', 'is_final_ratio', 'problem_submission_count', \n",
    "            'avg_submission_time_diff', 'problem_final_ratio', 'wrong_testcases', \n",
    "            'accepted', 'created_at_ordinal', 'updated_at_ordinal', 'date_diff', \n",
    "            'hour']\n",
    "\n",
    "features_nouser = ['is_final', 'submission_count', 'avg_pre_score', \n",
    "            'avg_score_per_submission', 'is_final_ratio', 'problem_submission_count', \n",
    "            'avg_submission_time_diff', 'problem_final_ratio', 'wrong_testcases', \n",
    "            'accepted', 'created_at_ordinal', 'updated_at_ordinal', 'date_diff', \n",
    "            'hour']\n",
    "\n",
    "\n",
    "annonimized = annonimized[features]\n"
   ]
  },
  {
   "cell_type": "code",
   "execution_count": 8,
   "metadata": {},
   "outputs": [
    {
     "name": "stdout",
     "output_type": "stream",
     "text": [
      "username                     object\n",
      "is_final                    float64\n",
      "submission_count            float64\n",
      "avg_pre_score               float64\n",
      "avg_score_per_submission    float64\n",
      "is_final_ratio              float64\n",
      "problem_submission_count    float64\n",
      "avg_submission_time_diff    float64\n",
      "problem_final_ratio         float64\n",
      "wrong_testcases             float64\n",
      "accepted                    float64\n",
      "created_at_ordinal          float64\n",
      "updated_at_ordinal          float64\n",
      "date_diff                   float64\n",
      "hour                        float64\n",
      "dtype: object\n"
     ]
    }
   ],
   "source": [
    "print(annonimized.dtypes)"
   ]
  },
  {
   "cell_type": "code",
   "execution_count": 9,
   "metadata": {},
   "outputs": [
    {
     "data": {
      "text/html": [
       "<div>\n",
       "<style scoped>\n",
       "    .dataframe tbody tr th:only-of-type {\n",
       "        vertical-align: middle;\n",
       "    }\n",
       "\n",
       "    .dataframe tbody tr th {\n",
       "        vertical-align: top;\n",
       "    }\n",
       "\n",
       "    .dataframe thead th {\n",
       "        text-align: right;\n",
       "    }\n",
       "</style>\n",
       "<table border=\"1\" class=\"dataframe\">\n",
       "  <thead>\n",
       "    <tr style=\"text-align: right;\">\n",
       "      <th></th>\n",
       "      <th>username</th>\n",
       "      <th>is_final</th>\n",
       "      <th>submission_count</th>\n",
       "      <th>avg_pre_score</th>\n",
       "      <th>avg_score_per_submission</th>\n",
       "      <th>is_final_ratio</th>\n",
       "      <th>problem_submission_count</th>\n",
       "      <th>avg_submission_time_diff</th>\n",
       "      <th>problem_final_ratio</th>\n",
       "      <th>wrong_testcases</th>\n",
       "      <th>accepted</th>\n",
       "      <th>created_at_ordinal</th>\n",
       "      <th>updated_at_ordinal</th>\n",
       "      <th>date_diff</th>\n",
       "      <th>hour</th>\n",
       "    </tr>\n",
       "  </thead>\n",
       "  <tbody>\n",
       "    <tr>\n",
       "      <th>0</th>\n",
       "      <td>00b6dd4fc7eb817e03708c532016ef30ce564a61</td>\n",
       "      <td>0.312925</td>\n",
       "      <td>147.0</td>\n",
       "      <td>5504.149660</td>\n",
       "      <td>37.443192</td>\n",
       "      <td>0.002129</td>\n",
       "      <td>5.136054</td>\n",
       "      <td>10457.214835</td>\n",
       "      <td>0.312923</td>\n",
       "      <td>3.006803</td>\n",
       "      <td>-0.265306</td>\n",
       "      <td>578.557823</td>\n",
       "      <td>578.646259</td>\n",
       "      <td>8197.142857</td>\n",
       "      <td>4.401361</td>\n",
       "    </tr>\n",
       "    <tr>\n",
       "      <th>1</th>\n",
       "      <td>00bef8afee8f3c595d535c9c03c490cac1a4f021</td>\n",
       "      <td>0.301158</td>\n",
       "      <td>259.0</td>\n",
       "      <td>5488.552124</td>\n",
       "      <td>21.191320</td>\n",
       "      <td>0.001163</td>\n",
       "      <td>6.158301</td>\n",
       "      <td>-285578.146039</td>\n",
       "      <td>0.301157</td>\n",
       "      <td>1.918919</td>\n",
       "      <td>-0.343629</td>\n",
       "      <td>610.610039</td>\n",
       "      <td>607.899614</td>\n",
       "      <td>-232304.942085</td>\n",
       "      <td>10.525097</td>\n",
       "    </tr>\n",
       "    <tr>\n",
       "      <th>2</th>\n",
       "      <td>01122b3ef7e59b84189e65985305f575d6bdf83c</td>\n",
       "      <td>0.343590</td>\n",
       "      <td>195.0</td>\n",
       "      <td>5973.753846</td>\n",
       "      <td>30.634634</td>\n",
       "      <td>0.001762</td>\n",
       "      <td>9.328205</td>\n",
       "      <td>-137070.811005</td>\n",
       "      <td>0.343587</td>\n",
       "      <td>4.615385</td>\n",
       "      <td>-0.394872</td>\n",
       "      <td>647.066667</td>\n",
       "      <td>645.871795</td>\n",
       "      <td>-103018.461538</td>\n",
       "      <td>10.964103</td>\n",
       "    </tr>\n",
       "    <tr>\n",
       "      <th>3</th>\n",
       "      <td>0134f9f410c65ad0e8c2254a7e9288670e02a183</td>\n",
       "      <td>0.470000</td>\n",
       "      <td>100.0</td>\n",
       "      <td>5952.760000</td>\n",
       "      <td>59.527594</td>\n",
       "      <td>0.004700</td>\n",
       "      <td>4.160000</td>\n",
       "      <td>2357.547945</td>\n",
       "      <td>0.469997</td>\n",
       "      <td>1.640000</td>\n",
       "      <td>0.040000</td>\n",
       "      <td>485.800000</td>\n",
       "      <td>485.820000</td>\n",
       "      <td>1512.000000</td>\n",
       "      <td>8.610000</td>\n",
       "    </tr>\n",
       "    <tr>\n",
       "      <th>4</th>\n",
       "      <td>013de369c439ab0ead8aa7da64423aa395a8be39</td>\n",
       "      <td>0.616822</td>\n",
       "      <td>107.0</td>\n",
       "      <td>6474.448598</td>\n",
       "      <td>60.508860</td>\n",
       "      <td>0.005765</td>\n",
       "      <td>2.794393</td>\n",
       "      <td>1524.267241</td>\n",
       "      <td>0.616817</td>\n",
       "      <td>1.691589</td>\n",
       "      <td>0.102804</td>\n",
       "      <td>616.336449</td>\n",
       "      <td>616.336449</td>\n",
       "      <td>181.682243</td>\n",
       "      <td>8.598131</td>\n",
       "    </tr>\n",
       "    <tr>\n",
       "      <th>...</th>\n",
       "      <td>...</td>\n",
       "      <td>...</td>\n",
       "      <td>...</td>\n",
       "      <td>...</td>\n",
       "      <td>...</td>\n",
       "      <td>...</td>\n",
       "      <td>...</td>\n",
       "      <td>...</td>\n",
       "      <td>...</td>\n",
       "      <td>...</td>\n",
       "      <td>...</td>\n",
       "      <td>...</td>\n",
       "      <td>...</td>\n",
       "      <td>...</td>\n",
       "      <td>...</td>\n",
       "    </tr>\n",
       "    <tr>\n",
       "      <th>1484</th>\n",
       "      <td>feb8a2859a011c59efd22ed419cb69288fe03627</td>\n",
       "      <td>0.459459</td>\n",
       "      <td>74.0</td>\n",
       "      <td>5581.081081</td>\n",
       "      <td>75.420004</td>\n",
       "      <td>0.006209</td>\n",
       "      <td>3.783784</td>\n",
       "      <td>2876.546296</td>\n",
       "      <td>0.459456</td>\n",
       "      <td>0.432432</td>\n",
       "      <td>0.081081</td>\n",
       "      <td>527.918919</td>\n",
       "      <td>527.918919</td>\n",
       "      <td>193.783784</td>\n",
       "      <td>9.351351</td>\n",
       "    </tr>\n",
       "    <tr>\n",
       "      <th>1485</th>\n",
       "      <td>fef4a3263ed9a8ab14d457694bb8fd86ccd98312</td>\n",
       "      <td>0.300000</td>\n",
       "      <td>260.0</td>\n",
       "      <td>6204.557692</td>\n",
       "      <td>23.863683</td>\n",
       "      <td>0.001154</td>\n",
       "      <td>7.384615</td>\n",
       "      <td>21582.085134</td>\n",
       "      <td>0.299998</td>\n",
       "      <td>2.430769</td>\n",
       "      <td>-0.384615</td>\n",
       "      <td>559.823077</td>\n",
       "      <td>559.923077</td>\n",
       "      <td>9762.461538</td>\n",
       "      <td>7.046154</td>\n",
       "    </tr>\n",
       "    <tr>\n",
       "      <th>1486</th>\n",
       "      <td>ff12d6e2ab80696ed8e22fbe5497e96c68d29076</td>\n",
       "      <td>0.235698</td>\n",
       "      <td>437.0</td>\n",
       "      <td>4998.466819</td>\n",
       "      <td>11.438139</td>\n",
       "      <td>0.000539</td>\n",
       "      <td>12.643021</td>\n",
       "      <td>-180311.172735</td>\n",
       "      <td>0.235697</td>\n",
       "      <td>3.073227</td>\n",
       "      <td>-0.519451</td>\n",
       "      <td>613.553776</td>\n",
       "      <td>612.260870</td>\n",
       "      <td>-112286.086957</td>\n",
       "      <td>11.080092</td>\n",
       "    </tr>\n",
       "    <tr>\n",
       "      <th>1487</th>\n",
       "      <td>ff3fa2ec64294f37ae968159f810ebeda7966c51</td>\n",
       "      <td>0.361702</td>\n",
       "      <td>94.0</td>\n",
       "      <td>4343.329787</td>\n",
       "      <td>46.205631</td>\n",
       "      <td>0.003848</td>\n",
       "      <td>4.808511</td>\n",
       "      <td>13222.674107</td>\n",
       "      <td>0.361700</td>\n",
       "      <td>4.212766</td>\n",
       "      <td>-0.361702</td>\n",
       "      <td>615.521277</td>\n",
       "      <td>615.627660</td>\n",
       "      <td>9669.574468</td>\n",
       "      <td>10.691489</td>\n",
       "    </tr>\n",
       "    <tr>\n",
       "      <th>1488</th>\n",
       "      <td>ffe872165621d735a48bb5db0c71dd5195cba359</td>\n",
       "      <td>0.240602</td>\n",
       "      <td>399.0</td>\n",
       "      <td>6353.769424</td>\n",
       "      <td>15.924234</td>\n",
       "      <td>0.000603</td>\n",
       "      <td>11.731830</td>\n",
       "      <td>-286013.293452</td>\n",
       "      <td>0.240600</td>\n",
       "      <td>2.157895</td>\n",
       "      <td>-0.308271</td>\n",
       "      <td>635.644110</td>\n",
       "      <td>634.751880</td>\n",
       "      <td>-77200.751880</td>\n",
       "      <td>11.676692</td>\n",
       "    </tr>\n",
       "  </tbody>\n",
       "</table>\n",
       "<p>1489 rows × 15 columns</p>\n",
       "</div>"
      ],
      "text/plain": [
       "                                      username  is_final  submission_count  \\\n",
       "0     00b6dd4fc7eb817e03708c532016ef30ce564a61  0.312925             147.0   \n",
       "1     00bef8afee8f3c595d535c9c03c490cac1a4f021  0.301158             259.0   \n",
       "2     01122b3ef7e59b84189e65985305f575d6bdf83c  0.343590             195.0   \n",
       "3     0134f9f410c65ad0e8c2254a7e9288670e02a183  0.470000             100.0   \n",
       "4     013de369c439ab0ead8aa7da64423aa395a8be39  0.616822             107.0   \n",
       "...                                        ...       ...               ...   \n",
       "1484  feb8a2859a011c59efd22ed419cb69288fe03627  0.459459              74.0   \n",
       "1485  fef4a3263ed9a8ab14d457694bb8fd86ccd98312  0.300000             260.0   \n",
       "1486  ff12d6e2ab80696ed8e22fbe5497e96c68d29076  0.235698             437.0   \n",
       "1487  ff3fa2ec64294f37ae968159f810ebeda7966c51  0.361702              94.0   \n",
       "1488  ffe872165621d735a48bb5db0c71dd5195cba359  0.240602             399.0   \n",
       "\n",
       "      avg_pre_score  avg_score_per_submission  is_final_ratio  \\\n",
       "0       5504.149660                 37.443192        0.002129   \n",
       "1       5488.552124                 21.191320        0.001163   \n",
       "2       5973.753846                 30.634634        0.001762   \n",
       "3       5952.760000                 59.527594        0.004700   \n",
       "4       6474.448598                 60.508860        0.005765   \n",
       "...             ...                       ...             ...   \n",
       "1484    5581.081081                 75.420004        0.006209   \n",
       "1485    6204.557692                 23.863683        0.001154   \n",
       "1486    4998.466819                 11.438139        0.000539   \n",
       "1487    4343.329787                 46.205631        0.003848   \n",
       "1488    6353.769424                 15.924234        0.000603   \n",
       "\n",
       "      problem_submission_count  avg_submission_time_diff  problem_final_ratio  \\\n",
       "0                     5.136054              10457.214835             0.312923   \n",
       "1                     6.158301            -285578.146039             0.301157   \n",
       "2                     9.328205            -137070.811005             0.343587   \n",
       "3                     4.160000               2357.547945             0.469997   \n",
       "4                     2.794393               1524.267241             0.616817   \n",
       "...                        ...                       ...                  ...   \n",
       "1484                  3.783784               2876.546296             0.459456   \n",
       "1485                  7.384615              21582.085134             0.299998   \n",
       "1486                 12.643021            -180311.172735             0.235697   \n",
       "1487                  4.808511              13222.674107             0.361700   \n",
       "1488                 11.731830            -286013.293452             0.240600   \n",
       "\n",
       "      wrong_testcases  accepted  created_at_ordinal  updated_at_ordinal  \\\n",
       "0            3.006803 -0.265306          578.557823          578.646259   \n",
       "1            1.918919 -0.343629          610.610039          607.899614   \n",
       "2            4.615385 -0.394872          647.066667          645.871795   \n",
       "3            1.640000  0.040000          485.800000          485.820000   \n",
       "4            1.691589  0.102804          616.336449          616.336449   \n",
       "...               ...       ...                 ...                 ...   \n",
       "1484         0.432432  0.081081          527.918919          527.918919   \n",
       "1485         2.430769 -0.384615          559.823077          559.923077   \n",
       "1486         3.073227 -0.519451          613.553776          612.260870   \n",
       "1487         4.212766 -0.361702          615.521277          615.627660   \n",
       "1488         2.157895 -0.308271          635.644110          634.751880   \n",
       "\n",
       "          date_diff       hour  \n",
       "0       8197.142857   4.401361  \n",
       "1    -232304.942085  10.525097  \n",
       "2    -103018.461538  10.964103  \n",
       "3       1512.000000   8.610000  \n",
       "4        181.682243   8.598131  \n",
       "...             ...        ...  \n",
       "1484     193.783784   9.351351  \n",
       "1485    9762.461538   7.046154  \n",
       "1486 -112286.086957  11.080092  \n",
       "1487    9669.574468  10.691489  \n",
       "1488  -77200.751880  11.676692  \n",
       "\n",
       "[1489 rows x 15 columns]"
      ]
     },
     "execution_count": 9,
     "metadata": {},
     "output_type": "execute_result"
    }
   ],
   "source": [
    "annonimized"
   ]
  },
  {
   "cell_type": "code",
   "execution_count": 10,
   "metadata": {},
   "outputs": [],
   "source": [
    "# Huấn luyện và đánh giá mô hình\n",
    "models = {\n",
    "    'LinearRegression': LinearRegression(),\n",
    "    # 'RandomForest': RandomForestRegressor(random_state=42),\n",
    "    # 'XGBoost': XGBRegressor(random_state=42),\n",
    "    # 'GradientBoostingRegressor': GradientBoostingRegressor(random_state=42),\n",
    "    # 'lgbm': LGBMRegressor(random_state=42),\n",
    "    # # 'cb': CatBoostRegressor(verbose=0, random_state=42),\n",
    "    # 'hist_gbr': HistGradientBoostingRegressor(random_state=42)\n",
    "}"
   ]
  },
  {
   "cell_type": "markdown",
   "metadata": {},
   "source": [
    "## data TBTL"
   ]
  },
  {
   "cell_type": "code",
   "execution_count": 11,
   "metadata": {},
   "outputs": [],
   "source": [
    "# Merge dữ liệu bằng username từ annonimized và tbtl\n",
    "data_tbtl = annonimized.merge(tbtl, on=\"username\", how=\"left\")"
   ]
  },
  {
   "cell_type": "code",
   "execution_count": 12,
   "metadata": {},
   "outputs": [],
   "source": [
    "data_tbtl['TBTL'] = data_tbtl.groupby('username')['TBTL'].mean().values"
   ]
  },
  {
   "cell_type": "code",
   "execution_count": 13,
   "metadata": {},
   "outputs": [
    {
     "name": "stdout",
     "output_type": "stream",
     "text": [
      "Số lượng sinh viên có điểm (train): 799\n",
      "Số lượng sinh viên cần dự đoán: 690\n"
     ]
    }
   ],
   "source": [
    "# Phân tách dữ liệu\n",
    "train_test_data_tbtl = data_tbtl[data_tbtl['TBTL'].notna()]  # Sinh viên có điểm dùng để train\n",
    "predict_data_tbtl = data_tbtl[data_tbtl['TBTL'].isna()]  # Sinh viên không có điểm dùng để dự đoán\n",
    "\n",
    "# In số lượng\n",
    "print(f\"Số lượng sinh viên có điểm (train): {train_test_data_tbtl.shape[0]}\")\n",
    "print(f\"Số lượng sinh viên cần dự đoán: {predict_data_tbtl.shape[0]}\")"
   ]
  },
  {
   "cell_type": "markdown",
   "metadata": {},
   "source": [
    "### Train test data tbtl"
   ]
  },
  {
   "cell_type": "code",
   "execution_count": 14,
   "metadata": {},
   "outputs": [],
   "source": [
    "X_train_test_data_tbtl = train_test_data_tbtl[features_nouser]\n",
    "y_train_test_data_tbtl = train_test_data_tbtl['TBTL']"
   ]
  },
  {
   "cell_type": "code",
   "execution_count": 15,
   "metadata": {},
   "outputs": [
    {
     "name": "stdout",
     "output_type": "stream",
     "text": [
      "Các cột chứa NaN: ['avg_submission_time_diff']\n",
      "Số lượng NaN trong mỗi cột:\n",
      "avg_submission_time_diff    13\n",
      "dtype: int64\n"
     ]
    },
    {
     "name": "stderr",
     "output_type": "stream",
     "text": [
      "C:\\Users\\Admin\\AppData\\Local\\Temp\\ipykernel_128672\\807125407.py:6: SettingWithCopyWarning: \n",
      "A value is trying to be set on a copy of a slice from a DataFrame.\n",
      "Try using .loc[row_indexer,col_indexer] = value instead\n",
      "\n",
      "See the caveats in the documentation: https://pandas.pydata.org/pandas-docs/stable/user_guide/indexing.html#returning-a-view-versus-a-copy\n",
      "  X_train_test_data_tbtl[nan_columns] = X_train_test_data_tbtl[nan_columns].fillna(X_train_test_data_tbtl[nan_columns].mean())\n"
     ]
    }
   ],
   "source": [
    "nan_columns = X_train_test_data_tbtl.columns[X_train_test_data_tbtl.isna().any()]\n",
    "print(f\"Các cột chứa NaN: {nan_columns.tolist()}\")\n",
    "nan_counts = X_train_test_data_tbtl.isna().sum()\n",
    "print(\"Số lượng NaN trong mỗi cột:\")\n",
    "print(nan_counts[nan_counts > 0])\n",
    "X_train_test_data_tbtl[nan_columns] = X_train_test_data_tbtl[nan_columns].fillna(X_train_test_data_tbtl[nan_columns].mean())"
   ]
  },
  {
   "cell_type": "code",
   "execution_count": 16,
   "metadata": {},
   "outputs": [
    {
     "data": {
      "text/html": [
       "<div>\n",
       "<style scoped>\n",
       "    .dataframe tbody tr th:only-of-type {\n",
       "        vertical-align: middle;\n",
       "    }\n",
       "\n",
       "    .dataframe tbody tr th {\n",
       "        vertical-align: top;\n",
       "    }\n",
       "\n",
       "    .dataframe thead th {\n",
       "        text-align: right;\n",
       "    }\n",
       "</style>\n",
       "<table border=\"1\" class=\"dataframe\">\n",
       "  <thead>\n",
       "    <tr style=\"text-align: right;\">\n",
       "      <th></th>\n",
       "      <th>is_final</th>\n",
       "      <th>submission_count</th>\n",
       "      <th>avg_pre_score</th>\n",
       "      <th>avg_score_per_submission</th>\n",
       "      <th>is_final_ratio</th>\n",
       "      <th>problem_submission_count</th>\n",
       "      <th>avg_submission_time_diff</th>\n",
       "      <th>problem_final_ratio</th>\n",
       "      <th>wrong_testcases</th>\n",
       "      <th>accepted</th>\n",
       "      <th>created_at_ordinal</th>\n",
       "      <th>updated_at_ordinal</th>\n",
       "      <th>date_diff</th>\n",
       "      <th>hour</th>\n",
       "    </tr>\n",
       "  </thead>\n",
       "  <tbody>\n",
       "    <tr>\n",
       "      <th>0</th>\n",
       "      <td>0.312925</td>\n",
       "      <td>147.0</td>\n",
       "      <td>5504.149660</td>\n",
       "      <td>37.443192</td>\n",
       "      <td>0.002129</td>\n",
       "      <td>5.136054</td>\n",
       "      <td>10457.214835</td>\n",
       "      <td>0.312923</td>\n",
       "      <td>3.006803</td>\n",
       "      <td>-0.265306</td>\n",
       "      <td>578.557823</td>\n",
       "      <td>578.646259</td>\n",
       "      <td>8197.142857</td>\n",
       "      <td>4.401361</td>\n",
       "    </tr>\n",
       "    <tr>\n",
       "      <th>1</th>\n",
       "      <td>0.301158</td>\n",
       "      <td>259.0</td>\n",
       "      <td>5488.552124</td>\n",
       "      <td>21.191320</td>\n",
       "      <td>0.001163</td>\n",
       "      <td>6.158301</td>\n",
       "      <td>-285578.146039</td>\n",
       "      <td>0.301157</td>\n",
       "      <td>1.918919</td>\n",
       "      <td>-0.343629</td>\n",
       "      <td>610.610039</td>\n",
       "      <td>607.899614</td>\n",
       "      <td>-232304.942085</td>\n",
       "      <td>10.525097</td>\n",
       "    </tr>\n",
       "    <tr>\n",
       "      <th>2</th>\n",
       "      <td>0.343590</td>\n",
       "      <td>195.0</td>\n",
       "      <td>5973.753846</td>\n",
       "      <td>30.634634</td>\n",
       "      <td>0.001762</td>\n",
       "      <td>9.328205</td>\n",
       "      <td>-137070.811005</td>\n",
       "      <td>0.343587</td>\n",
       "      <td>4.615385</td>\n",
       "      <td>-0.394872</td>\n",
       "      <td>647.066667</td>\n",
       "      <td>645.871795</td>\n",
       "      <td>-103018.461538</td>\n",
       "      <td>10.964103</td>\n",
       "    </tr>\n",
       "    <tr>\n",
       "      <th>3</th>\n",
       "      <td>0.470000</td>\n",
       "      <td>100.0</td>\n",
       "      <td>5952.760000</td>\n",
       "      <td>59.527594</td>\n",
       "      <td>0.004700</td>\n",
       "      <td>4.160000</td>\n",
       "      <td>2357.547945</td>\n",
       "      <td>0.469997</td>\n",
       "      <td>1.640000</td>\n",
       "      <td>0.040000</td>\n",
       "      <td>485.800000</td>\n",
       "      <td>485.820000</td>\n",
       "      <td>1512.000000</td>\n",
       "      <td>8.610000</td>\n",
       "    </tr>\n",
       "    <tr>\n",
       "      <th>4</th>\n",
       "      <td>0.616822</td>\n",
       "      <td>107.0</td>\n",
       "      <td>6474.448598</td>\n",
       "      <td>60.508860</td>\n",
       "      <td>0.005765</td>\n",
       "      <td>2.794393</td>\n",
       "      <td>1524.267241</td>\n",
       "      <td>0.616817</td>\n",
       "      <td>1.691589</td>\n",
       "      <td>0.102804</td>\n",
       "      <td>616.336449</td>\n",
       "      <td>616.336449</td>\n",
       "      <td>181.682243</td>\n",
       "      <td>8.598131</td>\n",
       "    </tr>\n",
       "    <tr>\n",
       "      <th>...</th>\n",
       "      <td>...</td>\n",
       "      <td>...</td>\n",
       "      <td>...</td>\n",
       "      <td>...</td>\n",
       "      <td>...</td>\n",
       "      <td>...</td>\n",
       "      <td>...</td>\n",
       "      <td>...</td>\n",
       "      <td>...</td>\n",
       "      <td>...</td>\n",
       "      <td>...</td>\n",
       "      <td>...</td>\n",
       "      <td>...</td>\n",
       "      <td>...</td>\n",
       "    </tr>\n",
       "    <tr>\n",
       "      <th>796</th>\n",
       "      <td>0.396396</td>\n",
       "      <td>111.0</td>\n",
       "      <td>5171.639640</td>\n",
       "      <td>46.591344</td>\n",
       "      <td>0.003571</td>\n",
       "      <td>4.135135</td>\n",
       "      <td>43576.582792</td>\n",
       "      <td>0.396394</td>\n",
       "      <td>2.225225</td>\n",
       "      <td>-0.261261</td>\n",
       "      <td>669.531532</td>\n",
       "      <td>669.819820</td>\n",
       "      <td>26850.270270</td>\n",
       "      <td>10.063063</td>\n",
       "    </tr>\n",
       "    <tr>\n",
       "      <th>797</th>\n",
       "      <td>0.291317</td>\n",
       "      <td>357.0</td>\n",
       "      <td>4785.224090</td>\n",
       "      <td>13.403989</td>\n",
       "      <td>0.000816</td>\n",
       "      <td>6.394958</td>\n",
       "      <td>-141521.664440</td>\n",
       "      <td>0.291315</td>\n",
       "      <td>2.316527</td>\n",
       "      <td>-0.394958</td>\n",
       "      <td>659.291317</td>\n",
       "      <td>657.952381</td>\n",
       "      <td>-116640.168067</td>\n",
       "      <td>10.151261</td>\n",
       "    </tr>\n",
       "    <tr>\n",
       "      <th>798</th>\n",
       "      <td>0.341935</td>\n",
       "      <td>155.0</td>\n",
       "      <td>4247.296774</td>\n",
       "      <td>27.401913</td>\n",
       "      <td>0.002206</td>\n",
       "      <td>8.819355</td>\n",
       "      <td>69580.419092</td>\n",
       "      <td>0.341933</td>\n",
       "      <td>3.206452</td>\n",
       "      <td>-0.393548</td>\n",
       "      <td>647.670968</td>\n",
       "      <td>648.206452</td>\n",
       "      <td>45864.000000</td>\n",
       "      <td>8.225806</td>\n",
       "    </tr>\n",
       "    <tr>\n",
       "      <th>799</th>\n",
       "      <td>0.206463</td>\n",
       "      <td>557.0</td>\n",
       "      <td>4278.605027</td>\n",
       "      <td>7.681517</td>\n",
       "      <td>0.000371</td>\n",
       "      <td>10.188510</td>\n",
       "      <td>-61745.963034</td>\n",
       "      <td>0.206462</td>\n",
       "      <td>3.427289</td>\n",
       "      <td>-0.594255</td>\n",
       "      <td>653.673250</td>\n",
       "      <td>653.116697</td>\n",
       "      <td>-47822.585278</td>\n",
       "      <td>7.561939</td>\n",
       "    </tr>\n",
       "    <tr>\n",
       "      <th>800</th>\n",
       "      <td>0.444444</td>\n",
       "      <td>54.0</td>\n",
       "      <td>4444.444444</td>\n",
       "      <td>82.304512</td>\n",
       "      <td>0.008230</td>\n",
       "      <td>3.222222</td>\n",
       "      <td>559.209302</td>\n",
       "      <td>0.444442</td>\n",
       "      <td>2.000000</td>\n",
       "      <td>-0.148148</td>\n",
       "      <td>652.407407</td>\n",
       "      <td>652.407407</td>\n",
       "      <td>314.444444</td>\n",
       "      <td>14.685185</td>\n",
       "    </tr>\n",
       "  </tbody>\n",
       "</table>\n",
       "<p>799 rows × 14 columns</p>\n",
       "</div>"
      ],
      "text/plain": [
       "     is_final  submission_count  avg_pre_score  avg_score_per_submission  \\\n",
       "0    0.312925             147.0    5504.149660                 37.443192   \n",
       "1    0.301158             259.0    5488.552124                 21.191320   \n",
       "2    0.343590             195.0    5973.753846                 30.634634   \n",
       "3    0.470000             100.0    5952.760000                 59.527594   \n",
       "4    0.616822             107.0    6474.448598                 60.508860   \n",
       "..        ...               ...            ...                       ...   \n",
       "796  0.396396             111.0    5171.639640                 46.591344   \n",
       "797  0.291317             357.0    4785.224090                 13.403989   \n",
       "798  0.341935             155.0    4247.296774                 27.401913   \n",
       "799  0.206463             557.0    4278.605027                  7.681517   \n",
       "800  0.444444              54.0    4444.444444                 82.304512   \n",
       "\n",
       "     is_final_ratio  problem_submission_count  avg_submission_time_diff  \\\n",
       "0          0.002129                  5.136054              10457.214835   \n",
       "1          0.001163                  6.158301            -285578.146039   \n",
       "2          0.001762                  9.328205            -137070.811005   \n",
       "3          0.004700                  4.160000               2357.547945   \n",
       "4          0.005765                  2.794393               1524.267241   \n",
       "..              ...                       ...                       ...   \n",
       "796        0.003571                  4.135135              43576.582792   \n",
       "797        0.000816                  6.394958            -141521.664440   \n",
       "798        0.002206                  8.819355              69580.419092   \n",
       "799        0.000371                 10.188510             -61745.963034   \n",
       "800        0.008230                  3.222222                559.209302   \n",
       "\n",
       "     problem_final_ratio  wrong_testcases  accepted  created_at_ordinal  \\\n",
       "0               0.312923         3.006803 -0.265306          578.557823   \n",
       "1               0.301157         1.918919 -0.343629          610.610039   \n",
       "2               0.343587         4.615385 -0.394872          647.066667   \n",
       "3               0.469997         1.640000  0.040000          485.800000   \n",
       "4               0.616817         1.691589  0.102804          616.336449   \n",
       "..                   ...              ...       ...                 ...   \n",
       "796             0.396394         2.225225 -0.261261          669.531532   \n",
       "797             0.291315         2.316527 -0.394958          659.291317   \n",
       "798             0.341933         3.206452 -0.393548          647.670968   \n",
       "799             0.206462         3.427289 -0.594255          653.673250   \n",
       "800             0.444442         2.000000 -0.148148          652.407407   \n",
       "\n",
       "     updated_at_ordinal      date_diff       hour  \n",
       "0            578.646259    8197.142857   4.401361  \n",
       "1            607.899614 -232304.942085  10.525097  \n",
       "2            645.871795 -103018.461538  10.964103  \n",
       "3            485.820000    1512.000000   8.610000  \n",
       "4            616.336449     181.682243   8.598131  \n",
       "..                  ...            ...        ...  \n",
       "796          669.819820   26850.270270  10.063063  \n",
       "797          657.952381 -116640.168067  10.151261  \n",
       "798          648.206452   45864.000000   8.225806  \n",
       "799          653.116697  -47822.585278   7.561939  \n",
       "800          652.407407     314.444444  14.685185  \n",
       "\n",
       "[799 rows x 14 columns]"
      ]
     },
     "execution_count": 16,
     "metadata": {},
     "output_type": "execute_result"
    }
   ],
   "source": [
    "X_train_test_data_tbtl"
   ]
  },
  {
   "cell_type": "code",
   "execution_count": 17,
   "metadata": {},
   "outputs": [],
   "source": [
    "#Chuẩn hóa dữ liệu\n",
    "scaler = StandardScaler()\n",
    "X_train_test_data_tbtl = scaler.fit_transform(X_train_test_data_tbtl)\n",
    "\n",
    "#train test split\n",
    "X_train, X_test, y_train, y_test = train_test_split(X_train_test_data_tbtl, y_train_test_data_tbtl, test_size=0.3, random_state=42)"
   ]
  },
  {
   "cell_type": "code",
   "execution_count": 18,
   "metadata": {},
   "outputs": [
    {
     "data": {
      "text/plain": [
       "array([[ 0.29366252,  0.42666868,  0.42842995, ...,  1.01770879,\n",
       "         0.54972151, -0.30407458],\n",
       "       [-0.20421676, -0.02890736,  0.20776917, ...,  0.40809595,\n",
       "         0.3550712 ,  0.89000499],\n",
       "       [ 0.74931003, -0.64357345, -1.50272789, ..., -0.15069626,\n",
       "         0.39039824,  0.68751347],\n",
       "       ...,\n",
       "       [-0.70014283,  2.07542006, -0.30745635, ...,  0.08107589,\n",
       "        -0.03604358,  0.28158924],\n",
       "       [-1.09430718, -0.29646789, -2.02076711, ...,  0.89989004,\n",
       "         0.39870593,  0.33228944],\n",
       "       [-0.17845385, -0.57849115, -0.68402766, ...,  1.12230697,\n",
       "         0.3877315 , -0.30739115]])"
      ]
     },
     "execution_count": 18,
     "metadata": {},
     "output_type": "execute_result"
    }
   ],
   "source": [
    "X_train"
   ]
  },
  {
   "cell_type": "code",
   "execution_count": 19,
   "metadata": {},
   "outputs": [
    {
     "data": {
      "text/plain": [
       "405    7.71\n",
       "523    7.50\n",
       "750    7.74\n",
       "427    8.04\n",
       "41     8.63\n",
       "       ... \n",
       "71     7.11\n",
       "106    7.93\n",
       "270    9.15\n",
       "436    7.32\n",
       "102    8.10\n",
       "Name: TBTL, Length: 559, dtype: float64"
      ]
     },
     "execution_count": 19,
     "metadata": {},
     "output_type": "execute_result"
    }
   ],
   "source": [
    "y_train "
   ]
  },
  {
   "cell_type": "code",
   "execution_count": 20,
   "metadata": {},
   "outputs": [],
   "source": [
    "\n",
    "metrics = {}\n",
    "\n",
    "for name, model in models.items():\n",
    "    # Huấn luyện\n",
    "    model.fit(X_train, y_train)\n",
    "    y_pred = model.predict(X_test)\n",
    "\n",
    "    # Đánh giá\n",
    "    mse = mean_squared_error(y_test, y_pred)\n",
    "    r2 = r2_score(y_test, y_pred)\n",
    "\n",
    "    metrics[name] = {\n",
    "        'MSE': mse,\n",
    "        'R2': r2\n",
    "    }"
   ]
  },
  {
   "cell_type": "code",
   "execution_count": 21,
   "metadata": {},
   "outputs": [
    {
     "name": "stdout",
     "output_type": "stream",
     "text": [
      "Model Evaluation Results of TBTL:\n",
      "LinearRegression: MSE=0.6908, R2=0.1213\n"
     ]
    }
   ],
   "source": [
    "# In kết quả\n",
    "print(\"Model Evaluation Results of TBTL:\")\n",
    "for name, metrics in metrics.items():\n",
    "    print(f\"{name}: MSE={metrics['MSE']:.4f}, R2={metrics['R2']:.4f}\")"
   ]
  },
  {
   "cell_type": "markdown",
   "metadata": {},
   "source": [
    "### Predict data tbtl"
   ]
  },
  {
   "cell_type": "code",
   "execution_count": 22,
   "metadata": {},
   "outputs": [],
   "source": [
    "X_predict_data_tbtl = predict_data_tbtl[features_nouser]"
   ]
  },
  {
   "cell_type": "code",
   "execution_count": 23,
   "metadata": {},
   "outputs": [
    {
     "name": "stdout",
     "output_type": "stream",
     "text": [
      "Các cột chứa NaN: ['avg_submission_time_diff']\n",
      "Số lượng NaN trong mỗi cột:\n",
      "avg_submission_time_diff    7\n",
      "dtype: int64\n"
     ]
    },
    {
     "name": "stderr",
     "output_type": "stream",
     "text": [
      "C:\\Users\\Admin\\AppData\\Local\\Temp\\ipykernel_128672\\928285070.py:6: SettingWithCopyWarning: \n",
      "A value is trying to be set on a copy of a slice from a DataFrame.\n",
      "Try using .loc[row_indexer,col_indexer] = value instead\n",
      "\n",
      "See the caveats in the documentation: https://pandas.pydata.org/pandas-docs/stable/user_guide/indexing.html#returning-a-view-versus-a-copy\n",
      "  X_predict_data_tbtl[nan_columns] = X_predict_data_tbtl[nan_columns].fillna(X_predict_data_tbtl[nan_columns].mean())\n"
     ]
    }
   ],
   "source": [
    "nan_columns = X_predict_data_tbtl.columns[X_predict_data_tbtl.isna().any()]\n",
    "print(f\"Các cột chứa NaN: {nan_columns.tolist()}\")\n",
    "nan_counts = X_predict_data_tbtl.isna().sum()\n",
    "print(\"Số lượng NaN trong mỗi cột:\")\n",
    "print(nan_counts[nan_counts > 0])\n",
    "X_predict_data_tbtl[nan_columns] = X_predict_data_tbtl[nan_columns].fillna(X_predict_data_tbtl[nan_columns].mean())"
   ]
  },
  {
   "cell_type": "code",
   "execution_count": 24,
   "metadata": {},
   "outputs": [],
   "source": [
    "X_predict_data_tbtl = scaler.transform(X_predict_data_tbtl)"
   ]
  },
  {
   "cell_type": "code",
   "execution_count": 25,
   "metadata": {},
   "outputs": [
    {
     "name": "stderr",
     "output_type": "stream",
     "text": [
      "C:\\Users\\Admin\\AppData\\Local\\Temp\\ipykernel_128672\\3950690568.py:2: SettingWithCopyWarning: \n",
      "A value is trying to be set on a copy of a slice from a DataFrame.\n",
      "Try using .loc[row_indexer,col_indexer] = value instead\n",
      "\n",
      "See the caveats in the documentation: https://pandas.pydata.org/pandas-docs/stable/user_guide/indexing.html#returning-a-view-versus-a-copy\n",
      "  predict_data_tbtl['TBTL'] = model.predict(X_predict_data_tbtl)\n"
     ]
    }
   ],
   "source": [
    "# Dự đoán\n",
    "predict_data_tbtl['TBTL'] = model.predict(X_predict_data_tbtl)\n"
   ]
  },
  {
   "cell_type": "code",
   "execution_count": 26,
   "metadata": {},
   "outputs": [],
   "source": [
    "\n",
    "output = predict_data_tbtl[['username', 'TBTL']]\n",
    "\n",
    "# Xuất file kết quả\n",
    "output = output.to_csv(\"Predict/predicted_tbtl.csv\", index=False, header=False)"
   ]
  },
  {
   "cell_type": "markdown",
   "metadata": {},
   "source": [
    "## data TH\n"
   ]
  },
  {
   "cell_type": "markdown",
   "metadata": {},
   "source": [
    "### Train test data th"
   ]
  },
  {
   "cell_type": "code",
   "execution_count": 27,
   "metadata": {},
   "outputs": [],
   "source": [
    "# Merge dữ liệu bằng username từ annonimized và th\n",
    "data_th = annonimized.merge(th, on=\"username\", how=\"left\")"
   ]
  },
  {
   "cell_type": "code",
   "execution_count": 28,
   "metadata": {},
   "outputs": [],
   "source": [
    "data_th['TH'] = pd.to_numeric(data_th['TH'], errors='coerce')\n",
    "data_th['TH'] = data_th.groupby('username')['TH'].mean().values"
   ]
  },
  {
   "cell_type": "code",
   "execution_count": 29,
   "metadata": {},
   "outputs": [
    {
     "name": "stdout",
     "output_type": "stream",
     "text": [
      "Số lượng sinh viên có điểm (train): 753\n",
      "Số lượng sinh viên cần dự đoán: 736\n"
     ]
    }
   ],
   "source": [
    "# Phân tách dữ liệu\n",
    "train_test_data_th = data_th[data_th['TH'].notna()]  # Sinh viên có điểm dùng để train\n",
    "predict_data_th = data_th[data_th['TH'].isna()]  # Sinh viên không có điểm dùng để dự đoán\n",
    "\n",
    "# In số lượng\n",
    "print(f\"Số lượng sinh viên có điểm (train): {train_test_data_th.shape[0]}\")\n",
    "print(f\"Số lượng sinh viên cần dự đoán: {predict_data_th.shape[0]}\")"
   ]
  },
  {
   "cell_type": "markdown",
   "metadata": {},
   "source": [
    "### Train test data th"
   ]
  },
  {
   "cell_type": "code",
   "execution_count": 30,
   "metadata": {},
   "outputs": [],
   "source": [
    "X_train_test_data_th = train_test_data_th[features_nouser]\n",
    "y_train_test_data_th = train_test_data_th['TH']"
   ]
  },
  {
   "cell_type": "code",
   "execution_count": 31,
   "metadata": {},
   "outputs": [
    {
     "name": "stdout",
     "output_type": "stream",
     "text": [
      "Các cột chứa NaN: ['avg_submission_time_diff']\n",
      "Số lượng NaN trong mỗi cột:\n",
      "avg_submission_time_diff    13\n",
      "dtype: int64\n"
     ]
    },
    {
     "name": "stderr",
     "output_type": "stream",
     "text": [
      "C:\\Users\\Admin\\AppData\\Local\\Temp\\ipykernel_128672\\2751891394.py:6: SettingWithCopyWarning: \n",
      "A value is trying to be set on a copy of a slice from a DataFrame.\n",
      "Try using .loc[row_indexer,col_indexer] = value instead\n",
      "\n",
      "See the caveats in the documentation: https://pandas.pydata.org/pandas-docs/stable/user_guide/indexing.html#returning-a-view-versus-a-copy\n",
      "  X_train_test_data_th[nan_columns] = X_train_test_data_th[nan_columns].fillna(X_train_test_data_th[nan_columns].mean())\n"
     ]
    }
   ],
   "source": [
    "nan_columns = X_train_test_data_th.columns[X_train_test_data_th.isna().any()]\n",
    "print(f\"Các cột chứa NaN: {nan_columns.tolist()}\")\n",
    "nan_counts = X_train_test_data_th.isna().sum()\n",
    "print(\"Số lượng NaN trong mỗi cột:\")\n",
    "print(nan_counts[nan_counts > 0])\n",
    "X_train_test_data_th[nan_columns] = X_train_test_data_th[nan_columns].fillna(X_train_test_data_th[nan_columns].mean())"
   ]
  },
  {
   "cell_type": "code",
   "execution_count": 32,
   "metadata": {},
   "outputs": [],
   "source": [
    "#Chuẩn hóa dữ liệu\n",
    "X_train_test_data_th = scaler.fit_transform(X_train_test_data_th)\n",
    "\n",
    "#train test split\n",
    "X_train, X_test, y_train, y_test = train_test_split(X_train_test_data_th, y_train_test_data_th, test_size=0.3, random_state=42)"
   ]
  },
  {
   "cell_type": "code",
   "execution_count": 33,
   "metadata": {},
   "outputs": [],
   "source": [
    "# Huấn luyện và đánh giá mô hình\n",
    "metrics = {}\n",
    "\n",
    "for name, model in models.items():\n",
    "    # Huấn luyện\n",
    "    model.fit(X_train, y_train)\n",
    "    y_pred = model.predict(X_test)\n",
    "\n",
    "    # Đánh giá\n",
    "    mse = mean_squared_error(y_test, y_pred)\n",
    "    r2 = r2_score(y_test, y_pred)\n",
    "\n",
    "    metrics[name] = {\n",
    "        'MSE': mse,\n",
    "        'R2': r2\n",
    "    }"
   ]
  },
  {
   "cell_type": "code",
   "execution_count": 34,
   "metadata": {},
   "outputs": [
    {
     "name": "stdout",
     "output_type": "stream",
     "text": [
      "Model Evaluation Results of TH:\n",
      "LinearRegression: MSE=3.1287, R2=0.3731\n"
     ]
    }
   ],
   "source": [
    "# In kết quả\n",
    "print(\"Model Evaluation Results of TH:\")\n",
    "for name, metrics in metrics.items():\n",
    "    print(f\"{name}: MSE={metrics['MSE']:.4f}, R2={metrics['R2']:.4f}\")"
   ]
  },
  {
   "cell_type": "markdown",
   "metadata": {},
   "source": [
    "### Predict data th"
   ]
  },
  {
   "cell_type": "code",
   "execution_count": 35,
   "metadata": {},
   "outputs": [],
   "source": [
    "X_predict_data_th = predict_data_th[features_nouser]"
   ]
  },
  {
   "cell_type": "code",
   "execution_count": 36,
   "metadata": {},
   "outputs": [
    {
     "name": "stdout",
     "output_type": "stream",
     "text": [
      "Các cột chứa NaN: ['avg_submission_time_diff']\n",
      "Số lượng NaN trong mỗi cột:\n",
      "avg_submission_time_diff    7\n",
      "dtype: int64\n"
     ]
    },
    {
     "name": "stderr",
     "output_type": "stream",
     "text": [
      "C:\\Users\\Admin\\AppData\\Local\\Temp\\ipykernel_128672\\1144068623.py:6: SettingWithCopyWarning: \n",
      "A value is trying to be set on a copy of a slice from a DataFrame.\n",
      "Try using .loc[row_indexer,col_indexer] = value instead\n",
      "\n",
      "See the caveats in the documentation: https://pandas.pydata.org/pandas-docs/stable/user_guide/indexing.html#returning-a-view-versus-a-copy\n",
      "  X_predict_data_th[nan_columns] = X_predict_data_th[nan_columns].fillna(X_predict_data_th[nan_columns].mean())\n"
     ]
    }
   ],
   "source": [
    "nan_columns = X_predict_data_th.columns[X_predict_data_th.isna().any()]\n",
    "print(f\"Các cột chứa NaN: {nan_columns.tolist()}\")\n",
    "nan_counts = X_predict_data_th.isna().sum()\n",
    "print(\"Số lượng NaN trong mỗi cột:\")\n",
    "print(nan_counts[nan_counts > 0])\n",
    "X_predict_data_th[nan_columns] = X_predict_data_th[nan_columns].fillna(X_predict_data_th[nan_columns].mean())"
   ]
  },
  {
   "cell_type": "code",
   "execution_count": 37,
   "metadata": {},
   "outputs": [],
   "source": [
    "X_predict_data_th = scaler.transform(X_predict_data_th)"
   ]
  },
  {
   "cell_type": "code",
   "execution_count": 38,
   "metadata": {},
   "outputs": [
    {
     "name": "stderr",
     "output_type": "stream",
     "text": [
      "C:\\Users\\Admin\\AppData\\Local\\Temp\\ipykernel_128672\\1421566909.py:2: SettingWithCopyWarning: \n",
      "A value is trying to be set on a copy of a slice from a DataFrame.\n",
      "Try using .loc[row_indexer,col_indexer] = value instead\n",
      "\n",
      "See the caveats in the documentation: https://pandas.pydata.org/pandas-docs/stable/user_guide/indexing.html#returning-a-view-versus-a-copy\n",
      "  predict_data_th['TH'] = model.predict(X_predict_data_th)\n"
     ]
    }
   ],
   "source": [
    "# Dự đoán\n",
    "predict_data_th['TH'] = model.predict(X_predict_data_th)"
   ]
  },
  {
   "cell_type": "code",
   "execution_count": 39,
   "metadata": {},
   "outputs": [],
   "source": [
    "\n",
    "output = predict_data_th[['username', 'TH']]\n",
    "\n",
    "# Xuất file kết quả\n",
    "output = output.to_csv(\"Predict/predicted_th.csv\", index=False, header=False)"
   ]
  },
  {
   "cell_type": "markdown",
   "metadata": {},
   "source": [
    "## data QT"
   ]
  },
  {
   "cell_type": "code",
   "execution_count": 40,
   "metadata": {},
   "outputs": [],
   "source": [
    "# Merge dữ liệu bằng username từ annonimized và qt\n",
    "data_qt = annonimized.merge(qt, on=\"username\", how=\"left\")"
   ]
  },
  {
   "cell_type": "code",
   "execution_count": 41,
   "metadata": {},
   "outputs": [],
   "source": [
    "data_qt['QT'] = pd.to_numeric(data_qt['QT'], errors='coerce')\n",
    "data_qt['QT'] = data_qt.groupby('username')['QT'].mean().values"
   ]
  },
  {
   "cell_type": "code",
   "execution_count": 42,
   "metadata": {},
   "outputs": [
    {
     "name": "stdout",
     "output_type": "stream",
     "text": [
      "Số lượng sinh viên có điểm (train): 754\n",
      "Số lượng sinh viên cần dự đoán: 735\n"
     ]
    }
   ],
   "source": [
    "# Phân tách dữ liệu\n",
    "train_test_data_qt = data_qt[data_qt['QT'].notna()]  # Sinh viên có điểm dùng để train\n",
    "predict_data_qt = data_qt[data_qt['QT'].isna()]  # Sinh viên không có điểm dùng để dự đoán\n",
    "\n",
    "# In số lượng\n",
    "print(f\"Số lượng sinh viên có điểm (train): {train_test_data_qt.shape[0]}\")\n",
    "print(f\"Số lượng sinh viên cần dự đoán: {predict_data_qt.shape[0]}\")"
   ]
  },
  {
   "cell_type": "markdown",
   "metadata": {},
   "source": [
    "### Train test data qt"
   ]
  },
  {
   "cell_type": "code",
   "execution_count": 43,
   "metadata": {},
   "outputs": [],
   "source": [
    "X_train_test_data_qt = train_test_data_qt[features_nouser]\n",
    "y_train_test_data_qt = train_test_data_qt['QT']"
   ]
  },
  {
   "cell_type": "code",
   "execution_count": 44,
   "metadata": {},
   "outputs": [
    {
     "name": "stdout",
     "output_type": "stream",
     "text": [
      "Các cột chứa NaN: ['avg_submission_time_diff']\n",
      "Số lượng NaN trong mỗi cột:\n",
      "avg_submission_time_diff    13\n",
      "dtype: int64\n"
     ]
    },
    {
     "name": "stderr",
     "output_type": "stream",
     "text": [
      "C:\\Users\\Admin\\AppData\\Local\\Temp\\ipykernel_128672\\2698798050.py:7: SettingWithCopyWarning: \n",
      "A value is trying to be set on a copy of a slice from a DataFrame.\n",
      "Try using .loc[row_indexer,col_indexer] = value instead\n",
      "\n",
      "See the caveats in the documentation: https://pandas.pydata.org/pandas-docs/stable/user_guide/indexing.html#returning-a-view-versus-a-copy\n",
      "  X_train_test_data_qt[nan_columns] = X_train_test_data_qt[nan_columns].fillna(X_train_test_data_qt[nan_columns].mean())\n"
     ]
    }
   ],
   "source": [
    "# fill NaN\n",
    "nan_columns = X_train_test_data_qt.columns[X_train_test_data_qt.isna().any()]\n",
    "print(f\"Các cột chứa NaN: {nan_columns.tolist()}\")\n",
    "nan_counts = X_train_test_data_qt.isna().sum()\n",
    "print(\"Số lượng NaN trong mỗi cột:\")\n",
    "print(nan_counts[nan_counts > 0])\n",
    "X_train_test_data_qt[nan_columns] = X_train_test_data_qt[nan_columns].fillna(X_train_test_data_qt[nan_columns].mean())"
   ]
  },
  {
   "cell_type": "code",
   "execution_count": 45,
   "metadata": {},
   "outputs": [],
   "source": [
    "#Chuẩn hóa dữ liệu\n",
    "scaler = StandardScaler()\n",
    "X_train_test_data_qt = scaler.fit_transform(X_train_test_data_qt)\n",
    "\n",
    "#train test split\n",
    "X_train, X_test, y_train, y_test = train_test_split(X_train_test_data_qt, y_train_test_data_qt, test_size=0.3, random_state=42)"
   ]
  },
  {
   "cell_type": "code",
   "execution_count": 46,
   "metadata": {},
   "outputs": [],
   "source": [
    "# Huấn luyện và đánh giá mô hình\n",
    "\n",
    "metrics = {}\n",
    "\n",
    "for name, model in models.items():\n",
    "    # Huấn luyện\n",
    "    model.fit(X_train, y_train)\n",
    "    y_pred = model.predict(X_test)\n",
    "\n",
    "    # Đánh giá\n",
    "    mse = mean_squared_error(y_test, y_pred)\n",
    "    r2 = r2_score(y_test, y_pred)\n",
    "\n",
    "    metrics[name] = {\n",
    "        'MSE': mse,\n",
    "        'R2': r2\n",
    "    }"
   ]
  },
  {
   "cell_type": "code",
   "execution_count": 47,
   "metadata": {},
   "outputs": [
    {
     "name": "stdout",
     "output_type": "stream",
     "text": [
      "Model Evaluation Results of QT:\n",
      "LinearRegression: MSE=2.5353, R2=-0.0723\n"
     ]
    }
   ],
   "source": [
    "# In kết quả\n",
    "print(\"Model Evaluation Results of QT:\")\n",
    "for name, metrics in metrics.items():\n",
    "    print(f\"{name}: MSE={metrics['MSE']:.4f}, R2={metrics['R2']:.4f}\")"
   ]
  },
  {
   "cell_type": "markdown",
   "metadata": {},
   "source": [
    "### Predict data qt"
   ]
  },
  {
   "cell_type": "code",
   "execution_count": 48,
   "metadata": {},
   "outputs": [],
   "source": [
    "X_predict_data_qt = predict_data_qt[features_nouser]"
   ]
  },
  {
   "cell_type": "code",
   "execution_count": 49,
   "metadata": {},
   "outputs": [
    {
     "name": "stdout",
     "output_type": "stream",
     "text": [
      "Các cột chứa NaN: ['avg_submission_time_diff']\n",
      "Số lượng NaN trong mỗi cột:\n",
      "avg_submission_time_diff    7\n",
      "dtype: int64\n"
     ]
    },
    {
     "name": "stderr",
     "output_type": "stream",
     "text": [
      "C:\\Users\\Admin\\AppData\\Local\\Temp\\ipykernel_128672\\2015593243.py:6: SettingWithCopyWarning: \n",
      "A value is trying to be set on a copy of a slice from a DataFrame.\n",
      "Try using .loc[row_indexer,col_indexer] = value instead\n",
      "\n",
      "See the caveats in the documentation: https://pandas.pydata.org/pandas-docs/stable/user_guide/indexing.html#returning-a-view-versus-a-copy\n",
      "  X_predict_data_qt[nan_columns] = X_predict_data_qt[nan_columns].fillna(X_predict_data_qt[nan_columns].mean())\n"
     ]
    }
   ],
   "source": [
    "nan_columns = X_predict_data_qt.columns[X_predict_data_qt.isna().any()]\n",
    "print(f\"Các cột chứa NaN: {nan_columns.tolist()}\")\n",
    "nan_counts = X_predict_data_qt.isna().sum()\n",
    "print(\"Số lượng NaN trong mỗi cột:\")\n",
    "print(nan_counts[nan_counts > 0])\n",
    "X_predict_data_qt[nan_columns] = X_predict_data_qt[nan_columns].fillna(X_predict_data_qt[nan_columns].mean())"
   ]
  },
  {
   "cell_type": "code",
   "execution_count": 50,
   "metadata": {},
   "outputs": [],
   "source": [
    "X_predict_data_qt = scaler.transform(X_predict_data_qt)"
   ]
  },
  {
   "cell_type": "code",
   "execution_count": 51,
   "metadata": {},
   "outputs": [
    {
     "name": "stderr",
     "output_type": "stream",
     "text": [
      "C:\\Users\\Admin\\AppData\\Local\\Temp\\ipykernel_128672\\3031361918.py:2: SettingWithCopyWarning: \n",
      "A value is trying to be set on a copy of a slice from a DataFrame.\n",
      "Try using .loc[row_indexer,col_indexer] = value instead\n",
      "\n",
      "See the caveats in the documentation: https://pandas.pydata.org/pandas-docs/stable/user_guide/indexing.html#returning-a-view-versus-a-copy\n",
      "  predict_data_qt['QT'] = model.predict(X_predict_data_qt)\n"
     ]
    }
   ],
   "source": [
    "# Dự đoán\n",
    "predict_data_qt['QT'] = model.predict(X_predict_data_qt)\n"
   ]
  },
  {
   "cell_type": "code",
   "execution_count": 52,
   "metadata": {},
   "outputs": [],
   "source": [
    "\n",
    "output = predict_data_qt[['username', 'QT']]\n",
    "\n",
    "# Xuất file kết quả\n",
    "output = output.to_csv(\"Predict/predicted_qt.csv\", index=False, header=False)"
   ]
  },
  {
   "cell_type": "markdown",
   "metadata": {},
   "source": [
    "## data CK"
   ]
  },
  {
   "cell_type": "code",
   "execution_count": 53,
   "metadata": {},
   "outputs": [],
   "source": [
    "# Merge dữ liệu bằng username từ annonimized và ck\n",
    "data_CK = annonimized.merge(CK, on=\"username\", how=\"left\")"
   ]
  },
  {
   "cell_type": "code",
   "execution_count": 54,
   "metadata": {},
   "outputs": [],
   "source": [
    "data_CK['CK'] = data_CK.groupby('username')['CK'].mean().values"
   ]
  },
  {
   "cell_type": "code",
   "execution_count": 55,
   "metadata": {},
   "outputs": [
    {
     "name": "stdout",
     "output_type": "stream",
     "text": [
      "Số lượng sinh viên có điểm (train): 755\n",
      "Số lượng sinh viên cần dự đoán: 734\n"
     ]
    }
   ],
   "source": [
    "# Phân tách dữ liệu\n",
    "train_test_data_ck = data_CK[data_CK['CK'].notna()]  # Sinh viên có điểm dùng để train\n",
    "predict_data_ck = data_CK[data_CK['CK'].isna()]  # Sinh viên không có điểm dùng để dự đoán\n",
    "\n",
    "# In số lượng\n",
    "print(f\"Số lượng sinh viên có điểm (train): {train_test_data_ck.shape[0]}\")\n",
    "print(f\"Số lượng sinh viên cần dự đoán: {predict_data_ck.shape[0]}\")"
   ]
  },
  {
   "cell_type": "markdown",
   "metadata": {},
   "source": [
    "### Train test data ck"
   ]
  },
  {
   "cell_type": "code",
   "execution_count": 56,
   "metadata": {},
   "outputs": [],
   "source": [
    "X_train_test_data_ck = train_test_data_ck[features_nouser]\n",
    "y_train_test_data_ck = train_test_data_ck['CK']"
   ]
  },
  {
   "cell_type": "code",
   "execution_count": 57,
   "metadata": {},
   "outputs": [
    {
     "name": "stdout",
     "output_type": "stream",
     "text": [
      "Các cột chứa NaN: ['avg_submission_time_diff']\n",
      "Số lượng NaN trong mỗi cột:\n",
      "avg_submission_time_diff    13\n",
      "dtype: int64\n"
     ]
    },
    {
     "name": "stderr",
     "output_type": "stream",
     "text": [
      "C:\\Users\\Admin\\AppData\\Local\\Temp\\ipykernel_128672\\3306873973.py:6: SettingWithCopyWarning: \n",
      "A value is trying to be set on a copy of a slice from a DataFrame.\n",
      "Try using .loc[row_indexer,col_indexer] = value instead\n",
      "\n",
      "See the caveats in the documentation: https://pandas.pydata.org/pandas-docs/stable/user_guide/indexing.html#returning-a-view-versus-a-copy\n",
      "  X_train_test_data_ck[nan_columns] = X_train_test_data_ck[nan_columns].fillna(X_train_test_data_ck[nan_columns].mean())\n"
     ]
    }
   ],
   "source": [
    "nan_columns = X_train_test_data_ck.columns[X_train_test_data_ck.isna().any()]\n",
    "print(f\"Các cột chứa NaN: {nan_columns.tolist()}\")\n",
    "nan_counts = X_train_test_data_ck.isna().sum()\n",
    "print(\"Số lượng NaN trong mỗi cột:\")\n",
    "print(nan_counts[nan_counts > 0])\n",
    "X_train_test_data_ck[nan_columns] = X_train_test_data_ck[nan_columns].fillna(X_train_test_data_ck[nan_columns].mean())"
   ]
  },
  {
   "cell_type": "code",
   "execution_count": 58,
   "metadata": {},
   "outputs": [],
   "source": [
    "#Chuẩn hóa dữ liệu\n",
    "X_train_test_data_ck = scaler.fit_transform(X_train_test_data_ck)\n",
    "\n",
    "#train test split\n",
    "X_train, X_test, y_train, y_test = train_test_split(X_train_test_data_ck, y_train_test_data_ck, test_size=0.3, random_state=42)"
   ]
  },
  {
   "cell_type": "code",
   "execution_count": 59,
   "metadata": {},
   "outputs": [],
   "source": [
    "# Huấn luyện và đánh giá mô hình\n",
    "metrics = {}\n",
    "\n",
    "for name, model in models.items():\n",
    "    # Huấn luyện\n",
    "    model.fit(X_train, y_train)\n",
    "    y_pred = model.predict(X_test)\n",
    "\n",
    "    # Đánh giá\n",
    "    mse = mean_squared_error(y_test, y_pred)\n",
    "    r2 = r2_score(y_test, y_pred)\n",
    "\n",
    "    metrics[name] = {\n",
    "        'MSE': mse,\n",
    "        'R2': r2\n",
    "    }"
   ]
  },
  {
   "cell_type": "code",
   "execution_count": 60,
   "metadata": {},
   "outputs": [
    {
     "name": "stdout",
     "output_type": "stream",
     "text": [
      "Model Evaluation Results of CK:\n",
      "LinearRegression: MSE=3.7702, R2=0.1821\n"
     ]
    }
   ],
   "source": [
    "# In kết quả\n",
    "print(\"Model Evaluation Results of CK:\")\n",
    "for name, metrics in metrics.items():\n",
    "    print(f\"{name}: MSE={metrics['MSE']:.4f}, R2={metrics['R2']:.4f}\")"
   ]
  },
  {
   "cell_type": "markdown",
   "metadata": {},
   "source": [
    "### Predict data ck"
   ]
  },
  {
   "cell_type": "code",
   "execution_count": 61,
   "metadata": {},
   "outputs": [],
   "source": [
    "X_predict_data_ck = predict_data_ck[features_nouser]"
   ]
  },
  {
   "cell_type": "code",
   "execution_count": 62,
   "metadata": {},
   "outputs": [
    {
     "name": "stdout",
     "output_type": "stream",
     "text": [
      "Các cột chứa NaN: ['avg_submission_time_diff']\n",
      "Số lượng NaN trong mỗi cột:\n",
      "avg_submission_time_diff    7\n",
      "dtype: int64\n"
     ]
    },
    {
     "name": "stderr",
     "output_type": "stream",
     "text": [
      "C:\\Users\\Admin\\AppData\\Local\\Temp\\ipykernel_128672\\2984709394.py:6: SettingWithCopyWarning: \n",
      "A value is trying to be set on a copy of a slice from a DataFrame.\n",
      "Try using .loc[row_indexer,col_indexer] = value instead\n",
      "\n",
      "See the caveats in the documentation: https://pandas.pydata.org/pandas-docs/stable/user_guide/indexing.html#returning-a-view-versus-a-copy\n",
      "  X_predict_data_ck[nan_columns] = X_predict_data_ck[nan_columns].fillna(X_predict_data_ck[nan_columns].mean())\n"
     ]
    }
   ],
   "source": [
    "nan_columns = X_predict_data_ck.columns[X_predict_data_ck.isna().any()]\n",
    "print(f\"Các cột chứa NaN: {nan_columns.tolist()}\")\n",
    "nan_counts = X_predict_data_ck.isna().sum()\n",
    "print(\"Số lượng NaN trong mỗi cột:\")\n",
    "print(nan_counts[nan_counts > 0])\n",
    "X_predict_data_ck[nan_columns] = X_predict_data_ck[nan_columns].fillna(X_predict_data_ck[nan_columns].mean())"
   ]
  },
  {
   "cell_type": "code",
   "execution_count": 63,
   "metadata": {},
   "outputs": [],
   "source": [
    "X_predict_data_ck = scaler.transform(X_predict_data_ck)"
   ]
  },
  {
   "cell_type": "code",
   "execution_count": 64,
   "metadata": {},
   "outputs": [
    {
     "name": "stderr",
     "output_type": "stream",
     "text": [
      "C:\\Users\\Admin\\AppData\\Local\\Temp\\ipykernel_128672\\3428818030.py:2: SettingWithCopyWarning: \n",
      "A value is trying to be set on a copy of a slice from a DataFrame.\n",
      "Try using .loc[row_indexer,col_indexer] = value instead\n",
      "\n",
      "See the caveats in the documentation: https://pandas.pydata.org/pandas-docs/stable/user_guide/indexing.html#returning-a-view-versus-a-copy\n",
      "  predict_data_ck['CK'] = model.predict(X_predict_data_ck)\n"
     ]
    }
   ],
   "source": [
    "# Dự đoán\n",
    "predict_data_ck['CK'] = model.predict(X_predict_data_ck)"
   ]
  },
  {
   "cell_type": "code",
   "execution_count": 65,
   "metadata": {},
   "outputs": [],
   "source": [
    "\n",
    "output = predict_data_ck[['username', 'CK']]\n",
    "\n",
    "# Xuất file kết quả\n",
    "output = output.to_csv(\"Predict/predicted_ck.csv\", index=False, header=False)"
   ]
  }
 ],
 "metadata": {
  "kernelspec": {
   "display_name": "Python 3",
   "language": "python",
   "name": "python3"
  },
  "language_info": {
   "codemirror_mode": {
    "name": "ipython",
    "version": 3
   },
   "file_extension": ".py",
   "mimetype": "text/x-python",
   "name": "python",
   "nbconvert_exporter": "python",
   "pygments_lexer": "ipython3",
   "version": "3.11.9"
  }
 },
 "nbformat": 4,
 "nbformat_minor": 2
}
