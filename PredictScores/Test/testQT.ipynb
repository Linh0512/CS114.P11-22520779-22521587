{
 "cells": [
  {
   "cell_type": "code",
   "execution_count": 318,
   "metadata": {},
   "outputs": [],
   "source": [
    "import pandas as pd\n",
    "import numpy as np\n",
    "import matplotlib.pyplot as plt\n",
    "import seaborn as sns\n",
    "import os\n",
    "from sklearn.preprocessing import MinMaxScaler\n",
    "from sklearn.model_selection import train_test_split\n",
    "from sklearn.linear_model import LinearRegression\n",
    "from sklearn.ensemble import RandomForestRegressor\n",
    "from xgboost import XGBRegressor\n",
    "from sklearn.preprocessing import LabelEncoder\n",
    "from sklearn.preprocessing import StandardScaler\n",
    "from sklearn.metrics import r2_score, mean_squared_error"
   ]
  },
  {
   "cell_type": "code",
   "execution_count": 319,
   "metadata": {},
   "outputs": [],
   "source": [
    "os.chdir('C:/Storage/StudyJourney/Nam3/Cs114/Project2')"
   ]
  },
  {
   "cell_type": "code",
   "execution_count": 320,
   "metadata": {},
   "outputs": [],
   "source": [
    "# Đọc dữ liệu\n",
    "annonimized = pd.read_csv(\"Dataset/annonimized.csv\")\n",
    "qt = pd.read_csv(\"Dataset/public_it001/qt-public.csv\")"
   ]
  },
  {
   "cell_type": "code",
   "execution_count": 321,
   "metadata": {},
   "outputs": [],
   "source": [
    "# Hàm xử lý cột `judgement` để rút trích các đặc trưng\n",
    "import json\n",
    "\n",
    "def extract_judgement_features(df):\n",
    "    # Parse cột judgement thành dict với kiểm tra ngoại lệ\n",
    "    def safe_json_loads(j):\n",
    "        try:\n",
    "            return json.loads(j) if isinstance(j, str) else {}\n",
    "        except json.JSONDecodeError:\n",
    "            return {}\n",
    "\n",
    "    # Chuyển cột judgement sang dạng dict\n",
    "    df['judgement_parsed'] = df['judgement'].apply(safe_json_loads)\n",
    "    \n",
    "    # Rút trích các giá trị từ judgement\n",
    "    df['times'] = df['judgement_parsed'].apply(lambda x: x.get('times', []) if isinstance(x, dict) else [])\n",
    "    df['mems'] = df['judgement_parsed'].apply(lambda x: x.get('mems', []) if isinstance(x, dict) else [])\n",
    "    \n",
    "    # Kiểm tra kiểu của verdicts và xử lý\n",
    "    def extract_verdicts(verdicts):\n",
    "        if isinstance(verdicts, dict):\n",
    "            return verdicts.get('WRONG', 0)\n",
    "        return 0  # Mặc định nếu verdicts không phải là dict\n",
    "\n",
    "    df['verdicts'] = df['judgement_parsed'].apply(lambda x: x.get('verdicts', {}) if isinstance(x, dict) else {})\n",
    "    df['wrong_testcases'] = df['verdicts'].apply(extract_verdicts)\n",
    "    df['accepted'] = df['verdicts'].apply(lambda x: 1 if isinstance(x, list) else -1)\n",
    "\n",
    "    return df\n",
    "\n",
    "def process_times_and_mems(df):\n",
    "    df['times_mean'] = df['times'].apply(lambda x: sum(x) / len(x) if x else -1)\n",
    "    df['mems_mean'] = df['mems'].apply(lambda x: sum(x) / len(x) if x else -1)"
   ]
  },
  {
   "cell_type": "code",
   "execution_count": 322,
   "metadata": {},
   "outputs": [],
   "source": [
    "from datetime import datetime\n",
    "import pandas as pd\n",
    "import numpy as np\n",
    "from sklearn.preprocessing import LabelEncoder\n",
    "from scipy import stats\n",
    "\n",
    "# Hàm chuyển đổi thời gian với ngày tham chiếu\n",
    "reference_date = datetime(2023, 9, 1)\n",
    "\n",
    "def convert_to_datetime(date_str, default_year=2024):\n",
    "    return datetime.strptime(f\"{default_year}-{date_str}\", \"%Y-%m-%d %H:%M:%S\")\n",
    "\n",
    "# Chuyển đổi 'created_at' và 'updated_at' thành ordinal và thêm đặc trưng chênh lệch ngày\n",
    "annonimized['created_at'] = pd.to_datetime(annonimized['created_at'], errors='coerce')\n",
    "annonimized['updated_at'] = pd.to_datetime(annonimized['updated_at'], errors='coerce')\n",
    "annonimized['created_at_ordinal'] = (annonimized['created_at'] - reference_date).dt.days\n",
    "annonimized['updated_at_ordinal'] = (annonimized['updated_at'] - reference_date).dt.days\n",
    "annonimized['date_diff'] = (annonimized['updated_at'] - annonimized['created_at']).dt.total_seconds()\n",
    "\n",
    "# Tính toán các đặc trưng nhóm\n",
    "submission_count = annonimized.groupby(['username', 'assignment_id', 'problem_id']).size().reset_index(name='submission_count')\n",
    "status_count = annonimized.groupby(['username', 'assignment_id', 'problem_id'])['status'].value_counts().unstack(fill_value=0).reset_index()\n",
    "avg_score = annonimized.groupby(['username', 'assignment_id', 'problem_id'])['pre_score'].mean().reset_index(name='avg_score')\n",
    "error_rate = annonimized.groupby(['username', 'assignment_id', 'problem_id'])['judgement'].apply(lambda x: x.str.contains('WRONG').sum() / len(x)).reset_index(name='error_rate')\n",
    "\n",
    "# Z-score và kiểm tra ngoại lệ\n",
    "annonimized['z_score'] = stats.zscore(annonimized['pre_score'])\n",
    "annonimized['is_outlier'] = annonimized['z_score'].apply(lambda x: 1 if abs(x) > 3 else 0)\n",
    "\n",
    "# Đặc trưng hoạt động theo giờ\n",
    "annonimized['hour'] = annonimized['created_at'].dt.hour\n",
    "hourly_activity = annonimized.groupby(['username', 'assignment_id', 'problem_id'])['hour'].value_counts().unstack(fill_value=0).reset_index()\n",
    "\n",
    "# Label encoding cho cột 'status'\n",
    "label_encoder = LabelEncoder()\n",
    "annonimized['status_encoded'] = label_encoder.fit_transform(annonimized['status'])\n",
    "\n",
    "# Thêm các đặc trưng tổng hợp\n",
    "annonimized['submission_time_diff'] = annonimized.groupby(['username', 'assignment_id', 'problem_id'])['created_at'].diff().dt.total_seconds()\n",
    "annonimized['avg_submission_time_diff'] = annonimized.groupby(['username', 'assignment_id', 'problem_id'])['submission_time_diff'].transform('mean')\n",
    "\n",
    "annonimized = extract_judgement_features(annonimized)\n",
    "\n",
    "\n",
    "annonimized['status_encoded'] = label_encoder.fit_transform(annonimized['status'])\n",
    "\n",
    "annonimized['submission_count'] = annonimized.groupby('username')['is_final'].transform('count')\n",
    "\n",
    "annonimized['avg_pre_score'] = annonimized.groupby('username')['pre_score'].transform('mean')\n",
    "\n",
    "annonimized['avg_score_per_submission'] = annonimized['avg_pre_score'] / (annonimized['submission_count'] + 1e-5)  # Tránh chia cho 0\n",
    "\n",
    "annonimized['is_final_ratio'] = annonimized['is_final'] / annonimized['submission_count']\n",
    "\n",
    "annonimized['problem_final_ratio'] = annonimized.groupby(\n",
    "    ['username', 'assignment_id', 'problem_id'])['is_final'].transform(lambda x: x.sum() / (len(x) + 1e-5))\n",
    "\n",
    "annonimized['problem_submission_count'] = annonimized.groupby(\n",
    "    ['username', 'assignment_id', 'problem_id'])['is_final'].transform('count')\n",
    "\n",
    "annonimized = annonimized.groupby('username').agg({\n",
    "    'status_encoded': 'mean',\n",
    "    'is_final': 'mean',\n",
    "    'avg_submission_time_diff': 'mean',\n",
    "    'wrong_testcases': 'mean',\n",
    "    'accepted': 'mean',\n",
    "    'created_at_ordinal': 'mean',\n",
    "    'updated_at_ordinal': 'mean',\n",
    "    'date_diff': 'mean',\n",
    "    'hour': 'mean',\n",
    "    'z_score': 'mean',\n",
    "    'is_outlier': 'mean',\n",
    "    'submission_count': 'mean',\n",
    "    'avg_pre_score': 'mean',\n",
    "    'is_final_ratio': 'mean',\n",
    "    'problem_submission_count': 'mean',\n",
    "    'problem_final_ratio': 'mean'\n",
    "}).reset_index()\n",
    "\n",
    "# Nhóm và tổng hợp các đặc trưng\n",
    "# features = ['username', 'status_encoded', 'submission_count', 'avg_pre_score', \n",
    "#             'avg_score_per_submission', 'is_final_ratio', 'problem_submission_count', \n",
    "#             'avg_submission_time_diff', 'problem_final_ratio', 'wrong_testcases', \n",
    "#             'accepted', 'date_diff', 'hour']\n",
    "\n",
    "# features_nouser = ['status_encoded', 'submission_count', 'avg_pre_score', \n",
    "#             'avg_score_per_submission', 'is_final_ratio', 'problem_submission_count', \n",
    "#             'avg_submission_time_diff', 'problem_final_ratio', 'wrong_testcases', \n",
    "#             'accepted', 'date_diff', 'hour']\n",
    "\n",
    "features = ['username','status_encoded','problem_final_ratio','is_final_ratio', 'is_final','submission_count']\n",
    "\n",
    "features_nouser = ['status_encoded','problem_final_ratio','is_final_ratio', 'is_final','submission_count']\n",
    "\n",
    "\n",
    "annonimized = annonimized[features]\n"
   ]
  },
  {
   "cell_type": "code",
   "execution_count": 323,
   "metadata": {},
   "outputs": [],
   "source": [
    "# Merge dữ liệu: giữ tất cả các username từ annonimized\n",
    "data = annonimized.merge(qt, on=\"username\", how=\"left\")"
   ]
  },
  {
   "cell_type": "code",
   "execution_count": 324,
   "metadata": {},
   "outputs": [],
   "source": [
    "data['QT'] = pd.to_numeric(data['QT'], errors='coerce')\n",
    "data['QT'] = data.groupby('username')['QT'].mean().values"
   ]
  },
  {
   "cell_type": "code",
   "execution_count": 325,
   "metadata": {},
   "outputs": [
    {
     "name": "stdout",
     "output_type": "stream",
     "text": [
      "Số lượng sinh viên có điểm (train): 754\n",
      "Số lượng sinh viên cần dự đoán: 735\n"
     ]
    }
   ],
   "source": [
    "# Phân tách dữ liệu\n",
    "train_test_data = data[data['QT'].notna()]  # Sinh viên có điểm, dùng để train\n",
    "predict_data = data[data['QT'].isna()]  # Sinh viên không có điểm, dùng để dự đoán\n",
    "\n",
    "# In số lượng\n",
    "print(f\"Số lượng sinh viên có điểm (train): {train_test_data.shape[0]}\")\n",
    "print(f\"Số lượng sinh viên cần dự đoán: {predict_data.shape[0]}\")"
   ]
  },
  {
   "cell_type": "code",
   "execution_count": 326,
   "metadata": {},
   "outputs": [],
   "source": [
    "X_train_test_data = train_test_data[features_nouser]\n",
    "y_train_test_data = train_test_data['QT']"
   ]
  },
  {
   "cell_type": "code",
   "execution_count": 327,
   "metadata": {},
   "outputs": [
    {
     "name": "stdout",
     "output_type": "stream",
     "text": [
      "Các cột chứa NaN: []\n",
      "Số lượng NaN trong mỗi cột:\n",
      "Series([], dtype: int64)\n"
     ]
    }
   ],
   "source": [
    "nan_columns = X_train_test_data.columns[X_train_test_data.isna().any()]\n",
    "print(f\"Các cột chứa NaN: {nan_columns.tolist()}\")\n",
    "nan_counts = X_train_test_data.isna().sum()\n",
    "print(\"Số lượng NaN trong mỗi cột:\")\n",
    "print(nan_counts[nan_counts > 0])\n",
    "X_train_test_data[nan_columns] = X_train_test_data[nan_columns].fillna(X_train_test_data[nan_columns].mean())"
   ]
  },
  {
   "cell_type": "code",
   "execution_count": 328,
   "metadata": {},
   "outputs": [],
   "source": [
    "x_train, x_test, y_train, y_test = train_test_split(X_train_test_data, y_train_test_data, test_size=0.3, random_state=42)"
   ]
  },
  {
   "cell_type": "code",
   "execution_count": 329,
   "metadata": {},
   "outputs": [
    {
     "name": "stdout",
     "output_type": "stream",
     "text": [
      "Model Evaluation Results:\n",
      "LinearRegression: MSE=2.2720, R2=0.0391\n"
     ]
    }
   ],
   "source": [
    "# Huấn luyện mô hình\n",
    "models = {\n",
    "    'LinearRegression': LinearRegression(),\n",
    "    # 'RandomForest': RandomForestRegressor(random_state=42),\n",
    "    # 'XGBoost': XGBRegressor(random_state=42)\n",
    "}\n",
    "\n",
    "metrics = {}\n",
    "\n",
    "for name, model in models.items():\n",
    "    # Huấn luyện\n",
    "    model.fit(x_train, y_train)\n",
    "    y_pred = model.predict(x_test)\n",
    "\n",
    "    # Đánh giá\n",
    "    mse = mean_squared_error(y_test, y_pred)\n",
    "    r2 = r2_score(y_test, y_pred)\n",
    "\n",
    "    metrics[name] = {\n",
    "        'MSE': mse,\n",
    "        'R2': r2\n",
    "    }\n",
    "\n",
    "# 7. In kết quả\n",
    "print(\"Model Evaluation Results:\")\n",
    "for name, metrics in metrics.items():\n",
    "    print(f\"{name}: MSE={metrics['MSE']:.4f}, R2={metrics['R2']:.4f}\")"
   ]
  },
  {
   "cell_type": "code",
   "execution_count": 330,
   "metadata": {},
   "outputs": [
    {
     "data": {
      "image/png": "[encoded data removed]",
      "text/plain": [
       "<Figure size 1000x600 with 1 Axes>"
      ]
     },
     "metadata": {},
     "output_type": "display_data"
    }
   ],
   "source": [
    "# Mức độ quan trọng của các đặc trưng\n",
    "importances = model.coef_\n",
    "features = X_train_test_data.columns\n",
    "\n",
    "# Vẽ biểu đồ mức độ quan trọng\n",
    "plt.figure(figsize=(10, 6))\n",
    "plt.barh(features, importances, color='skyblue')\n",
    "plt.xlabel('Importance')\n",
    "plt.title('Feature Importance')\n",
    "plt.show()"
   ]
  },
  {
   "cell_type": "code",
   "execution_count": 331,
   "metadata": {},
   "outputs": [],
   "source": [
    "results = {}\n",
    "\n",
    "results = {  \n",
    "    'y_val': y_test,  \n",
    "    'y_pred': y_pred  \n",
    "} \n",
    "\n",
    "results_df = pd.DataFrame(results)\n",
    "results_df.to_csv(\"Predict/train_predicted_QT.csv\", index=False)"
   ]
  },
  {
   "cell_type": "code",
   "execution_count": 332,
   "metadata": {},
   "outputs": [],
   "source": [
    "X_predict_data = predict_data[features_nouser]"
   ]
  },
  {
   "cell_type": "code",
   "execution_count": 333,
   "metadata": {},
   "outputs": [
    {
     "name": "stdout",
     "output_type": "stream",
     "text": [
      "Các cột chứa NaN: []\n",
      "Số lượng NaN trong mỗi cột:\n",
      "Series([], dtype: int64)\n"
     ]
    }
   ],
   "source": [
    "nan_columns = X_predict_data.columns[X_predict_data.isna().any()]\n",
    "print(f\"Các cột chứa NaN: {nan_columns.tolist()}\")\n",
    "nan_counts = X_predict_data.isna().sum()\n",
    "print(\"Số lượng NaN trong mỗi cột:\")\n",
    "print(nan_counts[nan_counts > 0])\n",
    "X_predict_data[nan_columns] = X_predict_data[nan_columns].fillna(X_predict_data[nan_columns].mean())"
   ]
  },
  {
   "cell_type": "code",
   "execution_count": 334,
   "metadata": {},
   "outputs": [
    {
     "name": "stderr",
     "output_type": "stream",
     "text": [
      "C:\\Users\\Admin\\AppData\\Local\\Temp\\ipykernel_218584\\2934331168.py:1: SettingWithCopyWarning: \n",
      "A value is trying to be set on a copy of a slice from a DataFrame.\n",
      "Try using .loc[row_indexer,col_indexer] = value instead\n",
      "\n",
      "See the caveats in the documentation: https://pandas.pydata.org/pandas-docs/stable/user_guide/indexing.html#returning-a-view-versus-a-copy\n",
      "  predict_data['QT'] = model.predict(X_predict_data)\n"
     ]
    }
   ],
   "source": [
    "predict_data['QT'] = model.predict(X_predict_data)"
   ]
  },
  {
   "cell_type": "code",
   "execution_count": 335,
   "metadata": {},
   "outputs": [],
   "source": [
    "# Xuất file kết quả\n",
    "output = predict_data[['username', 'QT']].to_csv(\"Predict/predicted_QT.csv\", index=False, header=False)"
   ]
  }
 ],
 "metadata": {
  "kernelspec": {
   "display_name": "Python 3",
   "language": "python",
   "name": "python3"
  },
  "language_info": {
   "codemirror_mode": {
    "name": "ipython",
    "version": 3
   },
   "file_extension": ".py",
   "mimetype": "text/x-python",
   "name": "python",
   "nbconvert_exporter": "python",
   "pygments_lexer": "ipython3",
   "version": "3.11.9"
  }
 },
 "nbformat": 4,
 "nbformat_minor": 2
}
